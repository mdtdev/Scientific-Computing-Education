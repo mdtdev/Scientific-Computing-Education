{
 "cells": [
  {
   "cell_type": "markdown",
   "metadata": {},
   "source": [
    "# Introduction to R & Jupyter Notebooks\n",
    "# Probablistic and Statistical Models in R\n",
    "\n",
    "Matthew D. Turner, PhD  \n",
    "Georgia State University\n",
    "\n",
    "Some rights reserved: [cc by-nc-sa](https://creativecommons.org/licenses/by-nc-sa/4.0/) See bottom of document for details.\n",
    "***\n",
    "Most people use R to do statistical modeling and data analysis. _More_ people should use it for modeling real-world systems and simulation. Science is at its best when you have real ideas about what is going on and not just straight lines through clouds of data! (Don't worry, we will make a straight line before we call it quits today!)\n",
    "\n",
    "In this document we will go through a sequence of building simple probability models for real world situations."
   ]
  },
  {
   "cell_type": "markdown",
   "metadata": {},
   "source": [
    "## Preliminary Topic: Loading Data from Files\n",
    "\n",
    "The most common format for data exchange in the world is plain text files in the comma seperated value format. The most common way to identify these **CSV** files is with the file extension \".csv\". Despite its name, this format also includes tab-seperated values as well, although these are sometimes called **TSV** files and labeled with \".tsv\".\n",
    "\n",
    "Your best bet is to always EXPORT (or save) the data from any given program in the CSV format, then IMPORT or load this file into R. There are packages that will read other programs data files, but usually the results are worse than using CSV as the sharing format. And most other programs can export to CSV, although they may hide this feature from the user.\n",
    "\n",
    "To read CSV files into R, we use `read.csv()` like this:"
   ]
  },
  {
   "cell_type": "code",
   "execution_count": 2,
   "metadata": {},
   "outputs": [],
   "source": [
    "haw <- read.csv(\"height_weight_200.csv\")  # Some data on men"
   ]
  },
  {
   "cell_type": "markdown",
   "metadata": {},
   "source": [
    "When you read in a CSV, you need to put the result in a variable (here, `haw`) and this will by default be a data frame. If you try to import from other software weird things can happen. Choose CSV files whenever you can!\n",
    "\n",
    ">**Aside:** If you would like to inspect the original data file, open the \"Home\" tab and click on `height_weight_200.csv`. Jupyter will show you the contents in another browser tab. Note that this new view of the file is editable and so you can change the data manually if you like. But don't. That will mess some stuff up below!\n",
    "\n",
    "Once the data is loaded into the data frame `haw` we can look at its features:"
   ]
  },
  {
   "cell_type": "code",
   "execution_count": 3,
   "metadata": {},
   "outputs": [
    {
     "data": {
      "text/plain": [
       "     height          weight     \n",
       " Min.   :63.43   Min.   : 97.9  \n",
       " 1st Qu.:66.52   1st Qu.:119.9  \n",
       " Median :67.94   Median :127.9  \n",
       " Mean   :67.95   Mean   :127.2  \n",
       " 3rd Qu.:69.20   3rd Qu.:136.1  \n",
       " Max.   :73.90   Max.   :159.0  "
      ]
     },
     "metadata": {},
     "output_type": "display_data"
    },
    {
     "data": {
      "text/html": [
       "200"
      ],
      "text/latex": [
       "200"
      ],
      "text/markdown": [
       "200"
      ],
      "text/plain": [
       "[1] 200"
      ]
     },
     "metadata": {},
     "output_type": "display_data"
    },
    {
     "data": {
      "text/html": [
       "<table>\n",
       "<thead><tr><th scope=col>height</th><th scope=col>weight</th></tr></thead>\n",
       "<tbody>\n",
       "\t<tr><td>65.78 </td><td>112.99</td></tr>\n",
       "\t<tr><td>71.52 </td><td>136.49</td></tr>\n",
       "\t<tr><td>69.40 </td><td>153.03</td></tr>\n",
       "\t<tr><td>68.22 </td><td>142.34</td></tr>\n",
       "\t<tr><td>67.79 </td><td>144.30</td></tr>\n",
       "\t<tr><td>68.70 </td><td>123.30</td></tr>\n",
       "</tbody>\n",
       "</table>\n"
      ],
      "text/latex": [
       "\\begin{tabular}{r|ll}\n",
       " height & weight\\\\\n",
       "\\hline\n",
       "\t 65.78  & 112.99\\\\\n",
       "\t 71.52  & 136.49\\\\\n",
       "\t 69.40  & 153.03\\\\\n",
       "\t 68.22  & 142.34\\\\\n",
       "\t 67.79  & 144.30\\\\\n",
       "\t 68.70  & 123.30\\\\\n",
       "\\end{tabular}\n"
      ],
      "text/plain": [
       "  height weight\n",
       "1 65.78  112.99\n",
       "2 71.52  136.49\n",
       "3 69.40  153.03\n",
       "4 68.22  142.34\n",
       "5 67.79  144.30\n",
       "6 68.70  123.30"
      ]
     },
     "metadata": {},
     "output_type": "display_data"
    }
   ],
   "source": [
    "summary(haw)   # Summarize each variable (height in inches; weight in pounds)\n",
    "nrow(haw)      # How many rows in the table? This is the number of subjects\n",
    "head(haw)      # Print out the first few rows"
   ]
  },
  {
   "cell_type": "code",
   "execution_count": 8,
   "metadata": {},
   "outputs": [
    {
     "data": {
      "text/html": [
       "<ol class=list-inline>\n",
       "\t<li>65.78</li>\n",
       "\t<li>71.52</li>\n",
       "\t<li>69.4</li>\n",
       "\t<li>68.22</li>\n",
       "\t<li>67.79</li>\n",
       "\t<li>68.7</li>\n",
       "\t<li>69.8</li>\n",
       "\t<li>70.01</li>\n",
       "\t<li>67.9</li>\n",
       "\t<li>66.78</li>\n",
       "\t<li>66.49</li>\n",
       "\t<li>67.62</li>\n",
       "\t<li>68.3</li>\n",
       "\t<li>67.12</li>\n",
       "\t<li>68.28</li>\n",
       "\t<li>71.09</li>\n",
       "\t<li>66.46</li>\n",
       "\t<li>68.65</li>\n",
       "\t<li>71.23</li>\n",
       "\t<li>67.13</li>\n",
       "\t<li>67.83</li>\n",
       "\t<li>68.88</li>\n",
       "\t<li>63.48</li>\n",
       "\t<li>68.42</li>\n",
       "\t<li>67.63</li>\n",
       "\t<li>67.21</li>\n",
       "\t<li>70.84</li>\n",
       "\t<li>67.49</li>\n",
       "\t<li>66.53</li>\n",
       "\t<li>65.44</li>\n",
       "\t<li>69.52</li>\n",
       "\t<li>65.81</li>\n",
       "\t<li>67.82</li>\n",
       "\t<li>70.6</li>\n",
       "\t<li>71.8</li>\n",
       "\t<li>69.21</li>\n",
       "\t<li>66.8</li>\n",
       "\t<li>67.66</li>\n",
       "\t<li>67.81</li>\n",
       "\t<li>64.05</li>\n",
       "\t<li>68.57</li>\n",
       "\t<li>65.18</li>\n",
       "\t<li>69.66</li>\n",
       "\t<li>67.97</li>\n",
       "\t<li>65.98</li>\n",
       "\t<li>68.67</li>\n",
       "\t<li>66.88</li>\n",
       "\t<li>67.7</li>\n",
       "\t<li>69.82</li>\n",
       "\t<li>69.09</li>\n",
       "\t<li>69.91</li>\n",
       "\t<li>67.33</li>\n",
       "\t<li>70.27</li>\n",
       "\t<li>69.1</li>\n",
       "\t<li>65.38</li>\n",
       "\t<li>70.18</li>\n",
       "\t<li>70.41</li>\n",
       "\t<li>66.54</li>\n",
       "\t<li>66.36</li>\n",
       "\t<li>67.54</li>\n",
       "\t<li>66.5</li>\n",
       "\t<li>69</li>\n",
       "\t<li>68.3</li>\n",
       "\t<li>67.01</li>\n",
       "\t<li>70.81</li>\n",
       "\t<li>68.22</li>\n",
       "\t<li>69.06</li>\n",
       "\t<li>67.73</li>\n",
       "\t<li>67.22</li>\n",
       "\t<li>67.37</li>\n",
       "\t<li>65.27</li>\n",
       "\t<li>70.84</li>\n",
       "\t<li>69.92</li>\n",
       "\t<li>64.29</li>\n",
       "\t<li>68.25</li>\n",
       "\t<li>66.36</li>\n",
       "\t<li>68.36</li>\n",
       "\t<li>65.48</li>\n",
       "\t<li>69.72</li>\n",
       "\t<li>67.73</li>\n",
       "\t<li>68.64</li>\n",
       "\t<li>66.78</li>\n",
       "\t<li>70.05</li>\n",
       "\t<li>66.28</li>\n",
       "\t<li>69.2</li>\n",
       "\t<li>69.13</li>\n",
       "\t<li>67.36</li>\n",
       "\t<li>70.09</li>\n",
       "\t<li>70.18</li>\n",
       "\t<li>68.23</li>\n",
       "\t<li>68.13</li>\n",
       "\t<li>70.24</li>\n",
       "\t<li>71.49</li>\n",
       "\t<li>69.2</li>\n",
       "\t<li>70.06</li>\n",
       "\t<li>70.56</li>\n",
       "\t<li>66.29</li>\n",
       "\t<li>63.43</li>\n",
       "\t<li>66.77</li>\n",
       "\t<li>68.89</li>\n",
       "\t<li>64.87</li>\n",
       "\t<li>67.09</li>\n",
       "\t<li>68.35</li>\n",
       "\t<li>65.61</li>\n",
       "\t<li>67.76</li>\n",
       "\t<li>68.02</li>\n",
       "\t<li>67.66</li>\n",
       "\t<li>66.31</li>\n",
       "\t<li>69.44</li>\n",
       "\t<li>63.84</li>\n",
       "\t<li>67.72</li>\n",
       "\t<li>70.05</li>\n",
       "\t<li>70.19</li>\n",
       "\t<li>65.95</li>\n",
       "\t<li>70.01</li>\n",
       "\t<li>68.61</li>\n",
       "\t<li>68.81</li>\n",
       "\t<li>69.76</li>\n",
       "\t<li>65.46</li>\n",
       "\t<li>68.83</li>\n",
       "\t<li>65.8</li>\n",
       "\t<li>67.21</li>\n",
       "\t<li>69.42</li>\n",
       "\t<li>68.94</li>\n",
       "\t<li>67.94</li>\n",
       "\t<li>65.63</li>\n",
       "\t<li>66.5</li>\n",
       "\t<li>67.93</li>\n",
       "\t<li>68.89</li>\n",
       "\t<li>70.24</li>\n",
       "\t<li>68.27</li>\n",
       "\t<li>71.23</li>\n",
       "\t<li>69.1</li>\n",
       "\t<li>64.4</li>\n",
       "\t<li>71.1</li>\n",
       "\t<li>68.22</li>\n",
       "\t<li>65.92</li>\n",
       "\t<li>67.44</li>\n",
       "\t<li>73.9</li>\n",
       "\t<li>69.98</li>\n",
       "\t<li>69.52</li>\n",
       "\t<li>65.18</li>\n",
       "\t<li>68.01</li>\n",
       "\t<li>68.34</li>\n",
       "\t<li>65.18</li>\n",
       "\t<li>68.26</li>\n",
       "\t<li>68.57</li>\n",
       "\t<li>64.5</li>\n",
       "\t<li>68.71</li>\n",
       "\t<li>68.89</li>\n",
       "\t<li>69.54</li>\n",
       "\t<li>67.4</li>\n",
       "\t<li>66.48</li>\n",
       "\t<li>66.01</li>\n",
       "\t<li>72.44</li>\n",
       "\t<li>64.13</li>\n",
       "\t<li>70.98</li>\n",
       "\t<li>67.5</li>\n",
       "\t<li>72.02</li>\n",
       "\t<li>65.31</li>\n",
       "\t<li>67.08</li>\n",
       "\t<li>64.39</li>\n",
       "\t<li>69.37</li>\n",
       "\t<li>68.38</li>\n",
       "\t<li>65.31</li>\n",
       "\t<li>67.14</li>\n",
       "\t<li>68.39</li>\n",
       "\t<li>66.29</li>\n",
       "\t<li>67.19</li>\n",
       "\t<li>65.99</li>\n",
       "\t<li>69.43</li>\n",
       "\t<li>67.97</li>\n",
       "\t<li>67.76</li>\n",
       "\t<li>65.28</li>\n",
       "\t<li>73.83</li>\n",
       "\t<li>66.81</li>\n",
       "\t<li>66.89</li>\n",
       "\t<li>65.74</li>\n",
       "\t<li>65.98</li>\n",
       "\t<li>66.58</li>\n",
       "\t<li>67.11</li>\n",
       "\t<li>65.87</li>\n",
       "\t<li>66.78</li>\n",
       "\t<li>68.74</li>\n",
       "\t<li>66.23</li>\n",
       "\t<li>65.96</li>\n",
       "\t<li>68.58</li>\n",
       "\t<li>66.59</li>\n",
       "\t<li>66.97</li>\n",
       "\t<li>68.08</li>\n",
       "\t<li>70.19</li>\n",
       "\t<li>65.52</li>\n",
       "\t<li>67.46</li>\n",
       "\t<li>67.41</li>\n",
       "\t<li>69.66</li>\n",
       "\t<li>65.8</li>\n",
       "\t<li>66.11</li>\n",
       "\t<li>68.24</li>\n",
       "\t<li>68.02</li>\n",
       "\t<li>71.39</li>\n",
       "</ol>\n"
      ],
      "text/latex": [
       "\\begin{enumerate*}\n",
       "\\item 65.78\n",
       "\\item 71.52\n",
       "\\item 69.4\n",
       "\\item 68.22\n",
       "\\item 67.79\n",
       "\\item 68.7\n",
       "\\item 69.8\n",
       "\\item 70.01\n",
       "\\item 67.9\n",
       "\\item 66.78\n",
       "\\item 66.49\n",
       "\\item 67.62\n",
       "\\item 68.3\n",
       "\\item 67.12\n",
       "\\item 68.28\n",
       "\\item 71.09\n",
       "\\item 66.46\n",
       "\\item 68.65\n",
       "\\item 71.23\n",
       "\\item 67.13\n",
       "\\item 67.83\n",
       "\\item 68.88\n",
       "\\item 63.48\n",
       "\\item 68.42\n",
       "\\item 67.63\n",
       "\\item 67.21\n",
       "\\item 70.84\n",
       "\\item 67.49\n",
       "\\item 66.53\n",
       "\\item 65.44\n",
       "\\item 69.52\n",
       "\\item 65.81\n",
       "\\item 67.82\n",
       "\\item 70.6\n",
       "\\item 71.8\n",
       "\\item 69.21\n",
       "\\item 66.8\n",
       "\\item 67.66\n",
       "\\item 67.81\n",
       "\\item 64.05\n",
       "\\item 68.57\n",
       "\\item 65.18\n",
       "\\item 69.66\n",
       "\\item 67.97\n",
       "\\item 65.98\n",
       "\\item 68.67\n",
       "\\item 66.88\n",
       "\\item 67.7\n",
       "\\item 69.82\n",
       "\\item 69.09\n",
       "\\item 69.91\n",
       "\\item 67.33\n",
       "\\item 70.27\n",
       "\\item 69.1\n",
       "\\item 65.38\n",
       "\\item 70.18\n",
       "\\item 70.41\n",
       "\\item 66.54\n",
       "\\item 66.36\n",
       "\\item 67.54\n",
       "\\item 66.5\n",
       "\\item 69\n",
       "\\item 68.3\n",
       "\\item 67.01\n",
       "\\item 70.81\n",
       "\\item 68.22\n",
       "\\item 69.06\n",
       "\\item 67.73\n",
       "\\item 67.22\n",
       "\\item 67.37\n",
       "\\item 65.27\n",
       "\\item 70.84\n",
       "\\item 69.92\n",
       "\\item 64.29\n",
       "\\item 68.25\n",
       "\\item 66.36\n",
       "\\item 68.36\n",
       "\\item 65.48\n",
       "\\item 69.72\n",
       "\\item 67.73\n",
       "\\item 68.64\n",
       "\\item 66.78\n",
       "\\item 70.05\n",
       "\\item 66.28\n",
       "\\item 69.2\n",
       "\\item 69.13\n",
       "\\item 67.36\n",
       "\\item 70.09\n",
       "\\item 70.18\n",
       "\\item 68.23\n",
       "\\item 68.13\n",
       "\\item 70.24\n",
       "\\item 71.49\n",
       "\\item 69.2\n",
       "\\item 70.06\n",
       "\\item 70.56\n",
       "\\item 66.29\n",
       "\\item 63.43\n",
       "\\item 66.77\n",
       "\\item 68.89\n",
       "\\item 64.87\n",
       "\\item 67.09\n",
       "\\item 68.35\n",
       "\\item 65.61\n",
       "\\item 67.76\n",
       "\\item 68.02\n",
       "\\item 67.66\n",
       "\\item 66.31\n",
       "\\item 69.44\n",
       "\\item 63.84\n",
       "\\item 67.72\n",
       "\\item 70.05\n",
       "\\item 70.19\n",
       "\\item 65.95\n",
       "\\item 70.01\n",
       "\\item 68.61\n",
       "\\item 68.81\n",
       "\\item 69.76\n",
       "\\item 65.46\n",
       "\\item 68.83\n",
       "\\item 65.8\n",
       "\\item 67.21\n",
       "\\item 69.42\n",
       "\\item 68.94\n",
       "\\item 67.94\n",
       "\\item 65.63\n",
       "\\item 66.5\n",
       "\\item 67.93\n",
       "\\item 68.89\n",
       "\\item 70.24\n",
       "\\item 68.27\n",
       "\\item 71.23\n",
       "\\item 69.1\n",
       "\\item 64.4\n",
       "\\item 71.1\n",
       "\\item 68.22\n",
       "\\item 65.92\n",
       "\\item 67.44\n",
       "\\item 73.9\n",
       "\\item 69.98\n",
       "\\item 69.52\n",
       "\\item 65.18\n",
       "\\item 68.01\n",
       "\\item 68.34\n",
       "\\item 65.18\n",
       "\\item 68.26\n",
       "\\item 68.57\n",
       "\\item 64.5\n",
       "\\item 68.71\n",
       "\\item 68.89\n",
       "\\item 69.54\n",
       "\\item 67.4\n",
       "\\item 66.48\n",
       "\\item 66.01\n",
       "\\item 72.44\n",
       "\\item 64.13\n",
       "\\item 70.98\n",
       "\\item 67.5\n",
       "\\item 72.02\n",
       "\\item 65.31\n",
       "\\item 67.08\n",
       "\\item 64.39\n",
       "\\item 69.37\n",
       "\\item 68.38\n",
       "\\item 65.31\n",
       "\\item 67.14\n",
       "\\item 68.39\n",
       "\\item 66.29\n",
       "\\item 67.19\n",
       "\\item 65.99\n",
       "\\item 69.43\n",
       "\\item 67.97\n",
       "\\item 67.76\n",
       "\\item 65.28\n",
       "\\item 73.83\n",
       "\\item 66.81\n",
       "\\item 66.89\n",
       "\\item 65.74\n",
       "\\item 65.98\n",
       "\\item 66.58\n",
       "\\item 67.11\n",
       "\\item 65.87\n",
       "\\item 66.78\n",
       "\\item 68.74\n",
       "\\item 66.23\n",
       "\\item 65.96\n",
       "\\item 68.58\n",
       "\\item 66.59\n",
       "\\item 66.97\n",
       "\\item 68.08\n",
       "\\item 70.19\n",
       "\\item 65.52\n",
       "\\item 67.46\n",
       "\\item 67.41\n",
       "\\item 69.66\n",
       "\\item 65.8\n",
       "\\item 66.11\n",
       "\\item 68.24\n",
       "\\item 68.02\n",
       "\\item 71.39\n",
       "\\end{enumerate*}\n"
      ],
      "text/markdown": [
       "1. 65.78\n",
       "2. 71.52\n",
       "3. 69.4\n",
       "4. 68.22\n",
       "5. 67.79\n",
       "6. 68.7\n",
       "7. 69.8\n",
       "8. 70.01\n",
       "9. 67.9\n",
       "10. 66.78\n",
       "11. 66.49\n",
       "12. 67.62\n",
       "13. 68.3\n",
       "14. 67.12\n",
       "15. 68.28\n",
       "16. 71.09\n",
       "17. 66.46\n",
       "18. 68.65\n",
       "19. 71.23\n",
       "20. 67.13\n",
       "21. 67.83\n",
       "22. 68.88\n",
       "23. 63.48\n",
       "24. 68.42\n",
       "25. 67.63\n",
       "26. 67.21\n",
       "27. 70.84\n",
       "28. 67.49\n",
       "29. 66.53\n",
       "30. 65.44\n",
       "31. 69.52\n",
       "32. 65.81\n",
       "33. 67.82\n",
       "34. 70.6\n",
       "35. 71.8\n",
       "36. 69.21\n",
       "37. 66.8\n",
       "38. 67.66\n",
       "39. 67.81\n",
       "40. 64.05\n",
       "41. 68.57\n",
       "42. 65.18\n",
       "43. 69.66\n",
       "44. 67.97\n",
       "45. 65.98\n",
       "46. 68.67\n",
       "47. 66.88\n",
       "48. 67.7\n",
       "49. 69.82\n",
       "50. 69.09\n",
       "51. 69.91\n",
       "52. 67.33\n",
       "53. 70.27\n",
       "54. 69.1\n",
       "55. 65.38\n",
       "56. 70.18\n",
       "57. 70.41\n",
       "58. 66.54\n",
       "59. 66.36\n",
       "60. 67.54\n",
       "61. 66.5\n",
       "62. 69\n",
       "63. 68.3\n",
       "64. 67.01\n",
       "65. 70.81\n",
       "66. 68.22\n",
       "67. 69.06\n",
       "68. 67.73\n",
       "69. 67.22\n",
       "70. 67.37\n",
       "71. 65.27\n",
       "72. 70.84\n",
       "73. 69.92\n",
       "74. 64.29\n",
       "75. 68.25\n",
       "76. 66.36\n",
       "77. 68.36\n",
       "78. 65.48\n",
       "79. 69.72\n",
       "80. 67.73\n",
       "81. 68.64\n",
       "82. 66.78\n",
       "83. 70.05\n",
       "84. 66.28\n",
       "85. 69.2\n",
       "86. 69.13\n",
       "87. 67.36\n",
       "88. 70.09\n",
       "89. 70.18\n",
       "90. 68.23\n",
       "91. 68.13\n",
       "92. 70.24\n",
       "93. 71.49\n",
       "94. 69.2\n",
       "95. 70.06\n",
       "96. 70.56\n",
       "97. 66.29\n",
       "98. 63.43\n",
       "99. 66.77\n",
       "100. 68.89\n",
       "101. 64.87\n",
       "102. 67.09\n",
       "103. 68.35\n",
       "104. 65.61\n",
       "105. 67.76\n",
       "106. 68.02\n",
       "107. 67.66\n",
       "108. 66.31\n",
       "109. 69.44\n",
       "110. 63.84\n",
       "111. 67.72\n",
       "112. 70.05\n",
       "113. 70.19\n",
       "114. 65.95\n",
       "115. 70.01\n",
       "116. 68.61\n",
       "117. 68.81\n",
       "118. 69.76\n",
       "119. 65.46\n",
       "120. 68.83\n",
       "121. 65.8\n",
       "122. 67.21\n",
       "123. 69.42\n",
       "124. 68.94\n",
       "125. 67.94\n",
       "126. 65.63\n",
       "127. 66.5\n",
       "128. 67.93\n",
       "129. 68.89\n",
       "130. 70.24\n",
       "131. 68.27\n",
       "132. 71.23\n",
       "133. 69.1\n",
       "134. 64.4\n",
       "135. 71.1\n",
       "136. 68.22\n",
       "137. 65.92\n",
       "138. 67.44\n",
       "139. 73.9\n",
       "140. 69.98\n",
       "141. 69.52\n",
       "142. 65.18\n",
       "143. 68.01\n",
       "144. 68.34\n",
       "145. 65.18\n",
       "146. 68.26\n",
       "147. 68.57\n",
       "148. 64.5\n",
       "149. 68.71\n",
       "150. 68.89\n",
       "151. 69.54\n",
       "152. 67.4\n",
       "153. 66.48\n",
       "154. 66.01\n",
       "155. 72.44\n",
       "156. 64.13\n",
       "157. 70.98\n",
       "158. 67.5\n",
       "159. 72.02\n",
       "160. 65.31\n",
       "161. 67.08\n",
       "162. 64.39\n",
       "163. 69.37\n",
       "164. 68.38\n",
       "165. 65.31\n",
       "166. 67.14\n",
       "167. 68.39\n",
       "168. 66.29\n",
       "169. 67.19\n",
       "170. 65.99\n",
       "171. 69.43\n",
       "172. 67.97\n",
       "173. 67.76\n",
       "174. 65.28\n",
       "175. 73.83\n",
       "176. 66.81\n",
       "177. 66.89\n",
       "178. 65.74\n",
       "179. 65.98\n",
       "180. 66.58\n",
       "181. 67.11\n",
       "182. 65.87\n",
       "183. 66.78\n",
       "184. 68.74\n",
       "185. 66.23\n",
       "186. 65.96\n",
       "187. 68.58\n",
       "188. 66.59\n",
       "189. 66.97\n",
       "190. 68.08\n",
       "191. 70.19\n",
       "192. 65.52\n",
       "193. 67.46\n",
       "194. 67.41\n",
       "195. 69.66\n",
       "196. 65.8\n",
       "197. 66.11\n",
       "198. 68.24\n",
       "199. 68.02\n",
       "200. 71.39\n",
       "\n",
       "\n"
      ],
      "text/plain": [
       "  [1] 65.78 71.52 69.40 68.22 67.79 68.70 69.80 70.01 67.90 66.78 66.49 67.62\n",
       " [13] 68.30 67.12 68.28 71.09 66.46 68.65 71.23 67.13 67.83 68.88 63.48 68.42\n",
       " [25] 67.63 67.21 70.84 67.49 66.53 65.44 69.52 65.81 67.82 70.60 71.80 69.21\n",
       " [37] 66.80 67.66 67.81 64.05 68.57 65.18 69.66 67.97 65.98 68.67 66.88 67.70\n",
       " [49] 69.82 69.09 69.91 67.33 70.27 69.10 65.38 70.18 70.41 66.54 66.36 67.54\n",
       " [61] 66.50 69.00 68.30 67.01 70.81 68.22 69.06 67.73 67.22 67.37 65.27 70.84\n",
       " [73] 69.92 64.29 68.25 66.36 68.36 65.48 69.72 67.73 68.64 66.78 70.05 66.28\n",
       " [85] 69.20 69.13 67.36 70.09 70.18 68.23 68.13 70.24 71.49 69.20 70.06 70.56\n",
       " [97] 66.29 63.43 66.77 68.89 64.87 67.09 68.35 65.61 67.76 68.02 67.66 66.31\n",
       "[109] 69.44 63.84 67.72 70.05 70.19 65.95 70.01 68.61 68.81 69.76 65.46 68.83\n",
       "[121] 65.80 67.21 69.42 68.94 67.94 65.63 66.50 67.93 68.89 70.24 68.27 71.23\n",
       "[133] 69.10 64.40 71.10 68.22 65.92 67.44 73.90 69.98 69.52 65.18 68.01 68.34\n",
       "[145] 65.18 68.26 68.57 64.50 68.71 68.89 69.54 67.40 66.48 66.01 72.44 64.13\n",
       "[157] 70.98 67.50 72.02 65.31 67.08 64.39 69.37 68.38 65.31 67.14 68.39 66.29\n",
       "[169] 67.19 65.99 69.43 67.97 67.76 65.28 73.83 66.81 66.89 65.74 65.98 66.58\n",
       "[181] 67.11 65.87 66.78 68.74 66.23 65.96 68.58 66.59 66.97 68.08 70.19 65.52\n",
       "[193] 67.46 67.41 69.66 65.80 66.11 68.24 68.02 71.39"
      ]
     },
     "metadata": {},
     "output_type": "display_data"
    }
   ],
   "source": [
    "# To access one variable in a frame, use the $ (dollar sign):\n",
    "\n",
    "haw$height   # This just returns all 200 heights"
   ]
  },
  {
   "cell_type": "markdown",
   "metadata": {},
   "source": [
    "Let's make a simple histogram of this data. This uses the `hist` command. "
   ]
  },
  {
   "cell_type": "code",
   "execution_count": 5,
   "metadata": {},
   "outputs": [],
   "source": [
    "# If you would like to know more about the hist command, use ? here. \n",
    "#     Or skip it if you just want to see hist in action\n"
   ]
  },
  {
   "cell_type": "markdown",
   "metadata": {},
   "source": [
    "The `hist` command takes many possible options, although the defaults work well for quick graphs. You should be able to figure out the options used in the example below this just by reading and thinking."
   ]
  },
  {
   "cell_type": "code",
   "execution_count": 6,
   "metadata": {},
   "outputs": [
    {
     "data": {
      "image/png": "[encoded data removed]",
      "text/plain": [
       "Plot with title “Histogram of haw$height”"
      ]
     },
     "metadata": {},
     "output_type": "display_data"
    }
   ],
   "source": [
    "hist(haw$height, col=\"gray\", xlab = \"Height in Inches\", ylab = \"Count\")"
   ]
  },
  {
   "cell_type": "markdown",
   "metadata": {},
   "source": [
    "That histogram is too big for most laptop displays! We can change the plotting options: run and adjust the cell below until you are happy. Keep in mind that you may distort the view with some settings!\n",
    "\n",
    "Note: `repr` is short for representation. Graphics in R can be output in a variety of formats, either as displays in a notebook or RStudio, or as files for inclusion in publications."
   ]
  },
  {
   "cell_type": "code",
   "execution_count": 9,
   "metadata": {},
   "outputs": [
    {
     "data": {
      "image/png": "[encoded data removed]",
      "text/plain": [
       "Plot with title “Histogram of haw$height”"
      ]
     },
     "metadata": {},
     "output_type": "display_data"
    }
   ],
   "source": [
    "# The 4 inch settings in options here are good for many displays, but do try a couple to see how it works!\n",
    "#     Width and height do not need to be equal, but that can distort the figures\n",
    "\n",
    "options(repr.plot.width=4, repr.plot.height=4)  # Set plot height and width (in inches)\n",
    "hist(haw$height, col=\"dark green\", xlab = \"Height in Inches\", ylab = \"Count\")"
   ]
  },
  {
   "cell_type": "markdown",
   "metadata": {},
   "source": [
    "**Important Note (Read me!)** When using a data frame, you have to include the name of the frame in front of the variable name and put a dollar sign (`$`) between them. In the example above, the data frame name is `haw` and the variable is `height`. This means that the full name and address of the data is `haw$height`."
   ]
  },
  {
   "cell_type": "code",
   "execution_count": 16,
   "metadata": {},
   "outputs": [],
   "source": [
    "# Your turn: make a histogram of weights. \n",
    "# You can copy and paste the cell above here and modify it\n",
    "# You do not need to copy the options statement -- they will remain in effect\n",
    "\n"
   ]
  },
  {
   "cell_type": "code",
   "execution_count": 17,
   "metadata": {},
   "outputs": [],
   "source": [
    "# Use a help command to look up the instructions for the command \"plot\"\n",
    "# Use the plot command to plot height as a function of weight (y = height, x = weight)\n",
    "# For fun, if you have time, try to make the plot characters blue (Hint: look above!)\n",
    "\n"
   ]
  },
  {
   "cell_type": "code",
   "execution_count": 18,
   "metadata": {},
   "outputs": [],
   "source": [
    "# Can you get the mean and standard deviation of the weights?\n",
    "#    The commands are in the previous notebook\n",
    "#    Don't forget the data frame name and dollar sign!\n",
    "#    Store the results in the variable names below\n",
    "\n",
    "wt_mean = \n",
    "wt_sd   = "
   ]
  },
  {
   "cell_type": "markdown",
   "metadata": {},
   "source": [
    "## Probabilistic Models\n",
    "\n",
    "The simplest probability models assume that your data:\n",
    "\n",
    "+ Come from a fixed probability distribution\n",
    "+ This distribution can be described by just a couple of numbers (called **parameters**)\n",
    "\n",
    "If we go on to assume that the shape is a bell-curve, then we have a **normal** or **Gaussian** probability model. (Different fields prefer one of the other of these names; you will also see a related name/concept called the \"error function.\") This bell-shaped curve comes up a lot. For instance it can be shown to happen when you have a simple repeated measurement with error or when a measurement has many small factors that combine to determine it.\n",
    "\n",
    "When you are in this situation, you usually \"fit\" the distribution to the data.\n",
    "\n",
    "**For the normal curve, you have fit it as soon as you have the mean and standard deviation of the data.** This is why we like the normal, it is easy to fit. And you have been doing so since your stats 101 class, possibly without realizing it."
   ]
  },
  {
   "cell_type": "code",
   "execution_count": 13,
   "metadata": {},
   "outputs": [
    {
     "data": {
      "image/png": "[encoded data removed]",
      "text/plain": [
       "Plot with title “Weights”"
      ]
     },
     "metadata": {},
     "output_type": "display_data"
    }
   ],
   "source": [
    "# Given the results of the last code cell above, we have already fit the Gaussian!\n",
    "# So here let's see how well it works:\n",
    "\n",
    "# Our original data (in red): \n",
    "hist(haw$weight, col=rgb(1,0,0,0.5), main = \"Weights\", xlab = \"Weight\", probability = TRUE)  \n",
    "\n",
    "# Simulated normal data (in blue):\n",
    "hist(rnorm(1000, mean = mean(haw$weight), sd = sd(haw$weight)), col=rgb(0,0,1,0.5), probability=TRUE, add=TRUE) \n",
    "\n",
    "# We discuss the details of this BELOW the figure"
   ]
  },
  {
   "cell_type": "markdown",
   "metadata": {},
   "source": [
    "Let's analyze the figure we just made.\n",
    "\n",
    "The first histogram should be recognizable from the work above -- it is just the data again, with titles. Some new things:\n",
    "\n",
    "+ `col` is color, which is here set to a red-green-blue-alpha (RGBA) value using the `rgb` function: each of red, green, and blue run from 0 (none) to 1 (maximum amount); alpha is transparency. Setting alpha to 0.5 means that where they overlap the colors will mix equally. Using various levels of red, green, and blue, each between 0 and 1, you can make any color you want.\n",
    "+ Here we used _pure_ red (`rgb(1,0,0,0.5)` and _pure_ blue (`rgb(0,0,1,0.5)`). Where the two histograms overlap we get purple (red + blue = purple).\n",
    "+ `probability` is a Boolean value (`TRUE` or `FALSE`) that, when set to true, tells R to convert the counts in the histogram to density units (scaled counts). This makes histograms with different numbers of data points comparable. Compare this with the histogram you made above.\n",
    "+ `add` is an option, used in the second histogram that tells R to place this on top of the previous histogram rather than making a new one.\n",
    "+ Notice that R likes to use `TRUE` and `FALSE` to turn features on and off, respectively.\n",
    "\n",
    "The second histogram is a sample of 1000 randomly generated points from a normal distribution that has mean equal to `wt_mean` and a standard deviation equal to `wt_sd`. The normal distribution is flexible because these two aspects of it, essentially its center location and its width, can be set to any value we like. "
   ]
  },
  {
   "cell_type": "code",
   "execution_count": 40,
   "metadata": {},
   "outputs": [
    {
     "data": {
      "image/png": "[encoded data removed]",
      "text/plain": [
       "Plot with title “Histogram of haw$weight”"
      ]
     },
     "metadata": {},
     "output_type": "display_data"
    }
   ],
   "source": [
    "hist(haw$weight)"
   ]
  },
  {
   "cell_type": "code",
   "execution_count": null,
   "metadata": {},
   "outputs": [],
   "source": []
  },
  {
   "cell_type": "code",
   "execution_count": null,
   "metadata": {},
   "outputs": [],
   "source": []
  },
  {
   "cell_type": "code",
   "execution_count": null,
   "metadata": {},
   "outputs": [],
   "source": [
    "# Histogram Colored (blue and red)\n",
    "hist(h1, col=rgb(1,0,0,0.5),xlim=c(0,10), ylim=c(0,200), main=”Overlapping Histogram”, xlab=”Variable”)\n",
    "hist(h2, col=rgb(0,0,1,0.5), add=T)\n",
    "box()"
   ]
  },
  {
   "cell_type": "code",
   "execution_count": 30,
   "metadata": {},
   "outputs": [
    {
     "data": {
      "text/html": [
       "200"
      ],
      "text/latex": [
       "200"
      ],
      "text/markdown": [
       "200"
      ],
      "text/plain": [
       "[1] 200"
      ]
     },
     "metadata": {},
     "output_type": "display_data"
    }
   ],
   "source": [
    "length(haw$weight)"
   ]
  },
  {
   "cell_type": "code",
   "execution_count": 18,
   "metadata": {},
   "outputs": [
    {
     "ename": "ERROR",
     "evalue": "Error in library(\"lme4\"): there is no package called ‘lme4’\n",
     "output_type": "error",
     "traceback": [
      "Error in library(\"lme4\"): there is no package called ‘lme4’\nTraceback:\n",
      "1. library(\"lme4\")",
      "2. stop(txt, domain = NA)"
     ]
    }
   ],
   "source": [
    "library(\"lme4\")"
   ]
  },
  {
   "cell_type": "code",
   "execution_count": 21,
   "metadata": {},
   "outputs": [
    {
     "name": "stderr",
     "output_type": "stream",
     "text": [
      "Warning message in install.packages(\"lme4\", destdir = \"./downloaded_packages\"):\n",
      "“'lib = \"/app/Applications/R-3.3.1/Debug-Build/lib64/R/library\"' is not writable”"
     ]
    },
    {
     "ename": "ERROR",
     "evalue": "Error in install.packages(\"lme4\", destdir = \"./downloaded_packages\"): unable to install packages\n",
     "output_type": "error",
     "traceback": [
      "Error in install.packages(\"lme4\", destdir = \"./downloaded_packages\"): unable to install packages\nTraceback:\n",
      "1. install.packages(\"lme4\", destdir = \"./downloaded_packages\")",
      "2. stop(\"unable to install packages\")"
     ]
    }
   ],
   "source": []
  },
  {
   "cell_type": "code",
   "execution_count": null,
   "metadata": {},
   "outputs": [],
   "source": []
  },
  {
   "cell_type": "code",
   "execution_count": 19,
   "metadata": {},
   "outputs": [
    {
     "data": {
      "text/plain": [
       "     height         weight     \n",
       " Min.   :58.0   Min.   :115.0  \n",
       " 1st Qu.:61.5   1st Qu.:124.5  \n",
       " Median :65.0   Median :135.0  \n",
       " Mean   :65.0   Mean   :136.7  \n",
       " 3rd Qu.:68.5   3rd Qu.:148.0  \n",
       " Max.   :72.0   Max.   :164.0  "
      ]
     },
     "metadata": {},
     "output_type": "display_data"
    },
    {
     "data": {
      "text/html": [
       "<table>\n",
       "<thead><tr><th scope=col>height</th><th scope=col>weight</th></tr></thead>\n",
       "<tbody>\n",
       "\t<tr><td>58 </td><td>115</td></tr>\n",
       "\t<tr><td>59 </td><td>117</td></tr>\n",
       "\t<tr><td>60 </td><td>120</td></tr>\n",
       "\t<tr><td>61 </td><td>123</td></tr>\n",
       "\t<tr><td>62 </td><td>126</td></tr>\n",
       "\t<tr><td>63 </td><td>129</td></tr>\n",
       "</tbody>\n",
       "</table>\n"
      ],
      "text/latex": [
       "\\begin{tabular}{r|ll}\n",
       " height & weight\\\\\n",
       "\\hline\n",
       "\t 58  & 115\\\\\n",
       "\t 59  & 117\\\\\n",
       "\t 60  & 120\\\\\n",
       "\t 61  & 123\\\\\n",
       "\t 62  & 126\\\\\n",
       "\t 63  & 129\\\\\n",
       "\\end{tabular}\n"
      ],
      "text/plain": [
       "  height weight\n",
       "1 58     115   \n",
       "2 59     117   \n",
       "3 60     120   \n",
       "4 61     123   \n",
       "5 62     126   \n",
       "6 63     129   "
      ]
     },
     "metadata": {},
     "output_type": "display_data"
    }
   ],
   "source": [
    "?women\n",
    "data(women)\n",
    "summary(women)\n",
    "head(women)"
   ]
  },
  {
   "cell_type": "code",
   "execution_count": 20,
   "metadata": {},
   "outputs": [
    {
     "data": {
      "image/png": "[encoded data removed]",
      "text/plain": [
       "Plot with title “women data: American women aged 30-39”"
      ]
     },
     "metadata": {},
     "output_type": "display_data"
    }
   ],
   "source": [
    "# Often pictures help us:\n",
    "\n",
    "plot(women, xlab = \"Height (in)\", ylab = \"Weight (lb)\", \n",
    "     main = \"women data: American women aged 30-39\")\n",
    "abline(lm(weight~height, data=women))"
   ]
  },
  {
   "cell_type": "code",
   "execution_count": null,
   "metadata": {},
   "outputs": [],
   "source": []
  },
  {
   "cell_type": "code",
   "execution_count": null,
   "metadata": {},
   "outputs": [],
   "source": []
  },
  {
   "cell_type": "code",
   "execution_count": 21,
   "metadata": {},
   "outputs": [],
   "source": [
    "group1 <- c()"
   ]
  },
  {
   "cell_type": "code",
   "execution_count": 22,
   "metadata": {},
   "outputs": [],
   "source": [
    "x <- runif(10000, 1, 8)"
   ]
  },
  {
   "cell_type": "code",
   "execution_count": 23,
   "metadata": {},
   "outputs": [
    {
     "data": {
      "text/plain": [
       "\n",
       "   1    2    3    4    5    6    7 \n",
       "1395 1451 1458 1409 1441 1406 1440 "
      ]
     },
     "metadata": {},
     "output_type": "display_data"
    }
   ],
   "source": [
    "table(floor(x))"
   ]
  },
  {
   "cell_type": "code",
   "execution_count": null,
   "metadata": {},
   "outputs": [],
   "source": []
  },
  {
   "cell_type": "code",
   "execution_count": 24,
   "metadata": {},
   "outputs": [
    {
     "data": {
      "text/html": [
       "0.923093083245744"
      ],
      "text/latex": [
       "0.923093083245744"
      ],
      "text/markdown": [
       "0.923093083245744"
      ],
      "text/plain": [
       "[1] 0.9230931"
      ]
     },
     "metadata": {},
     "output_type": "display_data"
    },
    {
     "data": {
      "image/png": "[encoded data removed]",
      "text/plain": [
       "plot without title"
      ]
     },
     "metadata": {},
     "output_type": "display_data"
    }
   ],
   "source": [
    "x  = c(1,2,3,4,5,6,7,8,9)  # Give a list of numbers a name\n",
    "y <- c(2,1,3,4,6,5,8,8,7)  # Same thing! <- and = can both be used for assignment\n",
    "\n",
    "plot(x, y, pch = 20)\n",
    "cor(x, y)"
   ]
  },
  {
   "cell_type": "code",
   "execution_count": null,
   "metadata": {},
   "outputs": [],
   "source": []
  },
  {
   "cell_type": "markdown",
   "metadata": {},
   "source": [
    "Version 1.0  \n",
    "2018.06.06  \n",
    "\n",
    "To contact the author, please email [mturner46@gsu.edu](mailto:mturner46@gsu.edu). Please contact me with recommendations for improvement or if you find any errors. This work may be adapted for any non-commercial purpose within the bounds of the license.\n",
    "\n",
    "<a rel=\"license\" href=\"http://creativecommons.org/licenses/by-nc-sa/4.0/\"><img alt=\"Creative Commons License\" style=\"border-width:0\" src=\"https://i.creativecommons.org/l/by-nc-sa/4.0/88x31.png\" /></a><br />This work is licensed under a <a rel=\"license\" href=\"http://creativecommons.org/licenses/by-nc-sa/4.0/\">Creative Commons Attribution-NonCommercial-ShareAlike 4.0 International License</a>."
   ]
  },
  {
   "cell_type": "code",
   "execution_count": null,
   "metadata": {},
   "outputs": [],
   "source": []
  }
 ],
 "metadata": {
  "kernelspec": {
   "display_name": "R",
   "language": "R",
   "name": "ir"
  },
  "language_info": {
   "codemirror_mode": "r",
   "file_extension": ".r",
   "mimetype": "text/x-r-source",
   "name": "R",
   "pygments_lexer": "r",
   "version": "3.3.1"
  }
 },
 "nbformat": 4,
 "nbformat_minor": 2
}
