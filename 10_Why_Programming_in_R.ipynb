{
 "cells": [
  {
   "cell_type": "markdown",
   "metadata": {},
   "source": [
    "## Why Programming?\n",
    "Why to learn a programming language is a question that only you can answer. \n",
    "\n",
    "I do not believe, as some seem to, that everyone needs to know how to program. One (philosophical) argument for why everyone should learn to program is that so many of our interactions in the world are mediated by computers that we ought to know something about how that works. The idea here is that there is some danger inhering in the use of machines without knowing at least something about how they work. (On the other hand, I cannot fix my own car.) We live in a world of code, maybe we ought to know something about the process of making this world. That is one argument. Other arguments are economic; if the world runs on code, then people who cannot make code are at a disadvantage. This is a debate that is worth having, but not here.\n",
    "\n",
    "## Programming is Useful\n",
    "For scientists and other types of researchers who work with data, the case for coding is much simpler: **it is useful**.\n",
    "\n",
    "Programs in computers collect and organize your data, process your data, analyze your data, create your figures, create your documents, build and show your presentations, and so on. Learing to write computer code allows you to automate some or all of the parts of this chain of processes. Programming makes working with complicated data easier for humans. As a side-benefit, it increaes transparency and correctness of analysis.\n",
    "\n",
    "> A student we worked with some years ago had to analyze the data from a dozen human subjects where each subject generated about a dozen files; 144 files in total. Each of these files had to have a name on the computer's hard disk, each had to be opened and read into memory, each had to have a complex mathematical model fitted to it, and each had to have their results written to the computer's hard disk. The student was given a small amount of code, in a program file, to do the analysis of one data file. They proceeded to copy the program file 144 times, and edit each of these copies to make a new program that could analyze just the one data file it had been specialized to process. Each of these analyses had to have its results saved on the computer, and, with help, the student was given a program to combine the results for each subject. This program they copied 12 times, one for each subject, and ran each program by hand to produce a single computer file for each subject. These 12 files they _manually_ copied and pasted together into Excel to make a final spreadsheet file where for each subject and each file there was one line of data. Through extensive manual editing of the spreadsheet, which they had to redo each time errors were found and the data processing changed during the experimental development, they generated the approximately 24 numbers that represented the results of interest for each subject (2 numbers per subject). The total amount of time expended on this analysis was greater than 40 hours (or one full work week), that includes the editing of all 156 program files, fixing the files when they failed to edit them correctly, the manual running of all of these separate files, the gathering and moving of data and results on disk, the manual assembly of the spreadsheet, and the complex manual coding of the spreadsheet calculations.\n",
    "\n",
    "Perhaps worse, when they were done neither they nor we could be sure the work had been done correctly as this one-time assemblage of hand-coded programs was too large to be audited by other members of the research team.\n",
    "\n",
    "## What We Are Covering Today\n",
    "Today we will be working with several higher level constructs in R that allow programs to do more complex tasks than the simple analyses and displays that beginners usually focus on. We are really focusing on R as a **programming language** today, and much less on its statistical features.\n",
    "\n",
    "The programming constructs we are going to look at today allow R programs:\n",
    "\n",
    "1. To process (or make) many items (data sets, files, models, figures, documents, etc.) by **repeating sequences of instructions many times**\n",
    "1. To **make decisions** about how to proceed given different values of variables\n",
    "1. To **encapsulate complex processes for reuse**, such as turning complete analyses into new R functions that might be applied to many different data sets\n",
    "\n",
    "If you are a more advanced user of R, or have more experience with real world data analyses, you will likely see immediately why these ideas are useful. If you are very close to the beginning of your use of R, this may not become really relevant to you until later on.\n",
    "\n",
    "> At around the time of the student mentioned above, another student began working with similar data, but they realized that it was worth some time up front to learn how to get the computer to do more of the work. They used about 8 hours of time sitting and reading instructions online about (1) how to use R's **loops** to repeat calculations; and (2) using R's **functions** to encapsulate their analyses in such a way to reuse them across subjects by building into the functions values that change by subject automatically. Over the course of the 8 hours they developed two programs (a script and a function) to do the analyses and a third (also a function) to carry out the final analysis, that is, what the previous student did in their spreadsheet. Their first program (a master script) automatically used the other two programs by itself, so a complete data analysis consisted of simply running the first program. Benefits, other than the obvious ones of time saved, included (1) auditability, the program was relatively short and simple enough that everyone working on the project could review it for correctness; and (2) partial analysis, the program automatically determined how many subjects and how much data were present and adjusted itself accordingly, allowing the student to essentially reanalyze their data as they proceeded.\n",
    "\n",
    "Our goal today is to turn you from a potential [_Goofus_](https://en.wikipedia.org/wiki/Goofus_and_Gallant) and into, at least, a nascent [_Gallant_](https://en.wikipedia.org/wiki/Goofus_and_Gallant). (We will set aside the fact that on occasion Goofus was more fun.)"
   ]
  },
  {
   "cell_type": "markdown",
   "metadata": {},
   "source": [
    "## Programming in R is not New\n",
    "R is a computer language for doing data analysis. \n",
    "\n",
    "As such, **every** analysis is a program, of some sort. Every analysis.\n",
    "\n",
    "For instance, the following is how you do a simple linear regression and make a basic plot for some built-in data (comments explaining what the lines do follow the hashtags in green):"
   ]
  },
  {
   "cell_type": "code",
   "execution_count": 1,
   "metadata": {},
   "outputs": [
    {
     "data": {
      "image/png": "[encoded data removed]",
      "text/plain": [
       "plot without title"
      ]
     },
     "metadata": {},
     "output_type": "display_data"
    }
   ],
   "source": [
    "data(mtcars)                                          # Load the data set\n",
    "mod <- lm(mpg ~ disp, data = mtcars)                  # Fit the model\n",
    "options(repr.plot.width = 6, repr.plot.height = 3.5)  # Set the figure size (optional!)\n",
    "\n",
    "plot(mtcars$disp, mtcars$mpg, pch = 16, xlab = \"Displacement (cc)\", ylab = \"MPG\")\n",
    "\n",
    "abline(mod, lwd = 2, col = \"blue\")                    # Add the regression line to the plot"
   ]
  },
  {
   "cell_type": "markdown",
   "metadata": {},
   "source": [
    "The five lines of R code above constitute a **program** although most people do not think of it as such. But a program is just a list of instructions, given **in order**, that tells the machine what to do. So this is, in fact, a program; even if it is a very simple one that will likely never be used again when you finish with it."
   ]
  },
  {
   "cell_type": "code",
   "execution_count": null,
   "metadata": {},
   "outputs": [],
   "source": []
  },
  {
   "cell_type": "code",
   "execution_count": null,
   "metadata": {},
   "outputs": [],
   "source": []
  },
  {
   "cell_type": "code",
   "execution_count": null,
   "metadata": {},
   "outputs": [],
   "source": []
  },
  {
   "cell_type": "code",
   "execution_count": null,
   "metadata": {},
   "outputs": [],
   "source": []
  },
  {
   "cell_type": "markdown",
   "metadata": {},
   "source": [
    "## Brief Review of R\n",
    "In the next few examples, we review some basic R that we will be using. This is obviously not comprehensive nor complete in any way. Depending on your experience level you may have to take some of the following as arbitrary for the present time.\n",
    "\n",
    "### Loading Data\n",
    "We can load data from CSV files using the `read.csv` function, as shown here:"
   ]
  },
  {
   "cell_type": "code",
   "execution_count": 2,
   "metadata": {},
   "outputs": [],
   "source": [
    "hw <- read.csv(\"height_weight_200.csv\")"
   ]
  },
  {
   "cell_type": "markdown",
   "metadata": {},
   "source": [
    "We can look at the data with the `head` command:"
   ]
  },
  {
   "cell_type": "code",
   "execution_count": 3,
   "metadata": {},
   "outputs": [
    {
     "data": {
      "text/html": [
       "<table>\n",
       "<thead><tr><th scope=col>height</th><th scope=col>weight</th></tr></thead>\n",
       "<tbody>\n",
       "\t<tr><td>65.78 </td><td>112.99</td></tr>\n",
       "\t<tr><td>71.52 </td><td>136.49</td></tr>\n",
       "\t<tr><td>69.40 </td><td>153.03</td></tr>\n",
       "\t<tr><td>68.22 </td><td>142.34</td></tr>\n",
       "\t<tr><td>67.79 </td><td>144.30</td></tr>\n",
       "\t<tr><td>68.70 </td><td>123.30</td></tr>\n",
       "</tbody>\n",
       "</table>\n"
      ],
      "text/latex": [
       "\\begin{tabular}{r|ll}\n",
       " height & weight\\\\\n",
       "\\hline\n",
       "\t 65.78  & 112.99\\\\\n",
       "\t 71.52  & 136.49\\\\\n",
       "\t 69.40  & 153.03\\\\\n",
       "\t 68.22  & 142.34\\\\\n",
       "\t 67.79  & 144.30\\\\\n",
       "\t 68.70  & 123.30\\\\\n",
       "\\end{tabular}\n"
      ],
      "text/plain": [
       "  height weight\n",
       "1 65.78  112.99\n",
       "2 71.52  136.49\n",
       "3 69.40  153.03\n",
       "4 68.22  142.34\n",
       "5 67.79  144.30\n",
       "6 68.70  123.30"
      ]
     },
     "metadata": {},
     "output_type": "display_data"
    }
   ],
   "source": [
    "head(hw)"
   ]
  },
  {
   "cell_type": "markdown",
   "metadata": {},
   "source": [
    "A quick summary of the data is available from `summary` and we can get the usual statistical functions such as `mean`; `median`; standard deviation, `sd`; and variance, `var`:"
   ]
  },
  {
   "cell_type": "code",
   "execution_count": 4,
   "metadata": {},
   "outputs": [
    {
     "data": {
      "text/plain": [
       "     height          weight     \n",
       " Min.   :63.43   Min.   : 97.9  \n",
       " 1st Qu.:66.52   1st Qu.:119.9  \n",
       " Median :67.94   Median :127.9  \n",
       " Mean   :67.95   Mean   :127.2  \n",
       " 3rd Qu.:69.20   3rd Qu.:136.1  \n",
       " Max.   :73.90   Max.   :159.0  "
      ]
     },
     "metadata": {},
     "output_type": "display_data"
    }
   ],
   "source": [
    "summary(hw)"
   ]
  },
  {
   "cell_type": "markdown",
   "metadata": {},
   "source": [
    "We can pick out columns of data from data frames by using the `$` (dollar sign) operator. The lines below pick out the `weight` variable from the `hw` data frame, and use these values to compute various statistics:"
   ]
  },
  {
   "cell_type": "code",
   "execution_count": 5,
   "metadata": {},
   "outputs": [
    {
     "data": {
      "text/html": [
       "127.22195"
      ],
      "text/latex": [
       "127.22195"
      ],
      "text/markdown": [
       "127.22195"
      ],
      "text/plain": [
       "[1] 127.222"
      ]
     },
     "metadata": {},
     "output_type": "display_data"
    }
   ],
   "source": [
    "mean(hw$weight)"
   ]
  },
  {
   "cell_type": "code",
   "execution_count": 6,
   "metadata": {},
   "outputs": [
    {
     "data": {
      "text/html": [
       "127.875"
      ],
      "text/latex": [
       "127.875"
      ],
      "text/markdown": [
       "127.875"
      ],
      "text/plain": [
       "[1] 127.875"
      ]
     },
     "metadata": {},
     "output_type": "display_data"
    }
   ],
   "source": [
    "median(hw$weight)"
   ]
  },
  {
   "cell_type": "code",
   "execution_count": 7,
   "metadata": {},
   "outputs": [
    {
     "data": {
      "text/html": [
       "11.9609591764038"
      ],
      "text/latex": [
       "11.9609591764038"
      ],
      "text/markdown": [
       "11.9609591764038"
      ],
      "text/plain": [
       "[1] 11.96096"
      ]
     },
     "metadata": {},
     "output_type": "display_data"
    }
   ],
   "source": [
    "sd(hw$weight)"
   ]
  },
  {
   "cell_type": "code",
   "execution_count": 8,
   "metadata": {},
   "outputs": [
    {
     "data": {
      "text/html": [
       "143.064544419598"
      ],
      "text/latex": [
       "143.064544419598"
      ],
      "text/markdown": [
       "143.064544419598"
      ],
      "text/plain": [
       "[1] 143.0645"
      ]
     },
     "metadata": {},
     "output_type": "display_data"
    }
   ],
   "source": [
    "var(hw$weight)"
   ]
  },
  {
   "cell_type": "markdown",
   "metadata": {},
   "source": [
    "We can also do comparisons. Here we compare two numbers using the `==` operator (for \"equals\"):"
   ]
  },
  {
   "cell_type": "code",
   "execution_count": 9,
   "metadata": {},
   "outputs": [
    {
     "data": {
      "text/html": [
       "TRUE"
      ],
      "text/latex": [
       "TRUE"
      ],
      "text/markdown": [
       "TRUE"
      ],
      "text/plain": [
       "[1] TRUE"
      ]
     },
     "metadata": {},
     "output_type": "display_data"
    }
   ],
   "source": [
    "sd(hw$weight) == sqrt(var(hw$weight))"
   ]
  },
  {
   "cell_type": "markdown",
   "metadata": {},
   "source": [
    "Note that this will **usually not work** when you compare two floating point (AKA decimal) numbers. There is usually some round-off error that will make almost any two numbers not truly equal. We will discuss this elsewhere."
   ]
  },
  {
   "cell_type": "code",
   "execution_count": null,
   "metadata": {},
   "outputs": [],
   "source": []
  },
  {
   "cell_type": "code",
   "execution_count": 10,
   "metadata": {},
   "outputs": [
    {
     "data": {
      "text/html": [
       "11.9609591764038"
      ],
      "text/latex": [
       "11.9609591764038"
      ],
      "text/markdown": [
       "11.9609591764038"
      ],
      "text/plain": [
       "[1] 11.96096"
      ]
     },
     "metadata": {},
     "output_type": "display_data"
    }
   ],
   "source": [
    "sqrt(var(hw$weight))"
   ]
  },
  {
   "cell_type": "code",
   "execution_count": null,
   "metadata": {},
   "outputs": [],
   "source": []
  },
  {
   "cell_type": "markdown",
   "metadata": {},
   "source": [
    "An example: a few years ago we had two students who were working on a project which generated dozens of data files per subject. One of the students did not want to learn the topics we cover today, and ended up editing and saving (literally) 144 separate small program files, _each with a tiny variation of the same analysis, and each of which had to be edited and **run separately**_. The total time for work by this student was on the order of one full work week. The other student wrote one program that did the analysis and ended up saving about 6 variations of the file as a record of their work; each program automatically ran the analysis across all of the data files. Total work time, including learning the basic techniques to do the programs, was on the order of one full work **day**. In addition the second student now knows (1) how to automate future work, and, possibly more importantly, (2) how to organize their work for automation to make things easier in the future. Hopefully an example of dividing work time by 5 should impress on you the value of automation and the programming that produces it. But this will come down to personal choice and expectation of what your future work will entail."
   ]
  },
  {
   "cell_type": "code",
   "execution_count": null,
   "metadata": {},
   "outputs": [],
   "source": []
  }
 ],
 "metadata": {
  "kernelspec": {
   "display_name": "R",
   "language": "R",
   "name": "ir"
  },
  "language_info": {
   "codemirror_mode": "r",
   "file_extension": ".r",
   "mimetype": "text/x-r-source",
   "name": "R",
   "pygments_lexer": "r",
   "version": "3.3.1"
  }
 },
 "nbformat": 4,
 "nbformat_minor": 2
}
