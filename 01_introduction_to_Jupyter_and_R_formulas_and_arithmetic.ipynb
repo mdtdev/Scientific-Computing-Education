{
 "cells": [
  {
   "cell_type": "markdown",
   "metadata": {},
   "source": [
    "# Introduction to R & Jupyter Notebooks\n",
    "# General Introduction\n",
    "\n",
    "Matthew D. Turner, PhD  \n",
    "Georgia State University\n",
    "\n",
    "Some rights reserved: [cc by-nc-sa](https://creativecommons.org/licenses/by-nc-sa/4.0/) See bottom of document for details.\n",
    "\n",
    "This workshop is intended as a brief introduction to:\n",
    "\n",
    "+ The R Language\n",
    "+ The Jupyter Scientific Notebook System\n",
    "\n",
    "The emphasis is on the R language, but as the class is delivered in Jupyter notebooks, we will cover the basics of this system, as well. Both R and Jupyter are systems that are too big to be covered in one class, so this is really just enough to get you started with either of them. For more information on Jupyter see the [Jupyter Project website](http://jupyter.org/). For more on R, see the [R Project website](https://www.r-project.org/).\n",
    "\n",
    "***\n",
    "\n",
    "## 1 Jupyter\n",
    "\n",
    "We will start with Jupyter so that you can work with it today.\n",
    "\n",
    "You are currently looking at a **Jupyter Notebook for R**. This is an easy to use system for working with scientific computing. Many of you will prefer to use [RStudio](https://www.rstudio.com/products/rstudio/) on your own computers. However, when working in a networked environment, Jupyter is better for sharing. (There is a web-based version of RStudio, however it is not an affordable option for GSU.) If you would like to use Jupyter on your own computer it is _relatively_ easy to set up. This will not be discussed today, please contact the workshop leader for more information.\n",
    "\n",
    "It is important to note that R is a computer language, _so while interacting with R notebooks in Jupyter will feel different from the workflow in RStudio, the **commands are identical**_. For more information on using Jupyter notebooks for research and teaching, see [HERE](https://jupyter.brynmawr.edu/services/public/dblank/Jupyter%20Notebook%20Users%20Manual.ipynb) (note that this page is a little out of date but still very useful).\n",
    "\n",
    "### 1.1 Cells (The Essential Feature of Jupyter)\n",
    "\n",
    "Jupyter is organized into **cells** which are little blocks of code or formatted text. The output of cells is either statistical results or graphics.\n",
    "\n",
    "This text that you are reading is a **text** cell. Below this is a **code** cell that is empty. Let's try using it:\n",
    "\n",
    "+ Double-click on the cell below this\n",
    "+ Type `2 + 2` (or some other numbers of interest)\n",
    "+ Then press **shift-enter** (shift and the enter or return key on your keyboard; **remember this, you use it constantly!**)"
   ]
  },
  {
   "cell_type": "code",
   "execution_count": null,
   "metadata": {},
   "outputs": [],
   "source": []
  },
  {
   "cell_type": "markdown",
   "metadata": {},
   "source": [
    "Note a couple of things:\n",
    "\n",
    "+ The result is printed just below the cell\n",
    "+ The cell gets a **number** showing the order in which it was run (in this case 1)\n",
    "\n",
    "If you were to click on the cell again, you could change your code and then press shift-enter to run it again. The results will update to show the new result and the number of the cell will increment to the next number. Try it!\n",
    "***\n",
    "In the empty cell below:\n",
    "+ Click on the cell to make it active -- the border of the cell will turn green. This is **edit mode** where you can type in the cell.\n",
    "+ Then press the escape key ('esc') on your keyboard -- the border of the cell turns blue. This is \"command mode\" where you cannot type into the cell, but instead issue commands.\n",
    "+ Press the 'h' key on your keyboard\n",
    "\n",
    "This will bring up the keyboard shortcut help menu. (It scrolls!) The keys listed for \"command mode\" are things you can press after pressing escape. These do many useful things!\n",
    "\n",
    "**Remember this**: Escape followed by h brings up the help from **any** cell."
   ]
  },
  {
   "cell_type": "code",
   "execution_count": null,
   "metadata": {},
   "outputs": [],
   "source": []
  },
  {
   "cell_type": "markdown",
   "metadata": {},
   "source": [
    "Code can be simple or complicated. The following is an example to plot a sine and cosine function. Don't worry if you don't understand it yet, we will discuss more as we go! \n",
    "\n",
    "Select the cell below this and press shift-enter to see the result."
   ]
  },
  {
   "cell_type": "code",
   "execution_count": null,
   "metadata": {},
   "outputs": [],
   "source": [
    "options(repr.plot.width=5, repr.plot.height=4) # Set plot height and width (in inches)\n",
    "x = seq(0, 2*pi, by=0.01)                      # Get a list of numbers from 0 to 2 times pi\n",
    "plot(x, sin(x), type=\"l\", col=\"red\")\n",
    "lines(x, cos(x), type=\"l\", col=\"purple\")\n",
    "legend(0, -0.5, legend=c(\"Sine\", \"Cosine\"), col=c(\"red\", \"purple\"), lty=1, y.intersp=2, \n",
    "       cex=0.75, box.lty = 0)"
   ]
  },
  {
   "cell_type": "markdown",
   "metadata": {},
   "source": [
    "### 1.2 Text and Code Together in Jupyter\n",
    "\n",
    "Another great feature of Jupyter notebooks is that they allow the mixing of text, data, and computer code. Everything in this notebook, including **this cell's text**, is editable. If you would like to see the raw form of this typeset text, just _double_ click inside of this cell. The typesetting is done in [markdown](https://jupyter-notebook.readthedocs.io/en/stable/examples/Notebook/Working%20With%20Markdown%20Cells.html) a **simple code for marking up text** with things like: headings, web links, lists, computer code, and so on. It also supports typesetting math in LaTeX (if you are familiar with that). \n",
    "\n",
    "For example: writing $C = 2 \\pi r$ or $e^x=\\sum_{i=0}^\\infty \\frac{1}{i!}x^i$ is fairly easy.\n",
    "\n",
    "Cells are executed (code is run, text is formatted) when you press shift-enter while within the cell. Just click on the cell to make it the active cell (or double-click to make it active and editable if it is a text cell) and that will be the cell that gets executed when you press shift-enter."
   ]
  },
  {
   "cell_type": "markdown",
   "metadata": {},
   "source": [
    "### 1.3 Graphics\n",
    "\n",
    "Scientific graphics are included in Jupyter R notebooks by running the required code in R to make the figures. They will simply appear as output for the code. Jupyter may also include images or other figures by inclusion as you would in a normal webpage:\n",
    "\n",
    "<img width=25% src=\"./lolcat_orly.jpg\" />\n",
    "\n",
    "With all of these features, Jupyter makes an excellent laboratory notebook!"
   ]
  },
  {
   "cell_type": "markdown",
   "metadata": {},
   "source": [
    "## Section 2: Elementary R\n",
    "\n",
    "Let's cover the most basic parts of R starting with comments. Comments are for human consumption and are ways to remind yourself and others why you did something. You should use them liberally &mdash; you will simply not remember what you were doing today six months from now. So make a note to tell yourself!"
   ]
  },
  {
   "cell_type": "code",
   "execution_count": null,
   "metadata": {},
   "outputs": [],
   "source": [
    "# Comments are marked with a # (hashtag/pound sign/octothorpe/whatever) and R\n",
    "# ignores anything that comes after them.\n",
    "\n",
    "# Here is the circumference of a circle with radius 3...\n",
    "\n",
    "2*pi*3 # Note how this text does nothing other than delight you!"
   ]
  },
  {
   "cell_type": "markdown",
   "metadata": {},
   "source": [
    "### 2.1 Basic Operations\n",
    "\n",
    "R is a language for doing math and statistics. Any simple operations you know from these fields are there to use. More advanced ones may need to be loaded from external libraries. We will discuss this later on.\n",
    "\n",
    "R uses the _usual_ way of writing math into a computer or calculator. At least for basic arithmetic.\n",
    "\n",
    "For now, let's look at some example operations. In the cell below we will do some arithmetic; the `print` function is there to show us the results:"
   ]
  },
  {
   "cell_type": "code",
   "execution_count": null,
   "metadata": {},
   "outputs": [],
   "source": [
    "2+2\n",
    "2*3\n",
    "10^4"
   ]
  },
  {
   "cell_type": "code",
   "execution_count": null,
   "metadata": {},
   "outputs": [],
   "source": [
    "# Sometimes we want to force R to print the results. For this we can use the print statement\n",
    "# In Jupyter notebooks this is USUALLY optional, see cell above, but not always. If output\n",
    "# is missing, try a print() to fix it!\n",
    "\n",
    "print(2+2)\n",
    "print(2*3)\n",
    "print(10^4)"
   ]
  },
  {
   "cell_type": "markdown",
   "metadata": {},
   "source": [
    "Note that the previous two code cells do the exact same thing and both show all of their output, just with slight differences in formatting. The `print` function makes Jupyter show you the _raw_ R output, formatted as it usually is when using R interactively from the command line."
   ]
  },
  {
   "cell_type": "markdown",
   "metadata": {},
   "source": [
    "### 2.2 Lists and List Operations\n",
    "In statistics we usually operate on large amounts of data. In R we will store these in **lists** and **data frames**. The former are pretty much self explanatory, while the latter are essentially simple spreadsheets organized in the usual way for statistics and data analysis. Columns of data frames can be treated like lists."
   ]
  },
  {
   "cell_type": "code",
   "execution_count": null,
   "metadata": {},
   "outputs": [],
   "source": [
    "x = c(1,2,3)\n",
    "y = c(2,2,2)\n",
    "\n",
    "print(x)\n",
    "print(y)"
   ]
  },
  {
   "cell_type": "markdown",
   "metadata": {},
   "source": [
    "Notice a couple of things about the previous cell:\n",
    "\n",
    "+ The `c` function takes numbers and glues them together into a list\n",
    "+ When we set x and y equal to the lists, they are **not** printed, we need to add a command to do that\n",
    "\n",
    "> **Useful Hacker Trick**: When you want to stop a command from executing, just place a `#` in front of it. (This is called \"commenting out\" the command. That way you can keep the code for your records and still not run it. Handy for debugging things. Try it with the `print` commands above to see that nothing is printed when they are absent.\n",
    "\n",
    "Operations on lists of the same length are done **elementwise**, that is, the operation is done to each pair of numbers:"
   ]
  },
  {
   "cell_type": "code",
   "execution_count": null,
   "metadata": {},
   "outputs": [],
   "source": [
    "x+y\n",
    "x-y\n",
    "x*y\n",
    "x/y"
   ]
  },
  {
   "cell_type": "markdown",
   "metadata": {},
   "source": [
    "Make sure you understand what the previous cell did!\n",
    "\n",
    "\n",
    "Operations between a list and a **single number** apply the operation to each element of the list and the single number. It is as though the single element is a list of the same number repeated. This is one of many R shorthand notations to save you work. Compare the results below:"
   ]
  },
  {
   "cell_type": "code",
   "execution_count": null,
   "metadata": {},
   "outputs": [],
   "source": [
    "x + 1          # Shorthand\n",
    "y - 2\n",
    "\n",
    "x + c(1,1,1)   # Written out as full lists\n",
    "y - c(2,2,2)"
   ]
  },
  {
   "cell_type": "markdown",
   "metadata": {},
   "source": [
    "### 2.3 Assignment, Functions, and Getting Help\n",
    "\n",
    "Assignment is the act of placing a value into a variable. We did that above with lists x and y. In essence we told R to ue the name `x` to refer to the list `c(1,2,3)`. The two become (more or less) interchangable.\n",
    "\n",
    "In R, there are two operators for assignments in R are `=` (equals) and `<-` (arrow) and can be used interchangably in most places. People in computing tend to like the `<-` operator, while others prefer the equals sign. You should recognize both as you will see both online!"
   ]
  },
  {
   "cell_type": "code",
   "execution_count": null,
   "metadata": {},
   "outputs": [],
   "source": [
    "u  = c(1,2,3,4,5,6,7,8,8)  # Give a list of numbers a name\n",
    "v <- c(2,1,3,4,6,5,8,8,7)  # Same thing! <- and = can both be used for assignment"
   ]
  },
  {
   "cell_type": "markdown",
   "metadata": {},
   "source": [
    "The best way to get help with R is to use search tools on the web. However, the documentation can be accessed by using the `help()` function or the `?` and `??` operators. These search for help in the documentation and return the results either at the bottom of the window or into a new tab.\n",
    "\n",
    "+ `??` Searches for a word in the text of the documentation (like web searching)\n",
    "+ `?` and `help()` gets the specific page of documentation for a command (when you know exactly which one you want)"
   ]
  },
  {
   "cell_type": "code",
   "execution_count": null,
   "metadata": {},
   "outputs": [],
   "source": [
    "# Search for all references to the word \"covariance\"\n",
    "\n"
   ]
  },
  {
   "cell_type": "code",
   "execution_count": null,
   "metadata": {},
   "outputs": [],
   "source": [
    "# Load the specific help page for the \"var\" function \n",
    "#                   (this should be in the list you just got above!)\n",
    "\n"
   ]
  },
  {
   "cell_type": "code",
   "execution_count": null,
   "metadata": {},
   "outputs": [],
   "source": [
    "# Read the page on the \"var\" function and determine how to use the \"cor\" function\n",
    "# Then use it to compute the correlation between u and v defined above \n",
    "\n"
   ]
  },
  {
   "cell_type": "markdown",
   "metadata": {},
   "source": [
    "(Hint: your answer for the cell above should be about 0.943.)\n",
    "\n",
    "Note that R is mathematical in that it gives the numerical result for correlation. If you want the statistical output that looks like other systems for doing analysis, that is available, too. In the next cell we look up the R function `cor.test`. Note that this function has a dot (period) in its name. Dots (`.`) and underscores (`_`) are both common in R function names."
   ]
  },
  {
   "cell_type": "code",
   "execution_count": null,
   "metadata": {},
   "outputs": [],
   "source": [
    "# Look up the function called \"cor.test\" with ?\n",
    "# Do the default cor.test for u and v above (does the correlation match your previous answer?)\n",
    "\n"
   ]
  },
  {
   "cell_type": "markdown",
   "metadata": {},
   "source": [
    "Answer the following questions (if you understand them!):\n",
    "\n",
    "1. What is the null hypothesis for this test?\n",
    "2. Is the alternative one- or two-sided?\n",
    "3. Does the test reject the null when $\\alpha = 0.001$?\n",
    "\n",
    "It is not required, but if you would like to you can edit this cell to add your answers."
   ]
  },
  {
   "cell_type": "markdown",
   "metadata": {},
   "source": [
    "### 2.4 Mathematical Functions Made Out of Arithmetic\n",
    "\n",
    "We can create our own mathematical functions using the usual translation of math into _typed_ math. In typed math the usual arithmetic operators are: `+` addition, `-` subtraction, `*` multiplication, and `/` (forward slash!) division. You should be familiar with these from other software.\n",
    "\n",
    "For instance, the mean is defined as: $$\\bar{X} = \\frac{1}{N}\\sum_{i = 1}^{N} X_i$$ which is just the sum of the data points which is then divided by the number of points. It could also be written (in somewhat reduced notation) as: $\\frac{\\sum X_i}{N}$ which is how some of you might have seen it elsewhere.\n",
    "\n",
    "$$\\bar{X} = \\frac{\\sum_{i = 1}^{N} X_i}{N} = \\frac{\\mathrm{sum\\ of\\ data}}{\\mathrm{number\\ of\\ data\\ points}}$$\n",
    "\n",
    "For a list of numbers `X`, the sum is given by the `sum` function, and division is shown above. To determine `N` you need to find the _length_ of the list, and there is a function called `length` that does just that. In the cell below, figure out the mean of `X`:"
   ]
  },
  {
   "cell_type": "code",
   "execution_count": null,
   "metadata": {},
   "outputs": [],
   "source": [
    "# 1. Write the formula for the mean in this cell\n",
    "#    Use the given x as the list of data\n",
    "# 2. Store the results in the variable named xbar\n",
    "# 3. Print the result\n",
    "\n",
    "x = c(1,2,3,4,5,6,7,8,9)\n",
    "\n",
    "\n"
   ]
  },
  {
   "cell_type": "markdown",
   "metadata": {},
   "source": [
    "Obviously a statistical language will have functions for getting things like the mean and standard deviation. So we can check our work from above:"
   ]
  },
  {
   "cell_type": "code",
   "execution_count": null,
   "metadata": {},
   "outputs": [],
   "source": [
    "mean(x)   # Mean of X; should be same as your work above\n",
    "sd(x)     # sd() is the standard deviation"
   ]
  },
  {
   "cell_type": "markdown",
   "metadata": {},
   "source": [
    "A z-score transformation is obtained by subtracting the mean from each data point, then dividing this by the standard deviation: $$z = \\frac{x - \\bar{x}}{s}$$\n",
    "\n",
    "Use this formula and the functions `mean` and `sd` to define the z-scores for all the values in the list x:"
   ]
  },
  {
   "cell_type": "code",
   "execution_count": null,
   "metadata": {},
   "outputs": [],
   "source": [
    "# Compute the z-scores for the values of x, place the results in the variable z\n",
    "# Remember your high school algebra! You need to use some parentheses in the numerator\n",
    "# Print the results\n",
    "\n"
   ]
  },
  {
   "cell_type": "code",
   "execution_count": null,
   "metadata": {},
   "outputs": [],
   "source": [
    "# Now look up the help information on the \"scale\" function\n",
    "# Use this to check your work from the cell above!\n"
   ]
  },
  {
   "cell_type": "code",
   "execution_count": null,
   "metadata": {},
   "outputs": [],
   "source": []
  },
  {
   "cell_type": "markdown",
   "metadata": {},
   "source": [
    "### 2.5 Data Frames and Indexing\n",
    "\n",
    "Lists are great but in most problems we have many variables and many observations. A spreadsheet would be better for this. Let's make one.\n",
    "\n",
    "R provides many built-in data sets for practice and demonstration of statistical techniques. You can run `library(help = \"datasets\")` to get a list and then get help for each specific data set name to see the details. Most packages that get added to R will bring their own data in with them.\n",
    "\n",
    "Here we use the **state** data. R provides lists of the various facts about states including their abbreviation (`states.abb`), their area (`states.area`; in square miles), and their region of the country (`state.region`; Northeast, South, North Central, West). We will put these together into a single data frame which has all three pieces of information for each state:"
   ]
  },
  {
   "cell_type": "code",
   "execution_count": null,
   "metadata": {},
   "outputs": [],
   "source": [
    "s <- data.frame(state = state.abb, region = state.region, area = state.area)"
   ]
  },
  {
   "cell_type": "code",
   "execution_count": null,
   "metadata": {},
   "outputs": [],
   "source": [
    "head(s)    # To see all of the states, just remove the 'head' function"
   ]
  },
  {
   "cell_type": "code",
   "execution_count": null,
   "metadata": {},
   "outputs": [],
   "source": [
    "options(scipen=999)     # Default value is 0 if you want to undo this\n",
    "\n",
    "boxplot(area ~ region, data=s)"
   ]
  },
  {
   "cell_type": "code",
   "execution_count": null,
   "metadata": {},
   "outputs": [],
   "source": [
    "boxplot(area ~ region, data = s, ylim = c(0, 175000))"
   ]
  },
  {
   "cell_type": "code",
   "execution_count": null,
   "metadata": {},
   "outputs": [],
   "source": []
  },
  {
   "cell_type": "code",
   "execution_count": null,
   "metadata": {},
   "outputs": [],
   "source": []
  },
  {
   "cell_type": "code",
   "execution_count": null,
   "metadata": {},
   "outputs": [],
   "source": []
  },
  {
   "cell_type": "code",
   "execution_count": null,
   "metadata": {},
   "outputs": [],
   "source": [
    "names(s) <- c('state', 'region', 'area')"
   ]
  },
  {
   "cell_type": "code",
   "execution_count": null,
   "metadata": {},
   "outputs": [],
   "source": [
    "state.region"
   ]
  },
  {
   "cell_type": "code",
   "execution_count": null,
   "metadata": {},
   "outputs": [],
   "source": [
    "boxplot()"
   ]
  },
  {
   "cell_type": "code",
   "execution_count": null,
   "metadata": {},
   "outputs": [],
   "source": []
  },
  {
   "cell_type": "code",
   "execution_count": null,
   "metadata": {},
   "outputs": [],
   "source": [
    "s"
   ]
  },
  {
   "cell_type": "code",
   "execution_count": null,
   "metadata": {},
   "outputs": [],
   "source": [
    "library(help = \"datasets\")"
   ]
  },
  {
   "cell_type": "code",
   "execution_count": null,
   "metadata": {},
   "outputs": [],
   "source": [
    "help(morley)"
   ]
  },
  {
   "cell_type": "code",
   "execution_count": null,
   "metadata": {},
   "outputs": [],
   "source": []
  },
  {
   "cell_type": "code",
   "execution_count": null,
   "metadata": {},
   "outputs": [],
   "source": [
    "state.abb"
   ]
  },
  {
   "cell_type": "code",
   "execution_count": null,
   "metadata": {},
   "outputs": [],
   "source": []
  },
  {
   "cell_type": "code",
   "execution_count": null,
   "metadata": {},
   "outputs": [],
   "source": []
  },
  {
   "cell_type": "code",
   "execution_count": null,
   "metadata": {},
   "outputs": [],
   "source": [
    "data(mtcars)\n",
    "data(cars)"
   ]
  },
  {
   "cell_type": "code",
   "execution_count": null,
   "metadata": {},
   "outputs": [],
   "source": [
    "print(AirPassengers)\n",
    "plot(AirPassengers)\n",
    "str(AirPassengers)"
   ]
  },
  {
   "cell_type": "markdown",
   "metadata": {},
   "source": [
    "### Libraries!\n",
    "\n",
    "The vast majority of R functionality comes from R **libraries**, also called **packages**. These are usually made available online via the _Comprehensive R Archive Network_ (CRAN), a collection of computer servers located all around the world where each  one holds a copy of all public R packages. Packages are loaded with either the `require` or `library` command. The first command is usually used in programs written in R, while the second, `library`, is preferred for interactive work in R. "
   ]
  },
  {
   "cell_type": "code",
   "execution_count": null,
   "metadata": {},
   "outputs": [],
   "source": [
    "# Example: this command loads the package 'datasets' which is a collection of data to play with\n",
    "\n",
    "library(datasets)"
   ]
  },
  {
   "cell_type": "code",
   "execution_count": null,
   "metadata": {},
   "outputs": [],
   "source": [
    "# Use the ? operator to get the help page for the datasets package\n",
    "\n"
   ]
  },
  {
   "cell_type": "code",
   "execution_count": null,
   "metadata": {},
   "outputs": [],
   "source": [
    "# What does the help you just got tell you to do?  Do it!\n",
    "# Hint: You can cut and paste from the help page\n",
    "\n"
   ]
  },
  {
   "cell_type": "markdown",
   "metadata": {},
   "source": [
    "You get the list of commands in a package by using the `help` option in the `library` command, as you sould have just discovered.\n",
    "\n",
    "New packages are installed with the command `install.packages` such as in the example:\n",
    "\n",
    "```r\n",
    "install.packages(\"lme4\")\n",
    "```\n",
    "\n",
    "However, this will not work on the DICE system we are using today. It **will** work on any R installation on a computer that you own or have the rights to install software onto."
   ]
  },
  {
   "cell_type": "code",
   "execution_count": null,
   "metadata": {},
   "outputs": [],
   "source": []
  },
  {
   "cell_type": "code",
   "execution_count": null,
   "metadata": {},
   "outputs": [],
   "source": []
  },
  {
   "cell_type": "code",
   "execution_count": null,
   "metadata": {},
   "outputs": [],
   "source": []
  },
  {
   "cell_type": "markdown",
   "metadata": {},
   "source": [
    "Version 1.0  \n",
    "2018.06.06  \n",
    "\n",
    "To contact the author, please email [mturner46@gsu.edu](mailto:mturner46@gsu.edu). Please contact me with recommendations for improvement or if you find any errors. This work may be adapted for any non-commercial purpose within the bounds of the license.\n",
    "\n",
    "<a rel=\"license\" href=\"http://creativecommons.org/licenses/by-nc-sa/4.0/\"><img alt=\"Creative Commons License\" style=\"border-width:0\" src=\"https://i.creativecommons.org/l/by-nc-sa/4.0/88x31.png\" /></a><br />This work is licensed under a <a rel=\"license\" href=\"http://creativecommons.org/licenses/by-nc-sa/4.0/\">Creative Commons Attribution-NonCommercial-ShareAlike 4.0 International License</a>."
   ]
  },
  {
   "cell_type": "code",
   "execution_count": null,
   "metadata": {},
   "outputs": [],
   "source": []
  }
 ],
 "metadata": {
  "kernelspec": {
   "display_name": "R",
   "language": "R",
   "name": "ir"
  },
  "language_info": {
   "codemirror_mode": "r",
   "file_extension": ".r",
   "mimetype": "text/x-r-source",
   "name": "R",
   "pygments_lexer": "r",
   "version": "3.3.1"
  }
 },
 "nbformat": 4,
 "nbformat_minor": 2
}
