{
 "cells": [
  {
   "cell_type": "markdown",
   "metadata": {},
   "source": [
    "# Introduction to R Programming: Loops, Conditionals, & Functions\n",
    "\n",
    "Matthew D. Turner, PhD  \n",
    "Georgia State University\n",
    "\n",
    "Some rights reserved: [cc by-nc-sa](https://creativecommons.org/licenses/by-nc-sa/4.0/) See bottom of document for details.\n",
    "***\n",
    "# Basic Exercises\n",
    "This notebook is a collection of basic exercises for making loops, using conditionals, and writing functions. You should start here if you are completely new to these topics. The exercises below are of varying complexity, so if you find some to be too hard, you may want to proceed to the next section.\n",
    "\n",
    "In the notebook below, empty cells with comments contain instructions for you to build simple programs in R code. Cells are executed by either using the key combination shift-enter (or shift-return on some computers) or by using the mouse to press the \"Run\" button at the top of the notebook.\n",
    "\n",
    "Start by running the cells below. **Remember**: you need to run all of the cells with code, even ones where you do not make any changes. If something does not work, it could be due to skipping a cell. Also, you may press shift-enter to move through the notebook one cell at a time; this includes the text cells!"
   ]
  },
  {
   "cell_type": "code",
   "execution_count": 2,
   "metadata": {},
   "outputs": [],
   "source": [
    "# Setting up the R environment\n",
    "\n",
    "options(repr.plot.width = 4, repr.plot.height = 4)  # Set the figure size "
   ]
  },
  {
   "cell_type": "markdown",
   "metadata": {},
   "source": [
    "### 1. Simple Loop Exercises\n",
    "Here we will use loops to display some data and do basic data filtering. Please note that using loops to filter data is not always optimal, but it does lend itself to easy examples for practice."
   ]
  },
  {
   "cell_type": "code",
   "execution_count": 3,
   "metadata": {},
   "outputs": [],
   "source": [
    "# Here is some data drawn from a mathematically defined (known) distribution\n",
    "#  >> It has a true mean of 25 and a true standard deviation of 9 <<\n",
    "\n",
    "d <- c(39.89503,26.84281,24.25861,28.87009,21.98997,21.62833,3.836511,33.59383,\n",
    "       29.82358,10.65092,33.86132,37.29709,1.178438,9.14365,24.33669,18.59312,\n",
    "       3.755524,35.13025,12.3738,22.3297,17.46969,26.15035,24.44927,33.22489,\n",
    "       30.54006,17.60494,11.47602,50.5574,22.49891,17.17721,34.62822,21.65989,\n",
    "       25.29415,22.08202,31.12628,28.16447,26.65634,26.81129,38.41278,21.12782,\n",
    "       10.29205,25.77778,1.574856,14.65169,30.01658,32.61243,22.40103,41.40533,\n",
    "       6.766324,34.11612,23.20139,25.23146,22.6141,16.48503,23.39496,27.68777,\n",
    "       20.16894,19.71992,22.51938,18.84068,47.7751,33.34769,40.17129,25.83041,\n",
    "       25.5106,29.01418,4.318843,21.87696,31.89288,17.99988,26.79175,9.075963,\n",
    "       17.81769,29.30444,40.21988,39.85456,16.40074,24.58396,26.97367,20.57295,\n",
    "       29.30642,20.47403,33.41683,9.886789,32.07099,27.86358,23.91271,8.362674,\n",
    "       20.9204,27.89309,-0.5909693,30.50101,25.05787,25.68484,31.23876,11.40253,\n",
    "       18.55688,5.459615,16.87926,27.25582)"
   ]
  },
  {
   "cell_type": "markdown",
   "metadata": {},
   "source": [
    "Determine the number of data points in `d`. We will use this in some `for` loops below."
   ]
  },
  {
   "cell_type": "code",
   "execution_count": 40,
   "metadata": {},
   "outputs": [],
   "source": [
    "# How many elements in d?\n",
    "#\n",
    "# Hint: If you've never used it, look up the help on the \"length\" function \n",
    "#       first (?length). You should get used to using it.\n",
    "\n"
   ]
  },
  {
   "cell_type": "markdown",
   "metadata": {},
   "source": [
    "Note that the `length` function in R gives different sorts of values for different sorts of objects. For a data frame, it gives the number of columns. For a matrix, vector, or list it gives the total number of elements in the object. For a _vector_ like `d` above it will give the total number of items."
   ]
  },
  {
   "cell_type": "code",
   "execution_count": 41,
   "metadata": {},
   "outputs": [],
   "source": [
    "# Write a for loop that prints out the elements of d\n",
    "#\n",
    "# Hint: If you use tabs to arrange things, your columns might not line up\n",
    "#       perfectly, but this is ok. If you want to use commas, see the demo \n",
    "#       notebook, section 1.1.1. But that is a little harder.\n",
    "# Hint: If i = 3, then d[i] is the 3rd element of d, for instance. \n",
    "\n"
   ]
  },
  {
   "cell_type": "code",
   "execution_count": 42,
   "metadata": {},
   "outputs": [],
   "source": [
    "# Write a loop that prints out d, with 3 elements per line separated by tabs\n",
    "#\n",
    "# Hint: You will need an if.\n",
    "# Hint: Remember the modulus: %%\n",
    "# Hint: see the introductory demo, section 3.2.4\n",
    "\n"
   ]
  },
  {
   "cell_type": "code",
   "execution_count": null,
   "metadata": {},
   "outputs": [],
   "source": [
    "# Modify the FIRST loop above to print out only elements that are greater\n",
    "# than the mean of d\n",
    "#\n",
    "# Hint: Do NOT try to print them 3 to a line unless you like a real, \n",
    "#       annoying challenge!\n",
    "# Hint: You should get 53 numbers printed out\n",
    "\n"
   ]
  },
  {
   "cell_type": "markdown",
   "metadata": {},
   "source": [
    "In R the `quantile` functions reports the values in data (like our `d`) that correspond to particular percentages of the distribution. The cell below computes the 25th and 75th (1st and 3rd) quartiles of `d`, and puts them into variables `Q1` and `Q3`. You will use these in the next exercises."
   ]
  },
  {
   "cell_type": "code",
   "execution_count": 4,
   "metadata": {},
   "outputs": [
    {
     "name": "stdout",
     "output_type": "stream",
     "text": [
      "17.95433, 29.87183"
     ]
    }
   ],
   "source": [
    "out <- quantile(d, c(0.25, 0.75))\n",
    "Q1 <- out[1]\n",
    "Q3 <- out[2]\n",
    "cat(Q1, Q3, sep=\", \")   # Show you the values"
   ]
  },
  {
   "cell_type": "markdown",
   "metadata": {},
   "source": [
    "We can use the comparisons to see if elements of `d` are between these limits. In the example below, there is some \"fluff\" from R printed along with the results (we mentioned this in the demo examples, too) which can be ignored. "
   ]
  },
  {
   "cell_type": "code",
   "execution_count": 5,
   "metadata": {},
   "outputs": [
    {
     "name": "stdout",
     "output_type": "stream",
     "text": [
      "39.89503"
     ]
    },
    {
     "data": {
      "text/html": [
       "<strong>25%:</strong> TRUE"
      ],
      "text/latex": [
       "\\textbf{25\\textbackslash{}\\%:} TRUE"
      ],
      "text/markdown": [
       "**25%:** TRUE"
      ],
      "text/plain": [
       " 25% \n",
       "TRUE "
      ]
     },
     "metadata": {},
     "output_type": "display_data"
    },
    {
     "data": {
      "text/html": [
       "<strong>75%:</strong> FALSE"
      ],
      "text/latex": [
       "\\textbf{75\\textbackslash{}\\%:} FALSE"
      ],
      "text/markdown": [
       "**75%:** FALSE"
      ],
      "text/plain": [
       "  75% \n",
       "FALSE "
      ]
     },
     "metadata": {},
     "output_type": "display_data"
    },
    {
     "data": {
      "text/html": [
       "<strong>25%:</strong> FALSE"
      ],
      "text/latex": [
       "\\textbf{25\\textbackslash{}\\%:} FALSE"
      ],
      "text/markdown": [
       "**25%:** FALSE"
      ],
      "text/plain": [
       "  25% \n",
       "FALSE "
      ]
     },
     "metadata": {},
     "output_type": "display_data"
    }
   ],
   "source": [
    "cat(d[1])   # Just looking at this value, it is between 17.95 and 29.87?\n",
    "\n",
    "d[1] > Q1   # TRUE\n",
    "d[1] < Q3   # FALSE\n",
    "\n",
    "# These can be combined with the \"and\" (&) operator:\n",
    "\n",
    "d[1] > Q1 & d[1] < Q3  # Is d[1] **INSIDE** the (Q1, Q3) interval?\n",
    "                       # That is, are both statements simultaneously TRUE?"
   ]
  },
  {
   "cell_type": "code",
   "execution_count": null,
   "metadata": {},
   "outputs": [],
   "source": [
    "# Start with the first for loop above, and modify it to only print out\n",
    "# elements of d that are INSIDE the interval (Q1, Q3).\n",
    "#\n",
    "# Hint: If you think this is hard, you **might** be overthinking it.\n",
    "# Hint: Did you remember to change the d[1] from the example in the cell above?\n",
    "\n"
   ]
  },
  {
   "cell_type": "code",
   "execution_count": null,
   "metadata": {},
   "outputs": [],
   "source": [
    "# Copy the loop just above, but add an else clause to cat the string\n",
    "# \"........\" (a sequence of 8 dots) for each element of d that is NOT in \n",
    "# the interval.\n",
    "#\n",
    "# Hint: In case you wonder, \"........\" made things line up nicely for me\n",
    "#       when I did this using tabs (\"\\t\") to separate values. You may need\n",
    "#       to adjust the number of dots for your screen.\n",
    "\n"
   ]
  },
  {
   "cell_type": "markdown",
   "metadata": {},
   "source": [
    "In case you had problems with the previous two exercises, here is my solution to a **related** problem: The following code prints out the values that are **outside** the (Q1, Q3) interval, rather than inside, and prints dots for values inside the interval. Comapre it to your result above, and where you have dots I should have numbers, and _vice-versa_."
   ]
  },
  {
   "cell_type": "code",
   "execution_count": 6,
   "metadata": {},
   "outputs": [
    {
     "name": "stdout",
     "output_type": "stream",
     "text": [
      "39.89503 \t........ \t........ \t........ \t........ \t........ \t3.836511 \t33.59383 \t........ \t10.65092 \t33.86132 \t37.29709 \t1.178438 \t9.14365 \t........ \t........ \t3.755524 \t35.13025 \t12.3738 \t........ \t17.46969 \t........ \t........ \t33.22489 \t30.54006 \t17.60494 \t11.47602 \t50.5574 \t........ \t17.17721 \t34.62822 \t........ \t........ \t........ \t31.12628 \t........ \t........ \t........ \t38.41278 \t........ \t10.29205 \t........ \t1.574856 \t14.65169 \t30.01658 \t32.61243 \t........ \t41.40533 \t6.766324 \t34.11612 \t........ \t........ \t........ \t16.48503 \t........ \t........ \t........ \t........ \t........ \t........ \t47.7751 \t33.34769 \t40.17129 \t........ \t........ \t........ \t4.318843 \t........ \t31.89288 \t........ \t........ \t9.075963 \t17.81769 \t........ \t40.21988 \t39.85456 \t16.40074 \t........ \t........ \t........ \t........ \t........ \t33.41683 \t9.886789 \t32.07099 \t........ \t........ \t8.362674 \t........ \t........ \t-0.5909693 \t30.50101 \t........ \t........ \t31.23876 \t11.40253 \t........ \t5.459615 \t16.87926 \t........ \t"
     ]
    }
   ],
   "source": [
    "# Print the points in d OUTSIDE of the (Q1, Q3) interval:\n",
    "\n",
    "for(i in 1:length(d)){\n",
    "    if(d[i] > Q1 & d[i] < Q3){\n",
    "        cat(\"........\", \"\\t\")\n",
    "    } else{\n",
    "        cat(d[i], \"\\t\")\n",
    "    }\n",
    "}"
   ]
  },
  {
   "cell_type": "markdown",
   "metadata": {},
   "source": [
    "The code that I wrote does not have to look exactly like your code. For instance, I wrote: `i in 1:length(d)` where you could have written `i in 1:100` or `i in 1:n` for some variable `n` that you defined above. Neither way is better or worse, just different.\n",
    "\n",
    "### 2. Function Exercises\n",
    "Here we will make some functions. \n",
    "\n",
    "#### 2.1 Z-Scores\n",
    "In the first example we will make a simple z-score function. \n",
    "\n",
    "The z-score is defined as: $$z = \\frac{x - \\bar{x}}{s_x}\\\\[2ex]$$ where $x$ is any of the data points, $\\bar{x}$ is the mean of the whole data set, and $s_x$ is the standard deviation of the set. In the following you will calculate this then wrap it up as a function."
   ]
  },
  {
   "cell_type": "code",
   "execution_count": 7,
   "metadata": {},
   "outputs": [],
   "source": [
    "# For the x provided, (1) write a formula to compute z from x, and \n",
    "#                     (2) print (or cat) z\n",
    "\n",
    "x <- c(5, 8, 7, 9)\n",
    "\n"
   ]
  },
  {
   "cell_type": "code",
   "execution_count": 8,
   "metadata": {},
   "outputs": [
    {
     "name": "stdout",
     "output_type": "stream",
     "text": [
      "-1.317465 0.439155 -0.146385 1.024695"
     ]
    }
   ],
   "source": [
    "z = (x - mean(x))/sd(x)\n",
    "cat(z)"
   ]
  },
  {
   "cell_type": "markdown",
   "metadata": {},
   "source": [
    "To make a function you need to wrap your calculations inside of the following:\n",
    "\n",
    "```r \n",
    "function_name <- function(INPUT){\n",
    "    calculations                                 \n",
    "    return(OUTPUT)\n",
    "}\n",
    "```\n",
    "where the `calculations` set the value of the `OUTPUT`. In the above cell you actually did all of the calculations for `z`. So to make it a function, you just have to add the formula you wrote above to the middle of the function definition."
   ]
  },
  {
   "cell_type": "code",
   "execution_count": null,
   "metadata": {},
   "outputs": [],
   "source": [
    "# (1) Copy the function definition from the text cell above (or retype it)\n",
    "# (2) Change the function_name to z\n",
    "# (3) Change the INPUT to x\n",
    "# (4) Place your z formula where the calculations go\n",
    "# (5) Change OUTPUT to z \n",
    "\n"
   ]
  },
  {
   "cell_type": "code",
   "execution_count": 9,
   "metadata": {},
   "outputs": [],
   "source": [
    "z <- function(x){\n",
    "    z = (x - mean(x))/sd(x)\n",
    "    return(z)\n",
    "}"
   ]
  },
  {
   "cell_type": "markdown",
   "metadata": {},
   "source": [
    "The next few cells will test your `z` function."
   ]
  },
  {
   "cell_type": "code",
   "execution_count": 10,
   "metadata": {},
   "outputs": [
    {
     "data": {
      "text/html": [
       "<ol class=list-inline>\n",
       "\t<li>-1.31746509848052</li>\n",
       "\t<li>0.43915503282684</li>\n",
       "\t<li>-0.14638501094228</li>\n",
       "\t<li>1.02469507659596</li>\n",
       "</ol>\n"
      ],
      "text/latex": [
       "\\begin{enumerate*}\n",
       "\\item -1.31746509848052\n",
       "\\item 0.43915503282684\n",
       "\\item -0.14638501094228\n",
       "\\item 1.02469507659596\n",
       "\\end{enumerate*}\n"
      ],
      "text/markdown": [
       "1. -1.31746509848052\n",
       "2. 0.43915503282684\n",
       "3. -0.14638501094228\n",
       "4. 1.02469507659596\n",
       "\n",
       "\n"
      ],
      "text/plain": [
       "[1] -1.317465  0.439155 -0.146385  1.024695"
      ]
     },
     "metadata": {},
     "output_type": "display_data"
    }
   ],
   "source": [
    "# The results here should be the same as above\n",
    "\n",
    "z(x)  "
   ]
  },
  {
   "cell_type": "code",
   "execution_count": 23,
   "metadata": {},
   "outputs": [
    {
     "data": {
      "text/html": [
       "<ol class=list-inline>\n",
       "\t<li>-1</li>\n",
       "\t<li>0</li>\n",
       "\t<li>1</li>\n",
       "</ol>\n"
      ],
      "text/latex": [
       "\\begin{enumerate*}\n",
       "\\item -1\n",
       "\\item 0\n",
       "\\item 1\n",
       "\\end{enumerate*}\n"
      ],
      "text/markdown": [
       "1. -1\n",
       "2. 0\n",
       "3. 1\n",
       "\n",
       "\n"
      ],
      "text/plain": [
       "[1] -1  0  1"
      ]
     },
     "metadata": {},
     "output_type": "display_data"
    }
   ],
   "source": [
    "# The following is an example of what math people call a \"fixed-point\" these particular\n",
    "# numbers are also their own z-scores. So if your function works, the output should be \n",
    "# the same as the input\n",
    "\n",
    "y <- c(-1, 0, 1)\n",
    "\n",
    "z(y)     "
   ]
  },
  {
   "cell_type": "code",
   "execution_count": 22,
   "metadata": {},
   "outputs": [
    {
     "data": {
      "text/html": [
       "0"
      ],
      "text/latex": [
       "0"
      ],
      "text/markdown": [
       "0"
      ],
      "text/plain": [
       "[1] 0"
      ]
     },
     "metadata": {},
     "output_type": "display_data"
    },
    {
     "data": {
      "text/html": [
       "1"
      ],
      "text/latex": [
       "1"
      ],
      "text/markdown": [
       "1"
      ],
      "text/plain": [
       "[1] 1"
      ]
     },
     "metadata": {},
     "output_type": "display_data"
    },
    {
     "data": {
      "text/html": [
       "1"
      ],
      "text/latex": [
       "1"
      ],
      "text/markdown": [
       "1"
      ],
      "text/plain": [
       "[1] 1"
      ]
     },
     "metadata": {},
     "output_type": "display_data"
    }
   ],
   "source": [
    "mean(y)\n",
    "var(y)\n",
    "sd(y)"
   ]
  },
  {
   "cell_type": "code",
   "execution_count": 11,
   "metadata": {},
   "outputs": [
    {
     "name": "stdout",
     "output_type": "stream",
     "text": [
      "96.30601,  85.83765,  115.8075,  75.51509,  107.1422,  116.839,  109.3991,  116.7874,  98.76782,  95.17485,  82.82325,  114.5331,  136.9556,  105.0516,  108.2704,  125.9209,  84.36107,  109.9005,  127.0408,  111.7153,  103.1983,  107.7864,  88.96781,  99.40869,  106.8326,  84.70936,  106.9914,  85.54433,  107.877,  114.8528,  107.8855,  96.36306,  91.26947,  86.19991,  116.3781,  94.88841,  118.7197,  114.47,  93.00482,  109.1394,  106.3361,  103.9606,  104.6113,  95.24153,  63.89622,  102.9177,  108.5338,  83.85312,  102.2513,  79.91065,  113.9889,  104.1734,  108.3264,  86.83575,  91.28749,  104.1914,  87.80647,  76.99942,  129.2678,  79.11895,  94.40533,  86.07761,  95.20602,  110.1874,  96.99638,  103.4492,  77.60198,  101.0685,  114.6171,  126.0801,  89.86719,  101.7774,  92.36072,  94.18034,  85.77382,  99.05039,  101.7004,  96.88752,  116.9454,  128.2755,  83.10148,  93.11326,  76.77855,  92.03128,  85.52991,  94.19641,  88.67239,  109.6174,  97.64087,  123.9211,  102.6756,  100.7209,  104.9522,  110.7217,  101.4164,  96.20449,  110.6539,  101.5968,  93.19649,  106.8544"
     ]
    }
   ],
   "source": [
    "# Here we make 100 random normal numbers. They are drawn from a distribution with mean\n",
    "# of 100 and standard deviation of 15.\n",
    "\n",
    "random_data <- rnorm(100, mean = 100, sd = 15)\n",
    "cat(random_data, sep=\",  \")"
   ]
  },
  {
   "cell_type": "markdown",
   "metadata": {},
   "source": [
    "For any normally distributed data, $N(\\mu, \\sigma)$ if you apply the $z$ transformation to it, the data should become $N(0,1)$, that is, normally distributed with a mean or center of 0 and a standard deviation of 1. We can test the random data above:"
   ]
  },
  {
   "cell_type": "code",
   "execution_count": 12,
   "metadata": {},
   "outputs": [
    {
     "data": {
      "text/html": [
       "4.53333117572674e-16"
      ],
      "text/latex": [
       "4.53333117572674e-16"
      ],
      "text/markdown": [
       "4.53333117572674e-16"
      ],
      "text/plain": [
       "[1] 4.533331e-16"
      ]
     },
     "metadata": {},
     "output_type": "display_data"
    },
    {
     "data": {
      "text/html": [
       "1"
      ],
      "text/latex": [
       "1"
      ],
      "text/markdown": [
       "1"
      ],
      "text/plain": [
       "[1] 1"
      ]
     },
     "metadata": {},
     "output_type": "display_data"
    }
   ],
   "source": [
    "random_z <- z(random_data)\n",
    "\n",
    "mean(random_z)   # This should be very close to 0; very small ~ 1 x 10^-12 (1e-12) or less\n",
    "sd(random_z)     # This should be very close to 1"
   ]
  },
  {
   "cell_type": "markdown",
   "metadata": {},
   "source": [
    "When writing functions\n",
    "\n",
    "+ It is often easiest to simply do the calculation (like for the `z`) then when you get it to work transfer it into the function form.\n",
    "+ If you do a calculation on a vector (like `x` above) then the function will work on other vectors naturally. \n",
    "+ Functions written in R by the developers tend to have a lot of extra parts: to check that inputs are correct, to look for problems, and generally to protect users from errors. Your functions will usually not have these features. If you start developing stuff for other people to use, you may want to learn how to do this sort of thing."
   ]
  },
  {
   "cell_type": "code",
   "execution_count": null,
   "metadata": {},
   "outputs": [],
   "source": []
  },
  {
   "cell_type": "markdown",
   "metadata": {},
   "source": [
    "Functions are all about **abstraction**, that is, taking a process and making it more general than any specific example. Now that you have abstracted "
   ]
  },
  {
   "cell_type": "code",
   "execution_count": null,
   "metadata": {},
   "outputs": [],
   "source": []
  },
  {
   "cell_type": "code",
   "execution_count": null,
   "metadata": {},
   "outputs": [],
   "source": []
  },
  {
   "cell_type": "code",
   "execution_count": null,
   "metadata": {},
   "outputs": [],
   "source": []
  },
  {
   "cell_type": "code",
   "execution_count": null,
   "metadata": {},
   "outputs": [],
   "source": []
  },
  {
   "cell_type": "code",
   "execution_count": null,
   "metadata": {},
   "outputs": [],
   "source": [
    "# Here is some very simple data\n",
    "x <- c(1,2,3,4,5,6)\n",
    "y <- c(2.1, 2.9, 4.5, 5.9, 6.7, 7.1)"
   ]
  },
  {
   "cell_type": "code",
   "execution_count": null,
   "metadata": {},
   "outputs": [],
   "source": [
    "# Plot the data above\n",
    "\n"
   ]
  },
  {
   "cell_type": "code",
   "execution_count": null,
   "metadata": {},
   "outputs": [],
   "source": [
    "# Fit a regression model for y on x (y ~ x) and call the model \"m1\" \n",
    "# (that is a one following the m, not an \"el\")\n",
    "#\n",
    "# Hint: This is the simplest case of using lm, see ?lm for help\n",
    "# Hint: Some of this was covered in the demo notebook\n",
    "\n"
   ]
  },
  {
   "cell_type": "code",
   "execution_count": null,
   "metadata": {},
   "outputs": [],
   "source": [
    "m1 <- lm(y~x)"
   ]
  },
  {
   "cell_type": "code",
   "execution_count": null,
   "metadata": {},
   "outputs": [],
   "source": [
    "# We can get the coefficients from m1 with the following code:\n",
    "\n",
    "intercept <- coef(m1)[1]\n",
    "slope     <- coef(m1)[2]"
   ]
  },
  {
   "cell_type": "code",
   "execution_count": null,
   "metadata": {},
   "outputs": [],
   "source": [
    "\n",
    "\n"
   ]
  },
  {
   "cell_type": "code",
   "execution_count": null,
   "metadata": {},
   "outputs": [],
   "source": []
  },
  {
   "cell_type": "code",
   "execution_count": null,
   "metadata": {},
   "outputs": [],
   "source": []
  },
  {
   "cell_type": "code",
   "execution_count": null,
   "metadata": {},
   "outputs": [],
   "source": []
  },
  {
   "cell_type": "code",
   "execution_count": null,
   "metadata": {},
   "outputs": [],
   "source": []
  },
  {
   "cell_type": "code",
   "execution_count": null,
   "metadata": {},
   "outputs": [],
   "source": []
  },
  {
   "cell_type": "code",
   "execution_count": null,
   "metadata": {},
   "outputs": [],
   "source": [
    "plot(x,y)"
   ]
  },
  {
   "cell_type": "code",
   "execution_count": null,
   "metadata": {},
   "outputs": [],
   "source": []
  },
  {
   "cell_type": "code",
   "execution_count": null,
   "metadata": {},
   "outputs": [],
   "source": []
  },
  {
   "cell_type": "code",
   "execution_count": null,
   "metadata": {},
   "outputs": [],
   "source": []
  },
  {
   "cell_type": "code",
   "execution_count": null,
   "metadata": {},
   "outputs": [],
   "source": [
    "# Using Q1 and Q3 test if the first element of d is in between these values\n",
    "\n",
    "# Hint: \n",
    "\n"
   ]
  },
  {
   "cell_type": "code",
   "execution_count": null,
   "metadata": {},
   "outputs": [],
   "source": [
    "d[1] < Q3\n",
    "d[1] > Q1"
   ]
  },
  {
   "cell_type": "code",
   "execution_count": null,
   "metadata": {},
   "outputs": [],
   "source": []
  },
  {
   "cell_type": "code",
   "execution_count": null,
   "metadata": {},
   "outputs": [],
   "source": [
    "mean(d)\n",
    "median(d)\n",
    "quantile(d, c(0.25, 0.75))"
   ]
  },
  {
   "cell_type": "code",
   "execution_count": null,
   "metadata": {},
   "outputs": [],
   "source": []
  },
  {
   "cell_type": "code",
   "execution_count": null,
   "metadata": {},
   "outputs": [],
   "source": [
    "for(i in 1:100){\n",
    "    cat(i, )\n",
    "}"
   ]
  },
  {
   "cell_type": "code",
   "execution_count": null,
   "metadata": {},
   "outputs": [],
   "source": []
  },
  {
   "cell_type": "code",
   "execution_count": null,
   "metadata": {},
   "outputs": [],
   "source": [
    "cat(paste(letters, 100* 1:26), fill = TRUE, labels = paste0(\"{\", 1:10, \"}:\"))"
   ]
  },
  {
   "cell_type": "code",
   "execution_count": null,
   "metadata": {},
   "outputs": [],
   "source": [
    "library(MASS)\n",
    "c()"
   ]
  },
  {
   "cell_type": "code",
   "execution_count": null,
   "metadata": {},
   "outputs": [],
   "source": [
    "d <- rnorm(100, mean = 25, sd = 9)"
   ]
  },
  {
   "cell_type": "code",
   "execution_count": null,
   "metadata": {},
   "outputs": [],
   "source": [
    "# mean = 25 / sd = 9\n",
    "\n",
    "d <- c(39.89503,26.84281,24.25861,28.87009,21.98997,21.62833,3.836511,33.59383,\n",
    "       29.82358,10.65092,33.86132,37.29709,1.178438,9.14365,24.33669,18.59312,\n",
    "       3.755524,35.13025,12.3738,22.3297,17.46969,26.15035,24.44927,33.22489,\n",
    "       30.54006,17.60494,11.47602,50.5574,22.49891,17.17721,34.62822,21.65989,\n",
    "       25.29415,22.08202,31.12628,28.16447,26.65634,26.81129,38.41278,21.12782,\n",
    "       10.29205,25.77778,1.574856,14.65169,30.01658,32.61243,22.40103,41.40533,\n",
    "       6.766324,34.11612,23.20139,25.23146,22.6141,16.48503,23.39496,27.68777,\n",
    "       20.16894,19.71992,22.51938,18.84068,47.7751,33.34769,40.17129,25.83041,\n",
    "       25.5106,29.01418,4.318843,21.87696,31.89288,17.99988,26.79175,9.075963,\n",
    "       17.81769,29.30444,40.219,39.85456,16.40074,24.58396,26.97367,20.57295,\n",
    "       29.30642,20.47403,33.41683,9.886789,32.07099,27.86358,23.91271,8.362674,\n",
    "       20.9204,27.89309,-0.5909693,30.50101,25.05787,25.68484,31.23876,11.40253,\n",
    "       18.55688,5.459615,16.87926,27.25582)"
   ]
  },
  {
   "cell_type": "code",
   "execution_count": null,
   "metadata": {},
   "outputs": [],
   "source": [
    "\n",
    "hist(d, col = \"lavender\")"
   ]
  },
  {
   "cell_type": "code",
   "execution_count": null,
   "metadata": {},
   "outputs": [],
   "source": [
    "dfit <- fitdistr(d, densfun = \"normal\")\n",
    "dfit"
   ]
  },
  {
   "cell_type": "code",
   "execution_count": null,
   "metadata": {},
   "outputs": [],
   "source": [
    "mean(d)\n",
    "sd(d)"
   ]
  },
  {
   "cell_type": "code",
   "execution_count": null,
   "metadata": {},
   "outputs": [],
   "source": [
    "str(dfit)"
   ]
  },
  {
   "cell_type": "code",
   "execution_count": null,
   "metadata": {},
   "outputs": [],
   "source": [
    "cat(rep(d), sep =',')"
   ]
  },
  {
   "cell_type": "code",
   "execution_count": null,
   "metadata": {},
   "outputs": [],
   "source": []
  },
  {
   "cell_type": "markdown",
   "metadata": {},
   "source": [
    "## Integer Math\n",
    "Sometimes doing math with integers (whole numbers) and remainders is better than doing it with decimal points. For instance, we can use this to tell if numbers are even or odd. The definition of an even number is one that has zero remainder when divided by 2.\n",
    "\n",
    "`%%` gives the remainder after division\n",
    "`%/%` does the division, and gives only the whole number part\n",
    "\n",
    "So for $a < b$ we can write: $b = n \\cdot a + r$ where `b %/% a` gives $n$, and `b %% a` gives $r$.\n",
    "\n",
    "It turns out that remainders tell us what we need to know to see if a number is even. The definition of an even number is one that has zero remainder when divided by 2."
   ]
  },
  {
   "cell_type": "code",
   "execution_count": null,
   "metadata": {},
   "outputs": [],
   "source": [
    "# How do you tell if a number is even?\n",
    "\n",
    "  5 %% 2\n",
    "-35 %% 2\n",
    " 19 %% 2\n",
    "-20 %% 2\n",
    "  2 %% 2\n",
    "  6 %% 2\n",
    "  0 %% 2"
   ]
  },
  {
   "cell_type": "code",
   "execution_count": null,
   "metadata": {},
   "outputs": [],
   "source": [
    "for(i in 1:20){\n",
    "    cat(i, i*i, \"\\n\", sep=\"\\t\")\n",
    "}"
   ]
  },
  {
   "cell_type": "code",
   "execution_count": null,
   "metadata": {},
   "outputs": [],
   "source": [
    "# Using an IF-ELSE (or just an IF) statement, make the above loop only\n",
    "# cat the squares of EVEN numbers\n",
    "\n"
   ]
  },
  {
   "cell_type": "code",
   "execution_count": null,
   "metadata": {},
   "outputs": [],
   "source": [
    "for(i in 1:20){\n",
    "    if(i %% 2 == 0){\n",
    "        cat(i, i*i, \"\\n\", sep=\"\\t\")\n",
    "    }\n",
    "}"
   ]
  },
  {
   "cell_type": "code",
   "execution_count": null,
   "metadata": {},
   "outputs": [],
   "source": [
    "??even"
   ]
  },
  {
   "cell_type": "code",
   "execution_count": null,
   "metadata": {},
   "outputs": [],
   "source": []
  },
  {
   "cell_type": "code",
   "execution_count": null,
   "metadata": {},
   "outputs": [],
   "source": []
  },
  {
   "cell_type": "markdown",
   "metadata": {},
   "source": [
    "***\n",
    "Version 1.0  \n",
    "2018.07.11\n",
    "\n",
    "To contact the author, email [mturner46@gsu.edu](mailto:mturner46@gsu.edu). Please contact me with recommendations for improvement or if you find any errors. This work may be adapted for any non-commercial purpose within the bounds of the license.\n",
    "\n",
    "<a rel=\"license\" href=\"http://creativecommons.org/licenses/by-nc-sa/4.0/\"><img alt=\"Creative Commons License\" style=\"border-width:0\" src=\"https://i.creativecommons.org/l/by-nc-sa/4.0/88x31.png\" /></a><br />This work is licensed under a <a rel=\"license\" href=\"http://creativecommons.org/licenses/by-nc-sa/4.0/\">Creative Commons Attribution-NonCommercial-ShareAlike 4.0 International License</a>."
   ]
  },
  {
   "cell_type": "code",
   "execution_count": null,
   "metadata": {},
   "outputs": [],
   "source": []
  }
 ],
 "metadata": {
  "kernelspec": {
   "display_name": "R",
   "language": "R",
   "name": "ir"
  },
  "language_info": {
   "codemirror_mode": "r",
   "file_extension": ".r",
   "mimetype": "text/x-r-source",
   "name": "R",
   "pygments_lexer": "r",
   "version": "3.3.1"
  }
 },
 "nbformat": 4,
 "nbformat_minor": 2
}
