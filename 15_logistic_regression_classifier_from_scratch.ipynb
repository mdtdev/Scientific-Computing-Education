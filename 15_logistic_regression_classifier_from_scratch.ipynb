{
 "cells": [
  {
   "cell_type": "markdown",
   "metadata": {},
   "source": [
    "# Logistic Regression Calssifier Example\n",
    "\n",
    "## The Logistic Function\n",
    "The logistic function is given by: $$T(x) = \\frac{1}{1 + e^{-x}}\\\\[2ex]$$ which we can use to map input values between $(-\\infty, +\\infty)$ into the output values $(0, 1)$. This will let us map from a linear model (which has all the real numbers as a domain) into probability values which must remain in between $[0, 1]$. (If you know about this, there is a slight mismatch; the logistic cannot really get the endpoints $0$ and $1$. But we can ignore this.)\n",
    "\n",
    "This is easily implemented as an R function:"
   ]
  },
  {
   "cell_type": "code",
   "execution_count": 1,
   "metadata": {},
   "outputs": [],
   "source": [
    "# The Logistic Transformation\n",
    "\n",
    "T <- function(x){\n",
    "    return(1/(1 + exp(-x)))\n",
    "}"
   ]
  },
  {
   "cell_type": "code",
   "execution_count": 2,
   "metadata": {},
   "outputs": [
    {
     "name": "stdout",
     "output_type": "stream",
     "text": [
      "x\tT(x)\t\n",
      "-50\t1.92875e-22\t\n",
      "-10\t4.539787e-05\t\n",
      "-1\t0.2689414\t\n",
      "0.5\t0.6224593\t\n",
      "0\t0.5\t\n",
      "0.5\t0.6224593\t\n",
      "1\t0.7310586\t\n",
      "10\t0.9999546\t\n",
      "50\t1\t\n"
     ]
    },
    {
     "data": {
      "image/png": "[encoded data removed]",
      "text/plain": [
       "plot without title"
      ]
     },
     "metadata": {},
     "output_type": "display_data"
    }
   ],
   "source": [
    "# Check T\n",
    "\n",
    "cat(\"x\", \"T(x)\", \"\\n\", sep = \"\\t\")\n",
    "for(x in c(-50, -10, -1, 0.5, 0, 0.5, 1, 10, 50)){\n",
    "    cat(x, T(x), \"\\n\", sep=\"\\t\")\n",
    "}\n",
    "\n",
    "options(repr.plot.width = 6, repr.plot.height = 4) \n",
    "x <- seq(-5, 5, by = 0.5)\n",
    "plot(x, T(x), type = \"l\")"
   ]
  },
  {
   "cell_type": "markdown",
   "metadata": {},
   "source": [
    "## Functions to Implement the Model\n",
    "Now we need two functions: one to fit the model given the values of the parameters and another to update the values of the parameters based on **gradient descent**. We will not go into the details of gradient descent here, but it is a standard method to iteratively approximate parameters in models."
   ]
  },
  {
   "cell_type": "code",
   "execution_count": 3,
   "metadata": {},
   "outputs": [],
   "source": [
    "# Update Rule\n",
    "\n",
    "update_params_componentwise <- function(b_old, y, x, p, alpha=0.3){\n",
    "    return(b_old + alpha*(y - p)*p*(1 - p)*x)\n",
    "}\n",
    "\n",
    "update_params <- function(b0, b1, b2, p, X, Y){\n",
    "    dims <- dim(X)\n",
    "    rows <- dims[1]\n",
    "    for(i in 1:rows){\n",
    "        b0 <- update_params_componentwise(b0, Y[i], 1, p[i])\n",
    "        b1 <- update_params_componentwise(b1, Y[i], X[i,1], p[i])\n",
    "        b2 <- update_params_componentwise(b2, Y[i], X[i,2], p[i])\n",
    "    }\n",
    "    return(c(b0, b1, b2))\n",
    "}\n",
    "\n",
    "# Fit Rule (for individual components)\n",
    "\n",
    "fit_logistic_componentwise <- function(b0, b1, b2, x1, x2){\n",
    "    lin_fit <- b0 + b1*x1 + b2*x2\n",
    "    return(T(lin_fit))\n",
    "}\n",
    "\n",
    "fit_logistic <- function(b0, b1, b2, X){\n",
    "    dims <- dim(X)\n",
    "    rows <- dims[1]\n",
    "    p <- matrix(0, nrow = 10, ncol = 1)\n",
    "    for(i in 1:rows){\n",
    "        x1 <- X[i, 1]\n",
    "        x2 <- X[i, 2]\n",
    "        p[i] <- fit_logistic_componentwise(b0, b1, b2, x1, x2)\n",
    "    }\n",
    "    return(p)\n",
    "}"
   ]
  },
  {
   "cell_type": "markdown",
   "metadata": {},
   "source": [
    "This is a test case that is TERRIBLE data."
   ]
  },
  {
   "cell_type": "code",
   "execution_count": 4,
   "metadata": {},
   "outputs": [
    {
     "data": {
      "text/html": [
       "<table>\n",
       "<tbody>\n",
       "\t<tr><td> 0.03437701</td><td>25.72856   </td></tr>\n",
       "\t<tr><td> 1.48401533</td><td>24.75241   </td></tr>\n",
       "\t<tr><td> 3.72138163</td><td>22.98528   </td></tr>\n",
       "\t<tr><td> 4.51758485</td><td>22.45617   </td></tr>\n",
       "\t<tr><td> 5.56261983</td><td>20.11687   </td></tr>\n",
       "\t<tr><td> 6.47946624</td><td>18.88082   </td></tr>\n",
       "\t<tr><td>11.12262510</td><td>18.56754   </td></tr>\n",
       "\t<tr><td>11.69726270</td><td>13.76606   </td></tr>\n",
       "\t<tr><td>11.96343130</td><td>12.19910   </td></tr>\n",
       "\t<tr><td>14.20424390</td><td>11.97358   </td></tr>\n",
       "</tbody>\n",
       "</table>\n"
      ],
      "text/latex": [
       "\\begin{tabular}{ll}\n",
       "\t  0.03437701 & 25.72856   \\\\\n",
       "\t  1.48401533 & 24.75241   \\\\\n",
       "\t  3.72138163 & 22.98528   \\\\\n",
       "\t  4.51758485 & 22.45617   \\\\\n",
       "\t  5.56261983 & 20.11687   \\\\\n",
       "\t  6.47946624 & 18.88082   \\\\\n",
       "\t 11.12262510 & 18.56754   \\\\\n",
       "\t 11.69726270 & 13.76606   \\\\\n",
       "\t 11.96343130 & 12.19910   \\\\\n",
       "\t 14.20424390 & 11.97358   \\\\\n",
       "\\end{tabular}\n"
      ],
      "text/markdown": [
       "1. 0.03437701\n",
       "2. 1.48401533\n",
       "3. 3.72138163\n",
       "4. 4.51758485\n",
       "5. 5.56261983\n",
       "6. 6.47946624\n",
       "7. 11.1226251\n",
       "8. 11.6972627\n",
       "9. 11.9634313\n",
       "10. 14.2042439\n",
       "11. 25.72856\n",
       "12. 24.75241\n",
       "13. 22.98528\n",
       "14. 22.45617\n",
       "15. 20.11687\n",
       "16. 18.88082\n",
       "17. 18.56754\n",
       "18. 13.76606\n",
       "19. 12.1991\n",
       "20. 11.97358\n",
       "\n",
       "\n"
      ],
      "text/plain": [
       "      [,1]        [,2]    \n",
       " [1,]  0.03437701 25.72856\n",
       " [2,]  1.48401533 24.75241\n",
       " [3,]  3.72138163 22.98528\n",
       " [4,]  4.51758485 22.45617\n",
       " [5,]  5.56261983 20.11687\n",
       " [6,]  6.47946624 18.88082\n",
       " [7,] 11.12262510 18.56754\n",
       " [8,] 11.69726270 13.76606\n",
       " [9,] 11.96343130 12.19910\n",
       "[10,] 14.20424390 11.97358"
      ]
     },
     "metadata": {},
     "output_type": "display_data"
    },
    {
     "data": {
      "text/html": [
       "<table>\n",
       "<tbody>\n",
       "\t<tr><td>1</td></tr>\n",
       "\t<tr><td>1</td></tr>\n",
       "\t<tr><td>1</td></tr>\n",
       "\t<tr><td>1</td></tr>\n",
       "\t<tr><td>1</td></tr>\n",
       "\t<tr><td>0</td></tr>\n",
       "\t<tr><td>0</td></tr>\n",
       "\t<tr><td>0</td></tr>\n",
       "\t<tr><td>0</td></tr>\n",
       "\t<tr><td>0</td></tr>\n",
       "</tbody>\n",
       "</table>\n"
      ],
      "text/latex": [
       "\\begin{tabular}{l}\n",
       "\t 1\\\\\n",
       "\t 1\\\\\n",
       "\t 1\\\\\n",
       "\t 1\\\\\n",
       "\t 1\\\\\n",
       "\t 0\\\\\n",
       "\t 0\\\\\n",
       "\t 0\\\\\n",
       "\t 0\\\\\n",
       "\t 0\\\\\n",
       "\\end{tabular}\n"
      ],
      "text/markdown": [
       "1. 1\n",
       "2. 1\n",
       "3. 1\n",
       "4. 1\n",
       "5. 1\n",
       "6. 0\n",
       "7. 0\n",
       "8. 0\n",
       "9. 0\n",
       "10. 0\n",
       "\n",
       "\n"
      ],
      "text/plain": [
       "      [,1]\n",
       " [1,] 1   \n",
       " [2,] 1   \n",
       " [3,] 1   \n",
       " [4,] 1   \n",
       " [5,] 1   \n",
       " [6,] 0   \n",
       " [7,] 0   \n",
       " [8,] 0   \n",
       " [9,] 0   \n",
       "[10,] 0   "
      ]
     },
     "metadata": {},
     "output_type": "display_data"
    }
   ],
   "source": [
    "# Some Fake Data\n",
    "\n",
    "d <- c(0.03437701, 25.72856, 1.48401533, 24.75241, 3.72138163, 22.98528, 4.51758485, 22.45617, \n",
    "       5.56261983, 20.11687, 6.47946624, 18.88082, 11.1226251, 18.56754, 11.6972627, 13.76606, \n",
    "       11.9634313, 12.19910, 14.2042439, 11.97358)\n",
    "X <- matrix(d, nrow = 10, byrow = TRUE)\n",
    "X\n",
    "\n",
    "Y <- matrix(c(rep(1, 5), rep(0, 5)), nrow=10)\n",
    "Y"
   ]
  },
  {
   "cell_type": "code",
   "execution_count": 5,
   "metadata": {},
   "outputs": [
    {
     "data": {
      "text/html": [
       "<table>\n",
       "<tbody>\n",
       "\t<tr><td>0.9999985</td></tr>\n",
       "\t<tr><td>0.9999988</td></tr>\n",
       "\t<tr><td>0.9999990</td></tr>\n",
       "\t<tr><td>0.9999992</td></tr>\n",
       "\t<tr><td>0.9999984</td></tr>\n",
       "\t<tr><td>0.9999981</td></tr>\n",
       "\t<tr><td>0.9999998</td></tr>\n",
       "\t<tr><td>0.9999982</td></tr>\n",
       "\t<tr><td>0.9999966</td></tr>\n",
       "\t<tr><td>0.9999987</td></tr>\n",
       "</tbody>\n",
       "</table>\n"
      ],
      "text/latex": [
       "\\begin{tabular}{l}\n",
       "\t 0.9999985\\\\\n",
       "\t 0.9999988\\\\\n",
       "\t 0.9999990\\\\\n",
       "\t 0.9999992\\\\\n",
       "\t 0.9999984\\\\\n",
       "\t 0.9999981\\\\\n",
       "\t 0.9999998\\\\\n",
       "\t 0.9999982\\\\\n",
       "\t 0.9999966\\\\\n",
       "\t 0.9999987\\\\\n",
       "\\end{tabular}\n"
      ],
      "text/markdown": [
       "1. 0.999998456518608\n",
       "2. 0.999998781894632\n",
       "3. 0.99999903711493\n",
       "4. 0.999999157488283\n",
       "5. 0.999998390756756\n",
       "6. 0.999998112287931\n",
       "7. 0.999999783371681\n",
       "8. 0.999998207076702\n",
       "9. 0.999996564228596\n",
       "10. 0.999998745675283\n",
       "\n",
       "\n"
      ],
      "text/plain": [
       "      [,1]     \n",
       " [1,] 0.9999985\n",
       " [2,] 0.9999988\n",
       " [3,] 0.9999990\n",
       " [4,] 0.9999992\n",
       " [5,] 0.9999984\n",
       " [6,] 0.9999981\n",
       " [7,] 0.9999998\n",
       " [8,] 0.9999982\n",
       " [9,] 0.9999966\n",
       "[10,] 0.9999987"
      ]
     },
     "metadata": {},
     "output_type": "display_data"
    }
   ],
   "source": [
    "fit_logistic(0.5, 0.5, 0.5, X)"
   ]
  },
  {
   "cell_type": "markdown",
   "metadata": {},
   "source": [
    "## Fit the Model to the Data\n",
    "This is the actual model fitting..."
   ]
  },
  {
   "cell_type": "code",
   "execution_count": 6,
   "metadata": {},
   "outputs": [
    {
     "name": "stdout",
     "output_type": "stream",
     "text": [
      "0.5987919, 0.4876176, 0.381855, \n"
     ]
    },
    {
     "data": {
      "text/html": [
       "<table>\n",
       "<tbody>\n",
       "\t<tr><td>0.9999708</td></tr>\n",
       "\t<tr><td>0.9999791</td></tr>\n",
       "\t<tr><td>0.9999862</td></tr>\n",
       "\t<tr><td>0.9999885</td></tr>\n",
       "\t<tr><td>0.9999832</td></tr>\n",
       "\t<tr><td>0.9999828</td></tr>\n",
       "\t<tr><td>0.9999980</td></tr>\n",
       "\t<tr><td>0.9999905</td></tr>\n",
       "\t<tr><td>0.9999847</td></tr>\n",
       "\t<tr><td>0.9999944</td></tr>\n",
       "</tbody>\n",
       "</table>\n"
      ],
      "text/latex": [
       "\\begin{tabular}{l}\n",
       "\t 0.9999708\\\\\n",
       "\t 0.9999791\\\\\n",
       "\t 0.9999862\\\\\n",
       "\t 0.9999885\\\\\n",
       "\t 0.9999832\\\\\n",
       "\t 0.9999828\\\\\n",
       "\t 0.9999980\\\\\n",
       "\t 0.9999905\\\\\n",
       "\t 0.9999847\\\\\n",
       "\t 0.9999944\\\\\n",
       "\\end{tabular}\n"
      ],
      "text/markdown": [
       "1. 0.999970765579549\n",
       "2. 0.99997906894889\n",
       "3. 0.999986194746452\n",
       "4. 0.999988540120659\n",
       "5. 0.999983180434036\n",
       "6. 0.999982756006165\n",
       "7. 0.999997980154965\n",
       "8. 0.999990452502114\n",
       "9. 0.999984746080771\n",
       "10. 0.999994424943332\n",
       "\n",
       "\n"
      ],
      "text/plain": [
       "      [,1]     \n",
       " [1,] 0.9999708\n",
       " [2,] 0.9999791\n",
       " [3,] 0.9999862\n",
       " [4,] 0.9999885\n",
       " [5,] 0.9999832\n",
       " [6,] 0.9999828\n",
       " [7,] 0.9999980\n",
       " [8,] 0.9999905\n",
       " [9,] 0.9999847\n",
       "[10,] 0.9999944"
      ]
     },
     "metadata": {},
     "output_type": "display_data"
    }
   ],
   "source": [
    "# Initialize Coefficients\n",
    "\n",
    "b0 = 0.6\n",
    "b1 = 0.5\n",
    "b2 = 0.4\n",
    "\n",
    "# Do 100 epochs of adjustment...\n",
    "\n",
    "for(t in 1:100){\n",
    "    p = fit_logistic(b0, b1, b2, X)\n",
    "    b = update_params(b0, b1, b2, p, X, Y)\n",
    "    b0 = b[1]\n",
    "    b1 = b[2]\n",
    "    b2 = b[3]\n",
    "}\n",
    "\n",
    "# Print final coefficients and estimates of the p for each point\n",
    "\n",
    "cat(b0, b1, b2, \"\\n\", sep=\", \")\n",
    "fit_logistic(b[1], b[2], b[3], X)  # predictons"
   ]
  },
  {
   "cell_type": "code",
   "execution_count": 7,
   "metadata": {},
   "outputs": [
    {
     "data": {
      "text/html": [
       "<table>\n",
       "<tbody>\n",
       "\t<tr><td>0.9999708</td></tr>\n",
       "\t<tr><td>0.9999791</td></tr>\n",
       "\t<tr><td>0.9999862</td></tr>\n",
       "\t<tr><td>0.9999885</td></tr>\n",
       "\t<tr><td>0.9999832</td></tr>\n",
       "\t<tr><td>0.9999828</td></tr>\n",
       "\t<tr><td>0.9999980</td></tr>\n",
       "\t<tr><td>0.9999905</td></tr>\n",
       "\t<tr><td>0.9999847</td></tr>\n",
       "\t<tr><td>0.9999944</td></tr>\n",
       "</tbody>\n",
       "</table>\n"
      ],
      "text/latex": [
       "\\begin{tabular}{l}\n",
       "\t 0.9999708\\\\\n",
       "\t 0.9999791\\\\\n",
       "\t 0.9999862\\\\\n",
       "\t 0.9999885\\\\\n",
       "\t 0.9999832\\\\\n",
       "\t 0.9999828\\\\\n",
       "\t 0.9999980\\\\\n",
       "\t 0.9999905\\\\\n",
       "\t 0.9999847\\\\\n",
       "\t 0.9999944\\\\\n",
       "\\end{tabular}\n"
      ],
      "text/markdown": [
       "1. 0.999970765579549\n",
       "2. 0.99997906894889\n",
       "3. 0.999986194746452\n",
       "4. 0.999988540120659\n",
       "5. 0.999983180434036\n",
       "6. 0.999982756006165\n",
       "7. 0.999997980154965\n",
       "8. 0.999990452502114\n",
       "9. 0.999984746080771\n",
       "10. 0.999994424943332\n",
       "\n",
       "\n"
      ],
      "text/plain": [
       "      [,1]     \n",
       " [1,] 0.9999708\n",
       " [2,] 0.9999791\n",
       " [3,] 0.9999862\n",
       " [4,] 0.9999885\n",
       " [5,] 0.9999832\n",
       " [6,] 0.9999828\n",
       " [7,] 0.9999980\n",
       " [8,] 0.9999905\n",
       " [9,] 0.9999847\n",
       "[10,] 0.9999944"
      ]
     },
     "metadata": {},
     "output_type": "display_data"
    }
   ],
   "source": [
    "fit_logistic(b[1], b[2], b[3], X)  # predictons"
   ]
  },
  {
   "cell_type": "code",
   "execution_count": 8,
   "metadata": {},
   "outputs": [
    {
     "data": {
      "text/html": [
       "<table>\n",
       "<thead><tr><th scope=col>X1</th><th scope=col>X2</th><th scope=col>Y</th></tr></thead>\n",
       "<tbody>\n",
       "\t<tr><td>2.781084  </td><td> 2.5505370</td><td>0         </td></tr>\n",
       "\t<tr><td>1.465489  </td><td> 2.3621251</td><td>0         </td></tr>\n",
       "\t<tr><td>3.396562  </td><td> 4.4002935</td><td>0         </td></tr>\n",
       "\t<tr><td>1.388070  </td><td> 1.8502203</td><td>0         </td></tr>\n",
       "\t<tr><td>3.064072  </td><td> 3.0053060</td><td>0         </td></tr>\n",
       "\t<tr><td>7.627531  </td><td> 2.7592622</td><td>1         </td></tr>\n",
       "\t<tr><td>5.332441  </td><td> 2.0886268</td><td>1         </td></tr>\n",
       "\t<tr><td>6.922597  </td><td> 1.7710637</td><td>1         </td></tr>\n",
       "\t<tr><td>8.675419  </td><td>-0.2420686</td><td>1         </td></tr>\n",
       "\t<tr><td>7.673756  </td><td> 3.5085630</td><td>1         </td></tr>\n",
       "</tbody>\n",
       "</table>\n"
      ],
      "text/latex": [
       "\\begin{tabular}{r|lll}\n",
       " X1 & X2 & Y\\\\\n",
       "\\hline\n",
       "\t 2.781084   &  2.5505370 & 0         \\\\\n",
       "\t 1.465489   &  2.3621251 & 0         \\\\\n",
       "\t 3.396562   &  4.4002935 & 0         \\\\\n",
       "\t 1.388070   &  1.8502203 & 0         \\\\\n",
       "\t 3.064072   &  3.0053060 & 0         \\\\\n",
       "\t 7.627531   &  2.7592622 & 1         \\\\\n",
       "\t 5.332441   &  2.0886268 & 1         \\\\\n",
       "\t 6.922597   &  1.7710637 & 1         \\\\\n",
       "\t 8.675419   & -0.2420686 & 1         \\\\\n",
       "\t 7.673756   &  3.5085630 & 1         \\\\\n",
       "\\end{tabular}\n"
      ],
      "text/plain": [
       "   X1       X2         Y\n",
       "1  2.781084  2.5505370 0\n",
       "2  1.465489  2.3621251 0\n",
       "3  3.396562  4.4002935 0\n",
       "4  1.388070  1.8502203 0\n",
       "5  3.064072  3.0053060 0\n",
       "6  7.627531  2.7592622 1\n",
       "7  5.332441  2.0886268 1\n",
       "8  6.922597  1.7710637 1\n",
       "9  8.675419 -0.2420686 1\n",
       "10 7.673756  3.5085630 1"
      ]
     },
     "metadata": {},
     "output_type": "display_data"
    },
    {
     "data": {
      "text/html": [
       "<table>\n",
       "<thead><tr><th scope=col>X1</th><th scope=col>X2</th></tr></thead>\n",
       "<tbody>\n",
       "\t<tr><td>2.781084  </td><td> 2.5505370</td></tr>\n",
       "\t<tr><td>1.465489  </td><td> 2.3621251</td></tr>\n",
       "\t<tr><td>3.396562  </td><td> 4.4002935</td></tr>\n",
       "\t<tr><td>1.388070  </td><td> 1.8502203</td></tr>\n",
       "\t<tr><td>3.064072  </td><td> 3.0053060</td></tr>\n",
       "\t<tr><td>7.627531  </td><td> 2.7592622</td></tr>\n",
       "\t<tr><td>5.332441  </td><td> 2.0886268</td></tr>\n",
       "\t<tr><td>6.922597  </td><td> 1.7710637</td></tr>\n",
       "\t<tr><td>8.675419  </td><td>-0.2420686</td></tr>\n",
       "\t<tr><td>7.673756  </td><td> 3.5085630</td></tr>\n",
       "</tbody>\n",
       "</table>\n"
      ],
      "text/latex": [
       "\\begin{tabular}{ll}\n",
       " X1 & X2\\\\\n",
       "\\hline\n",
       "\t 2.781084   &  2.5505370\\\\\n",
       "\t 1.465489   &  2.3621251\\\\\n",
       "\t 3.396562   &  4.4002935\\\\\n",
       "\t 1.388070   &  1.8502203\\\\\n",
       "\t 3.064072   &  3.0053060\\\\\n",
       "\t 7.627531   &  2.7592622\\\\\n",
       "\t 5.332441   &  2.0886268\\\\\n",
       "\t 6.922597   &  1.7710637\\\\\n",
       "\t 8.675419   & -0.2420686\\\\\n",
       "\t 7.673756   &  3.5085630\\\\\n",
       "\\end{tabular}\n"
      ],
      "text/markdown": [
       "1. 2.7810836\n",
       "2. 1.46548937\n",
       "3. 3.396561688\n",
       "4. 1.3880701\n",
       "5. 3.06407232\n",
       "6. 7.627531214\n",
       "7. 5.3324412\n",
       "8. 6.92259671\n",
       "9. 8.675418651\n",
       "10. 7.6737564\n",
       "11. 2.550537003\n",
       "12. 2.362125076\n",
       "13. 4.400293529\n",
       "14. 1.850220317\n",
       "15. 3.005305973\n",
       "16. 2.759262235\n",
       "17. 2.088626775\n",
       "18. 1.77106367\n",
       "19. -0.24206865\n",
       "20. 3.508563011\n",
       "\n",
       "\n"
      ],
      "text/plain": [
       "      X1       X2        \n",
       " [1,] 2.781084  2.5505370\n",
       " [2,] 1.465489  2.3621251\n",
       " [3,] 3.396562  4.4002935\n",
       " [4,] 1.388070  1.8502203\n",
       " [5,] 3.064072  3.0053060\n",
       " [6,] 7.627531  2.7592622\n",
       " [7,] 5.332441  2.0886268\n",
       " [8,] 6.922597  1.7710637\n",
       " [9,] 8.675419 -0.2420686\n",
       "[10,] 7.673756  3.5085630"
      ]
     },
     "metadata": {},
     "output_type": "display_data"
    },
    {
     "data": {
      "text/html": [
       "<table>\n",
       "<thead><tr><th scope=col>Y</th></tr></thead>\n",
       "<tbody>\n",
       "\t<tr><td>0</td></tr>\n",
       "\t<tr><td>0</td></tr>\n",
       "\t<tr><td>0</td></tr>\n",
       "\t<tr><td>0</td></tr>\n",
       "\t<tr><td>0</td></tr>\n",
       "\t<tr><td>1</td></tr>\n",
       "\t<tr><td>1</td></tr>\n",
       "\t<tr><td>1</td></tr>\n",
       "\t<tr><td>1</td></tr>\n",
       "\t<tr><td>1</td></tr>\n",
       "</tbody>\n",
       "</table>\n"
      ],
      "text/latex": [
       "\\begin{tabular}{l}\n",
       " Y\\\\\n",
       "\\hline\n",
       "\t 0\\\\\n",
       "\t 0\\\\\n",
       "\t 0\\\\\n",
       "\t 0\\\\\n",
       "\t 0\\\\\n",
       "\t 1\\\\\n",
       "\t 1\\\\\n",
       "\t 1\\\\\n",
       "\t 1\\\\\n",
       "\t 1\\\\\n",
       "\\end{tabular}\n"
      ],
      "text/markdown": [
       "1. 0\n",
       "2. 0\n",
       "3. 0\n",
       "4. 0\n",
       "5. 0\n",
       "6. 1\n",
       "7. 1\n",
       "8. 1\n",
       "9. 1\n",
       "10. 1\n",
       "\n",
       "\n"
      ],
      "text/plain": [
       "      Y\n",
       " [1,] 0\n",
       " [2,] 0\n",
       " [3,] 0\n",
       " [4,] 0\n",
       " [5,] 0\n",
       " [6,] 1\n",
       " [7,] 1\n",
       " [8,] 1\n",
       " [9,] 1\n",
       "[10,] 1"
      ]
     },
     "metadata": {},
     "output_type": "display_data"
    }
   ],
   "source": [
    "# New Data:\n",
    "\n",
    "t <- c(2.7810836, 2.550537003, 0, 1.46548937, 2.362125076, 0, 3.396561688, 4.400293529, 0,\n",
    "       1.3880701, 1.850220317, 0, 3.06407232, 3.005305973, 0, 7.627531214, 2.759262235, 1,\n",
    "       5.3324412, 2.088626775, 1, 6.92259671, 1.77106367,  1, 8.675418651, -0.24206865, 1,\n",
    "       7.6737564, 3.508563011, 1)\n",
    "\n",
    "D <- data.frame(matrix(t, nrow = 10, byrow = TRUE))\n",
    "names(D) <- c(\"X1\", \"X2\", \"Y\")\n",
    "D\n",
    "\n",
    "X <- as.matrix(D[1:2])\n",
    "X\n",
    "\n",
    "Y <- as.matrix(D[3])\n",
    "Y"
   ]
  },
  {
   "cell_type": "code",
   "execution_count": 9,
   "metadata": {},
   "outputs": [
    {
     "name": "stdout",
     "output_type": "stream",
     "text": [
      "-0.5887995, 1.530574, -2.350865, \n"
     ]
    },
    {
     "data": {
      "text/html": [
       "<table>\n",
       "<tbody>\n",
       "\t<tr><td>0.088821219</td></tr>\n",
       "\t<tr><td>0.019863714</td></tr>\n",
       "\t<tr><td>0.003221739</td></tr>\n",
       "\t<tr><td>0.056579048</td></tr>\n",
       "\t<tr><td>0.049075307</td></tr>\n",
       "\t<tr><td>0.990038823</td></tr>\n",
       "\t<tr><td>0.934796582</td></tr>\n",
       "\t<tr><td>0.997108880</td></tr>\n",
       "\t<tr><td>0.999998255</td></tr>\n",
       "\t<tr><td>0.948254960</td></tr>\n",
       "</tbody>\n",
       "</table>\n"
      ],
      "text/latex": [
       "\\begin{tabular}{l}\n",
       "\t 0.088821219\\\\\n",
       "\t 0.019863714\\\\\n",
       "\t 0.003221739\\\\\n",
       "\t 0.056579048\\\\\n",
       "\t 0.049075307\\\\\n",
       "\t 0.990038823\\\\\n",
       "\t 0.934796582\\\\\n",
       "\t 0.997108880\\\\\n",
       "\t 0.999998255\\\\\n",
       "\t 0.948254960\\\\\n",
       "\\end{tabular}\n"
      ],
      "text/markdown": [
       "1. 0.0888212193280354\n",
       "2. 0.0198637137718151\n",
       "3. 0.00322173937688032\n",
       "4. 0.0565790478898817\n",
       "5. 0.0490753069458176\n",
       "6. 0.990038822591603\n",
       "7. 0.934796581859013\n",
       "8. 0.99710887993652\n",
       "9. 0.999998254805124\n",
       "10. 0.948254960453082\n",
       "\n",
       "\n"
      ],
      "text/plain": [
       "      [,1]       \n",
       " [1,] 0.088821219\n",
       " [2,] 0.019863714\n",
       " [3,] 0.003221739\n",
       " [4,] 0.056579048\n",
       " [5,] 0.049075307\n",
       " [6,] 0.990038823\n",
       " [7,] 0.934796582\n",
       " [8,] 0.997108880\n",
       " [9,] 0.999998255\n",
       "[10,] 0.948254960"
      ]
     },
     "metadata": {},
     "output_type": "display_data"
    }
   ],
   "source": [
    "# Run process again on BETTER data!\n",
    "\n",
    "# Initialize Coefficients\n",
    "\n",
    "b0 = 1/2\n",
    "b1 = 1/2\n",
    "b2 = 1/2\n",
    "\n",
    "# Do 100 epochs of adjustment...\n",
    "\n",
    "for(t in 1:100){\n",
    "    p = fit_logistic(b0, b1, b2, X)\n",
    "    b = update_params(b0, b1, b2, p, X, Y)\n",
    "    b0 = b[1]\n",
    "    b1 = b[2]\n",
    "    b2 = b[3]\n",
    "}\n",
    "\n",
    "# Print final coefficients and estimates of the p for each point\n",
    "\n",
    "cat(b0, b1, b2, \"\\n\", sep=\", \")\n",
    "fit_logistic(b[1], b[2], b[3], X)  # predictons"
   ]
  },
  {
   "cell_type": "code",
   "execution_count": 10,
   "metadata": {},
   "outputs": [],
   "source": [
    "predict_logistic <- function(b, X){\n",
    "    p <- fit_logistic(b[1], b[2], b[3], X)\n",
    "    pp <- ifelse(p >= 0.5, 1, 0)\n",
    "    return(pp)\n",
    "}"
   ]
  },
  {
   "cell_type": "code",
   "execution_count": 11,
   "metadata": {},
   "outputs": [
    {
     "data": {
      "text/html": [
       "<table>\n",
       "<tbody>\n",
       "\t<tr><td>0</td></tr>\n",
       "\t<tr><td>0</td></tr>\n",
       "\t<tr><td>0</td></tr>\n",
       "\t<tr><td>0</td></tr>\n",
       "\t<tr><td>0</td></tr>\n",
       "\t<tr><td>1</td></tr>\n",
       "\t<tr><td>1</td></tr>\n",
       "\t<tr><td>1</td></tr>\n",
       "\t<tr><td>1</td></tr>\n",
       "\t<tr><td>1</td></tr>\n",
       "</tbody>\n",
       "</table>\n"
      ],
      "text/latex": [
       "\\begin{tabular}{l}\n",
       "\t 0\\\\\n",
       "\t 0\\\\\n",
       "\t 0\\\\\n",
       "\t 0\\\\\n",
       "\t 0\\\\\n",
       "\t 1\\\\\n",
       "\t 1\\\\\n",
       "\t 1\\\\\n",
       "\t 1\\\\\n",
       "\t 1\\\\\n",
       "\\end{tabular}\n"
      ],
      "text/markdown": [
       "1. 0\n",
       "2. 0\n",
       "3. 0\n",
       "4. 0\n",
       "5. 0\n",
       "6. 1\n",
       "7. 1\n",
       "8. 1\n",
       "9. 1\n",
       "10. 1\n",
       "\n",
       "\n"
      ],
      "text/plain": [
       "      [,1]\n",
       " [1,] 0   \n",
       " [2,] 0   \n",
       " [3,] 0   \n",
       " [4,] 0   \n",
       " [5,] 0   \n",
       " [6,] 1   \n",
       " [7,] 1   \n",
       " [8,] 1   \n",
       " [9,] 1   \n",
       "[10,] 1   "
      ]
     },
     "metadata": {},
     "output_type": "display_data"
    }
   ],
   "source": [
    "predict_logistic(b, X)"
   ]
  },
  {
   "cell_type": "code",
   "execution_count": null,
   "metadata": {},
   "outputs": [],
   "source": []
  },
  {
   "cell_type": "code",
   "execution_count": null,
   "metadata": {},
   "outputs": [],
   "source": []
  },
  {
   "cell_type": "code",
   "execution_count": null,
   "metadata": {},
   "outputs": [],
   "source": []
  }
 ],
 "metadata": {
  "kernelspec": {
   "display_name": "R",
   "language": "R",
   "name": "ir"
  },
  "language_info": {
   "codemirror_mode": "r",
   "file_extension": ".r",
   "mimetype": "text/x-r-source",
   "name": "R",
   "pygments_lexer": "r",
   "version": "3.3.1"
  }
 },
 "nbformat": 4,
 "nbformat_minor": 2
}
