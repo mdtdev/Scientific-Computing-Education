{
 "cells": [
  {
   "cell_type": "markdown",
   "metadata": {},
   "source": [
    "# Introduction to R & Jupyter Notebooks\n",
    "\n",
    "Matthew D. Turner, PhD  \n",
    "Georgia State University\n",
    "\n",
    "Some rights reserved: [cc by-nc-sa](https://creativecommons.org/licenses/by-nc-sa/4.0/) See bottom of document for details.\n",
    "\n",
    "This workshop is intended as a brief introduction to programming in R."
   ]
  },
  {
   "cell_type": "code",
   "execution_count": null,
   "metadata": {},
   "outputs": [],
   "source": []
  },
  {
   "cell_type": "code",
   "execution_count": 3,
   "metadata": {},
   "outputs": [],
   "source": [
    "ufo <- read.delim('ufo_r_class_final.tsv')"
   ]
  },
  {
   "cell_type": "code",
   "execution_count": 5,
   "metadata": {},
   "outputs": [
    {
     "data": {
      "text/html": [
       "<ol class=list-inline>\n",
       "\t<li>'DATE_OCCURRED'</li>\n",
       "\t<li>'DATE_RPT'</li>\n",
       "\t<li>'CITY_STATE'</li>\n",
       "\t<li>'SHAPE_SHORT'</li>\n",
       "\t<li>'DURATION'</li>\n",
       "\t<li>'DESCRIPTION_FREE_TEXT'</li>\n",
       "</ol>\n"
      ],
      "text/latex": [
       "\\begin{enumerate*}\n",
       "\\item 'DATE\\_OCCURRED'\n",
       "\\item 'DATE\\_RPT'\n",
       "\\item 'CITY\\_STATE'\n",
       "\\item 'SHAPE\\_SHORT'\n",
       "\\item 'DURATION'\n",
       "\\item 'DESCRIPTION\\_FREE\\_TEXT'\n",
       "\\end{enumerate*}\n"
      ],
      "text/markdown": [
       "1. 'DATE_OCCURRED'\n",
       "2. 'DATE_RPT'\n",
       "3. 'CITY_STATE'\n",
       "4. 'SHAPE_SHORT'\n",
       "5. 'DURATION'\n",
       "6. 'DESCRIPTION_FREE_TEXT'\n",
       "\n",
       "\n"
      ],
      "text/plain": [
       "[1] \"DATE_OCCURRED\"         \"DATE_RPT\"              \"CITY_STATE\"           \n",
       "[4] \"SHAPE_SHORT\"           \"DURATION\"              \"DESCRIPTION_FREE_TEXT\""
      ]
     },
     "metadata": {},
     "output_type": "display_data"
    }
   ],
   "source": [
    "names(ufo)"
   ]
  },
  {
   "cell_type": "code",
   "execution_count": 7,
   "metadata": {},
   "outputs": [
    {
     "data": {
      "text/html": [
       "<table>\n",
       "<thead><tr><th scope=col>DATE_OCCURRED</th><th scope=col>DATE_RPT</th><th scope=col>CITY_STATE</th><th scope=col>SHAPE_SHORT</th><th scope=col>DURATION</th><th scope=col>DESCRIPTION_FREE_TEXT</th></tr></thead>\n",
       "<tbody>\n",
       "\t<tr><td>7/27/10                                                                                                                                                                                                                                                                                                                                                                                                                                                                        </td><td>7/30/10                                                                                                                                                                                                                                                                                                                                                                                                                                                                        </td><td> Playa del Rey, CA                                                                                                                                                                                                                                                                                                                                                                                                                                                             </td><td> light                                                                                                                                                                                                                                                                                                                                                                                                                                                                         </td><td>0:00:01                                                                                                                                                                                                                                                                                                                                                                                                                                                                        </td><td>I saw this happen one time before but never reported it but Wed night I was star gazing and a really bright light turned on and then off in the sky.  This time it happened around 15 min apart but in the same place with same effect.It was a clear night.                                                                                                                                                                                                                   </td></tr>\n",
       "\t<tr><td>7/15/10                                                                                                                                                                                                                                                                                                                                                                                                                                                                        </td><td>7/15/10                                                                                                                                                                                                                                                                                                                                                                                                                                                                        </td><td> Acushnet, MA                                                                                                                                                                                                                                                                                                                                                                                                                                                                  </td><td> light                                                                                                                                                                                                                                                                                                                                                                                                                                                                         </td><td>0:00:01                                                                                                                                                                                                                                                                                                                                                                                                                                                                        </td><td>light passing across roadboth my girlfriend and myself saw a light travel across a strech of road in fairhaven, Ma, the light seemed to skim across the road almost too fast to see and was thin and long coming out of one set of wooded area across the road and into the other wooded area on the opposite side. I dont know who to contact to find information on what was seen or who the right person would be to contact.                                               </td></tr>\n",
       "\t<tr><td>5/8/10                                                                                                                                                                                                                                                                                                                                                                                                                                                                         </td><td>5/8/10                                                                                                                                                                                                                                                                                                                                                                                                                                                                         </td><td> Los Angeles, CA                                                                                                                                                                                                                                                                                                                                                                                                                                                               </td><td> flash                                                                                                                                                                                                                                                                                                                                                                                                                                                                         </td><td>0:00:01                                                                                                                                                                                                                                                                                                                                                                                                                                                                        </td><td>hablo espanol...  pero vi una luz rapida, muy rapida (anormal) aparecio y desaparecio, con un recorrido circular. ojala les sirva esta informacion                                                                                                                                                                                                                                                                                                                             </td></tr>\n",
       "\t<tr><td>3/13/10                                                                                                                                                                                                                                                                                                                                                                                                                                                                        </td><td>3/14/10                                                                                                                                                                                                                                                                                                                                                                                                                                                                        </td><td> Ephrata, WA                                                                                                                                                                                                                                                                                                                                                                                                                                                                   </td><td> light                                                                                                                                                                                                                                                                                                                                                                                                                                                                         </td><td>0:00:01                                                                                                                                                                                                                                                                                                                                                                                                                                                                        </td><td>i was looking out my window to the west. i was gazing at a few stars when all of a sudden i saw a flash of light. it lasted for about 1 second. it was a very light green  color. it was NOT a meteor or an airplane.((NUFORC Note:  Witness elects to remain totally anonymous; provides no contact information.  PD))                                                                                                                                                        </td></tr>\n",
       "\t<tr><td>8/10/10                                                                                                                                                                                                                                                                                                                                                                                                                                                                        </td><td>8/10/10                                                                                                                                                                                                                                                                                                                                                                                                                                                                        </td><td> San Antonio, TX                                                                                                                                                                                                                                                                                                                                                                                                                                                               </td><td> flash                                                                                                                                                                                                                                                                                                                                                                                                                                                                         </td><td>0:00:01                                                                                                                                                                                                                                                                                                                                                                                                                                                                        </td><td>I saw a light trail flash in in the sky.Okay, So i was walking back home from a friends house around 9:55 PM.  I was walking around the corner of m street when i just took a quick glance at the sky.  Right as i take that glance i see a red and white light trail and it just dissapeared.  It was way too fast be any aircraft such as a plane or a helicopter. Im not sure if it was a UFO or a shooting star, But i know that a shooting star is white and a bright red.</td></tr>\n",
       "</tbody>\n",
       "</table>\n"
      ],
      "text/latex": [
       "\\begin{tabular}{r|llllll}\n",
       " DATE\\_OCCURRED & DATE\\_RPT & CITY\\_STATE & SHAPE\\_SHORT & DURATION & DESCRIPTION\\_FREE\\_TEXT\\\\\n",
       "\\hline\n",
       "\t 7/27/10                                                                                                                                                                                                                                                                                                                                                                                                                                                                         & 7/30/10                                                                                                                                                                                                                                                                                                                                                                                                                                                                         &  Playa del Rey, CA                                                                                                                                                                                                                                                                                                                                                                                                                                                              &  light                                                                                                                                                                                                                                                                                                                                                                                                                                                                          & 0:00:01                                                                                                                                                                                                                                                                                                                                                                                                                                                                         & I saw this happen one time before but never reported it but Wed night I was star gazing and a really bright light turned on and then off in the sky.  This time it happened around 15 min apart but in the same place with same effect.It was a clear night.                                                                                                                                                                                                                   \\\\\n",
       "\t 7/15/10                                                                                                                                                                                                                                                                                                                                                                                                                                                                         & 7/15/10                                                                                                                                                                                                                                                                                                                                                                                                                                                                         &  Acushnet, MA                                                                                                                                                                                                                                                                                                                                                                                                                                                                   &  light                                                                                                                                                                                                                                                                                                                                                                                                                                                                          & 0:00:01                                                                                                                                                                                                                                                                                                                                                                                                                                                                         & light passing across roadboth my girlfriend and myself saw a light travel across a strech of road in fairhaven, Ma, the light seemed to skim across the road almost too fast to see and was thin and long coming out of one set of wooded area across the road and into the other wooded area on the opposite side. I dont know who to contact to find information on what was seen or who the right person would be to contact.                                               \\\\\n",
       "\t 5/8/10                                                                                                                                                                                                                                                                                                                                                                                                                                                                          & 5/8/10                                                                                                                                                                                                                                                                                                                                                                                                                                                                          &  Los Angeles, CA                                                                                                                                                                                                                                                                                                                                                                                                                                                                &  flash                                                                                                                                                                                                                                                                                                                                                                                                                                                                          & 0:00:01                                                                                                                                                                                                                                                                                                                                                                                                                                                                         & hablo espanol...  pero vi una luz rapida, muy rapida (anormal) aparecio y desaparecio, con un recorrido circular. ojala les sirva esta informacion                                                                                                                                                                                                                                                                                                                             \\\\\n",
       "\t 3/13/10                                                                                                                                                                                                                                                                                                                                                                                                                                                                         & 3/14/10                                                                                                                                                                                                                                                                                                                                                                                                                                                                         &  Ephrata, WA                                                                                                                                                                                                                                                                                                                                                                                                                                                                    &  light                                                                                                                                                                                                                                                                                                                                                                                                                                                                          & 0:00:01                                                                                                                                                                                                                                                                                                                                                                                                                                                                         & i was looking out my window to the west. i was gazing at a few stars when all of a sudden i saw a flash of light. it lasted for about 1 second. it was a very light green  color. it was NOT a meteor or an airplane.((NUFORC Note:  Witness elects to remain totally anonymous; provides no contact information.  PD))                                                                                                                                                        \\\\\n",
       "\t 8/10/10                                                                                                                                                                                                                                                                                                                                                                                                                                                                         & 8/10/10                                                                                                                                                                                                                                                                                                                                                                                                                                                                         &  San Antonio, TX                                                                                                                                                                                                                                                                                                                                                                                                                                                                &  flash                                                                                                                                                                                                                                                                                                                                                                                                                                                                          & 0:00:01                                                                                                                                                                                                                                                                                                                                                                                                                                                                         & I saw a light trail flash in in the sky.Okay, So i was walking back home from a friends house around 9:55 PM.  I was walking around the corner of m street when i just took a quick glance at the sky.  Right as i take that glance i see a red and white light trail and it just dissapeared.  It was way too fast be any aircraft such as a plane or a helicopter. Im not sure if it was a UFO or a shooting star, But i know that a shooting star is white and a bright red.\\\\\n",
       "\\end{tabular}\n"
      ],
      "text/plain": [
       "  DATE_OCCURRED DATE_RPT CITY_STATE         SHAPE_SHORT DURATION\n",
       "1 7/27/10       7/30/10   Playa del Rey, CA  light      0:00:01 \n",
       "2 7/15/10       7/15/10   Acushnet, MA       light      0:00:01 \n",
       "3 5/8/10        5/8/10    Los Angeles, CA    flash      0:00:01 \n",
       "4 3/13/10       3/14/10   Ephrata, WA        light      0:00:01 \n",
       "5 8/10/10       8/10/10   San Antonio, TX    flash      0:00:01 \n",
       "  DESCRIPTION_FREE_TEXT                                                                                                                                                                                                                                                                                                                                                                                                                                                          \n",
       "1 I saw this happen one time before but never reported it but Wed night I was star gazing and a really bright light turned on and then off in the sky.  This time it happened around 15 min apart but in the same place with same effect.It was a clear night.                                                                                                                                                                                                                   \n",
       "2 light passing across roadboth my girlfriend and myself saw a light travel across a strech of road in fairhaven, Ma, the light seemed to skim across the road almost too fast to see and was thin and long coming out of one set of wooded area across the road and into the other wooded area on the opposite side. I dont know who to contact to find information on what was seen or who the right person would be to contact.                                               \n",
       "3 hablo espanol...  pero vi una luz rapida, muy rapida (anormal) aparecio y desaparecio, con un recorrido circular. ojala les sirva esta informacion                                                                                                                                                                                                                                                                                                                             \n",
       "4 i was looking out my window to the west. i was gazing at a few stars when all of a sudden i saw a flash of light. it lasted for about 1 second. it was a very light green  color. it was NOT a meteor or an airplane.((NUFORC Note:  Witness elects to remain totally anonymous; provides no contact information.  PD))                                                                                                                                                        \n",
       "5 I saw a light trail flash in in the sky.Okay, So i was walking back home from a friends house around 9:55 PM.  I was walking around the corner of m street when i just took a quick glance at the sky.  Right as i take that glance i see a red and white light trail and it just dissapeared.  It was way too fast be any aircraft such as a plane or a helicopter. Im not sure if it was a UFO or a shooting star, But i know that a shooting star is white and a bright red."
      ]
     },
     "metadata": {},
     "output_type": "display_data"
    }
   ],
   "source": [
    "ufo[1:5,]"
   ]
  },
  {
   "cell_type": "code",
   "execution_count": 10,
   "metadata": {},
   "outputs": [
    {
     "data": {
      "text/plain": [
       " DATE_OCCURRED     DATE_RPT             CITY_STATE      SHAPE_SHORT  \n",
       " 7/4/10 : 146   9/19/09:  72    Seattle, WA  :  34    light   :1044  \n",
       " 9/19/09: 107   7/7/10 :  60    Chicago, IL  :  26    circle  : 408  \n",
       " 7/4/09 :  66   9/20/09:  40    Phoenix, AZ  :  19    triangle: 328  \n",
       " 7/3/10 :  44   7/5/10 :  37    Las Vegas, NV:  18    fireball: 314  \n",
       " 9/8/09 :  33   7/10/10:  30    Portland, OR :  16    unknown : 290  \n",
       " 1/1/10 :  31   7/4/10 :  30    Everett, WA  :  15    sphere  : 275  \n",
       " (Other):3512   (Other):3670   (Other)       :3811   (Other)  :1280  \n",
       "    DURATION   \n",
       " 0:05:00: 451  \n",
       " 0:02:00: 340  \n",
       " 0:01:00: 317  \n",
       " 0:10:00: 261  \n",
       " 0:03:00: 219  \n",
       " 0:00:30: 209  \n",
       " (Other):2142  "
      ]
     },
     "metadata": {},
     "output_type": "display_data"
    }
   ],
   "source": [
    "summary(ufo[,1:5])   # Skip last column of text!"
   ]
  },
  {
   "cell_type": "code",
   "execution_count": 13,
   "metadata": {},
   "outputs": [],
   "source": [
    "x <- ufo[,'DURATION']"
   ]
  },
  {
   "cell_type": "code",
   "execution_count": 15,
   "metadata": {},
   "outputs": [
    {
     "data": {
      "text/html": [
       "<dl class=dl-horizontal>\n",
       "\t<dt>0:00:01</dt>\n",
       "\t\t<dd>26</dd>\n",
       "\t<dt>0:00:02</dt>\n",
       "\t\t<dd>43</dd>\n",
       "\t<dt>0:00:03</dt>\n",
       "\t\t<dd>48</dd>\n",
       "\t<dt>0:00:04</dt>\n",
       "\t\t<dd>26</dd>\n",
       "\t<dt>0:00:05</dt>\n",
       "\t\t<dd>131</dd>\n",
       "\t<dt>0:00:06</dt>\n",
       "\t\t<dd>15</dd>\n",
       "\t<dt>0:00:07</dt>\n",
       "\t\t<dd>13</dd>\n",
       "\t<dt>0:00:08</dt>\n",
       "\t\t<dd>14</dd>\n",
       "\t<dt>0:00:10</dt>\n",
       "\t\t<dd>139</dd>\n",
       "\t<dt>0:00:12</dt>\n",
       "\t\t<dd>5</dd>\n",
       "\t<dt>0:00:15</dt>\n",
       "\t\t<dd>93</dd>\n",
       "\t<dt>0:00:20</dt>\n",
       "\t\t<dd>102</dd>\n",
       "\t<dt>0:00:25</dt>\n",
       "\t\t<dd>24</dd>\n",
       "\t<dt>0:00:30</dt>\n",
       "\t\t<dd>209</dd>\n",
       "\t<dt>0:00:35</dt>\n",
       "\t\t<dd>7</dd>\n",
       "\t<dt>0:00:40</dt>\n",
       "\t\t<dd>25</dd>\n",
       "\t<dt>0:00:45</dt>\n",
       "\t\t<dd>80</dd>\n",
       "\t<dt>0:00:50</dt>\n",
       "\t\t<dd>7</dd>\n",
       "\t<dt>0:01:00</dt>\n",
       "\t\t<dd>317</dd>\n",
       "\t<dt>0:01:30</dt>\n",
       "\t\t<dd>49</dd>\n",
       "\t<dt>0:02:00</dt>\n",
       "\t\t<dd>340</dd>\n",
       "\t<dt>0:02:30</dt>\n",
       "\t\t<dd>46</dd>\n",
       "\t<dt>0:03:00</dt>\n",
       "\t\t<dd>219</dd>\n",
       "\t<dt>0:03:30</dt>\n",
       "\t\t<dd>37</dd>\n",
       "\t<dt>0:04:00</dt>\n",
       "\t\t<dd>100</dd>\n",
       "\t<dt>0:05:00</dt>\n",
       "\t\t<dd>451</dd>\n",
       "\t<dt>0:06:00</dt>\n",
       "\t\t<dd>40</dd>\n",
       "\t<dt>0:07:00</dt>\n",
       "\t\t<dd>32</dd>\n",
       "\t<dt>0:07:30</dt>\n",
       "\t\t<dd>32</dd>\n",
       "\t<dt>0:08:00</dt>\n",
       "\t\t<dd>11</dd>\n",
       "\t<dt>0:09:00</dt>\n",
       "\t\t<dd>6</dd>\n",
       "\t<dt>0:10:00</dt>\n",
       "\t\t<dd>261</dd>\n",
       "\t<dt>0:12:00</dt>\n",
       "\t\t<dd>8</dd>\n",
       "\t<dt>0:12:30</dt>\n",
       "\t\t<dd>9</dd>\n",
       "\t<dt>0:15:00</dt>\n",
       "\t\t<dd>146</dd>\n",
       "\t<dt>0:17:00</dt>\n",
       "\t\t<dd>6</dd>\n",
       "\t<dt>0:17:30</dt>\n",
       "\t\t<dd>5</dd>\n",
       "\t<dt>0:18:00</dt>\n",
       "\t\t<dd>5</dd>\n",
       "\t<dt>0:20:00</dt>\n",
       "\t\t<dd>125</dd>\n",
       "\t<dt>0:25:00</dt>\n",
       "\t\t<dd>15</dd>\n",
       "\t<dt>0:30:00</dt>\n",
       "\t\t<dd>129</dd>\n",
       "\t<dt>0:35:00</dt>\n",
       "\t\t<dd>1</dd>\n",
       "\t<dt>0:40:00</dt>\n",
       "\t\t<dd>12</dd>\n",
       "\t<dt>0:45:00</dt>\n",
       "\t\t<dd>27</dd>\n",
       "\t<dt>00:02.5</dt>\n",
       "\t\t<dd>8</dd>\n",
       "\t<dt>00:03.5</dt>\n",
       "\t\t<dd>12</dd>\n",
       "\t<dt>00:05.5</dt>\n",
       "\t\t<dd>5</dd>\n",
       "\t<dt>00:06.5</dt>\n",
       "\t\t<dd>5</dd>\n",
       "\t<dt>00:07.5</dt>\n",
       "\t\t<dd>12</dd>\n",
       "\t<dt>00:12.5</dt>\n",
       "\t\t<dd>20</dd>\n",
       "\t<dt>00:17.5</dt>\n",
       "\t\t<dd>7</dd>\n",
       "\t<dt>1:00:00</dt>\n",
       "\t\t<dd>132</dd>\n",
       "\t<dt>2:00:00</dt>\n",
       "\t\t<dd>64</dd>\n",
       "\t<dt>3:00:00</dt>\n",
       "\t\t<dd>35</dd>\n",
       "\t<dt>4:00:00</dt>\n",
       "\t\t<dd>15</dd>\n",
       "\t<dt>unknown</dt>\n",
       "\t\t<dd>72</dd>\n",
       "\t<dt>unknown (all night)</dt>\n",
       "\t\t<dd>8</dd>\n",
       "\t<dt>unknown (hours)</dt>\n",
       "\t\t<dd>15</dd>\n",
       "\t<dt>unknown (minutes)</dt>\n",
       "\t\t<dd>35</dd>\n",
       "\t<dt>unknown (ongoing)</dt>\n",
       "\t\t<dd>13</dd>\n",
       "\t<dt>unknown (seconds)</dt>\n",
       "\t\t<dd>45</dd>\n",
       "</dl>\n"
      ],
      "text/latex": [
       "\\begin{description*}\n",
       "\\item[0:00:01] 26\n",
       "\\item[0:00:02] 43\n",
       "\\item[0:00:03] 48\n",
       "\\item[0:00:04] 26\n",
       "\\item[0:00:05] 131\n",
       "\\item[0:00:06] 15\n",
       "\\item[0:00:07] 13\n",
       "\\item[0:00:08] 14\n",
       "\\item[0:00:10] 139\n",
       "\\item[0:00:12] 5\n",
       "\\item[0:00:15] 93\n",
       "\\item[0:00:20] 102\n",
       "\\item[0:00:25] 24\n",
       "\\item[0:00:30] 209\n",
       "\\item[0:00:35] 7\n",
       "\\item[0:00:40] 25\n",
       "\\item[0:00:45] 80\n",
       "\\item[0:00:50] 7\n",
       "\\item[0:01:00] 317\n",
       "\\item[0:01:30] 49\n",
       "\\item[0:02:00] 340\n",
       "\\item[0:02:30] 46\n",
       "\\item[0:03:00] 219\n",
       "\\item[0:03:30] 37\n",
       "\\item[0:04:00] 100\n",
       "\\item[0:05:00] 451\n",
       "\\item[0:06:00] 40\n",
       "\\item[0:07:00] 32\n",
       "\\item[0:07:30] 32\n",
       "\\item[0:08:00] 11\n",
       "\\item[0:09:00] 6\n",
       "\\item[0:10:00] 261\n",
       "\\item[0:12:00] 8\n",
       "\\item[0:12:30] 9\n",
       "\\item[0:15:00] 146\n",
       "\\item[0:17:00] 6\n",
       "\\item[0:17:30] 5\n",
       "\\item[0:18:00] 5\n",
       "\\item[0:20:00] 125\n",
       "\\item[0:25:00] 15\n",
       "\\item[0:30:00] 129\n",
       "\\item[0:35:00] 1\n",
       "\\item[0:40:00] 12\n",
       "\\item[0:45:00] 27\n",
       "\\item[00:02.5] 8\n",
       "\\item[00:03.5] 12\n",
       "\\item[00:05.5] 5\n",
       "\\item[00:06.5] 5\n",
       "\\item[00:07.5] 12\n",
       "\\item[00:12.5] 20\n",
       "\\item[00:17.5] 7\n",
       "\\item[1:00:00] 132\n",
       "\\item[2:00:00] 64\n",
       "\\item[3:00:00] 35\n",
       "\\item[4:00:00] 15\n",
       "\\item[unknown] 72\n",
       "\\item[unknown (all night)] 8\n",
       "\\item[unknown (hours)] 15\n",
       "\\item[unknown (minutes)] 35\n",
       "\\item[unknown (ongoing)] 13\n",
       "\\item[unknown (seconds)] 45\n",
       "\\end{description*}\n"
      ],
      "text/markdown": [
       "0:00:01\n",
       ":   260:00:02\n",
       ":   430:00:03\n",
       ":   480:00:04\n",
       ":   260:00:05\n",
       ":   1310:00:06\n",
       ":   150:00:07\n",
       ":   130:00:08\n",
       ":   140:00:10\n",
       ":   1390:00:12\n",
       ":   50:00:15\n",
       ":   930:00:20\n",
       ":   1020:00:25\n",
       ":   240:00:30\n",
       ":   2090:00:35\n",
       ":   70:00:40\n",
       ":   250:00:45\n",
       ":   800:00:50\n",
       ":   70:01:00\n",
       ":   3170:01:30\n",
       ":   490:02:00\n",
       ":   3400:02:30\n",
       ":   460:03:00\n",
       ":   2190:03:30\n",
       ":   370:04:00\n",
       ":   1000:05:00\n",
       ":   4510:06:00\n",
       ":   400:07:00\n",
       ":   320:07:30\n",
       ":   320:08:00\n",
       ":   110:09:00\n",
       ":   60:10:00\n",
       ":   2610:12:00\n",
       ":   80:12:30\n",
       ":   90:15:00\n",
       ":   1460:17:00\n",
       ":   60:17:30\n",
       ":   50:18:00\n",
       ":   50:20:00\n",
       ":   1250:25:00\n",
       ":   150:30:00\n",
       ":   1290:35:00\n",
       ":   10:40:00\n",
       ":   120:45:00\n",
       ":   2700:02.5\n",
       ":   800:03.5\n",
       ":   1200:05.5\n",
       ":   500:06.5\n",
       ":   500:07.5\n",
       ":   1200:12.5\n",
       ":   2000:17.5\n",
       ":   71:00:00\n",
       ":   1322:00:00\n",
       ":   643:00:00\n",
       ":   354:00:00\n",
       ":   15unknown\n",
       ":   72unknown (all night)\n",
       ":   8unknown (hours)\n",
       ":   15unknown (minutes)\n",
       ":   35unknown (ongoing)\n",
       ":   13unknown (seconds)\n",
       ":   45\n",
       "\n"
      ],
      "text/plain": [
       "            0:00:01             0:00:02             0:00:03             0:00:04 \n",
       "                 26                  43                  48                  26 \n",
       "            0:00:05             0:00:06             0:00:07             0:00:08 \n",
       "                131                  15                  13                  14 \n",
       "            0:00:10             0:00:12             0:00:15             0:00:20 \n",
       "                139                   5                  93                 102 \n",
       "            0:00:25             0:00:30             0:00:35             0:00:40 \n",
       "                 24                 209                   7                  25 \n",
       "            0:00:45             0:00:50             0:01:00             0:01:30 \n",
       "                 80                   7                 317                  49 \n",
       "            0:02:00             0:02:30             0:03:00             0:03:30 \n",
       "                340                  46                 219                  37 \n",
       "            0:04:00             0:05:00             0:06:00             0:07:00 \n",
       "                100                 451                  40                  32 \n",
       "            0:07:30             0:08:00             0:09:00             0:10:00 \n",
       "                 32                  11                   6                 261 \n",
       "            0:12:00             0:12:30             0:15:00             0:17:00 \n",
       "                  8                   9                 146                   6 \n",
       "            0:17:30             0:18:00             0:20:00             0:25:00 \n",
       "                  5                   5                 125                  15 \n",
       "            0:30:00             0:35:00             0:40:00             0:45:00 \n",
       "                129                   1                  12                  27 \n",
       "            00:02.5             00:03.5             00:05.5             00:06.5 \n",
       "                  8                  12                   5                   5 \n",
       "            00:07.5             00:12.5             00:17.5             1:00:00 \n",
       "                 12                  20                   7                 132 \n",
       "            2:00:00             3:00:00             4:00:00             unknown \n",
       "                 64                  35                  15                  72 \n",
       "unknown (all night)     unknown (hours)   unknown (minutes)   unknown (ongoing) \n",
       "                  8                  15                  35                  13 \n",
       "  unknown (seconds) \n",
       "                 45 "
      ]
     },
     "metadata": {},
     "output_type": "display_data"
    }
   ],
   "source": [
    "summary(x)"
   ]
  },
  {
   "cell_type": "markdown",
   "metadata": {},
   "source": [
    "## Some Simple Times & Dates\n",
    "\n",
    "R has a library for working with times and dates. Here we will work with durations from the subset of the **UFO Awesome** dataset we are using as part of today's workshop. These data have a timecode in the format: `hh:mm:ss.f` or `hours:minutes:seconds.fraction` and the decimal allows for half second fractions (in this data you should only see .5 occasionally). So:\n",
    "\n",
    "+ 0:30:00 is 30 minutes\n",
    "+ 1:15:00 is 1 hour and 15 minutes\n",
    "+ 0:00:25 is 25 seconds\n",
    "+ 0:00:12.5 is 12.5 seconds\n",
    "\n",
    "Here is how the functions work:"
   ]
  },
  {
   "cell_type": "code",
   "execution_count": 17,
   "metadata": {},
   "outputs": [
    {
     "data": {
      "text/plain": [
       "[1] 00:30:00"
      ]
     },
     "metadata": {},
     "output_type": "display_data"
    },
    {
     "data": {
      "text/html": [
       "0.0208333333333333"
      ],
      "text/latex": [
       "0.0208333333333333"
      ],
      "text/markdown": [
       "0.0208333333333333"
      ],
      "text/plain": [
       "[1] 0.02083333"
      ]
     },
     "metadata": {},
     "output_type": "display_data"
    },
    {
     "data": {
      "text/html": [
       "0.5"
      ],
      "text/latex": [
       "0.5"
      ],
      "text/markdown": [
       "0.5"
      ],
      "text/plain": [
       "[1] 0.5"
      ]
     },
     "metadata": {},
     "output_type": "display_data"
    },
    {
     "data": {
      "text/html": [
       "30"
      ],
      "text/latex": [
       "30"
      ],
      "text/markdown": [
       "30"
      ],
      "text/plain": [
       "[1] 30"
      ]
     },
     "metadata": {},
     "output_type": "display_data"
    },
    {
     "data": {
      "text/html": [
       "1800"
      ],
      "text/latex": [
       "1800"
      ],
      "text/markdown": [
       "1800"
      ],
      "text/plain": [
       "[1] 1800"
      ]
     },
     "metadata": {},
     "output_type": "display_data"
    }
   ],
   "source": [
    "library(chron) # Loads the chron library for additional time functions\n",
    "\n",
    "# Example:\n",
    "\n",
    "times(\"0:30:00\")    # This converts the string \"0:30:00\" into a time object\n",
    "                    # It does not look any different when printed below!\n",
    "\n",
    "as.numeric(times(\"0:30:00\"))    # This converts the time into a number (in terms of a fractional DAY, weird!)\n",
    "\n",
    "as.numeric(times(\"0:30:00\"))*24         # Convert fractions of a day to hours (30m = 0.50h)\n",
    "as.numeric(times(\"0:30:00\"))*24*60      # Convert fractions of a day to minutes\n",
    "as.numeric(times(\"0:30:00\"))*24*60*60   # Convert fractions of a day into seconds (30m = 1800s)"
   ]
  },
  {
   "cell_type": "markdown",
   "metadata": {},
   "source": [
    "Since we want to convert our times into minutes, let's wrap all of this up into a function to do it:"
   ]
  },
  {
   "cell_type": "code",
   "execution_count": 18,
   "metadata": {},
   "outputs": [],
   "source": [
    "t2m <- function(ctf){\n",
    "    return(as.numeric(times(ctf))*24*60)\n",
    "}"
   ]
  },
  {
   "cell_type": "code",
   "execution_count": 21,
   "metadata": {},
   "outputs": [
    {
     "data": {
      "text/html": [
       "30"
      ],
      "text/latex": [
       "30"
      ],
      "text/markdown": [
       "30"
      ],
      "text/plain": [
       "[1] 30"
      ]
     },
     "metadata": {},
     "output_type": "display_data"
    },
    {
     "data": {
      "text/html": [
       "75"
      ],
      "text/latex": [
       "75"
      ],
      "text/markdown": [
       "75"
      ],
      "text/plain": [
       "[1] 75"
      ]
     },
     "metadata": {},
     "output_type": "display_data"
    },
    {
     "data": {
      "text/html": [
       "0.5"
      ],
      "text/latex": [
       "0.5"
      ],
      "text/markdown": [
       "0.5"
      ],
      "text/plain": [
       "[1] 0.5"
      ]
     },
     "metadata": {},
     "output_type": "display_data"
    },
    {
     "data": {
      "text/html": [
       "0.416666666666667"
      ],
      "text/latex": [
       "0.416666666666667"
      ],
      "text/markdown": [
       "0.416666666666667"
      ],
      "text/plain": [
       "[1] 0.4166667"
      ]
     },
     "metadata": {},
     "output_type": "display_data"
    },
    {
     "data": {
      "text/html": [
       "0.208333333333333"
      ],
      "text/latex": [
       "0.208333333333333"
      ],
      "text/markdown": [
       "0.208333333333333"
      ],
      "text/plain": [
       "[1] 0.2083333"
      ]
     },
     "metadata": {},
     "output_type": "display_data"
    }
   ],
   "source": [
    "t2m(\"0:30:00\")    # 30 minutes should be 30\n",
    "t2m(\"1:15:00\")    # 75 minutes\n",
    "t2m(\"0:00:30\")    # 0.5 minutes\n",
    "t2m(\"0:00:25\")\n",
    "t2m(\"0:00:12.5\")  # 12.5 seconds is about .21 of a minute"
   ]
  },
  {
   "cell_type": "code",
   "execution_count": 46,
   "metadata": {},
   "outputs": [
    {
     "name": "stderr",
     "output_type": "stream",
     "text": [
      "Warning message in unpaste(times, sep = fmt$sep, fnames = fmt$periods, nfields = 3):\n",
      "“wrong number of fields in entry(ies) 1”"
     ]
    },
    {
     "ename": "ERROR",
     "evalue": "Error in convert.times(times., fmt): format h:m:s may be incorrect\n",
     "output_type": "error",
     "traceback": [
      "Error in convert.times(times., fmt): format h:m:s may be incorrect\nTraceback:\n",
      "1. t2m(\"00:02.5\")",
      "2. times(ctf)   # at line 2 of file <text>",
      "3. chron(times. = x, ...)",
      "4. convert.times(times., fmt)",
      "5. stop(paste(\"format\", format, \"may be incorrect\"))"
     ]
    }
   ],
   "source": [
    "t2m(\"00:02.5\")"
   ]
  },
  {
   "cell_type": "code",
   "execution_count": 48,
   "metadata": {},
   "outputs": [
    {
     "data": {
      "text/html": [
       "0.0416666666666667"
      ],
      "text/latex": [
       "0.0416666666666667"
      ],
      "text/markdown": [
       "0.0416666666666667"
      ],
      "text/plain": [
       "[1] 0.04166667"
      ]
     },
     "metadata": {},
     "output_type": "display_data"
    }
   ],
   "source": [
    "t2m(paste(\"0:\",\"00:02.5\", sep=\"\"))"
   ]
  },
  {
   "cell_type": "code",
   "execution_count": 66,
   "metadata": {},
   "outputs": [
    {
     "name": "stdout",
     "output_type": "stream",
     "text": [
      "  [1] 00:02.5             00:02.5             00:02.5            \n",
      "  [4] 00:02.5             00:02.5             00:02.5            \n",
      "  [7] 00:02.5             00:02.5             00:03.5            \n",
      " [10] 00:03.5             00:03.5             00:03.5            \n",
      " [13] 00:03.5             00:03.5             00:03.5            \n",
      " [16] 00:03.5             00:03.5             00:03.5            \n",
      " [19] 00:03.5             00:03.5             00:05.5            \n",
      " [22] 00:05.5             00:05.5             00:05.5            \n",
      " [25] 00:05.5             00:06.5             00:06.5            \n",
      " [28] 00:06.5             00:06.5             00:06.5            \n",
      " [31] 00:07.5             00:07.5             00:07.5            \n",
      " [34] 00:07.5             00:07.5             00:07.5            \n",
      " [37] 00:07.5             00:07.5             00:07.5            \n",
      " [40] 00:07.5             00:07.5             00:07.5            \n",
      " [43] 00:12.5             00:12.5             00:12.5            \n",
      " [46] 00:12.5             00:12.5             00:12.5            \n",
      " [49] 00:12.5             00:12.5             00:12.5            \n",
      " [52] 00:12.5             00:12.5             00:12.5            \n",
      " [55] 00:12.5             00:12.5             00:12.5            \n",
      " [58] 00:12.5             00:12.5             00:12.5            \n",
      " [61] 00:12.5             00:12.5             00:17.5            \n",
      " [64] 00:17.5             00:17.5             00:17.5            \n",
      " [67] 00:17.5             00:17.5             00:17.5            \n",
      " [70] unknown             unknown             unknown            \n",
      " [73] unknown             unknown             unknown            \n",
      " [76] unknown             unknown             unknown            \n",
      " [79] unknown             unknown             unknown            \n",
      " [82] unknown             unknown             unknown            \n",
      " [85] unknown             unknown             unknown            \n",
      " [88] unknown             unknown             unknown            \n",
      " [91] unknown             unknown             unknown            \n",
      " [94] unknown             unknown             unknown            \n",
      " [97] unknown             unknown             unknown            \n",
      "[100] unknown             unknown             unknown            \n",
      "[103] unknown             unknown             unknown            \n",
      "[106] unknown             unknown             unknown            \n",
      "[109] unknown             unknown             unknown            \n",
      "[112] unknown             unknown             unknown            \n",
      "[115] unknown             unknown             unknown            \n",
      "[118] unknown             unknown             unknown            \n",
      "[121] unknown             unknown             unknown            \n",
      "[124] unknown             unknown             unknown            \n",
      "[127] unknown             unknown             unknown            \n",
      "[130] unknown             unknown             unknown            \n",
      "[133] unknown             unknown             unknown            \n",
      "[136] unknown             unknown             unknown            \n",
      "[139] unknown             unknown             unknown            \n",
      "[142] unknown (all night) unknown (all night) unknown (all night)\n",
      "[145] unknown (all night) unknown (all night) unknown (all night)\n",
      "[148] unknown (all night) unknown (all night) unknown (hours)    \n",
      "[151] unknown (hours)     unknown (hours)     unknown (hours)    \n",
      "[154] unknown (hours)     unknown (hours)     unknown (hours)    \n",
      "[157] unknown (hours)     unknown (hours)     unknown (hours)    \n",
      "[160] unknown (hours)     unknown (hours)     unknown (hours)    \n",
      "[163] unknown (hours)     unknown (hours)     unknown (minutes)  \n",
      "[166] unknown (minutes)   unknown (minutes)   unknown (minutes)  \n",
      "[169] unknown (minutes)   unknown (minutes)   unknown (minutes)  \n",
      "[172] unknown (minutes)   unknown (minutes)   unknown (minutes)  \n",
      "[175] unknown (minutes)   unknown (minutes)   unknown (minutes)  \n",
      "[178] unknown (minutes)   unknown (minutes)   unknown (minutes)  \n",
      "[181] unknown (minutes)   unknown (minutes)   unknown (minutes)  \n",
      "[184] unknown (minutes)   unknown (minutes)   unknown (minutes)  \n",
      "[187] unknown (minutes)   unknown (minutes)   unknown (minutes)  \n",
      "[190] unknown (minutes)   unknown (minutes)   unknown (minutes)  \n",
      "[193] unknown (minutes)   unknown (minutes)   unknown (minutes)  \n",
      "[196] unknown (minutes)   unknown (minutes)   unknown (minutes)  \n",
      "[199] unknown (minutes)   unknown (ongoing)   unknown (ongoing)  \n",
      "[202] unknown (ongoing)   unknown (ongoing)   unknown (ongoing)  \n",
      "[205] unknown (ongoing)   unknown (ongoing)   unknown (ongoing)  \n",
      "[208] unknown (ongoing)   unknown (ongoing)   unknown (ongoing)  \n",
      "[211] unknown (ongoing)   unknown (ongoing)   unknown (seconds)  \n",
      "[214] unknown (seconds)   unknown (seconds)   unknown (seconds)  \n",
      "[217] unknown (seconds)   unknown (seconds)   unknown (seconds)  \n",
      "[220] unknown (seconds)   unknown (seconds)   unknown (seconds)  \n",
      "[223] unknown (seconds)   unknown (seconds)   unknown (seconds)  \n",
      "[226] unknown (seconds)   unknown (seconds)   unknown (seconds)  \n",
      "[229] unknown (seconds)   unknown (seconds)   unknown (seconds)  \n",
      "[232] unknown (seconds)   unknown (seconds)   unknown (seconds)  \n",
      "[235] unknown (seconds)   unknown (seconds)   unknown (seconds)  \n",
      "[238] unknown (seconds)   unknown (seconds)   unknown (seconds)  \n",
      "[241] unknown (seconds)   unknown (seconds)   unknown (seconds)  \n",
      "[244] unknown (seconds)   unknown (seconds)   unknown (seconds)  \n",
      "[247] unknown (seconds)   unknown (seconds)   unknown (seconds)  \n",
      "[250] unknown (seconds)   unknown (seconds)   unknown (seconds)  \n",
      "[253] unknown (seconds)   unknown (seconds)   unknown (seconds)  \n",
      "[256] unknown (seconds)   unknown (seconds)  \n",
      "61 Levels: 0:00:01 0:00:02 0:00:03 0:00:04 0:00:05 0:00:06 0:00:07 ... unknown (seconds)\n",
      "  [1] \"0:00:02.5\" \"0:00:02.5\" \"0:00:02.5\" \"0:00:02.5\" \"0:00:02.5\" \"0:00:02.5\"\n",
      "  [7] \"0:00:02.5\" \"0:00:02.5\" \"0:00:03.5\" \"0:00:03.5\" \"0:00:03.5\" \"0:00:03.5\"\n",
      " [13] \"0:00:03.5\" \"0:00:03.5\" \"0:00:03.5\" \"0:00:03.5\" \"0:00:03.5\" \"0:00:03.5\"\n",
      " [19] \"0:00:03.5\" \"0:00:03.5\" \"0:00:05.5\" \"0:00:05.5\" \"0:00:05.5\" \"0:00:05.5\"\n",
      " [25] \"0:00:05.5\" \"0:00:06.5\" \"0:00:06.5\" \"0:00:06.5\" \"0:00:06.5\" \"0:00:06.5\"\n",
      " [31] \"0:00:07.5\" \"0:00:07.5\" \"0:00:07.5\" \"0:00:07.5\" \"0:00:07.5\" \"0:00:07.5\"\n",
      " [37] \"0:00:07.5\" \"0:00:07.5\" \"0:00:07.5\" \"0:00:07.5\" \"0:00:07.5\" \"0:00:07.5\"\n",
      " [43] \"0:00:12.5\" \"0:00:12.5\" \"0:00:12.5\" \"0:00:12.5\" \"0:00:12.5\" \"0:00:12.5\"\n",
      " [49] \"0:00:12.5\" \"0:00:12.5\" \"0:00:12.5\" \"0:00:12.5\" \"0:00:12.5\" \"0:00:12.5\"\n",
      " [55] \"0:00:12.5\" \"0:00:12.5\" \"0:00:12.5\" \"0:00:12.5\" \"0:00:12.5\" \"0:00:12.5\"\n",
      " [61] \"0:00:12.5\" \"0:00:12.5\" \"0:00:17.5\" \"0:00:17.5\" \"0:00:17.5\" \"0:00:17.5\"\n",
      " [67] \"0:00:17.5\" \"0:00:17.5\" \"0:00:17.5\" \"56\"        \"56\"        \"56\"       \n",
      " [73] \"56\"        \"56\"        \"56\"        \"56\"        \"56\"        \"56\"       \n",
      " [79] \"56\"        \"56\"        \"56\"        \"56\"        \"56\"        \"56\"       \n",
      " [85] \"56\"        \"56\"        \"56\"        \"56\"        \"56\"        \"56\"       \n",
      " [91] \"56\"        \"56\"        \"56\"        \"56\"        \"56\"        \"56\"       \n",
      " [97] \"56\"        \"56\"        \"56\"        \"56\"        \"56\"        \"56\"       \n",
      "[103] \"56\"        \"56\"        \"56\"        \"56\"        \"56\"        \"56\"       \n",
      "[109] \"56\"        \"56\"        \"56\"        \"56\"        \"56\"        \"56\"       \n",
      "[115] \"56\"        \"56\"        \"56\"        \"56\"        \"56\"        \"56\"       \n",
      "[121] \"56\"        \"56\"        \"56\"        \"56\"        \"56\"        \"56\"       \n",
      "[127] \"56\"        \"56\"        \"56\"        \"56\"        \"56\"        \"56\"       \n",
      "[133] \"56\"        \"56\"        \"56\"        \"56\"        \"56\"        \"56\"       \n",
      "[139] \"56\"        \"56\"        \"56\"        \"57\"        \"57\"        \"57\"       \n",
      "[145] \"57\"        \"57\"        \"57\"        \"57\"        \"57\"        \"58\"       \n",
      "[151] \"58\"        \"58\"        \"58\"        \"58\"        \"58\"        \"58\"       \n",
      "[157] \"58\"        \"58\"        \"58\"        \"58\"        \"58\"        \"58\"       \n",
      "[163] \"58\"        \"58\"        \"59\"        \"59\"        \"59\"        \"59\"       \n",
      "[169] \"59\"        \"59\"        \"59\"        \"59\"        \"59\"        \"59\"       \n",
      "[175] \"59\"        \"59\"        \"59\"        \"59\"        \"59\"        \"59\"       \n",
      "[181] \"59\"        \"59\"        \"59\"        \"59\"        \"59\"        \"59\"       \n",
      "[187] \"59\"        \"59\"        \"59\"        \"59\"        \"59\"        \"59\"       \n",
      "[193] \"59\"        \"59\"        \"59\"        \"59\"        \"59\"        \"59\"       \n",
      "[199] \"59\"        \"60\"        \"60\"        \"60\"        \"60\"        \"60\"       \n",
      "[205] \"60\"        \"60\"        \"60\"        \"60\"        \"60\"        \"60\"       \n",
      "[211] \"60\"        \"60\"        \"61\"        \"61\"        \"61\"        \"61\"       \n",
      "[217] \"61\"        \"61\"        \"61\"        \"61\"        \"61\"        \"61\"       \n",
      "[223] \"61\"        \"61\"        \"61\"        \"61\"        \"61\"        \"61\"       \n",
      "[229] \"61\"        \"61\"        \"61\"        \"61\"        \"61\"        \"61\"       \n",
      "[235] \"61\"        \"61\"        \"61\"        \"61\"        \"61\"        \"61\"       \n",
      "[241] \"61\"        \"61\"        \"61\"        \"61\"        \"61\"        \"61\"       \n",
      "[247] \"61\"        \"61\"        \"61\"        \"61\"        \"61\"        \"61\"       \n",
      "[253] \"61\"        \"61\"        \"61\"        \"61\"        \"61\"       \n"
     ]
    }
   ],
   "source": [
    "rx <- '^\\\\d+:\\\\d{2}:\\\\d{2}$'\n",
    "\n",
    "ix <- grep(rx, x, invert = TRUE)\n",
    "\n",
    "print(x[ix])\n",
    "\n",
    "fixer <- function(yix){\n",
    "    unks <- c('unknown', 'unknown (all night)', 'unknown (hours)', 'unknown (minutes)', \n",
    "          'unknown (ongoing)','unknown (seconds)')\n",
    "    if (yix %in% unks){\n",
    "        return(yix)\n",
    "    } else{\n",
    "        return(paste(\"0:\",yix, sep=\"\"))\n",
    "    }\n",
    "}\n",
    "\n",
    "t <- lapply(x[ix], fixer)\n",
    "print(unlist(t))"
   ]
  },
  {
   "cell_type": "code",
   "execution_count": 29,
   "metadata": {},
   "outputs": [],
   "source": [
    "# Better function:\n",
    "\n",
    "unks <- c('unknown', 'unknown (all night)', 'unknown (hours)', 'unknown (minutes)', \n",
    "          'unknown (ongoing)','unknown (seconds)')\n",
    "\n",
    "\n",
    "t2m_better <- function(ctf){\n",
    "    unks <- c('unknown', 'unknown (all night)', 'unknown (hours)', 'unknown (minutes)', \n",
    "          'unknown (ongoing)','unknown (seconds)')\n",
    "    if (ctf %in% unks) {\n",
    "        return(NA)\n",
    "    } else {\n",
    "        return(as.numeric(times(ctf))*24*60)\n",
    "    }\n",
    "}\n",
    "\n"
   ]
  },
  {
   "cell_type": "code",
   "execution_count": 45,
   "metadata": {},
   "outputs": [
    {
     "name": "stderr",
     "output_type": "stream",
     "text": [
      "Warning message in unpaste(times, sep = fmt$sep, fnames = fmt$periods, nfields = 3):\n",
      "“wrong number of fields in entry(ies) 1”"
     ]
    },
    {
     "ename": "ERROR",
     "evalue": "Error in convert.times(times., fmt): format h:m:s may be incorrect\n",
     "output_type": "error",
     "traceback": [
      "Error in convert.times(times., fmt): format h:m:s may be incorrect\nTraceback:\n",
      "1. lapply(x[1:70], t2m_better)",
      "2. FUN(X[[i]], ...)",
      "3. times(ctf)   # at line 13 of file <text>",
      "4. chron(times. = x, ...)",
      "5. convert.times(times., fmt)",
      "6. stop(paste(\"format\", format, \"may be incorrect\"))"
     ]
    }
   ],
   "source": [
    "lapply(x[1:70], t2m_better)"
   ]
  },
  {
   "cell_type": "code",
   "execution_count": 43,
   "metadata": {},
   "outputs": [
    {
     "name": "stdout",
     "output_type": "stream",
     "text": [
      "  [1] 0:00:01 0:00:01 0:00:01 0:00:01 0:00:01 0:00:01 0:00:01 0:00:01 0:00:01\n",
      " [10] 0:00:01 0:00:01 0:00:01 0:00:01 0:00:01 0:00:01 0:00:01 0:00:01 0:00:01\n",
      " [19] 0:00:01 0:00:01 0:00:01 0:00:01 0:00:01 0:00:01 0:00:01 0:00:01 0:00:02\n",
      " [28] 0:00:02 0:00:02 0:00:02 0:00:02 0:00:02 0:00:02 0:00:02 0:00:02 0:00:02\n",
      " [37] 0:00:02 0:00:02 0:00:02 0:00:02 0:00:02 0:00:02 0:00:02 0:00:02 0:00:02\n",
      " [46] 0:00:02 0:00:02 0:00:02 0:00:02 0:00:02 0:00:02 0:00:02 0:00:02 0:00:02\n",
      " [55] 0:00:02 0:00:02 0:00:02 0:00:02 0:00:02 0:00:02 0:00:02 0:00:02 0:00:02\n",
      " [64] 0:00:02 0:00:02 0:00:02 0:00:02 0:00:02 0:00:02 00:02.5 00:02.5 00:02.5\n",
      " [73] 00:02.5 00:02.5 00:02.5 00:02.5 00:02.5 0:00:03 0:00:03 0:00:03 0:00:03\n",
      " [82] 0:00:03 0:00:03 0:00:03 0:00:03 0:00:03 0:00:03 0:00:03 0:00:03 0:00:03\n",
      " [91] 0:00:03 0:00:03 0:00:03 0:00:03 0:00:03 0:00:03 0:00:03 0:00:03 0:00:03\n",
      "[100] 0:00:03\n",
      "61 Levels: 0:00:01 0:00:02 0:00:03 0:00:04 0:00:05 0:00:06 0:00:07 ... unknown (seconds)\n"
     ]
    }
   ],
   "source": [
    "print(x[1:69])"
   ]
  },
  {
   "cell_type": "code",
   "execution_count": 36,
   "metadata": {},
   "outputs": [
    {
     "data": {
      "text/html": [
       "'integer'"
      ],
      "text/latex": [
       "'integer'"
      ],
      "text/markdown": [
       "'integer'"
      ],
      "text/plain": [
       "[1] \"integer\""
      ]
     },
     "metadata": {},
     "output_type": "display_data"
    },
    {
     "data": {
      "text/html": [
       "'integer'"
      ],
      "text/latex": [
       "'integer'"
      ],
      "text/markdown": [
       "'integer'"
      ],
      "text/plain": [
       "[1] \"integer\""
      ]
     },
     "metadata": {},
     "output_type": "display_data"
    }
   ],
   "source": [
    "typeof(x)\n",
    "typeof(x[1])\n"
   ]
  },
  {
   "cell_type": "markdown",
   "metadata": {},
   "source": [
    "Version 1.0  \n",
    "2018.07.11  \n",
    "\n",
    "To contact the author, please email [mturner46@gsu.edu](mailto:mturner46@gsu.edu). Please contact me with recommendations for improvement or if you find any errors. This work may be adapted for any purpose within the bounds of the license.\n",
    "\n",
    "<a rel=\"license\" href=\"http://creativecommons.org/licenses/by-nc-sa/4.0/\"><img alt=\"Creative Commons License\" style=\"border-width:0\" src=\"https://i.creativecommons.org/l/by-nc-sa/4.0/88x31.png\" /></a><br />This work is licensed under a <a rel=\"license\" href=\"http://creativecommons.org/licenses/by-nc-sa/4.0/\">Creative Commons Attribution-NonCommercial-ShareAlike 4.0 International License</a>."
   ]
  }
 ],
 "metadata": {
  "kernelspec": {
   "display_name": "R",
   "language": "R",
   "name": "ir"
  },
  "language_info": {
   "codemirror_mode": "r",
   "file_extension": ".r",
   "mimetype": "text/x-r-source",
   "name": "R",
   "pygments_lexer": "r",
   "version": "3.3.1"
  }
 },
 "nbformat": 4,
 "nbformat_minor": 2
}
