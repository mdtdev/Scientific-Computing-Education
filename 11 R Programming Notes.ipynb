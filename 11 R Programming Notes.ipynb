{
 "cells": [
  {
   "cell_type": "markdown",
   "metadata": {},
   "source": [
    "# Introduction to R & Jupyter Notebooks\n",
    "\n",
    "Matthew D. Turner, PhD  \n",
    "Georgia State University\n",
    "\n",
    "Some rights reserved: [cc by-nc-sa](https://creativecommons.org/licenses/by-nc-sa/4.0/) See bottom of document for details.\n",
    "\n",
    "This workshop is intended as a brief introduction to programming in R."
   ]
  },
  {
   "cell_type": "code",
   "execution_count": null,
   "metadata": {},
   "outputs": [],
   "source": []
  },
  {
   "cell_type": "code",
   "execution_count": null,
   "metadata": {},
   "outputs": [],
   "source": []
  },
  {
   "cell_type": "code",
   "execution_count": null,
   "metadata": {},
   "outputs": [],
   "source": []
  },
  {
   "cell_type": "code",
   "execution_count": 5,
   "metadata": {},
   "outputs": [],
   "source": [
    "# The options dance:\n",
    "oldOpts <- options()     # Copy the current options (Run this like ONLY ONCE!)\n",
    "options(repr.plot.width=4, repr.plot.height=4)  # Make changes\n",
    "# options(oldOpts)       # Uncomment and run this to restore options to original state"
   ]
  },
  {
   "cell_type": "code",
   "execution_count": 6,
   "metadata": {},
   "outputs": [],
   "source": [
    "x  = c(1,2,3,4,5,6,7,8,9)  # Give a list of numbers a name\n",
    "y <- c(2,1,3,4,6,5,8,8,7)  # Same thing! <- and = can both be used for assignment"
   ]
  },
  {
   "cell_type": "code",
   "execution_count": 7,
   "metadata": {},
   "outputs": [
    {
     "data": {
      "text/html": [
       "0.923093083245744"
      ],
      "text/latex": [
       "0.923093083245744"
      ],
      "text/markdown": [
       "0.923093083245744"
      ],
      "text/plain": [
       "[1] 0.9230931"
      ]
     },
     "metadata": {},
     "output_type": "display_data"
    },
    {
     "data": {
      "image/png": "[encoded data removed]",
      "text/plain": [
       "plot without title"
      ]
     },
     "metadata": {},
     "output_type": "display_data"
    }
   ],
   "source": [
    "#oldOpts <- options()\n",
    "#options(repr.plot.width=4, repr.plot.height=4)\n",
    "#options(oldOpts)\n",
    "\n",
    "plot(x, y, pch = 20)\n",
    "cor(x, y)"
   ]
  },
  {
   "cell_type": "code",
   "execution_count": null,
   "metadata": {},
   "outputs": [],
   "source": []
  },
  {
   "cell_type": "markdown",
   "metadata": {},
   "source": [
    "## Some Simple Times & Dates\n",
    "\n",
    "R has a library for working with times and dates. Here we will work with durations from the subset of the **UFO Awesome** dataset we are using as part of today's workshop. These data have a timecode in the format: `hh:mm:ss.f` or `hours:minutes:seconds.fraction` and the decimal allows for half second fractions (in this data you should only see .5 occasionally). So:\n",
    "\n",
    "+ 0:30:00 is 30 minutes\n",
    "+ 1:15:00 is 1 hour and 15 minutes\n",
    "+ 0:00:25 is 25 seconds\n",
    "+ 0:00:12.5 is 12.5 seconds\n",
    "\n",
    "Here is how the functions work:"
   ]
  },
  {
   "cell_type": "code",
   "execution_count": 1,
   "metadata": {},
   "outputs": [
    {
     "data": {
      "text/plain": [
       "[1] 00:30:00"
      ]
     },
     "metadata": {},
     "output_type": "display_data"
    },
    {
     "data": {
      "text/html": [
       "0.0208333333333333"
      ],
      "text/latex": [
       "0.0208333333333333"
      ],
      "text/markdown": [
       "0.0208333333333333"
      ],
      "text/plain": [
       "[1] 0.02083333"
      ]
     },
     "metadata": {},
     "output_type": "display_data"
    },
    {
     "data": {
      "text/html": [
       "0.5"
      ],
      "text/latex": [
       "0.5"
      ],
      "text/markdown": [
       "0.5"
      ],
      "text/plain": [
       "[1] 0.5"
      ]
     },
     "metadata": {},
     "output_type": "display_data"
    },
    {
     "data": {
      "text/html": [
       "30"
      ],
      "text/latex": [
       "30"
      ],
      "text/markdown": [
       "30"
      ],
      "text/plain": [
       "[1] 30"
      ]
     },
     "metadata": {},
     "output_type": "display_data"
    },
    {
     "data": {
      "text/html": [
       "1800"
      ],
      "text/latex": [
       "1800"
      ],
      "text/markdown": [
       "1800"
      ],
      "text/plain": [
       "[1] 1800"
      ]
     },
     "metadata": {},
     "output_type": "display_data"
    }
   ],
   "source": [
    "library(chron) # Loads the chron library for additional time functions\n",
    "\n",
    "# Example:\n",
    "\n",
    "times(\"0:30:00\")    # This converts the string \"0:30:00\" into a time object\n",
    "                    # It does not look any different when printed below!\n",
    "\n",
    "as.numeric(times(\"0:30:00\"))    # This converts the time into a number (in terms of a fractional DAY, weird!)\n",
    "\n",
    "as.numeric(times(\"0:30:00\"))*24         # Convert fractions of a day to hours (30m = 0.50h)\n",
    "as.numeric(times(\"0:30:00\"))*24*60      # Convert fractions of a day to minutes\n",
    "as.numeric(times(\"0:30:00\"))*24*60*60   # Convert fractions of a day into seconds (30m = 1800s)"
   ]
  },
  {
   "cell_type": "markdown",
   "metadata": {},
   "source": [
    "Since we want to convert our times into minutes, let's wrap all of this up into a function to do it:"
   ]
  },
  {
   "cell_type": "code",
   "execution_count": 2,
   "metadata": {},
   "outputs": [],
   "source": [
    "t2m <- function(ctf){\n",
    "    return(as.numeric(times(ctf))*24*60)\n",
    "}"
   ]
  },
  {
   "cell_type": "code",
   "execution_count": 3,
   "metadata": {},
   "outputs": [
    {
     "data": {
      "text/html": [
       "30"
      ],
      "text/latex": [
       "30"
      ],
      "text/markdown": [
       "30"
      ],
      "text/plain": [
       "[1] 30"
      ]
     },
     "metadata": {},
     "output_type": "display_data"
    },
    {
     "data": {
      "text/html": [
       "75"
      ],
      "text/latex": [
       "75"
      ],
      "text/markdown": [
       "75"
      ],
      "text/plain": [
       "[1] 75"
      ]
     },
     "metadata": {},
     "output_type": "display_data"
    },
    {
     "data": {
      "text/html": [
       "0.5"
      ],
      "text/latex": [
       "0.5"
      ],
      "text/markdown": [
       "0.5"
      ],
      "text/plain": [
       "[1] 0.5"
      ]
     },
     "metadata": {},
     "output_type": "display_data"
    },
    {
     "data": {
      "text/html": [
       "0.416666666666667"
      ],
      "text/latex": [
       "0.416666666666667"
      ],
      "text/markdown": [
       "0.416666666666667"
      ],
      "text/plain": [
       "[1] 0.4166667"
      ]
     },
     "metadata": {},
     "output_type": "display_data"
    },
    {
     "data": {
      "text/html": [
       "0.208333333333333"
      ],
      "text/latex": [
       "0.208333333333333"
      ],
      "text/markdown": [
       "0.208333333333333"
      ],
      "text/plain": [
       "[1] 0.2083333"
      ]
     },
     "metadata": {},
     "output_type": "display_data"
    }
   ],
   "source": [
    "t2m(\"0:30:00\")\n",
    "t2m(\"1:15:00\")    # 75 minutes\n",
    "t2m(\"0:00:30\")    # 0.5 minutes\n",
    "t2m(\"0:00:25\")\n",
    "t2m(\"0:00:12.5\")"
   ]
  },
  {
   "cell_type": "code",
   "execution_count": null,
   "metadata": {},
   "outputs": [],
   "source": []
  },
  {
   "cell_type": "code",
   "execution_count": null,
   "metadata": {},
   "outputs": [],
   "source": []
  },
  {
   "cell_type": "markdown",
   "metadata": {},
   "source": [
    "Version 1.0  \n",
    "2018.07.11  \n",
    "\n",
    "To contact the author, please email [mturner46@gsu.edu](mailto:mturner46@gsu.edu). Please contact me with recommendations for improvement or if you find any errors. This work may be adapted for any purpose within the bounds of the license.\n",
    "\n",
    "<a rel=\"license\" href=\"http://creativecommons.org/licenses/by-nc-sa/4.0/\"><img alt=\"Creative Commons License\" style=\"border-width:0\" src=\"https://i.creativecommons.org/l/by-nc-sa/4.0/88x31.png\" /></a><br />This work is licensed under a <a rel=\"license\" href=\"http://creativecommons.org/licenses/by-nc-sa/4.0/\">Creative Commons Attribution-NonCommercial-ShareAlike 4.0 International License</a>."
   ]
  },
  {
   "cell_type": "code",
   "execution_count": null,
   "metadata": {},
   "outputs": [],
   "source": []
  }
 ],
 "metadata": {
  "kernelspec": {
   "display_name": "R",
   "language": "R",
   "name": "ir"
  },
  "language_info": {
   "codemirror_mode": "r",
   "file_extension": ".r",
   "mimetype": "text/x-r-source",
   "name": "R",
   "pygments_lexer": "r",
   "version": "3.3.1"
  }
 },
 "nbformat": 4,
 "nbformat_minor": 2
}
