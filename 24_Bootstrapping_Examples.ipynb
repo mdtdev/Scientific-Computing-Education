{
 "cells": [
  {
   "cell_type": "markdown",
   "metadata": {},
   "source": [
    "# Introduction to R Programming: Loops, Conditionals, & Functions\n",
    "\n",
    "Matthew D. Turner, PhD  \n",
    "Georgia State University\n",
    "\n",
    "Some rights reserved: [cc by-nc-sa](https://creativecommons.org/licenses/by-nc-sa/4.0/) See bottom of document for details.\n",
    "***\n",
    "# Bootstrapping\n",
    "A very general statistical technique is the [bootstrap](https://en.wikipedia.org/wiki/Bootstrapping_%28statistics%29) invented by the statistician [Brad Efron](https://en.wikipedia.org/wiki/Bradley_Efron) in the [late 1970's](https://projecteuclid.org/download/pdf_1/euclid.aos/1176344552). The central idea of bootstrapping is to **resample** data using some form of sampling _with replacement_. In essence, it replaces parametric assumptions with computing power. The method is related (in an evolutionary sense) to other methods such as [cross-validation](https://en.wikipedia.org/wiki/Cross-validation_%28statistics%29) and the [jacknife](https://en.wikipedia.org/wiki/Jackknife_resampling) (see also [this](http://www.math.ntu.edu.tw/~hchen/teaching/LargeSample/references/Miller74jackknife.pdf)), the latter being developed by [Quenouille](https://en.wikipedia.org/wiki/Maurice_Quenouille); and all of these are very useful in machine learning and regression contexts. The bootstrap was originally introduced to estimate **bias** in statistical estimators. A good summary of uses for the bootstrap is given [here](https://projecteuclid.org/download/pdf_1/euclid.ss/1177013815).\n",
    "\n",
    "## What is the Bootstrap?\n",
    "The bootstrap uses the sample as a [plug-in estimate](https://www.researchgate.net/publication/236647074_Using_Bootstrap_Estimation_and_the_Plug-in_Principle_for_Clinical_Psychology_Data) of the distribution (population) from which the data was drawn. Traditional statistics assumes a parametric form (usually the normal or Gaussian) for this population. The assumption is that the features of the distribution are reflected in the same features of the sample. Wikipedia describes it:\n",
    "\n",
    "> More formally, the bootstrap works by treating inference of the true probability distribution J, given the original data, as being analogous to inference of the empirical distribution Ĵ, given the resampled data. The accuracy of inferences regarding Ĵ using the resampled data can be assessed because we know Ĵ. If Ĵ is a reasonable approximation to J, then the quality of inference on J can in turn be inferred. [From Wikipedia](https://en.wikipedia.org/wiki/Bootstrapping_%28statistics%29#Approach).\n",
    "\n",
    "So, in essence, we treat **resamples** (with replacement) from the sample as being analogous to a collection of **samples** from the original population. (Resamples are to the sample, what samples are to the population.) Despite the fact that this sounds somewhat silly (it really does seem like a magic trick!) it tends to work in a lot of applied cases. Also, there has been a thorough theoretical basis developed for the method.\n",
    "\n",
    "**Important Note**: Although the simplest form of bootstrapping discussed here does work for some problems, it is **not** to be taken as a general technique to be used without significant study on your part. In general, this simplest version of the method is **not** to be used directly for real-world data problems, but should instead be replaced by several better, somewhat more complicated, methods such as the **bias-corrected and accelerated bootstrap**, the **ABC bootstrap**, and the **bootstrap-T**. All of these are covered in [DiCiccio and Efron (1996)](https://projecteuclid.org/download/pdf_1/euclid.ss/1032280214), and [Carpenter and Bithell (2000)](https://www.tau.ac.il/~saharon/Boot/10.1.1.133.8405.pdf) provides a general survey. For the average user, Carpenter and Bithell may be the best available paper to start your reading. For a less technical introduction, see [Wright, London, and Field (2011)](https://www.researchgate.net/publication/236647074_Using_Bootstrap_Estimation_and_the_Plug-in_Principle_for_Clinical_Psychology_Data), however this paper does not go into detail on the more advanced methods.\n",
    "\n",
    "## Why Discuss This Here?\n",
    "Implementing the bootstrap in R requires using either functions or loops, or both, so it is a good topic to show off using these structures.\n",
    "\n",
    "### Prerequisites\n",
    "To fully follow the bootstrap details in this section, you will need to know a little bit about statistical inference, normal theory, confidence intervals, and probability. To follow just the parts dealing with using the structures from this workshop, you can ignore some of the details and you should be fine.\n",
    "***\n",
    "## Bootstrap Example (Means)\n",
    "In this notebook we will analyze a very simple case using the **percentile bootstrap**. This is a method for estimating upper and lower bounds for the confidence interval around the mean. You hopefully remember confidence intervals from introductory statistics, particularly under the assumption of a normal distribution.\n",
    "\n",
    "When the data is symmetric and there is a large sample this method works well, however for most real-world problems it should be replaced by the BC<sub>a</sub> (bias-corrected and accelerated) bootstrap. \n",
    "\n",
    "First, let's generate a random set of data to use for analysis. We use `rnorm` which makes up normally distributed random numbers. Here we make up 100 random numbers, from a distribution with a mean 50 and standard deviation 10.\n",
    "\n",
    "In the following cell we also use the `set.seed` function in R which \"reboots\" the random number generator and sets it to a specific starting state. This makes sure that when you run this file you get the same random numbers each time."
   ]
  },
  {
   "cell_type": "code",
   "execution_count": 199,
   "metadata": {},
   "outputs": [
    {
     "data": {
      "text/html": [
       "<ol class=list-inline>\n",
       "\t<li>45.5422173516332</li>\n",
       "\t<li>37.941434310357</li>\n",
       "\t<li>50.4112631384569</li>\n",
       "\t<li>56.3938840757114</li>\n",
       "\t<li>42.1344564408727</li>\n",
       "\t<li>46.1451070190448</li>\n",
       "\t<li>45.2413211592229</li>\n",
       "\t<li>57.1975069147444</li>\n",
       "\t<li>49.8149437711243</li>\n",
       "\t<li>36.2688224106145</li>\n",
       "\t<li>40.1757217231966</li>\n",
       "\t<li>44.4551129841814</li>\n",
       "\t<li>51.2138118865766</li>\n",
       "\t<li>48.7912768406252</li>\n",
       "\t<li>36.6395895144539</li>\n",
       "\t<li>51.7005748120841</li>\n",
       "\t<li>51.5507871594073</li>\n",
       "\t<li>50.2493186736724</li>\n",
       "\t<li>29.5341458597885</li>\n",
       "\t<li>52.1315410560861</li>\n",
       "\t<li>76.7007166431368</li>\n",
       "\t<li>37.7298399368789</li>\n",
       "\t<li>58.3424733194768</li>\n",
       "\t<li>55.3257174705049</li>\n",
       "\t<li>43.5317503681323</li>\n",
       "\t<li>56.0316126083229</li>\n",
       "\t<li>32.1615586428783</li>\n",
       "\t<li>53.3494216711747</li>\n",
       "\t<li>55.6097572188509</li>\n",
       "\t<li>62.2093565459939</li>\n",
       "\t<li>47.8854641228279</li>\n",
       "\t<li>56.9942952513621</li>\n",
       "\t<li>42.9356331799052</li>\n",
       "\t<li>45.3484905487909</li>\n",
       "\t<li>32.33801389944</li>\n",
       "\t<li>51.8928859586858</li>\n",
       "\t<li>46.3381932388053</li>\n",
       "\t<li>60.5760117768447</li>\n",
       "\t<li>42.5837853814782</li>\n",
       "\t<li>36.5164094741474</li>\n",
       "\t<li>44.8269356803811</li>\n",
       "\t<li>64.1173570168973</li>\n",
       "\t<li>51.8546502776829</li>\n",
       "\t<li>49.5630855721357</li>\n",
       "\t<li>47.8408662479458</li>\n",
       "\t<li>64.6377534634325</li>\n",
       "\t<li>52.2966663723744</li>\n",
       "\t<li>51.0762363435244</li>\n",
       "\t<li>36.2189744111054</li>\n",
       "\t<li>40.3181711684536</li>\n",
       "\t<li>52.5171138012319</li>\n",
       "\t<li>39.053063026515</li>\n",
       "\t<li>53.9764284496018</li>\n",
       "\t<li>40.0369799565976</li>\n",
       "\t<li>51.005780119769</li>\n",
       "\t<li>59.5368028142711</li>\n",
       "\t<li>32.096770652052</li>\n",
       "\t<li>53.1170121582435</li>\n",
       "\t<li>75.5398800659486</li>\n",
       "\t<li>41.3916224402569</li>\n",
       "\t<li>55.4392844182024</li>\n",
       "\t<li>46.0766196353942</li>\n",
       "\t<li>62.3544189835141</li>\n",
       "\t<li>61.9608643943549</li>\n",
       "\t<li>45.0425309873323</li>\n",
       "\t<li>47.0565877877015</li>\n",
       "\t<li>44.2650251730313</li>\n",
       "\t<li>66.192087280749</li>\n",
       "\t<li>40.4307232682759</li>\n",
       "\t<li>50.4123711966361</li>\n",
       "\t<li>35.0168955665366</li>\n",
       "\t<li>56.6095915633094</li>\n",
       "\t<li>52.8545762080188</li>\n",
       "\t<li>63.8886629376769</li>\n",
       "\t<li>48.4065639479518</li>\n",
       "\t<li>45.390810968458</li>\n",
       "\t<li>51.6843807137244</li>\n",
       "\t<li>63.9549302314235</li>\n",
       "\t<li>57.2842626108347</li>\n",
       "\t<li>53.350899493494</li>\n",
       "\t<li>61.6927649206754</li>\n",
       "\t<li>52.4796682456098</li>\n",
       "\t<li>46.4185052753604</li>\n",
       "\t<li>63.8349332408034</li>\n",
       "\t<li>54.1206916653873</li>\n",
       "\t<li>48.7699213823501</li>\n",
       "\t<li>49.3377068768403</li>\n",
       "\t<li>26.7750912274369</li>\n",
       "\t<li>39.5434349890145</li>\n",
       "\t<li>70.5787502359886</li>\n",
       "\t<li>69.7153237494221</li>\n",
       "\t<li>30.7900480337292</li>\n",
       "\t<li>54.6212607020879</li>\n",
       "\t<li>48.3927593645373</li>\n",
       "\t<li>48.9578846795238</li>\n",
       "\t<li>54.6783940125645</li>\n",
       "\t<li>54.4392081515168</li>\n",
       "\t<li>58.285528084086</li>\n",
       "\t<li>46.1294987766858</li>\n",
       "\t<li>70.1893816266065</li>\n",
       "</ol>\n"
      ],
      "text/latex": [
       "\\begin{enumerate*}\n",
       "\\item 45.5422173516332\n",
       "\\item 37.941434310357\n",
       "\\item 50.4112631384569\n",
       "\\item 56.3938840757114\n",
       "\\item 42.1344564408727\n",
       "\\item 46.1451070190448\n",
       "\\item 45.2413211592229\n",
       "\\item 57.1975069147444\n",
       "\\item 49.8149437711243\n",
       "\\item 36.2688224106145\n",
       "\\item 40.1757217231966\n",
       "\\item 44.4551129841814\n",
       "\\item 51.2138118865766\n",
       "\\item 48.7912768406252\n",
       "\\item 36.6395895144539\n",
       "\\item 51.7005748120841\n",
       "\\item 51.5507871594073\n",
       "\\item 50.2493186736724\n",
       "\\item 29.5341458597885\n",
       "\\item 52.1315410560861\n",
       "\\item 76.7007166431368\n",
       "\\item 37.7298399368789\n",
       "\\item 58.3424733194768\n",
       "\\item 55.3257174705049\n",
       "\\item 43.5317503681323\n",
       "\\item 56.0316126083229\n",
       "\\item 32.1615586428783\n",
       "\\item 53.3494216711747\n",
       "\\item 55.6097572188509\n",
       "\\item 62.2093565459939\n",
       "\\item 47.8854641228279\n",
       "\\item 56.9942952513621\n",
       "\\item 42.9356331799052\n",
       "\\item 45.3484905487909\n",
       "\\item 32.33801389944\n",
       "\\item 51.8928859586858\n",
       "\\item 46.3381932388053\n",
       "\\item 60.5760117768447\n",
       "\\item 42.5837853814782\n",
       "\\item 36.5164094741474\n",
       "\\item 44.8269356803811\n",
       "\\item 64.1173570168973\n",
       "\\item 51.8546502776829\n",
       "\\item 49.5630855721357\n",
       "\\item 47.8408662479458\n",
       "\\item 64.6377534634325\n",
       "\\item 52.2966663723744\n",
       "\\item 51.0762363435244\n",
       "\\item 36.2189744111054\n",
       "\\item 40.3181711684536\n",
       "\\item 52.5171138012319\n",
       "\\item 39.053063026515\n",
       "\\item 53.9764284496018\n",
       "\\item 40.0369799565976\n",
       "\\item 51.005780119769\n",
       "\\item 59.5368028142711\n",
       "\\item 32.096770652052\n",
       "\\item 53.1170121582435\n",
       "\\item 75.5398800659486\n",
       "\\item 41.3916224402569\n",
       "\\item 55.4392844182024\n",
       "\\item 46.0766196353942\n",
       "\\item 62.3544189835141\n",
       "\\item 61.9608643943549\n",
       "\\item 45.0425309873323\n",
       "\\item 47.0565877877015\n",
       "\\item 44.2650251730313\n",
       "\\item 66.192087280749\n",
       "\\item 40.4307232682759\n",
       "\\item 50.4123711966361\n",
       "\\item 35.0168955665366\n",
       "\\item 56.6095915633094\n",
       "\\item 52.8545762080188\n",
       "\\item 63.8886629376769\n",
       "\\item 48.4065639479518\n",
       "\\item 45.390810968458\n",
       "\\item 51.6843807137244\n",
       "\\item 63.9549302314235\n",
       "\\item 57.2842626108347\n",
       "\\item 53.350899493494\n",
       "\\item 61.6927649206754\n",
       "\\item 52.4796682456098\n",
       "\\item 46.4185052753604\n",
       "\\item 63.8349332408034\n",
       "\\item 54.1206916653873\n",
       "\\item 48.7699213823501\n",
       "\\item 49.3377068768403\n",
       "\\item 26.7750912274369\n",
       "\\item 39.5434349890145\n",
       "\\item 70.5787502359886\n",
       "\\item 69.7153237494221\n",
       "\\item 30.7900480337292\n",
       "\\item 54.6212607020879\n",
       "\\item 48.3927593645373\n",
       "\\item 48.9578846795238\n",
       "\\item 54.6783940125645\n",
       "\\item 54.4392081515168\n",
       "\\item 58.285528084086\n",
       "\\item 46.1294987766858\n",
       "\\item 70.1893816266065\n",
       "\\end{enumerate*}\n"
      ],
      "text/markdown": [
       "1. 45.5422173516332\n",
       "2. 37.941434310357\n",
       "3. 50.4112631384569\n",
       "4. 56.3938840757114\n",
       "5. 42.1344564408727\n",
       "6. 46.1451070190448\n",
       "7. 45.2413211592229\n",
       "8. 57.1975069147444\n",
       "9. 49.8149437711243\n",
       "10. 36.2688224106145\n",
       "11. 40.1757217231966\n",
       "12. 44.4551129841814\n",
       "13. 51.2138118865766\n",
       "14. 48.7912768406252\n",
       "15. 36.6395895144539\n",
       "16. 51.7005748120841\n",
       "17. 51.5507871594073\n",
       "18. 50.2493186736724\n",
       "19. 29.5341458597885\n",
       "20. 52.1315410560861\n",
       "21. 76.7007166431368\n",
       "22. 37.7298399368789\n",
       "23. 58.3424733194768\n",
       "24. 55.3257174705049\n",
       "25. 43.5317503681323\n",
       "26. 56.0316126083229\n",
       "27. 32.1615586428783\n",
       "28. 53.3494216711747\n",
       "29. 55.6097572188509\n",
       "30. 62.2093565459939\n",
       "31. 47.8854641228279\n",
       "32. 56.9942952513621\n",
       "33. 42.9356331799052\n",
       "34. 45.3484905487909\n",
       "35. 32.33801389944\n",
       "36. 51.8928859586858\n",
       "37. 46.3381932388053\n",
       "38. 60.5760117768447\n",
       "39. 42.5837853814782\n",
       "40. 36.5164094741474\n",
       "41. 44.8269356803811\n",
       "42. 64.1173570168973\n",
       "43. 51.8546502776829\n",
       "44. 49.5630855721357\n",
       "45. 47.8408662479458\n",
       "46. 64.6377534634325\n",
       "47. 52.2966663723744\n",
       "48. 51.0762363435244\n",
       "49. 36.2189744111054\n",
       "50. 40.3181711684536\n",
       "51. 52.5171138012319\n",
       "52. 39.053063026515\n",
       "53. 53.9764284496018\n",
       "54. 40.0369799565976\n",
       "55. 51.005780119769\n",
       "56. 59.5368028142711\n",
       "57. 32.096770652052\n",
       "58. 53.1170121582435\n",
       "59. 75.5398800659486\n",
       "60. 41.3916224402569\n",
       "61. 55.4392844182024\n",
       "62. 46.0766196353942\n",
       "63. 62.3544189835141\n",
       "64. 61.9608643943549\n",
       "65. 45.0425309873323\n",
       "66. 47.0565877877015\n",
       "67. 44.2650251730313\n",
       "68. 66.192087280749\n",
       "69. 40.4307232682759\n",
       "70. 50.4123711966361\n",
       "71. 35.0168955665366\n",
       "72. 56.6095915633094\n",
       "73. 52.8545762080188\n",
       "74. 63.8886629376769\n",
       "75. 48.4065639479518\n",
       "76. 45.390810968458\n",
       "77. 51.6843807137244\n",
       "78. 63.9549302314235\n",
       "79. 57.2842626108347\n",
       "80. 53.350899493494\n",
       "81. 61.6927649206754\n",
       "82. 52.4796682456098\n",
       "83. 46.4185052753604\n",
       "84. 63.8349332408034\n",
       "85. 54.1206916653873\n",
       "86. 48.7699213823501\n",
       "87. 49.3377068768403\n",
       "88. 26.7750912274369\n",
       "89. 39.5434349890145\n",
       "90. 70.5787502359886\n",
       "91. 69.7153237494221\n",
       "92. 30.7900480337292\n",
       "93. 54.6212607020879\n",
       "94. 48.3927593645373\n",
       "95. 48.9578846795238\n",
       "96. 54.6783940125645\n",
       "97. 54.4392081515168\n",
       "98. 58.285528084086\n",
       "99. 46.1294987766858\n",
       "100. 70.1893816266065\n",
       "\n",
       "\n"
      ],
      "text/plain": [
       "  [1] 45.54222 37.94143 50.41126 56.39388 42.13446 46.14511 45.24132 57.19751\n",
       "  [9] 49.81494 36.26882 40.17572 44.45511 51.21381 48.79128 36.63959 51.70057\n",
       " [17] 51.55079 50.24932 29.53415 52.13154 76.70072 37.72984 58.34247 55.32572\n",
       " [25] 43.53175 56.03161 32.16156 53.34942 55.60976 62.20936 47.88546 56.99430\n",
       " [33] 42.93563 45.34849 32.33801 51.89289 46.33819 60.57601 42.58379 36.51641\n",
       " [41] 44.82694 64.11736 51.85465 49.56309 47.84087 64.63775 52.29667 51.07624\n",
       " [49] 36.21897 40.31817 52.51711 39.05306 53.97643 40.03698 51.00578 59.53680\n",
       " [57] 32.09677 53.11701 75.53988 41.39162 55.43928 46.07662 62.35442 61.96086\n",
       " [65] 45.04253 47.05659 44.26503 66.19209 40.43072 50.41237 35.01690 56.60959\n",
       " [73] 52.85458 63.88866 48.40656 45.39081 51.68438 63.95493 57.28426 53.35090\n",
       " [81] 61.69276 52.47967 46.41851 63.83493 54.12069 48.76992 49.33771 26.77509\n",
       " [89] 39.54343 70.57875 69.71532 30.79005 54.62126 48.39276 48.95788 54.67839\n",
       " [97] 54.43921 58.28553 46.12950 70.18938"
      ]
     },
     "metadata": {},
     "output_type": "display_data"
    }
   ],
   "source": [
    "set.seed(1000)\n",
    "x <- rnorm(100, mean = 50, sd = 10)\n",
    "x"
   ]
  },
  {
   "cell_type": "markdown",
   "metadata": {},
   "source": [
    "According to theory the 95% confidence interval (CI) is given by the formula: $$\\bar{x} \\pm t_{n - 1} \\cdot \\frac{s_x}{\\sqrt{n}}$$ where $\\bar{x}$ is the mean of the $x$'s, $t$ is the (95%) \"critical value\" from the $t$-distribution, $n$ is the sample size, and $s_x$ is the standard deviation of the data.\n",
    "\n",
    "This value is returned as part of the output of the `t.test` function in R. If you have not used the `t.test` function before, consult the help for this, then run `t.test` on `x`."
   ]
  },
  {
   "cell_type": "code",
   "execution_count": null,
   "metadata": {},
   "outputs": [],
   "source": [
    "# Apply the t.test function to x\n",
    "\n"
   ]
  },
  {
   "cell_type": "code",
   "execution_count": 200,
   "metadata": {},
   "outputs": [
    {
     "data": {
      "text/plain": [
       "\n",
       "\tOne Sample t-test\n",
       "\n",
       "data:  x\n",
       "t = 49.835, df = 99, p-value < 2.2e-16\n",
       "alternative hypothesis: true mean is not equal to 0\n",
       "95 percent confidence interval:\n",
       " 48.16649 52.16109\n",
       "sample estimates:\n",
       "mean of x \n",
       " 50.16379 \n"
      ]
     },
     "metadata": {},
     "output_type": "display_data"
    }
   ],
   "source": [
    "t.test(x)"
   ]
  },
  {
   "cell_type": "markdown",
   "metadata": {},
   "source": [
    "What is the 95% CI? Find it in the output you just got."
   ]
  },
  {
   "cell_type": "code",
   "execution_count": 201,
   "metadata": {},
   "outputs": [
    {
     "data": {
      "text/html": [
       "<ol class=list-inline>\n",
       "\t<li>48.1664912889436</li>\n",
       "\t<li>52.1610930511516</li>\n",
       "</ol>\n"
      ],
      "text/latex": [
       "\\begin{enumerate*}\n",
       "\\item 48.1664912889436\n",
       "\\item 52.1610930511516\n",
       "\\end{enumerate*}\n"
      ],
      "text/markdown": [
       "1. 48.1664912889436\n",
       "2. 52.1610930511516\n",
       "\n",
       "\n"
      ],
      "text/plain": [
       "[1] 48.16649 52.16109\n",
       "attr(,\"conf.level\")\n",
       "[1] 0.95"
      ]
     },
     "metadata": {},
     "output_type": "display_data"
    }
   ],
   "source": [
    "# Here is a method for picking out just the CI values from the\n",
    "# t.test output:\n",
    "\n",
    "t.test(x)$conf.int"
   ]
  },
  {
   "cell_type": "markdown",
   "metadata": {},
   "source": [
    "The CI above is the normal-theory CI, it assumes that the data is normal, and deduces the limits of the interval from the theoretical properties of the normal. However there is another way to get an approximation to this. We can:\n",
    "1. Draw a resample from the data.\n",
    "1. Compute the statistic of interest (here the `mean`).\n",
    "1. Repeat this many times, collecting the means. (This collection will be the bootstrap estimate of the distribution of the mean.)\n",
    "1. Determine the percentile limits of this distribution.\n",
    "\n",
    "We will do this step-by-step below.\n",
    "\n",
    "### 1. How do we get a resample?\n",
    "\n",
    "R has functions for drawing a sample from a list of numbers. The main function is:\n",
    "\n",
    "```R\n",
    "sample(x, size, replace = FALSE)\n",
    "```\n",
    "\n",
    "This function takes `x` as input, draws a sample of a size you determine, and can be done both with and without replacement. For bootstrapping the sampling is **always** done with replacement, so we have to set `replace = TRUE` in all of our work.\n",
    "\n",
    "We will always take a sample equal in size to the size of our original data."
   ]
  },
  {
   "cell_type": "code",
   "execution_count": 202,
   "metadata": {},
   "outputs": [
    {
     "data": {
      "text/html": [
       "<ol class=list-inline>\n",
       "\t<li>49.8149437711243</li>\n",
       "\t<li>45.3484905487909</li>\n",
       "\t<li>32.096770652052</li>\n",
       "\t<li>40.3181711684536</li>\n",
       "\t<li>64.6377534634325</li>\n",
       "\t<li>32.33801389944</li>\n",
       "\t<li>61.6927649206754</li>\n",
       "\t<li>59.5368028142711</li>\n",
       "\t<li>59.5368028142711</li>\n",
       "\t<li>35.0168955665366</li>\n",
       "\t<li>53.1170121582435</li>\n",
       "\t<li>61.9608643943549</li>\n",
       "\t<li>47.0565877877015</li>\n",
       "\t<li>59.5368028142711</li>\n",
       "\t<li>37.941434310357</li>\n",
       "\t<li>49.5630855721357</li>\n",
       "\t<li>54.1206916653873</li>\n",
       "\t<li>48.7912768406252</li>\n",
       "\t<li>39.5434349890145</li>\n",
       "\t<li>52.4796682456098</li>\n",
       "\t<li>63.9549302314235</li>\n",
       "\t<li>60.5760117768447</li>\n",
       "\t<li>42.5837853814782</li>\n",
       "\t<li>51.8928859586858</li>\n",
       "\t<li>64.1173570168973</li>\n",
       "\t<li>41.3916224402569</li>\n",
       "\t<li>47.8408662479458</li>\n",
       "\t<li>54.1206916653873</li>\n",
       "\t<li>54.4392081515168</li>\n",
       "\t<li>46.0766196353942</li>\n",
       "\t<li>56.9942952513621</li>\n",
       "\t<li>37.7298399368789</li>\n",
       "\t<li>46.0766196353942</li>\n",
       "\t<li>55.4392844182024</li>\n",
       "\t<li>45.2413211592229</li>\n",
       "\t<li>58.3424733194768</li>\n",
       "\t<li>48.9578846795238</li>\n",
       "\t<li>60.5760117768447</li>\n",
       "\t<li>41.3916224402569</li>\n",
       "\t<li>46.4185052753604</li>\n",
       "\t<li>56.6095915633094</li>\n",
       "\t<li>48.9578846795238</li>\n",
       "\t<li>60.5760117768447</li>\n",
       "\t<li>45.5422173516332</li>\n",
       "\t<li>66.192087280749</li>\n",
       "\t<li>70.5787502359886</li>\n",
       "\t<li>48.7699213823501</li>\n",
       "\t<li>52.8545762080188</li>\n",
       "\t<li>62.3544189835141</li>\n",
       "\t<li>57.2842626108347</li>\n",
       "\t<li>56.0316126083229</li>\n",
       "\t<li>61.6927649206754</li>\n",
       "\t<li>76.7007166431368</li>\n",
       "\t<li>40.3181711684536</li>\n",
       "\t<li>36.2688224106145</li>\n",
       "\t<li>51.005780119769</li>\n",
       "\t<li>75.5398800659486</li>\n",
       "\t<li>42.9356331799052</li>\n",
       "\t<li>43.5317503681323</li>\n",
       "\t<li>48.4065639479518</li>\n",
       "\t<li>47.8854641228279</li>\n",
       "\t<li>76.7007166431368</li>\n",
       "\t<li>57.2842626108347</li>\n",
       "\t<li>51.8546502776829</li>\n",
       "\t<li>48.7699213823501</li>\n",
       "\t<li>37.941434310357</li>\n",
       "\t<li>53.1170121582435</li>\n",
       "\t<li>52.4796682456098</li>\n",
       "\t<li>40.3181711684536</li>\n",
       "\t<li>32.096770652052</li>\n",
       "\t<li>47.8854641228279</li>\n",
       "\t<li>48.7912768406252</li>\n",
       "\t<li>49.3377068768403</li>\n",
       "\t<li>32.33801389944</li>\n",
       "\t<li>45.2413211592229</li>\n",
       "\t<li>51.005780119769</li>\n",
       "\t<li>49.8149437711243</li>\n",
       "\t<li>55.3257174705049</li>\n",
       "\t<li>40.0369799565976</li>\n",
       "\t<li>44.2650251730313</li>\n",
       "\t<li>55.4392844182024</li>\n",
       "\t<li>53.350899493494</li>\n",
       "\t<li>40.4307232682759</li>\n",
       "\t<li>49.3377068768403</li>\n",
       "\t<li>76.7007166431368</li>\n",
       "\t<li>53.9764284496018</li>\n",
       "\t<li>52.4796682456098</li>\n",
       "\t<li>42.9356331799052</li>\n",
       "\t<li>44.4551129841814</li>\n",
       "\t<li>66.192087280749</li>\n",
       "\t<li>46.3381932388053</li>\n",
       "\t<li>51.8928859586858</li>\n",
       "\t<li>39.5434349890145</li>\n",
       "\t<li>29.5341458597885</li>\n",
       "\t<li>54.6783940125645</li>\n",
       "\t<li>51.7005748120841</li>\n",
       "\t<li>39.053063026515</li>\n",
       "\t<li>48.3927593645373</li>\n",
       "\t<li>51.6843807137244</li>\n",
       "\t<li>40.1757217231966</li>\n",
       "</ol>\n"
      ],
      "text/latex": [
       "\\begin{enumerate*}\n",
       "\\item 49.8149437711243\n",
       "\\item 45.3484905487909\n",
       "\\item 32.096770652052\n",
       "\\item 40.3181711684536\n",
       "\\item 64.6377534634325\n",
       "\\item 32.33801389944\n",
       "\\item 61.6927649206754\n",
       "\\item 59.5368028142711\n",
       "\\item 59.5368028142711\n",
       "\\item 35.0168955665366\n",
       "\\item 53.1170121582435\n",
       "\\item 61.9608643943549\n",
       "\\item 47.0565877877015\n",
       "\\item 59.5368028142711\n",
       "\\item 37.941434310357\n",
       "\\item 49.5630855721357\n",
       "\\item 54.1206916653873\n",
       "\\item 48.7912768406252\n",
       "\\item 39.5434349890145\n",
       "\\item 52.4796682456098\n",
       "\\item 63.9549302314235\n",
       "\\item 60.5760117768447\n",
       "\\item 42.5837853814782\n",
       "\\item 51.8928859586858\n",
       "\\item 64.1173570168973\n",
       "\\item 41.3916224402569\n",
       "\\item 47.8408662479458\n",
       "\\item 54.1206916653873\n",
       "\\item 54.4392081515168\n",
       "\\item 46.0766196353942\n",
       "\\item 56.9942952513621\n",
       "\\item 37.7298399368789\n",
       "\\item 46.0766196353942\n",
       "\\item 55.4392844182024\n",
       "\\item 45.2413211592229\n",
       "\\item 58.3424733194768\n",
       "\\item 48.9578846795238\n",
       "\\item 60.5760117768447\n",
       "\\item 41.3916224402569\n",
       "\\item 46.4185052753604\n",
       "\\item 56.6095915633094\n",
       "\\item 48.9578846795238\n",
       "\\item 60.5760117768447\n",
       "\\item 45.5422173516332\n",
       "\\item 66.192087280749\n",
       "\\item 70.5787502359886\n",
       "\\item 48.7699213823501\n",
       "\\item 52.8545762080188\n",
       "\\item 62.3544189835141\n",
       "\\item 57.2842626108347\n",
       "\\item 56.0316126083229\n",
       "\\item 61.6927649206754\n",
       "\\item 76.7007166431368\n",
       "\\item 40.3181711684536\n",
       "\\item 36.2688224106145\n",
       "\\item 51.005780119769\n",
       "\\item 75.5398800659486\n",
       "\\item 42.9356331799052\n",
       "\\item 43.5317503681323\n",
       "\\item 48.4065639479518\n",
       "\\item 47.8854641228279\n",
       "\\item 76.7007166431368\n",
       "\\item 57.2842626108347\n",
       "\\item 51.8546502776829\n",
       "\\item 48.7699213823501\n",
       "\\item 37.941434310357\n",
       "\\item 53.1170121582435\n",
       "\\item 52.4796682456098\n",
       "\\item 40.3181711684536\n",
       "\\item 32.096770652052\n",
       "\\item 47.8854641228279\n",
       "\\item 48.7912768406252\n",
       "\\item 49.3377068768403\n",
       "\\item 32.33801389944\n",
       "\\item 45.2413211592229\n",
       "\\item 51.005780119769\n",
       "\\item 49.8149437711243\n",
       "\\item 55.3257174705049\n",
       "\\item 40.0369799565976\n",
       "\\item 44.2650251730313\n",
       "\\item 55.4392844182024\n",
       "\\item 53.350899493494\n",
       "\\item 40.4307232682759\n",
       "\\item 49.3377068768403\n",
       "\\item 76.7007166431368\n",
       "\\item 53.9764284496018\n",
       "\\item 52.4796682456098\n",
       "\\item 42.9356331799052\n",
       "\\item 44.4551129841814\n",
       "\\item 66.192087280749\n",
       "\\item 46.3381932388053\n",
       "\\item 51.8928859586858\n",
       "\\item 39.5434349890145\n",
       "\\item 29.5341458597885\n",
       "\\item 54.6783940125645\n",
       "\\item 51.7005748120841\n",
       "\\item 39.053063026515\n",
       "\\item 48.3927593645373\n",
       "\\item 51.6843807137244\n",
       "\\item 40.1757217231966\n",
       "\\end{enumerate*}\n"
      ],
      "text/markdown": [
       "1. 49.8149437711243\n",
       "2. 45.3484905487909\n",
       "3. 32.096770652052\n",
       "4. 40.3181711684536\n",
       "5. 64.6377534634325\n",
       "6. 32.33801389944\n",
       "7. 61.6927649206754\n",
       "8. 59.5368028142711\n",
       "9. 59.5368028142711\n",
       "10. 35.0168955665366\n",
       "11. 53.1170121582435\n",
       "12. 61.9608643943549\n",
       "13. 47.0565877877015\n",
       "14. 59.5368028142711\n",
       "15. 37.941434310357\n",
       "16. 49.5630855721357\n",
       "17. 54.1206916653873\n",
       "18. 48.7912768406252\n",
       "19. 39.5434349890145\n",
       "20. 52.4796682456098\n",
       "21. 63.9549302314235\n",
       "22. 60.5760117768447\n",
       "23. 42.5837853814782\n",
       "24. 51.8928859586858\n",
       "25. 64.1173570168973\n",
       "26. 41.3916224402569\n",
       "27. 47.8408662479458\n",
       "28. 54.1206916653873\n",
       "29. 54.4392081515168\n",
       "30. 46.0766196353942\n",
       "31. 56.9942952513621\n",
       "32. 37.7298399368789\n",
       "33. 46.0766196353942\n",
       "34. 55.4392844182024\n",
       "35. 45.2413211592229\n",
       "36. 58.3424733194768\n",
       "37. 48.9578846795238\n",
       "38. 60.5760117768447\n",
       "39. 41.3916224402569\n",
       "40. 46.4185052753604\n",
       "41. 56.6095915633094\n",
       "42. 48.9578846795238\n",
       "43. 60.5760117768447\n",
       "44. 45.5422173516332\n",
       "45. 66.192087280749\n",
       "46. 70.5787502359886\n",
       "47. 48.7699213823501\n",
       "48. 52.8545762080188\n",
       "49. 62.3544189835141\n",
       "50. 57.2842626108347\n",
       "51. 56.0316126083229\n",
       "52. 61.6927649206754\n",
       "53. 76.7007166431368\n",
       "54. 40.3181711684536\n",
       "55. 36.2688224106145\n",
       "56. 51.005780119769\n",
       "57. 75.5398800659486\n",
       "58. 42.9356331799052\n",
       "59. 43.5317503681323\n",
       "60. 48.4065639479518\n",
       "61. 47.8854641228279\n",
       "62. 76.7007166431368\n",
       "63. 57.2842626108347\n",
       "64. 51.8546502776829\n",
       "65. 48.7699213823501\n",
       "66. 37.941434310357\n",
       "67. 53.1170121582435\n",
       "68. 52.4796682456098\n",
       "69. 40.3181711684536\n",
       "70. 32.096770652052\n",
       "71. 47.8854641228279\n",
       "72. 48.7912768406252\n",
       "73. 49.3377068768403\n",
       "74. 32.33801389944\n",
       "75. 45.2413211592229\n",
       "76. 51.005780119769\n",
       "77. 49.8149437711243\n",
       "78. 55.3257174705049\n",
       "79. 40.0369799565976\n",
       "80. 44.2650251730313\n",
       "81. 55.4392844182024\n",
       "82. 53.350899493494\n",
       "83. 40.4307232682759\n",
       "84. 49.3377068768403\n",
       "85. 76.7007166431368\n",
       "86. 53.9764284496018\n",
       "87. 52.4796682456098\n",
       "88. 42.9356331799052\n",
       "89. 44.4551129841814\n",
       "90. 66.192087280749\n",
       "91. 46.3381932388053\n",
       "92. 51.8928859586858\n",
       "93. 39.5434349890145\n",
       "94. 29.5341458597885\n",
       "95. 54.6783940125645\n",
       "96. 51.7005748120841\n",
       "97. 39.053063026515\n",
       "98. 48.3927593645373\n",
       "99. 51.6843807137244\n",
       "100. 40.1757217231966\n",
       "\n",
       "\n"
      ],
      "text/plain": [
       "  [1] 49.81494 45.34849 32.09677 40.31817 64.63775 32.33801 61.69276 59.53680\n",
       "  [9] 59.53680 35.01690 53.11701 61.96086 47.05659 59.53680 37.94143 49.56309\n",
       " [17] 54.12069 48.79128 39.54343 52.47967 63.95493 60.57601 42.58379 51.89289\n",
       " [25] 64.11736 41.39162 47.84087 54.12069 54.43921 46.07662 56.99430 37.72984\n",
       " [33] 46.07662 55.43928 45.24132 58.34247 48.95788 60.57601 41.39162 46.41851\n",
       " [41] 56.60959 48.95788 60.57601 45.54222 66.19209 70.57875 48.76992 52.85458\n",
       " [49] 62.35442 57.28426 56.03161 61.69276 76.70072 40.31817 36.26882 51.00578\n",
       " [57] 75.53988 42.93563 43.53175 48.40656 47.88546 76.70072 57.28426 51.85465\n",
       " [65] 48.76992 37.94143 53.11701 52.47967 40.31817 32.09677 47.88546 48.79128\n",
       " [73] 49.33771 32.33801 45.24132 51.00578 49.81494 55.32572 40.03698 44.26503\n",
       " [81] 55.43928 53.35090 40.43072 49.33771 76.70072 53.97643 52.47967 42.93563\n",
       " [89] 44.45511 66.19209 46.33819 51.89289 39.54343 29.53415 54.67839 51.70057\n",
       " [97] 39.05306 48.39276 51.68438 40.17572"
      ]
     },
     "metadata": {},
     "output_type": "display_data"
    }
   ],
   "source": [
    "# The following draws a sample of size 100 from the previous random numbers x with replacement\n",
    "\n",
    "boot_sample <- sample(x, size = 100, replace = TRUE)\n",
    "boot_sample"
   ]
  },
  {
   "cell_type": "code",
   "execution_count": null,
   "metadata": {},
   "outputs": [],
   "source": [
    "# Make histograms of both x and boot_sample\n",
    "#\n",
    "# Hint: If you are unfamiliar with hist, try: ?hist\n",
    "# Hint: You need to add **two** hist commands, one for each plot\n",
    "# Hint: You can use options to resize and par to set up side by side plots\n",
    "#       if you are comfortable with those commands, but you do not have to\n",
    "\n"
   ]
  },
  {
   "cell_type": "code",
   "execution_count": 205,
   "metadata": {},
   "outputs": [
    {
     "data": {
      "image/png": "[encoded data removed]",
      "text/plain": [
       "Plot with title “Histogram of x”"
      ]
     },
     "metadata": {},
     "output_type": "display_data"
    },
    {
     "data": {
      "image/png": "[encoded data removed]",
      "text/plain": [
       "Plot with title “Histogram of boot_sample”"
      ]
     },
     "metadata": {},
     "output_type": "display_data"
    }
   ],
   "source": [
    "hist(x)\n",
    "hist(boot_sample)"
   ]
  },
  {
   "cell_type": "markdown",
   "metadata": {},
   "source": [
    "You should notice that the histograms look very similar, but they are not identical. If you re-run the cells above, the reasmple will change.\n",
    "\n",
    "### 2. How do we get the `mean` of the resample?\n",
    "This is actually really easy. Take a guess and try it in the next cell."
   ]
  },
  {
   "cell_type": "code",
   "execution_count": 206,
   "metadata": {},
   "outputs": [
    {
     "data": {
      "text/html": [
       "50.6154363780122"
      ],
      "text/latex": [
       "50.6154363780122"
      ],
      "text/markdown": [
       "50.6154363780122"
      ],
      "text/plain": [
       "[1] 50.61544"
      ]
     },
     "metadata": {},
     "output_type": "display_data"
    }
   ],
   "source": [
    "mean(boot_sample)"
   ]
  },
  {
   "cell_type": "code",
   "execution_count": null,
   "metadata": {},
   "outputs": [],
   "source": []
  },
  {
   "cell_type": "markdown",
   "metadata": {},
   "source": [
    "Hopefully you guessed right, if not:"
   ]
  },
  {
   "cell_type": "code",
   "execution_count": null,
   "metadata": {},
   "outputs": [],
   "source": [
    "mean(boot_sample)"
   ]
  },
  {
   "cell_type": "markdown",
   "metadata": {},
   "source": [
    "Note that if we only wanted the mean of a given resample, we could skip the step of putting it into a variable (the `boot_sample` above) and just do this:"
   ]
  },
  {
   "cell_type": "code",
   "execution_count": 208,
   "metadata": {},
   "outputs": [
    {
     "data": {
      "text/html": [
       "49.7837226171913"
      ],
      "text/latex": [
       "49.7837226171913"
      ],
      "text/markdown": [
       "49.7837226171913"
      ],
      "text/plain": [
       "[1] 49.78372"
      ]
     },
     "metadata": {},
     "output_type": "display_data"
    }
   ],
   "source": [
    "mean(sample(x, size = 100, replace = TRUE))"
   ]
  },
  {
   "cell_type": "markdown",
   "metadata": {},
   "source": [
    "Re-run the previous cell and notice that the value of the mean changes each time you run it.\n",
    "\n",
    "### 3. How do we repeat this process?\n",
    "This is where loops come into it. We need to do lots of resamples, compute the mean of each one, and store this mean in a variable. We already know from the examples above how to resample and how to get the mean of each resample. We will use a `for` loop to repeat this. So all we need to do now is to figure out how to collect the means into a variable."
   ]
  },
  {
   "cell_type": "code",
   "execution_count": null,
   "metadata": {},
   "outputs": [],
   "source": [
    "# Write a for-loop that computes the bootstrap mean 10 times --\n",
    "#       that is, (1) get a random sample from x, (2) get the mean\n",
    "#       of x, (3) store this in a variable m, and (4) print or\n",
    "#       cat this to the screen\n",
    "#\n",
    "# Hint: don't worry about storing the results just yet, just\n",
    "#       compute them. Note that if you do not use print or cat\n",
    "#       you will not see ANY output from your loop!\n",
    "#\n",
    "# Hint: Remember that i in 1:10 will make the loop run 10 times\n",
    "\n"
   ]
  },
  {
   "cell_type": "markdown",
   "metadata": {},
   "source": [
    "Hopefully you remember enough from the other units in this workshop to write a basic `for` loop here. If not, my answer is below, but try it a couple of times first. You can go back to previous notebooks for help. \n",
    "\n",
    "In this first pass, we are just repeating the process of running the function:\n",
    "```R\n",
    "m <- mean(sample(x, size = 100, replace = TRUE))\n",
    "```\n",
    "and hopefully \"catting\" it to the screen. We are not really doing anything with the value of `m` except seeing it. What we need to do is to store `m`, from each pass of the loop, into a new variable. This new variable needs to be a variable that can store as many values as times you run through the loop.\n",
    "\n",
    "The easiest type of variable to store a list of numbers is an R vector, and we can create a new, empty, vector with the `vector` command:"
   ]
  },
  {
   "cell_type": "code",
   "execution_count": 209,
   "metadata": {},
   "outputs": [
    {
     "data": {
      "text/html": [
       "<ol class=list-inline>\n",
       "\t<li>0</li>\n",
       "\t<li>0</li>\n",
       "\t<li>0</li>\n",
       "\t<li>0</li>\n",
       "\t<li>0</li>\n",
       "\t<li>0</li>\n",
       "\t<li>0</li>\n",
       "\t<li>0</li>\n",
       "\t<li>0</li>\n",
       "\t<li>0</li>\n",
       "</ol>\n"
      ],
      "text/latex": [
       "\\begin{enumerate*}\n",
       "\\item 0\n",
       "\\item 0\n",
       "\\item 0\n",
       "\\item 0\n",
       "\\item 0\n",
       "\\item 0\n",
       "\\item 0\n",
       "\\item 0\n",
       "\\item 0\n",
       "\\item 0\n",
       "\\end{enumerate*}\n"
      ],
      "text/markdown": [
       "1. 0\n",
       "2. 0\n",
       "3. 0\n",
       "4. 0\n",
       "5. 0\n",
       "6. 0\n",
       "7. 0\n",
       "8. 0\n",
       "9. 0\n",
       "10. 0\n",
       "\n",
       "\n"
      ],
      "text/plain": [
       " [1] 0 0 0 0 0 0 0 0 0 0"
      ]
     },
     "metadata": {},
     "output_type": "display_data"
    }
   ],
   "source": [
    "vector(10, mode = \"numeric\")"
   ]
  },
  {
   "cell_type": "markdown",
   "metadata": {},
   "source": [
    "The `mode = 'numeric'` part just tells R that the vector is to be used to store numbers.\n",
    "\n",
    "Obviously we can give this a name, and when we do we can store numbers in the various locations by using basic indexing:"
   ]
  },
  {
   "cell_type": "code",
   "execution_count": 210,
   "metadata": {},
   "outputs": [
    {
     "name": "stdout",
     "output_type": "stream",
     "text": [
      "0 0 0 0 0 0 0 0 0 0 \n",
      "\n",
      "1 0 3 0 0 0 0 0 9 0 \n"
     ]
    }
   ],
   "source": [
    "all_the_means <- vector(10, mode=\"numeric\")\n",
    "cat(all_the_means, \"\\n\\n\")\n",
    "\n",
    "all_the_means[1] <- 1\n",
    "all_the_means[3] <- 3\n",
    "all_the_means[9] <- 9\n",
    "cat(all_the_means, \"\\n\")"
   ]
  },
  {
   "cell_type": "markdown",
   "metadata": {},
   "source": [
    "Hopefully you see the idea coming here:\n",
    "\n",
    "1. Create an empty vector with as many spaces as _times through the loop_ (N; in the example N = 10)\n",
    "1. Have the loop variable (`i` usually) go from 1:N (here, 1:10)\n",
    "1. **Use the `i` as an index variable and tell R to stick each newly computed `mean` (we called it `m` above) into the vector at location `i`: `all_the_means[i] <- m`** (This is the real \"trick\" here!)\n",
    "\n",
    "When the loop is complete, `all_the_means` will contain a list of N means, and that is the bootstrap distribution of the means.\n",
    "\n",
    "Before looking below for my answers, try building it yourself!"
   ]
  },
  {
   "cell_type": "code",
   "execution_count": null,
   "metadata": {},
   "outputs": [],
   "source": [
    "# Allocate a vector to hold the values of the mean\n",
    "\n"
   ]
  },
  {
   "cell_type": "code",
   "execution_count": null,
   "metadata": {},
   "outputs": [],
   "source": [
    "# Copy your loop from above here and modify the code to store m in\n",
    "# the variable you just created\n",
    "\n"
   ]
  },
  {
   "cell_type": "code",
   "execution_count": null,
   "metadata": {},
   "outputs": [],
   "source": [
    "# If you were successful, you can try printing the values from your\n",
    "# vector of means, or making a histogram to see what they look like\n",
    "\n"
   ]
  },
  {
   "cell_type": "markdown",
   "metadata": {},
   "source": [
    "Here are my answers. Note that your code might look different as there are some choices you can make about exactly how to do this."
   ]
  },
  {
   "cell_type": "code",
   "execution_count": 211,
   "metadata": {},
   "outputs": [
    {
     "name": "stdout",
     "output_type": "stream",
     "text": [
      "50.25583 \n",
      "50.91266 \n",
      "49.23648 \n",
      "50.27184 \n",
      "50.5521 \n",
      "49.83601 \n",
      "51.27051 \n",
      "50.48006 \n",
      "48.60598 \n",
      "50.46888 \n"
     ]
    }
   ],
   "source": [
    "# Here is my solution to the first problem of just printing the means\n",
    "\n",
    "for(i in 1:10){\n",
    "    m <- mean(sample(x, size = 100, replace = TRUE))\n",
    "    cat(m, \"\\n\")\n",
    "}"
   ]
  },
  {
   "cell_type": "code",
   "execution_count": 212,
   "metadata": {},
   "outputs": [
    {
     "name": "stdout",
     "output_type": "stream",
     "text": [
      "51.51388\n",
      "49.82872\n",
      "50.66191\n",
      "48.64207\n",
      "51.46215\n",
      "49.02355\n",
      "49.49425\n",
      "49.93768\n",
      "49.95424\n",
      "51.07451\n"
     ]
    }
   ],
   "source": [
    "# Here is my solution to the complete problem: Note in comparing this to the above code where the cat statement goes.\n",
    "\n",
    "all_the_means <- vector(10, mode = \"numeric\")\n",
    "\n",
    "for(i in 1:10){\n",
    "    m <- mean(sample(x, size = 100, replace = TRUE))\n",
    "    all_the_means[i] <- m\n",
    "}\n",
    "\n",
    "cat(all_the_means, sep=\"\\n\")"
   ]
  },
  {
   "cell_type": "markdown",
   "metadata": {},
   "source": [
    "For bootstrapping to work, you need to do it a lot of times, not just 10. We can  modify the code to let us set `N` in one place and make that change all of the other references to it. To do this, we just replace the `10`'s in the code above with `N`, and add a line: `N <- something` to the top of the cell.\n",
    "\n",
    "We will set `N` to be something large. In practical work, the minimum is usually about 200, and common values for `N` are 1000, 2000, 5000, or 10000. Usually going much larger is a waste of computing power, and going any lower gives bad estimates."
   ]
  },
  {
   "cell_type": "code",
   "execution_count": null,
   "metadata": {},
   "outputs": [],
   "source": [
    "# Modify the code above to use N in place of 10\n",
    "#\n",
    "# Hint: When you run this cell, you shoud see output similar to\n",
    "#       above (but not identical!)\n",
    "# Hint: To make your life easier below, you should name the collection\n",
    "#       of means \"all_the_means\" as we use that name below\n",
    "\n",
    "N <- 1000  # This should run relatively quickly on DICE\n",
    "\n",
    "# Put your code here!\n"
   ]
  },
  {
   "cell_type": "markdown",
   "metadata": {},
   "source": [
    "Make sure to run the cell above. We will need it below. In the code below I have assumed that you named the collection of means `all_the_means`. If you used another name, just change the variables below to match.\n",
    "\n",
    "**Note**: I do not provide an exact solution to this exercise here, but you can see my solution below in the discussion of wrapping this up inside of a function.\n",
    "\n",
    "### 4. How do we get the percentile limits?\n",
    "R has a variety of ways to get the percentile limits of a data set. We can use these same functions on the bootstrapped means we just made. In essence, bootstrapping turns a problem of statistical theory into a data problem, except that the \"data\" is the bootstrapped statistic (in this case the collection of means). We just treat this as a sample and do what comes naturally.\n",
    "\n",
    "To get the 95% limits, we need to pick out the 2.5% and 97.5% points in the ordered list of data. We can do this manually or by using the `quantile` function:"
   ]
  },
  {
   "cell_type": "code",
   "execution_count": null,
   "metadata": {},
   "outputs": [],
   "source": [
    "# Automatically\n",
    "quantile(all_the_means, probs = c(0.025, 0.975))\n",
    "\n",
    "# Manually\n",
    "s_all_means <- sort(all_the_means) # Sort from small to large\n",
    "\n",
    "s_all_means[25]    # This is the 2.5% point of 1000 (0.025*1000)\n",
    "s_all_means[975]   # 0.975*1000"
   ]
  },
  {
   "cell_type": "markdown",
   "metadata": {},
   "source": [
    "Note that the numbers above are not quite the same, there is a lot of argumentation in statistics over the exact definitions of the quartiles and all of it amounts to very little. Notice that the numbers should be fairly close, within the first decimal place or so at least.\n",
    "\n",
    "So, what did we do? We wanted to know the percentile limits for a 95% confidence interval for these data. Above we computed this assuming a normal distribution for the data. Here we did not assume this. But the results are comparable, as they should be for this data."
   ]
  },
  {
   "cell_type": "code",
   "execution_count": 214,
   "metadata": {},
   "outputs": [
    {
     "data": {
      "text/html": [
       "<dl class=dl-horizontal>\n",
       "\t<dt>2.5%</dt>\n",
       "\t\t<dd>48.2249498512818</dd>\n",
       "\t<dt>97.5%</dt>\n",
       "\t\t<dd>52.1493239903988</dd>\n",
       "</dl>\n"
      ],
      "text/latex": [
       "\\begin{description*}\n",
       "\\item[2.5\\textbackslash{}\\%] 48.2249498512818\n",
       "\\item[97.5\\textbackslash{}\\%] 52.1493239903988\n",
       "\\end{description*}\n"
      ],
      "text/markdown": [
       "2.5%\n",
       ":   48.224949851281897.5%\n",
       ":   52.1493239903988\n",
       "\n"
      ],
      "text/plain": [
       "    2.5%    97.5% \n",
       "48.22495 52.14932 "
      ]
     },
     "metadata": {},
     "output_type": "display_data"
    },
    {
     "data": {
      "text/html": [
       "<ol class=list-inline>\n",
       "\t<li>48.1664912889436</li>\n",
       "\t<li>52.1610930511516</li>\n",
       "</ol>\n"
      ],
      "text/latex": [
       "\\begin{enumerate*}\n",
       "\\item 48.1664912889436\n",
       "\\item 52.1610930511516\n",
       "\\end{enumerate*}\n"
      ],
      "text/markdown": [
       "1. 48.1664912889436\n",
       "2. 52.1610930511516\n",
       "\n",
       "\n"
      ],
      "text/plain": [
       "[1] 48.16649 52.16109\n",
       "attr(,\"conf.level\")\n",
       "[1] 0.95"
      ]
     },
     "metadata": {},
     "output_type": "display_data"
    }
   ],
   "source": [
    "quantile(all_the_means, probs = c(0.025, 0.975))  # Simple Bootstrap\n",
    "\n",
    "t.test(x)$conf.int   # Normal Theory (t)"
   ]
  },
  {
   "cell_type": "markdown",
   "metadata": {},
   "source": [
    "The idea of bootstrapping is that this dropping of parametric assumptions for computing power is useful for a variety of purposes, for instance when:\n",
    "+ The data is not specifically normal\n",
    "+ The statistic of interest does not have a simple formula or procedure for constructing a confidence interval (like the median)\n",
    "\n",
    "## A Simple Bootstrap Function\n",
    "Let's see if we can make this easier to use. Here is my code for doing the bootstrap mean `N` (1000) times:"
   ]
  },
  {
   "cell_type": "code",
   "execution_count": 213,
   "metadata": {},
   "outputs": [
    {
     "data": {
      "text/html": [
       "<dl class=dl-horizontal>\n",
       "\t<dt>2.5%</dt>\n",
       "\t\t<dd>48.2249498512818</dd>\n",
       "\t<dt>97.5%</dt>\n",
       "\t\t<dd>52.1493239903988</dd>\n",
       "</dl>\n"
      ],
      "text/latex": [
       "\\begin{description*}\n",
       "\\item[2.5\\textbackslash{}\\%] 48.2249498512818\n",
       "\\item[97.5\\textbackslash{}\\%] 52.1493239903988\n",
       "\\end{description*}\n"
      ],
      "text/markdown": [
       "2.5%\n",
       ":   48.224949851281897.5%\n",
       ":   52.1493239903988\n",
       "\n"
      ],
      "text/plain": [
       "    2.5%    97.5% \n",
       "48.22495 52.14932 "
      ]
     },
     "metadata": {},
     "output_type": "display_data"
    }
   ],
   "source": [
    "N <- 1000\n",
    "\n",
    "all_the_means <- vector(N, mode = \"numeric\")\n",
    "\n",
    "for(i in 1:N){\n",
    "    m <- mean(sample(x, size = 100, replace = TRUE))\n",
    "    all_the_means[i] <- m\n",
    "}\n",
    "\n",
    "quantile(all_the_means, probs = c(0.025, 0.975)) "
   ]
  },
  {
   "cell_type": "markdown",
   "metadata": {},
   "source": [
    "It would be nice if we could wrap this up as a function that allowed me to:\n",
    "+ Run the function on an arbitrary data set\n",
    "+ Run the function on any value of `N`\n",
    "\n",
    "This is relatively easy to do by letting the data set and N be variables for the function: "
   ]
  },
  {
   "cell_type": "code",
   "execution_count": 215,
   "metadata": {},
   "outputs": [],
   "source": [
    "boot_mean_95 <- function(x, N){\n",
    "    all_the_means <- vector(N, mode = \"numeric\")\n",
    "    for(i in 1:N){\n",
    "        m <- mean(sample(x, size = 100, replace = TRUE))\n",
    "        all_the_means[i] <- m\n",
    "    }\n",
    "    return(quantile(all_the_means, probs = c(0.025, 0.975)))\n",
    "}"
   ]
  },
  {
   "cell_type": "code",
   "execution_count": 216,
   "metadata": {},
   "outputs": [
    {
     "data": {
      "text/html": [
       "<dl class=dl-horizontal>\n",
       "\t<dt>2.5%</dt>\n",
       "\t\t<dd>48.3326058251445</dd>\n",
       "\t<dt>97.5%</dt>\n",
       "\t\t<dd>52.1725143693923</dd>\n",
       "</dl>\n"
      ],
      "text/latex": [
       "\\begin{description*}\n",
       "\\item[2.5\\textbackslash{}\\%] 48.3326058251445\n",
       "\\item[97.5\\textbackslash{}\\%] 52.1725143693923\n",
       "\\end{description*}\n"
      ],
      "text/markdown": [
       "2.5%\n",
       ":   48.332605825144597.5%\n",
       ":   52.1725143693923\n",
       "\n"
      ],
      "text/plain": [
       "    2.5%    97.5% \n",
       "48.33261 52.17251 "
      ]
     },
     "metadata": {},
     "output_type": "display_data"
    },
    {
     "data": {
      "text/html": [
       "<dl class=dl-horizontal>\n",
       "\t<dt>2.5%</dt>\n",
       "\t\t<dd>48.3897664757563</dd>\n",
       "\t<dt>97.5%</dt>\n",
       "\t\t<dd>51.9764736233316</dd>\n",
       "</dl>\n"
      ],
      "text/latex": [
       "\\begin{description*}\n",
       "\\item[2.5\\textbackslash{}\\%] 48.3897664757563\n",
       "\\item[97.5\\textbackslash{}\\%] 51.9764736233316\n",
       "\\end{description*}\n"
      ],
      "text/markdown": [
       "2.5%\n",
       ":   48.389766475756397.5%\n",
       ":   51.9764736233316\n",
       "\n"
      ],
      "text/plain": [
       "    2.5%    97.5% \n",
       "48.38977 51.97647 "
      ]
     },
     "metadata": {},
     "output_type": "display_data"
    },
    {
     "data": {
      "text/html": [
       "<dl class=dl-horizontal>\n",
       "\t<dt>2.5%</dt>\n",
       "\t\t<dd>1.85</dd>\n",
       "\t<dt>97.5%</dt>\n",
       "\t\t<dd>2.15025</dd>\n",
       "</dl>\n"
      ],
      "text/latex": [
       "\\begin{description*}\n",
       "\\item[2.5\\textbackslash{}\\%] 1.85\n",
       "\\item[97.5\\textbackslash{}\\%] 2.15025\n",
       "\\end{description*}\n"
      ],
      "text/markdown": [
       "2.5%\n",
       ":   1.8597.5%\n",
       ":   2.15025\n",
       "\n"
      ],
      "text/plain": [
       "   2.5%   97.5% \n",
       "1.85000 2.15025 "
      ]
     },
     "metadata": {},
     "output_type": "display_data"
    }
   ],
   "source": [
    "set.seed(3000)\n",
    "\n",
    "boot_mean_95(x, 1000)\n",
    "boot_mean_95(x, 200)\n",
    "boot_mean_95(c(1,2,3), 200)"
   ]
  },
  {
   "cell_type": "markdown",
   "metadata": {},
   "source": [
    "Let's think about that last one. Instead of `x` I fed the function a list of 3 numbers, `c(1,2,3)`, so it computed things based on resamples from that data. What size were the resamples? Is that right?\n",
    "\n",
    "Well we manually set the sample size to 100, which was the size of `x`. But we wanted the `size` parameter in `sample` to be equal to the size of the data set, which can change now. This is a problem.\n",
    "\n",
    "How can we fix that? (Hint: ?length)"
   ]
  },
  {
   "cell_type": "code",
   "execution_count": null,
   "metadata": {},
   "outputs": [],
   "source": [
    "# Copy the function boot_mean_95 here and fix the sample size problem\n",
    "# using length\n",
    "#\n",
    "# Hint: It really is easy, just swap the wrong number for whatever\n",
    "#       length tells you\n",
    "\n"
   ]
  },
  {
   "cell_type": "code",
   "execution_count": null,
   "metadata": {},
   "outputs": [],
   "source": [
    "# Test\n",
    "\n",
    "set.seed(1010)  # Set to known value for testing\n",
    "\n",
    "boot_mean_95(c(1,2,3), 1000) # Should be 1 and 3 if right!"
   ]
  },
  {
   "cell_type": "code",
   "execution_count": null,
   "metadata": {},
   "outputs": [],
   "source": [
    "# Write a new function to compute the 95% CI for the **median**\n",
    "#\n",
    "# Hint: This is easy, remember you can copy and paste\n",
    "# Hint: The median is computed in R by the median function\n",
    "# Hint: Call the function boot_median_95\n",
    "\n"
   ]
  },
  {
   "cell_type": "code",
   "execution_count": null,
   "metadata": {},
   "outputs": [],
   "source": [
    "# Test for boot_median_95\n",
    "\n",
    "set.seed(1000)\n",
    "boot_median_95(x, 1000)  # Should be about 48.1391 and 52.1315"
   ]
  },
  {
   "cell_type": "markdown",
   "metadata": {},
   "source": [
    "A slightly more advanced exercise is to let the user select the percentage for the CI. The more challenging way to do this is to take in a confidence level (like 0.95 for 95%) and determine the corresponding bounds. The function call would look like this:\n",
    "\n",
    "```R\n",
    "boot_median <- function(x, N, conf){\n",
    "    your code\n",
    "}\n",
    "```\n",
    "An easier way would be to simply accept the upper and lower bound, letting each be a variable in the function call:\n",
    "\n",
    "```R\n",
    "boot_median <- function(x, N, lwr, upr){\n",
    "    your code\n",
    "}\n",
    "```\n",
    "If you would like to try the harder way, the lower bound would be equal to $\\mathrm{lwr} = \\frac{1 - \\mathrm{conf}}{2}$, and the upper bound would be $\\mathrm{upr} = \\frac{1 + \\mathrm{conf}}{2}$. \n",
    "\n",
    "Note: The `quantile` function is helping us here a lot! If you were picking out these percentage points manually you would need to either (1) convert these to the nearest whole numbers or (2) take some averages of points as the two equations for `lwr` and `upr` above rarely give whole number values. But the `quantile` function is happy to accept any sort of decimal value for the quantiles to compute.\n",
    "\n",
    "Try it:"
   ]
  },
  {
   "cell_type": "code",
   "execution_count": null,
   "metadata": {},
   "outputs": [],
   "source": [
    "# Write a function to compute arbitrary median CIs here\n",
    "#\n",
    "# Pick either way of setting arbitrary limits. \n",
    "\n"
   ]
  },
  {
   "cell_type": "markdown",
   "metadata": {},
   "source": [
    "One of the nice features of R is that it allows named parameters in function calls to have **default** values set **in the function definition**. So, instead of defining our function as:\n",
    "\n",
    "```R\n",
    "boot_median <- function(x, N, conf){\n",
    "    your code\n",
    "}\n",
    "```\n",
    "We can define it with a default setting of 0.95 as that is common:\n",
    "```R\n",
    "boot_median <- function(x, N, conf = 0.95){\n",
    "    your code\n",
    "}\n",
    "```\n",
    "When R sees code like this, it uses the default value (here, `0.95`) when `conf` is left **unset** by the person using the function. But if the person uses the function and sets a different value, that gets used instead of the `0.95`."
   ]
  },
  {
   "cell_type": "code",
   "execution_count": null,
   "metadata": {},
   "outputs": [],
   "source": [
    "# Here is a version of the mean function above that allows the confidence\n",
    "# interval to be set. This should look very siumilar to your (similar)\n",
    "# function for the medians.\n",
    "\n",
    "boot_mean <- function(x, N, conf = 0.95){\n",
    "    all_the_means <- vector(N, mode = \"numeric\")\n",
    "    for(i in 1:N){\n",
    "        m <- mean(sample(x, size = length(x), replace = TRUE))\n",
    "        all_the_means[i] <- m\n",
    "    }\n",
    "    lwr <- (1 - conf)/2\n",
    "    upr <- (1 + conf)/2\n",
    "    return(quantile(all_the_means, probs = c(lwr, upr)))\n",
    "}"
   ]
  },
  {
   "cell_type": "code",
   "execution_count": null,
   "metadata": {},
   "outputs": [],
   "source": [
    "# All of these should be the same as when tested with boot_mean_95\n",
    "# above\n",
    "\n",
    "set.seed(3000)\n",
    "\n",
    "boot_mean(x, 1000)\n",
    "boot_mean(x, 200)\n",
    "boot_mean(c(1,2,3), 200)"
   ]
  },
  {
   "cell_type": "code",
   "execution_count": null,
   "metadata": {},
   "outputs": [],
   "source": [
    "1.99/2\n",
    "(1-.99)/2"
   ]
  },
  {
   "cell_type": "code",
   "execution_count": null,
   "metadata": {},
   "outputs": [],
   "source": [
    "quantile(all_the_means, probs = c(0.025119, 0.9752345))"
   ]
  },
  {
   "cell_type": "code",
   "execution_count": null,
   "metadata": {},
   "outputs": [],
   "source": []
  },
  {
   "cell_type": "code",
   "execution_count": null,
   "metadata": {},
   "outputs": [],
   "source": []
  },
  {
   "cell_type": "code",
   "execution_count": null,
   "metadata": {},
   "outputs": [],
   "source": []
  },
  {
   "cell_type": "code",
   "execution_count": null,
   "metadata": {},
   "outputs": [],
   "source": []
  },
  {
   "cell_type": "markdown",
   "metadata": {},
   "source": [
    "***\n",
    "Version 1.0  \n",
    "2018.07.11\n",
    "\n",
    "To contact the author, email [mturner46@gsu.edu](mailto:mturner46@gsu.edu). Please contact me with recommendations for improvement or if you find any errors. This work may be adapted for any non-commercial purpose within the bounds of the license.\n",
    "\n",
    "<a rel=\"license\" href=\"http://creativecommons.org/licenses/by-nc-sa/4.0/\"><img alt=\"Creative Commons License\" style=\"border-width:0\" src=\"https://i.creativecommons.org/l/by-nc-sa/4.0/88x31.png\" /></a><br />This work is licensed under a <a rel=\"license\" href=\"http://creativecommons.org/licenses/by-nc-sa/4.0/\">Creative Commons Attribution-NonCommercial-ShareAlike 4.0 International License</a>."
   ]
  }
 ],
 "metadata": {
  "kernelspec": {
   "display_name": "R",
   "language": "R",
   "name": "ir"
  },
  "language_info": {
   "codemirror_mode": "r",
   "file_extension": ".r",
   "mimetype": "text/x-r-source",
   "name": "R",
   "pygments_lexer": "r",
   "version": "3.3.1"
  }
 },
 "nbformat": 4,
 "nbformat_minor": 2
}
