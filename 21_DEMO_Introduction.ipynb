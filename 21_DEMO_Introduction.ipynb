{
 "cells": [
  {
   "cell_type": "markdown",
   "metadata": {},
   "source": [
    "# Introduction to R Programming: Loops, Conditionals, & Functions\n",
    "\n",
    "Matthew D. Turner, PhD  \n",
    "Georgia State University\n",
    "\n",
    "Some rights reserved: [cc by-nc-sa](https://creativecommons.org/licenses/by-nc-sa/4.0/) See bottom of document for details.\n",
    "***\n",
    "# Demonstrations: Loops, Decisions, and Functions\n",
    "The processes demonstrated here will allow R programs to:\n",
    "\n",
    "+ Repeat things many times, changing exactly what is done each time\n",
    "+ Make decisions based on the values of variables\n",
    "+ Encapsulate blocks of code\n",
    "\n",
    "We will look at each of these in turn using particularly simple examples.\n",
    "\n",
    "## 0. ASIDE: `cat`\n",
    "We will be looking at stuff printed to the screen and to do this we will need to use some commands for that. The main one is `cat`."
   ]
  },
  {
   "cell_type": "code",
   "execution_count": null,
   "metadata": {},
   "outputs": [],
   "source": [
    "A <- 10          # Number\n",
    "B <- \"Hello\"     # \"String\" (alphanumeric) variable\n",
    "C <- 'there'     # Strings can be made with different quotes"
   ]
  },
  {
   "cell_type": "code",
   "execution_count": null,
   "metadata": {},
   "outputs": [],
   "source": [
    "cat(A, B, C)"
   ]
  },
  {
   "cell_type": "code",
   "execution_count": null,
   "metadata": {},
   "outputs": [],
   "source": [
    "cat(A, B, C)\n",
    "cat(A, A, A)"
   ]
  },
  {
   "cell_type": "markdown",
   "metadata": {},
   "source": [
    "Notice that when you do `cat` more than once, it just keeps adding to the same line."
   ]
  },
  {
   "cell_type": "code",
   "execution_count": null,
   "metadata": {},
   "outputs": [],
   "source": [
    "cat(A, B, C, \"\\n\")   # The string \"\\n\" is a NEWLINE\n",
    "cat(A, A, A)"
   ]
  },
  {
   "cell_type": "markdown",
   "metadata": {},
   "source": [
    "There are several **special characters** that are used to format output nicely:\n",
    "\n",
    "+ \\\\n means **newline**\n",
    "+ \\\\t means **tab**, used for aligning columns\n",
    "\n",
    "These special characters need to be quoted as strings to be used with `cat`."
   ]
  },
  {
   "cell_type": "code",
   "execution_count": null,
   "metadata": {},
   "outputs": [],
   "source": [
    "cat(A, \"\\n\")\n",
    "cat(B, \"\\n\")\n",
    "cat(C, \"\\n\")"
   ]
  },
  {
   "cell_type": "markdown",
   "metadata": {},
   "source": [
    "By default `cat` separates values by one space; we can use other things. There is a parameter we can set called `sep`."
   ]
  },
  {
   "cell_type": "code",
   "execution_count": null,
   "metadata": {},
   "outputs": [],
   "source": [
    "cat(A, B, C, sep = \"\\n\")  # sep defaults to a space, but can be changed"
   ]
  },
  {
   "cell_type": "code",
   "execution_count": null,
   "metadata": {},
   "outputs": [],
   "source": [
    "cat(A, B, C, sep = \",\")  # A good trick for making CSV's"
   ]
  },
  {
   "cell_type": "code",
   "execution_count": null,
   "metadata": {},
   "outputs": [],
   "source": [
    "cat(A, B, C, \"\\n\", sep = \"\\t\")  # \"\\t\" is a tab\n",
    "cat(A, A, A, \"\\n\", sep = \"\\t\")"
   ]
  },
  {
   "cell_type": "markdown",
   "metadata": {},
   "source": [
    "## 1. Looping (Iteration)\n",
    "\n",
    "### 1.1 Introduction to `for` Loops\n",
    "Looping is just repeating instructions over and over again.\n",
    "\n",
    "> Broadly speaking, there are two types of these special constructs or loops in modern programming languages. **Some loops execute for a prescribed number of times, as controlled by a counter or an index, incremented at each iteration cycle.** These are part of the for loop family.\n",
    ">\n",
    ">On the other hand, **some loops are based on the onset and verification of a logical condition. The condition is tested at the start or the end of the loop construct.** These variants belong to the while or repeat family of loops, respectively. ([From here](https://www.datacamp.com/community/tutorials/tutorial-on-loops-in-r))\n",
    "\n",
    "\n",
    "[R supports both of these types of loops](https://www.datacamp.com/community/tutorials/tutorial-on-loops-in-r), but we will spend most effort today on the first type. See section 2.6 below for the second kind of loop.\n",
    "\n",
    "In R, the first kind of loop is implemented as a **for loop**. \n",
    "\n",
    "```\n",
    "for(variable in LIST) {\n",
    "    do something here!\n",
    "}\n",
    "```\n",
    "\n",
    "The name \"for\" is bad, we should have called it a \"foreach.\" (Some languages do.) \n",
    "\n",
    "Note: By tradition the index variable in a loop is most often called i, j, or k; but this is not required, you can use any variable name you wish."
   ]
  },
  {
   "cell_type": "code",
   "execution_count": null,
   "metadata": {},
   "outputs": [],
   "source": [
    "for(i in 1:5){\n",
    "    cat(\"Do something here!\\n\")\n",
    "}"
   ]
  },
  {
   "cell_type": "markdown",
   "metadata": {},
   "source": [
    "While loops can do the same thing over and over again, the key to their usefulness is that they have a variable (`i` above) that changes each pass through the process and as this changes, it can be used to change other things, too."
   ]
  },
  {
   "cell_type": "code",
   "execution_count": null,
   "metadata": {},
   "outputs": [],
   "source": [
    "for(i in 1:5){\n",
    "    cat(\"Loop iteration:\\t\", i, \"\\n\")\n",
    "}"
   ]
  },
  {
   "cell_type": "markdown",
   "metadata": {},
   "source": [
    "The key thing to understand about a loop is that the variable that is changing (`i`) is what you use to change what happens on each pass."
   ]
  },
  {
   "cell_type": "code",
   "execution_count": null,
   "metadata": {},
   "outputs": [],
   "source": [
    "# Make a table of the first 10 numbers and their squares\n",
    "\n",
    "for(i in 1:10) {\n",
    "  cat(i, i*i, \"\\n\", sep='\\t')\n",
    "}"
   ]
  },
  {
   "cell_type": "code",
   "execution_count": null,
   "metadata": {},
   "outputs": [],
   "source": [
    "numbers <- c(1, 3, 5, 7, 100)\n",
    "\n",
    "for(i in numbers){\n",
    "    cat(i, i*i, \"\\n\", sep='\\t')\n",
    "}"
   ]
  },
  {
   "cell_type": "markdown",
   "metadata": {},
   "source": [
    "We do not need to limit `i` to holding numbers, it can hold other sorts of things, like strings."
   ]
  },
  {
   "cell_type": "code",
   "execution_count": null,
   "metadata": {},
   "outputs": [],
   "source": [
    "names <- c('condition1','condition2','condition3','condition4')\n",
    "\n",
    "for(i in names){\n",
    "    cat(i, \"\\n\")\n",
    "}"
   ]
  },
  {
   "cell_type": "markdown",
   "metadata": {},
   "source": [
    "#### 1.1.1 ASIDE: `cat` (Again!)"
   ]
  },
  {
   "cell_type": "code",
   "execution_count": null,
   "metadata": {},
   "outputs": [],
   "source": [
    "# What if we wanted to use commas?\n",
    "\n",
    "for(i in names){\n",
    "    cat(i, sep = \",\")\n",
    "}"
   ]
  },
  {
   "cell_type": "markdown",
   "metadata": {},
   "source": [
    "Note that `cat`'s `sep` value is only used to separate multiple things given to `cat` _at the same time_. It is not automatically placed after (or before) items in independent calls to `cat`. So if we want a list with commas, we need to do something like this:"
   ]
  },
  {
   "cell_type": "code",
   "execution_count": null,
   "metadata": {},
   "outputs": [],
   "source": [
    "for(i in names){\n",
    "    cat(i, \",\")\n",
    "}"
   ]
  },
  {
   "cell_type": "markdown",
   "metadata": {},
   "source": [
    "Annoyingly, however, `cat` **does** place the `sep` character between the value of `i` and the string `\",\"`. So we need to set `sep` to the empty string `\"\"` to essentially turn it off:"
   ]
  },
  {
   "cell_type": "code",
   "execution_count": null,
   "metadata": {},
   "outputs": [],
   "source": [
    "for(i in names){\n",
    "    cat(i, \", \", sep = \"\")  # Note the 2 changes here!\n",
    "}"
   ]
  },
  {
   "cell_type": "markdown",
   "metadata": {},
   "source": [
    "Note that this trick adds an extra comma at the end of the list. While this is not pretty, it usually does not mess anything up. So if you use this method to send output to a CSV file, things will still work, even with the extra commas.\n",
    "\n",
    "### 1.2 Two Statistical Examples Using Loops\n",
    "Let's look at some statistical examples. As usual we will use the **data frame** `mtcars`.\n",
    "\n",
    "We want to look and see how some other variables affect Miles per Gallon, `mpg`, _individually_.\n",
    "\n",
    "#### Graphs\n",
    "Sometimes we want to see how variables are related with graphs."
   ]
  },
  {
   "cell_type": "code",
   "execution_count": null,
   "metadata": {},
   "outputs": [],
   "source": [
    "data(mtcars)"
   ]
  },
  {
   "cell_type": "code",
   "execution_count": null,
   "metadata": {},
   "outputs": [],
   "source": [
    "# Let's look at the first 4 variables in mtcars\n",
    "\n",
    "summary(mtcars[1:4])\n",
    "head(mtcars[1:4])\n",
    "dim(mtcars[1:4])"
   ]
  },
  {
   "cell_type": "markdown",
   "metadata": {},
   "source": [
    "An easy to get an overview plot is with `plot` applied to the entire data frame, but this can be hard to read!"
   ]
  },
  {
   "cell_type": "code",
   "execution_count": null,
   "metadata": {},
   "outputs": [],
   "source": [
    "plot(mtcars)"
   ]
  },
  {
   "cell_type": "markdown",
   "metadata": {},
   "source": [
    "The only real response (y) variable in this data set is `mpg` so we really just want the first row of this plot. Since that is so small, we will need to make each of these plots individually. A `for` loop will help us here.\n",
    "\n",
    "To work things out we will make the plot of `mpg ~ hp` or miles-per-gallon on horsepower.\n",
    "\n",
    "First, we introduce a method to get variable names from `mtcars`. "
   ]
  },
  {
   "cell_type": "code",
   "execution_count": null,
   "metadata": {},
   "outputs": [],
   "source": [
    "names(mtcars)"
   ]
  },
  {
   "cell_type": "code",
   "execution_count": null,
   "metadata": {},
   "outputs": [],
   "source": [
    "# names is a vector, and we can pick out column names\n",
    "\n",
    "n <- names(mtcars)\n",
    "n[1]\n",
    "n[4]"
   ]
  },
  {
   "cell_type": "code",
   "execution_count": null,
   "metadata": {},
   "outputs": [],
   "source": [
    "# Note that we do not need to reassign names(mtcars) to a variable\n",
    "\n",
    "names(mtcars)[4]"
   ]
  },
  {
   "cell_type": "code",
   "execution_count": null,
   "metadata": {},
   "outputs": [],
   "source": [
    "# Most basic plot (in HUMAN form!) of MPG on HP\n",
    "\n",
    "options(repr.plot.width = 3, repr.plot.height = 3)  # Set the figure size \n",
    "\n",
    "plot(mtcars$hp, mtcars$mpg, pch = 16)"
   ]
  },
  {
   "cell_type": "code",
   "execution_count": null,
   "metadata": {},
   "outputs": [],
   "source": [
    "# By column number\n",
    "\n",
    "head(mtcars[1:4])  # Reminder\n",
    "\n",
    "plot(mtcars[,4], mtcars[,1], pch = 16)"
   ]
  },
  {
   "cell_type": "markdown",
   "metadata": {},
   "source": [
    "We lost the names of our variables, but we know how to get them back."
   ]
  },
  {
   "cell_type": "code",
   "execution_count": null,
   "metadata": {},
   "outputs": [],
   "source": [
    "plot(mtcars[,4], mtcars[,1], xlab = names(mtcars)[4], \n",
    "     ylab = names(mtcars)[1], pch = 16)"
   ]
  },
  {
   "cell_type": "code",
   "execution_count": null,
   "metadata": {},
   "outputs": [],
   "source": [
    "options(repr.plot.width = 6, repr.plot.height = 3)\n",
    "\n",
    "par(mfrow=c(1,3))  # Tell R to make a 1 by 3 array of plots\n",
    "\n",
    "# The only change below this is to convert \"4\" into \"i\"\n",
    "\n",
    "for(i in 2:4){\n",
    "    plot(mtcars[,i], mtcars[,1], xlab = names(mtcars)[i], \n",
    "         ylab = names(mtcars)[1], pch = 16)\n",
    "}"
   ]
  },
  {
   "cell_type": "code",
   "execution_count": null,
   "metadata": {},
   "outputs": [],
   "source": [
    "# mtcars has how many variables in it?\n",
    "\n",
    "dim(mtcars)      # Returns rows and columns\n",
    "length(mtcars)   # For a data frame, returns the columns only (different for other objects)"
   ]
  },
  {
   "cell_type": "code",
   "execution_count": null,
   "metadata": {},
   "outputs": [],
   "source": [
    "# Show all possible plots for MPG in mtcars\n",
    "\n",
    "options(repr.plot.width = 6, repr.plot.height = 12)  # Make this bigger!\n",
    "\n",
    "par(mfrow=c(5,2))  # Tell R to make a 5 by 2 array of plots\n",
    "\n",
    "# Only one change below:\n",
    "\n",
    "for(i in 2:11){\n",
    "    plot(mtcars[,i], mtcars[,1], xlab = names(mtcars)[i], \n",
    "         ylab = names(mtcars)[1], pch = 16)\n",
    "}"
   ]
  },
  {
   "cell_type": "markdown",
   "metadata": {},
   "source": [
    "Not pretty, but it is a quick way to repeat an analysis for each column in `mtcars`.\n",
    "\n",
    "#### Slopes of Regression Lines\n",
    "What about the slopes of the regression lines?"
   ]
  },
  {
   "cell_type": "code",
   "execution_count": null,
   "metadata": {},
   "outputs": [],
   "source": [
    "# Fit linear regression of MPG on HP (HUMAN form)\n",
    "\n",
    "mod1 <- lm(mtcars$mpg ~ mtcars$hp)\n",
    "\n",
    "coef(mod1)    # This function returns the intercept and slope"
   ]
  },
  {
   "cell_type": "code",
   "execution_count": null,
   "metadata": {},
   "outputs": [],
   "source": [
    "coef(mod1)[2]    # Slope for horsepower; coef is just like names above"
   ]
  },
  {
   "cell_type": "markdown",
   "metadata": {},
   "source": [
    "Stop here for a moment and notice something very important: in the expression `coef(mod1)[2]` the `2` is picking out the second element of the list returned by `coef(mod1)`. This `2` refers to the slope which is **always** the second item in this list. In the code below, this `2` is not to be changed as `i` changes."
   ]
  },
  {
   "cell_type": "code",
   "execution_count": null,
   "metadata": {},
   "outputs": [],
   "source": [
    "cat(names(mtcars)[4], coef(mod1)[2], \"\\n\")"
   ]
  },
  {
   "cell_type": "markdown",
   "metadata": {},
   "source": [
    "We can put all of this together using the numerical way to access columns."
   ]
  },
  {
   "cell_type": "code",
   "execution_count": null,
   "metadata": {},
   "outputs": [],
   "source": [
    "mod1 <- lm(mtcars[,1] ~ mtcars[,4])          # Fit the model\n",
    "cat(names(mtcars)[4], coef(mod1)[2], \"\\n\")   # Print the slope"
   ]
  },
  {
   "cell_type": "code",
   "execution_count": null,
   "metadata": {},
   "outputs": [],
   "source": [
    "for(i in 2:11){\n",
    "    mod1 <- lm(mtcars[,1] ~ mtcars[,i])\n",
    "    cat(names(mtcars)[i], coef(mod1)[2], \"\\n\", sep = \"\\t\")\n",
    "}"
   ]
  },
  {
   "cell_type": "markdown",
   "metadata": {},
   "source": [
    "### 1.3 More Advanced: Loops Over Functions\n",
    "The following example is a bit more advanced, but when you have more experience it shows you something **very** powerful. Study the documentation for R's `do.call` function (and tutorials online) for much more."
   ]
  },
  {
   "cell_type": "code",
   "execution_count": null,
   "metadata": {},
   "outputs": [],
   "source": [
    "# ADVANCED: The do.call function can call a function by name.\n",
    "#           However, the arguments passed to the function by\n",
    "#           do.call **must** be an R list! This is not a problem\n",
    "#           as most things can be made into a list by the \"list\"\n",
    "#           function. Read ?do.call for details.\n",
    "\n",
    "what2do <- c(\"mean\", \"median\", \"var\", \"sd\")\n",
    "\n",
    "x <- c(1,23,45,67,88,100,101)\n",
    "\n",
    "for(i in what2do){\n",
    "    cat(i, do.call(i, list(x)), \"\\n\", sep=\"\\t\")  # Note the list function\n",
    "}"
   ]
  },
  {
   "cell_type": "markdown",
   "metadata": {},
   "source": [
    "One thing to notice here is that loops can be made to work over data sets, over variables in data frames, over files, over lists, and finally over lists of functions. This is a single abstraction that allows repition over almost any constructs in R.\n",
    "\n",
    "## 2. Conditionals and Decisions\n",
    "\n",
    "### 2.1 Introduction\n",
    "We need to allow R to make decisions based on the values of variables. We have been doing this in a simple way already. The main construct here is:\n",
    "\n",
    "```\n",
    "if(x == A){\n",
    "    when comparison is TRUE do something\n",
    "} else {\n",
    "    when it is FALSE do a different thing\n",
    "}\n",
    "```\n",
    "\n",
    "To make this work we need to know how to use R's comparison operators.\n",
    "\n",
    "### 2.2 Comparisons\n",
    "Remember the comparisons (`<`, `>`, `<=`, `>=`, `==`, and `!=`) from last time:"
   ]
  },
  {
   "cell_type": "code",
   "execution_count": null,
   "metadata": {},
   "outputs": [],
   "source": [
    "1 == 1     # Comparison uses == NOT = "
   ]
  },
  {
   "cell_type": "code",
   "execution_count": null,
   "metadata": {},
   "outputs": [],
   "source": [
    "1 == 2     \n",
    "1 != 2     # != means \"is NOT equal to\""
   ]
  },
  {
   "cell_type": "code",
   "execution_count": null,
   "metadata": {},
   "outputs": [],
   "source": [
    "1 < 100"
   ]
  },
  {
   "cell_type": "code",
   "execution_count": null,
   "metadata": {},
   "outputs": [],
   "source": [
    "1 > 100"
   ]
  },
  {
   "cell_type": "markdown",
   "metadata": {},
   "source": [
    "### 2.3 `if`-`else` Structures\n",
    "These comparisons are used in conditionals (if-else) statements."
   ]
  },
  {
   "cell_type": "code",
   "execution_count": null,
   "metadata": {},
   "outputs": [],
   "source": [
    "if(1 == 1){\n",
    "    cat(\"one equals one\")\n",
    "} else {\n",
    "    cat(\"not so much\")\n",
    "}"
   ]
  },
  {
   "cell_type": "code",
   "execution_count": null,
   "metadata": {},
   "outputs": [],
   "source": [
    "x <- 33\n",
    "\n",
    "if(x == 1){\n",
    "    cat(\"x is equal to 1\")\n",
    "} else {\n",
    "    cat(\"x in NOT equal to 1\")\n",
    "}"
   ]
  },
  {
   "cell_type": "code",
   "execution_count": null,
   "metadata": {},
   "outputs": [],
   "source": [
    "# If we don't want to do anything when the test fails, we can skip the ELSE\n",
    "\n",
    "x <- 33\n",
    "\n",
    "if(x == 1){\n",
    "    cat(\"x is equal to 1\")\n",
    "}"
   ]
  },
  {
   "cell_type": "markdown",
   "metadata": {},
   "source": [
    "### 2.4 `if` - `else` `if` - `else` Structures\n",
    "We can also chain things together to make several comparisons. This is called a if-else-if. We literally just place the next `if` statement after the first else.\n",
    "\n",
    "In math, there is a thing called the **Law of Trichotomy** which says that all (real) numbers are either **negative**, **positive**, or equal to **zero**. \n",
    "\n",
    "We can write this as an if-else if-else structure."
   ]
  },
  {
   "cell_type": "code",
   "execution_count": null,
   "metadata": {},
   "outputs": [],
   "source": [
    "x <- 0\n",
    "\n",
    "if (x < 0) {\n",
    "    cat(\"Negative number\")\n",
    "} else if (x > 0) {\n",
    "    cat(\"Positive number\")\n",
    "} else {\n",
    "    cat(\"Zero\")\n",
    "}"
   ]
  },
  {
   "cell_type": "markdown",
   "metadata": {},
   "source": [
    "### 2.5 Vector Form of `if`-`else` (Advanced)\n",
    "Note that `if`-`else` statements and their kin only apply to single values. (So `x` above needs to be just one number.) However there is a special function that can be used to work with vector quantities, but it has some limits. The form is:\n",
    "\n",
    "```r\n",
    "ifelse(test_expression, x, y)\n",
    "```\n",
    "\n",
    "If the `test_expression` is `TRUE` then the value `x` is returned; if `test_expression` is `FALSE` then the value `y` is returned. This is applied to each element of a list in turn, and the result is list of `x`'s and `y`'s. Note that in place of either `x` or `y` you can place another function to be evaluated."
   ]
  },
  {
   "cell_type": "code",
   "execution_count": null,
   "metadata": {},
   "outputs": [],
   "source": [
    "x <- c(-100, 2, 10, -99)\n",
    "\n",
    "ifelse(x > 0, 1, -1)"
   ]
  },
  {
   "cell_type": "code",
   "execution_count": null,
   "metadata": {},
   "outputs": [],
   "source": [
    "x <- c(1, 0, -1)\n",
    "\n",
    "ifelse(x > 0, 1, -1)  # Note what happens to zero!"
   ]
  },
  {
   "cell_type": "markdown",
   "metadata": {},
   "source": [
    "We can also make a vector form of the law of trichotomy. For this version, we want to get `-1` when the input number is negative, `1` when the input is positive, and `0` when the input is zero."
   ]
  },
  {
   "cell_type": "code",
   "execution_count": null,
   "metadata": {},
   "outputs": [],
   "source": [
    "# This is a slightly more ADVANCED example, so if it is not \n",
    "# clear at first, don't worry about it\n",
    "\n",
    "x <- c(1, 0, -1)\n",
    "\n",
    "ifelse(x > 0, 1, ifelse(x < 0, -1, 0))  # Note what happens to zero!"
   ]
  },
  {
   "cell_type": "markdown",
   "metadata": {},
   "source": [
    "### 2.6  `while` Loops\n",
    "Now that we have conditionals worked out, we can look at another kind of loop. `for` loops are good for tasks where you know in advance how many times you want to do them, but `while` loops use a conditional test to decide when to quit.\n",
    "\n",
    "```\n",
    "while(TEST_CONDITION){\n",
    "  Do something here\n",
    "  Update something or go on forever!\n",
    "}\n",
    "```"
   ]
  },
  {
   "cell_type": "code",
   "execution_count": null,
   "metadata": {},
   "outputs": [],
   "source": [
    "i <- 0\n",
    "\n",
    "while(i <= 100){\n",
    "    cat(i, \"\\n\")\n",
    "    i <- i + 10\n",
    "}"
   ]
  },
  {
   "cell_type": "code",
   "execution_count": null,
   "metadata": {},
   "outputs": [],
   "source": [
    "# Equivalent for loop for the basic case\n",
    "\n",
    "for(i in seq(0, 100, by = 10)){\n",
    "    cat(i, \"\\n\")\n",
    "}"
   ]
  },
  {
   "cell_type": "markdown",
   "metadata": {},
   "source": [
    "Note that in the `for` loop we have built the value of `i` into the definition. What if we change `i` to a different value like `22`?\n",
    "\n",
    "Note the differences between these two loops: In the `for` loop we need to know the starting value of `i` to write the loop. In the `while` loop version, we could actually accept **any** value of `i` as out start and the loop would simply pick up at that value and increment by 10 on each pass. `while` loops are better for processes where the steps are not all known when you start.\n",
    "\n",
    "In principle, however, you can usually make any of the basic looping structures do any sort of loop you desire. But the different types of loops make certain forms easier.\n",
    "\n",
    "\n",
    "## 3. Functions\n",
    "### 3.1 Introduction to Functions\n",
    "Functions wrap up little bits of code to do things. This can be as simple as defining a z-score or as complicated as computing and returning regression coefficients (or much more).\n",
    "\n",
    "The basic form of a function definition looks like this:\n",
    "\n",
    "```r\n",
    "name_of_function <- function(INPUT){\n",
    "    do various things here that use INPUT\n",
    "    return(OUTPUT)\n",
    "}\n",
    "```\n",
    "The main feature of a function is that it takes an INPUT (or INPUTs), using these it does a computation, then it gives back (\"returns\") an OUTPUT, usually using the `return` function. What happens in between INPUT and OUTPUT happens inside of a sealed container. \n",
    "\n",
    "Once a function is defined, it is used by typing its name followed by its INPUT in parentheses:\n",
    "\n",
    "```r\n",
    "name_of_function(INPUT)\n",
    "```\n",
    "\n",
    "### 3.2 Examples\n",
    "\n",
    "#### 3.2.1 The Square Function\n",
    "By tradition one of the first functions people usually learn to program is the \"square\" function:"
   ]
  },
  {
   "cell_type": "code",
   "execution_count": null,
   "metadata": {},
   "outputs": [],
   "source": [
    "square <- function(x){\n",
    "    result <- x*x\n",
    "    return(result)\n",
    "}"
   ]
  },
  {
   "cell_type": "code",
   "execution_count": null,
   "metadata": {},
   "outputs": [],
   "source": [
    "square(5)\n",
    "square(10)"
   ]
  },
  {
   "cell_type": "code",
   "execution_count": null,
   "metadata": {},
   "outputs": [],
   "source": [
    "short.square <- function(x){\n",
    "    return(x*x)\n",
    "}"
   ]
  },
  {
   "cell_type": "code",
   "execution_count": null,
   "metadata": {},
   "outputs": [],
   "source": [
    "short.square(2)"
   ]
  },
  {
   "cell_type": "markdown",
   "metadata": {},
   "source": [
    "Remember the table of squares from above?"
   ]
  },
  {
   "cell_type": "code",
   "execution_count": null,
   "metadata": {},
   "outputs": [],
   "source": [
    "for(i in 1:10) {\n",
    "  cat(i, i*i, \"\\n\", sep='\\t')\n",
    "}"
   ]
  },
  {
   "cell_type": "code",
   "execution_count": null,
   "metadata": {},
   "outputs": [],
   "source": [
    "for(i in 1:10) {\n",
    "  cat(i, square(i), \"\\n\", sep='\\t') # Each time through square gets a new value\n",
    "}"
   ]
  },
  {
   "cell_type": "markdown",
   "metadata": {},
   "source": [
    "Clearly for this example it does not make things simpler. We usually use functions to wrap up more complex tasks.\n",
    "\n",
    "Notice a few things:\n",
    "\n",
    "+ Functions use **round** brackets or parentheses: `(` and `)`, **not** square ones for the INPUT.\n",
    "+ Functions use the **curly brackets** `{` and `}` to surround their instructions.\n",
    "+ When **defining** a function, you use a variable (like `x` above). This variable is replaced with whatever number you give as input to the function.\n",
    "+ When you give a variable as input to a function, its **value** is what is used as input. Its name does not matter. (In programming and logic this is a **free parameter**, see [here](https://en.wikipedia.org/wiki/Free_variables_and_bound_variables).)\n",
    "\n",
    "Additionally, \n",
    "+ Any names used inside a function do not affect things outside of the function, even when they are the same!\n",
    "\n",
    "Here is an example of that last point. Note that `f` does not do anything really useful."
   ]
  },
  {
   "cell_type": "code",
   "execution_count": null,
   "metadata": {},
   "outputs": [],
   "source": [
    "f <- function(x){\n",
    "    A <- 10         # Set the variable A equal to 10\n",
    "    return(A*x)     # Return A times x\n",
    "}"
   ]
  },
  {
   "cell_type": "code",
   "execution_count": null,
   "metadata": {},
   "outputs": [],
   "source": [
    "A <- 222     # Use the same name as used inside of f\n",
    "\n",
    "f(100)\n",
    "\n",
    "A            # Note A's value OUTSIDE of f is unchanged"
   ]
  },
  {
   "cell_type": "markdown",
   "metadata": {},
   "source": [
    "The example above shows the [concept of \"scope\"](https://en.wikipedia.org/wiki/Scope_%28computer_science%29) as the term is used in computer science.\n",
    "\n",
    "#### 3.2.2 The `mtcars` Slope Function\n",
    "\n",
    "Recall the example of obtaining the slopes from `mtcars` above:"
   ]
  },
  {
   "cell_type": "code",
   "execution_count": null,
   "metadata": {},
   "outputs": [],
   "source": [
    "i <- 3    # Pick one of the columns from mtcars\n",
    "\n",
    "mod1 <- lm(mtcars[,1] ~ mtcars[,i])          # Fit the model\n",
    "coef(mod1)[2]  "
   ]
  },
  {
   "cell_type": "code",
   "execution_count": null,
   "metadata": {},
   "outputs": [],
   "source": [
    "mtcars_slope <- function(i){\n",
    "    mod1 <- lm(mtcars[,1] ~ mtcars[,i])\n",
    "    return(coef(mod1)[2])                # Just the slope, no name\n",
    "}"
   ]
  },
  {
   "cell_type": "code",
   "execution_count": null,
   "metadata": {},
   "outputs": [],
   "source": [
    "mtcars_slope(3)  # Sometimes R carries other junk along with numbers"
   ]
  },
  {
   "cell_type": "code",
   "execution_count": null,
   "metadata": {},
   "outputs": [],
   "source": [
    "# Here is the loop from above, with the new function\n",
    "# Compare this with the version above. It should be clearer\n",
    "# to understand.\n",
    "\n",
    "for(i in 2:11){\n",
    "    cat(names(mtcars)[i], mtcars_slope(i), \"\\n\", sep = \"\\t\")\n",
    "}"
   ]
  },
  {
   "cell_type": "markdown",
   "metadata": {},
   "source": [
    "#### 3.2.3 Trichotomy Function\n",
    "Let's say we want to wrap up the trichotomy law from above into a function called `trichotomy` that works on individual numbers. This function will return the number `1` for input that is positive, `-1` for negatives, and `0` for inputs of zero. It can be implemented using `if`-`else if`-`else`."
   ]
  },
  {
   "cell_type": "code",
   "execution_count": null,
   "metadata": {},
   "outputs": [],
   "source": [
    "trichotomy <- function(x){\n",
    "    if (x < 0) {\n",
    "        return(-1)\n",
    "    } else if (x > 0) {\n",
    "        return(1)\n",
    "    } else {\n",
    "        return(0)\n",
    "    }\n",
    "}"
   ]
  },
  {
   "cell_type": "code",
   "execution_count": null,
   "metadata": {},
   "outputs": [],
   "source": [
    "# Test\n",
    "\n",
    "trichotomy(100)\n",
    "trichotomy(-3.33)\n",
    "trichotomy(0.000)"
   ]
  },
  {
   "cell_type": "code",
   "execution_count": null,
   "metadata": {},
   "outputs": [],
   "source": [
    "# This is actually used in actual work, R implements this as the \n",
    "# sign function:\n",
    "\n",
    "sign(100)\n",
    "sign(-3.33)\n",
    "sign(0.000)"
   ]
  },
  {
   "cell_type": "markdown",
   "metadata": {},
   "source": [
    "#### 3.2.4 Skipping Elements in a List\n",
    "In the following example we will use the R's modulus operator. This is written as `%%` and it gives the remainder after integer (whole number) division."
   ]
  },
  {
   "cell_type": "code",
   "execution_count": null,
   "metadata": {},
   "outputs": [],
   "source": [
    "10 %% 3   # 10 = 3 * 3 + 1"
   ]
  },
  {
   "cell_type": "code",
   "execution_count": null,
   "metadata": {},
   "outputs": [],
   "source": [
    "12 %% 4   # 12 = 3 * 4 + 0"
   ]
  },
  {
   "cell_type": "markdown",
   "metadata": {},
   "source": [
    "The definition of an **even number** is that there is a remainder of 0 when the number is divided by 2."
   ]
  },
  {
   "cell_type": "code",
   "execution_count": null,
   "metadata": {},
   "outputs": [],
   "source": [
    "  2 %% 2   # Evens\n",
    "100 %% 2\n",
    " 38 %% 2\n",
    "233 %% 2   # Odds\n",
    "  3 %% 2\n",
    " 77 %% 2"
   ]
  },
  {
   "cell_type": "code",
   "execution_count": null,
   "metadata": {},
   "outputs": [],
   "source": [
    "for(i in 1:100){\n",
    "    cat(i, \"\\t\")\n",
    "}"
   ]
  },
  {
   "cell_type": "code",
   "execution_count": null,
   "metadata": {},
   "outputs": [],
   "source": [
    "# Now we can combine this with an if to only print even numbers:\n",
    "\n",
    "for(i in 1:100){\n",
    "    if(i %% 2 == 0){\n",
    "        cat(i, \"\\t\")\n",
    "    }\n",
    "}"
   ]
  },
  {
   "cell_type": "code",
   "execution_count": null,
   "metadata": {},
   "outputs": [],
   "source": [
    "# Slightly more advanced trick: the modulus operator can test for divisibility\n",
    "# by other values, too. Let's say we want to print only 5 values per line.\n",
    "# Then when i %% 5 == 0, we need to make cat move to the next line.\n",
    "\n",
    "for(i in 1:100){\n",
    "    cat(i, \"\\t\")\n",
    "    if(i %% 5 == 0){\n",
    "        cat(\"\\n\")\n",
    "    }\n",
    "}"
   ]
  },
  {
   "cell_type": "markdown",
   "metadata": {},
   "source": [
    "***\n",
    "Version 1.0  \n",
    "2018.07.11\n",
    "\n",
    "To contact the author, email [mturner46@gsu.edu](mailto:mturner46@gsu.edu). Please contact me with recommendations for improvement or if you find any errors. This work may be adapted for any non-commercial purpose within the bounds of the license.\n",
    "\n",
    "<a rel=\"license\" href=\"http://creativecommons.org/licenses/by-nc-sa/4.0/\"><img alt=\"Creative Commons License\" style=\"border-width:0\" src=\"https://i.creativecommons.org/l/by-nc-sa/4.0/88x31.png\" /></a><br />This work is licensed under a <a rel=\"license\" href=\"http://creativecommons.org/licenses/by-nc-sa/4.0/\">Creative Commons Attribution-NonCommercial-ShareAlike 4.0 International License</a>."
   ]
  }
 ],
 "metadata": {
  "kernelspec": {
   "display_name": "R",
   "language": "R",
   "name": "ir"
  },
  "language_info": {
   "codemirror_mode": "r",
   "file_extension": ".r",
   "mimetype": "text/x-r-source",
   "name": "R",
   "pygments_lexer": "r",
   "version": "3.3.1"
  }
 },
 "nbformat": 4,
 "nbformat_minor": 2
}
