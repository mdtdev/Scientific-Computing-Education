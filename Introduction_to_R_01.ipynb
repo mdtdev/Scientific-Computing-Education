{
 "cells": [
  {
   "cell_type": "markdown",
   "metadata": {},
   "source": [
    "# Introduction to R & Jupyter Notebooks\n",
    "\n",
    "Matthew D. Turner, PhD  \n",
    "Georgia State University\n",
    "\n",
    "Some rights reserved: [cc by-nc-sa](https://creativecommons.org/licenses/by-nc-sa/4.0/) See bottom of document for details.\n",
    "\n",
    "This workshop is intended as a brief introduction to:\n",
    "\n",
    "+ The R Language\n",
    "+ The Jupyter Scientific Notebook System\n",
    "\n",
    "The emphasis is on the R language, but as the class is delivered in Jupyter notebooks, we will cover the basics of this system, as well. Both R and Jupyter are systems that are too big to be covered in one class, so this is really just enough to get you started with either of them. For more information on Jupyter see the [Jupyter Project website](http://jupyter.org/). For more on R, see the [R Project website](https://www.r-project.org/).\n",
    "\n",
    "***\n",
    "\n",
    "## Section 1: Jupyter\n",
    "\n",
    "We will start with Jupyter so that you can work with it today.\n",
    "\n",
    "You are currently looking at a **Jupyter Notebook for R**. This is an easy to use system for working with scientific computing. Many of you will prefer to use [RStudio](https://www.rstudio.com/products/rstudio/) on your own computers. However, when working in a networked environment, Jupyter is better for sharing. (There is a web-based version of RStudio, however it is not an affordable option for GSU.) If you would like to use Jupyter on your own computer it is _relatively_ easy to set up. This will not be discussed today, please contact the workshop leader for more information.\n",
    "\n",
    "It is important to note that R is a computer language, _so while interacting with R notebooks in Jupyter will feel different from the workflow in RStudio, the **commands are identical**_. For more information on using Jupyter notebooks for research and teaching, see [HERE](https://jupyter.brynmawr.edu/services/public/dblank/Jupyter%20Notebook%20Users%20Manual.ipynb) (note that this page is a little out of date but still very useful).\n",
    "\n",
    "### Cells (The essential feature of Jupyter)\n",
    "\n",
    "Jupyter is organized into **cells** which are little blocks of code or formatted text. The output of cells is either statistical results or graphics.\n",
    "\n",
    "This text that you are reading is a **text** cell. Below this is a **code** cell that is empty. Let's try using it:\n",
    "\n",
    "+ Double-click on the cell below this\n",
    "+ Type `2 + 2` (or some other numbers of interest)\n",
    "+ Then press shift-enter (shift and the enter or return key on your keyboard; **remember this, you use it constantly!**)"
   ]
  },
  {
   "cell_type": "code",
   "execution_count": null,
   "metadata": {},
   "outputs": [],
   "source": []
  },
  {
   "cell_type": "markdown",
   "metadata": {},
   "source": [
    "Note a couple of things:\n",
    "\n",
    "+ The result is printed just below the cell\n",
    "+ The cell gets a **number** showing the order in which it was run (in this case 1)\n",
    "\n",
    "If you were to click on the cell again, you could change your code and then press shift-enter to run it again. The results will update to show the new result and the number of the cell will increment to the next number. Try it!\n",
    "\n",
    "### Text and Code Together in Jupyter\n",
    "\n",
    "Another great feature of Jupyter notebooks is that they allow the mixing of text, data, and computer code. Everything in this notebook, including **this cell's text**, is editable. If you would like to see the raw form of this typeset text, just _double_ click inside of this cell. The typesetting is done in [markdown](https://jupyter-notebook.readthedocs.io/en/stable/examples/Notebook/Working%20With%20Markdown%20Cells.html) a **simple code for marking up text** with things like: headings, web links, lists, computer code, and so on. It also supports typesetting math in LaTeX (if you are familiar with that). \n",
    "\n",
    "For example: writing $C = 2 \\pi r$ or $e^x=\\sum_{i=0}^\\infty \\frac{1}{i!}x^i$ is fairly easy.\n",
    "\n",
    "Cells are executed (code is run, text is formatted) when you press shift-enter while within the cell. Just click on the cell to make it the active cell (or double-click to make it active and editable if it is a text cell) and that will be the cell that gets executed when you press shift-enter."
   ]
  },
  {
   "cell_type": "markdown",
   "metadata": {},
   "source": [
    "### Graphics\n",
    "\n",
    "Scientific graphics are included in Jupyter R notebooks by running the required code in R to make the figures. They will simply appear as output for the code. Jupyter may also include images or other figures by inclusion as you would in a normal webpage:\n",
    "\n",
    "<img width=33% src=\"./lolcat_orly.jpg\" />"
   ]
  },
  {
   "cell_type": "markdown",
   "metadata": {},
   "source": [
    "## Section 2: Elementary R\n",
    "\n",
    "Let's cover the most basic parts of R starting with comments. Comments are for human consumption and are ways to remind yourself and others why you did something. You should use them liberally &mdash; you will simply not remember what you were doing today six months from now. So make a note to tell yourself!"
   ]
  },
  {
   "cell_type": "code",
   "execution_count": 7,
   "metadata": {},
   "outputs": [
    {
     "data": {
      "text/html": [
       "18.8495559215388"
      ],
      "text/latex": [
       "18.8495559215388"
      ],
      "text/markdown": [
       "18.8495559215388"
      ],
      "text/plain": [
       "[1] 18.84956"
      ]
     },
     "metadata": {},
     "output_type": "display_data"
    }
   ],
   "source": [
    "# Comments!\n",
    "\n",
    "# Comments are marked with a # (hashtag/pound sign/octothorpe/whatever) and R\n",
    "# ignores anything that comes after them.\n",
    "\n",
    "# Here is the circumference of a circle with radius 3...\n",
    "\n",
    "2*pi*3 # Note how this text does nothing other than delight you!"
   ]
  },
  {
   "cell_type": "markdown",
   "metadata": {},
   "source": [
    "### Basic Operations\n",
    "\n",
    "R is a language for doing math and statistics. Any simple operations you know from these fields are there to use. More advanced ones may need to be loaded from external libraries. We will discuss this later on.\n",
    "\n",
    "R uses the _usual_ way of writing math into a computer or calculator. At least for basic arithmetic.\n",
    "\n",
    "For now, let's look at some example operations. In the cell below we will do some arithmetic; the `print` function is there to show us the results:"
   ]
  },
  {
   "cell_type": "code",
   "execution_count": 8,
   "metadata": {},
   "outputs": [
    {
     "data": {
      "text/html": [
       "4"
      ],
      "text/latex": [
       "4"
      ],
      "text/markdown": [
       "4"
      ],
      "text/plain": [
       "[1] 4"
      ]
     },
     "metadata": {},
     "output_type": "display_data"
    },
    {
     "data": {
      "text/html": [
       "6"
      ],
      "text/latex": [
       "6"
      ],
      "text/markdown": [
       "6"
      ],
      "text/plain": [
       "[1] 6"
      ]
     },
     "metadata": {},
     "output_type": "display_data"
    },
    {
     "data": {
      "text/html": [
       "10000"
      ],
      "text/latex": [
       "10000"
      ],
      "text/markdown": [
       "10000"
      ],
      "text/plain": [
       "[1] 10000"
      ]
     },
     "metadata": {},
     "output_type": "display_data"
    }
   ],
   "source": [
    "2+2\n",
    "2*3\n",
    "10^4"
   ]
  },
  {
   "cell_type": "code",
   "execution_count": 9,
   "metadata": {},
   "outputs": [
    {
     "name": "stdout",
     "output_type": "stream",
     "text": [
      "[1] 4\n",
      "[1] 6\n",
      "[1] 10000\n"
     ]
    }
   ],
   "source": [
    "# Sometimes we want to force R to print the results. For this we can use the print statement\n",
    "# In Jupyter notebooks this is USUALLY optional, see cell above, but not always. If output\n",
    "# is missing, try a print() to fix it!\n",
    "\n",
    "print(2+2)\n",
    "print(2*3)\n",
    "print(10^4)"
   ]
  },
  {
   "cell_type": "markdown",
   "metadata": {},
   "source": [
    "Note that the previous two code cells do the exact same thing and both show all of their output, just with slight differences in formatting. The `print` function makes Jupyter show you the _raw_ R output, formatted as it usually is when using R interactively from the command line."
   ]
  },
  {
   "cell_type": "markdown",
   "metadata": {},
   "source": [
    "### Lists and List Operations\n",
    "In statistics we usually operate on large amounts of data. In R we will store these in **lists** and **data frames**. The former are pretty much self explanatory, while the latter are essentially simple spreadsheets organized in the usual way for statistics and data analysis. Columns of data frames can be treated like lists."
   ]
  },
  {
   "cell_type": "code",
   "execution_count": 11,
   "metadata": {},
   "outputs": [],
   "source": [
    "x = c(1,2,3)\n",
    "y = c(2,2,2)"
   ]
  },
  {
   "cell_type": "markdown",
   "metadata": {},
   "source": [
    "Operations on lists of the same length are done **elementwise**, that is, the operation is done to each pair of numbers:"
   ]
  },
  {
   "cell_type": "code",
   "execution_count": 12,
   "metadata": {},
   "outputs": [
    {
     "data": {
      "text/html": [
       "<ol class=list-inline>\n",
       "\t<li>3</li>\n",
       "\t<li>4</li>\n",
       "\t<li>5</li>\n",
       "</ol>\n"
      ],
      "text/latex": [
       "\\begin{enumerate*}\n",
       "\\item 3\n",
       "\\item 4\n",
       "\\item 5\n",
       "\\end{enumerate*}\n"
      ],
      "text/markdown": [
       "1. 3\n",
       "2. 4\n",
       "3. 5\n",
       "\n",
       "\n"
      ],
      "text/plain": [
       "[1] 3 4 5"
      ]
     },
     "metadata": {},
     "output_type": "display_data"
    },
    {
     "data": {
      "text/html": [
       "<ol class=list-inline>\n",
       "\t<li>-1</li>\n",
       "\t<li>0</li>\n",
       "\t<li>1</li>\n",
       "</ol>\n"
      ],
      "text/latex": [
       "\\begin{enumerate*}\n",
       "\\item -1\n",
       "\\item 0\n",
       "\\item 1\n",
       "\\end{enumerate*}\n"
      ],
      "text/markdown": [
       "1. -1\n",
       "2. 0\n",
       "3. 1\n",
       "\n",
       "\n"
      ],
      "text/plain": [
       "[1] -1  0  1"
      ]
     },
     "metadata": {},
     "output_type": "display_data"
    },
    {
     "data": {
      "text/html": [
       "<ol class=list-inline>\n",
       "\t<li>2</li>\n",
       "\t<li>4</li>\n",
       "\t<li>6</li>\n",
       "</ol>\n"
      ],
      "text/latex": [
       "\\begin{enumerate*}\n",
       "\\item 2\n",
       "\\item 4\n",
       "\\item 6\n",
       "\\end{enumerate*}\n"
      ],
      "text/markdown": [
       "1. 2\n",
       "2. 4\n",
       "3. 6\n",
       "\n",
       "\n"
      ],
      "text/plain": [
       "[1] 2 4 6"
      ]
     },
     "metadata": {},
     "output_type": "display_data"
    },
    {
     "data": {
      "text/html": [
       "<ol class=list-inline>\n",
       "\t<li>0.5</li>\n",
       "\t<li>1</li>\n",
       "\t<li>1.5</li>\n",
       "</ol>\n"
      ],
      "text/latex": [
       "\\begin{enumerate*}\n",
       "\\item 0.5\n",
       "\\item 1\n",
       "\\item 1.5\n",
       "\\end{enumerate*}\n"
      ],
      "text/markdown": [
       "1. 0.5\n",
       "2. 1\n",
       "3. 1.5\n",
       "\n",
       "\n"
      ],
      "text/plain": [
       "[1] 0.5 1.0 1.5"
      ]
     },
     "metadata": {},
     "output_type": "display_data"
    }
   ],
   "source": [
    "x+y\n",
    "x-y\n",
    "x*y\n",
    "x/y"
   ]
  },
  {
   "cell_type": "markdown",
   "metadata": {},
   "source": [
    "Make sure you understand what the previous cell did!\n",
    "\n",
    "\n",
    "Operations between a list and a **single number** apply the operation to each element of the list and the single number. It is as though the single element is a list of the same number repeated. This is one of many R shorthand notations to save you work. Compare the results below:"
   ]
  },
  {
   "cell_type": "code",
   "execution_count": 13,
   "metadata": {},
   "outputs": [
    {
     "data": {
      "text/html": [
       "<ol class=list-inline>\n",
       "\t<li>2</li>\n",
       "\t<li>3</li>\n",
       "\t<li>4</li>\n",
       "</ol>\n"
      ],
      "text/latex": [
       "\\begin{enumerate*}\n",
       "\\item 2\n",
       "\\item 3\n",
       "\\item 4\n",
       "\\end{enumerate*}\n"
      ],
      "text/markdown": [
       "1. 2\n",
       "2. 3\n",
       "3. 4\n",
       "\n",
       "\n"
      ],
      "text/plain": [
       "[1] 2 3 4"
      ]
     },
     "metadata": {},
     "output_type": "display_data"
    },
    {
     "data": {
      "text/html": [
       "<ol class=list-inline>\n",
       "\t<li>0</li>\n",
       "\t<li>0</li>\n",
       "\t<li>0</li>\n",
       "</ol>\n"
      ],
      "text/latex": [
       "\\begin{enumerate*}\n",
       "\\item 0\n",
       "\\item 0\n",
       "\\item 0\n",
       "\\end{enumerate*}\n"
      ],
      "text/markdown": [
       "1. 0\n",
       "2. 0\n",
       "3. 0\n",
       "\n",
       "\n"
      ],
      "text/plain": [
       "[1] 0 0 0"
      ]
     },
     "metadata": {},
     "output_type": "display_data"
    },
    {
     "data": {
      "text/html": [
       "<ol class=list-inline>\n",
       "\t<li>2</li>\n",
       "\t<li>3</li>\n",
       "\t<li>4</li>\n",
       "</ol>\n"
      ],
      "text/latex": [
       "\\begin{enumerate*}\n",
       "\\item 2\n",
       "\\item 3\n",
       "\\item 4\n",
       "\\end{enumerate*}\n"
      ],
      "text/markdown": [
       "1. 2\n",
       "2. 3\n",
       "3. 4\n",
       "\n",
       "\n"
      ],
      "text/plain": [
       "[1] 2 3 4"
      ]
     },
     "metadata": {},
     "output_type": "display_data"
    },
    {
     "data": {
      "text/html": [
       "<ol class=list-inline>\n",
       "\t<li>0</li>\n",
       "\t<li>0</li>\n",
       "\t<li>0</li>\n",
       "</ol>\n"
      ],
      "text/latex": [
       "\\begin{enumerate*}\n",
       "\\item 0\n",
       "\\item 0\n",
       "\\item 0\n",
       "\\end{enumerate*}\n"
      ],
      "text/markdown": [
       "1. 0\n",
       "2. 0\n",
       "3. 0\n",
       "\n",
       "\n"
      ],
      "text/plain": [
       "[1] 0 0 0"
      ]
     },
     "metadata": {},
     "output_type": "display_data"
    }
   ],
   "source": [
    "x + 1          # Shorthand\n",
    "y - 2\n",
    "\n",
    "x + c(1,1,1)   # Written out as full lists\n",
    "y - c(2,2,2)"
   ]
  },
  {
   "cell_type": "code",
   "execution_count": 9,
   "metadata": {},
   "outputs": [],
   "source": [
    "x  = c(1,2,3,4,5,6,7,8,9)  # Give a list of numbers a name\n",
    "y <- c(2,1,3,4,6,5,8,8,7)  # Same thing! <- and = can both be used for assignment"
   ]
  },
  {
   "cell_type": "markdown",
   "metadata": {},
   "source": [
    "### Mathematical Functions Made Out of Arithmetic\n",
    "\n",
    "We can create mathematical functions using the usual translation of math into _typed_ math. For instance, the mean is defined as: $$\\bar{X} = \\frac{1}{N}\\sum_{i = 1}^{N} X_i$$ which is just the sum of the data points which is then divided by the number of points. It could also be written (in somewhat reduced notation) as: $\\frac{\\sum X_i}{N}$ which is how some of you might have seen it elsewhere.\n",
    "\n",
    "$$\\bar{X} = \\frac{\\sum_{i = 1}^{N} X_i}{N}$$\n",
    "\n",
    "For a list of numbers `X`, the sum is given by the `sum` function, and division is shown above. To determine `N` you need to find the _length_ of the list, and there is a function called `length` that does just that. In the cell below, figure out the mean of `X`:"
   ]
  },
  {
   "cell_type": "code",
   "execution_count": 10,
   "metadata": {},
   "outputs": [
    {
     "ename": "ERROR",
     "evalue": "Error in print(xbar): object 'xbar' not found\n",
     "output_type": "error",
     "traceback": [
      "Error in print(xbar): object 'xbar' not found\nTraceback:\n",
      "1. print(xbar)"
     ]
    }
   ],
   "source": [
    "# Write the function for the mean in this cell\n",
    "# Store the results in the variable xbar\n",
    "# Print the result\n",
    "\n",
    "X = c(1,2,3,4,5,6,7,8,9)\n",
    "\n",
    "xbar =       # Define the mean function on this line\n",
    "\n",
    "print(xbar)"
   ]
  },
  {
   "cell_type": "code",
   "execution_count": null,
   "metadata": {},
   "outputs": [],
   "source": []
  },
  {
   "cell_type": "code",
   "execution_count": null,
   "metadata": {},
   "outputs": [],
   "source": []
  },
  {
   "cell_type": "code",
   "execution_count": null,
   "metadata": {},
   "outputs": [],
   "source": []
  },
  {
   "cell_type": "code",
   "execution_count": 11,
   "metadata": {},
   "outputs": [],
   "source": [
    "x  = c(1,2,3,4,5,6,7,8,9)  # Give a list of numbers a name\n",
    "y <- c(2,1,3,4,6,5,8,8,7)  # Same thing! <- and = can both be used for assignment"
   ]
  },
  {
   "cell_type": "code",
   "execution_count": 12,
   "metadata": {},
   "outputs": [
    {
     "data": {
      "text/html": [
       "0.923093083245744"
      ],
      "text/latex": [
       "0.923093083245744"
      ],
      "text/markdown": [
       "0.923093083245744"
      ],
      "text/plain": [
       "[1] 0.9230931"
      ]
     },
     "metadata": {},
     "output_type": "display_data"
    },
    {
     "data": {
      "image/png": "[encoded data removed]",
      "text/plain": [
       "plot without title"
      ]
     },
     "metadata": {},
     "output_type": "display_data"
    }
   ],
   "source": [
    "plot(x, y, pch = 20)\n",
    "cor(x, y)"
   ]
  },
  {
   "cell_type": "code",
   "execution_count": null,
   "metadata": {},
   "outputs": [],
   "source": []
  },
  {
   "cell_type": "markdown",
   "metadata": {},
   "source": [
    "## Some Simple Times & Dates\n",
    "\n",
    "R has a library for working with times and dates. Here we will work with durations from the subset of the **UFO Awesome** dataset we are using as part of today's workshop. These data have a timecode in the format: `hh:mm:ss.f` or `hours:minutes:seconds.fraction` and the decimal allows for half second fractions (in this data you should only see .5 occasionally). So:\n",
    "\n",
    "+ 0:30:00 is 30 minutes\n",
    "+ 1:15:00 is 1 hour and 15 minutes\n",
    "+ 0:00:25 is 25 seconds\n",
    "+ 0:00:12.5 is 12.5 seconds\n",
    "\n",
    "Here is how the functions work:"
   ]
  },
  {
   "cell_type": "code",
   "execution_count": 17,
   "metadata": {},
   "outputs": [
    {
     "data": {
      "text/plain": [
       "[1] 00:30:00"
      ]
     },
     "metadata": {},
     "output_type": "display_data"
    },
    {
     "data": {
      "text/html": [
       "0.0208333333333333"
      ],
      "text/latex": [
       "0.0208333333333333"
      ],
      "text/markdown": [
       "0.0208333333333333"
      ],
      "text/plain": [
       "[1] 0.02083333"
      ]
     },
     "metadata": {},
     "output_type": "display_data"
    },
    {
     "data": {
      "text/html": [
       "0.5"
      ],
      "text/latex": [
       "0.5"
      ],
      "text/markdown": [
       "0.5"
      ],
      "text/plain": [
       "[1] 0.5"
      ]
     },
     "metadata": {},
     "output_type": "display_data"
    },
    {
     "data": {
      "text/html": [
       "30"
      ],
      "text/latex": [
       "30"
      ],
      "text/markdown": [
       "30"
      ],
      "text/plain": [
       "[1] 30"
      ]
     },
     "metadata": {},
     "output_type": "display_data"
    },
    {
     "data": {
      "text/html": [
       "1800"
      ],
      "text/latex": [
       "1800"
      ],
      "text/markdown": [
       "1800"
      ],
      "text/plain": [
       "[1] 1800"
      ]
     },
     "metadata": {},
     "output_type": "display_data"
    }
   ],
   "source": [
    "library(chron) # Loads the chron library for additional time functions\n",
    "\n",
    "# Example:\n",
    "\n",
    "times(\"0:30:00\")    # This converts the string \"0:30:00\" into a time object\n",
    "                    # It does not look any different when printed below!\n",
    "\n",
    "as.numeric(times(\"0:30:00\"))    # This converts the time into a number (in terms of a fractional DAY, weird!)\n",
    "\n",
    "as.numeric(times(\"0:30:00\"))*24         # Convert fractions of a day to hours (30m = 0.50h)\n",
    "as.numeric(times(\"0:30:00\"))*24*60      # Convert fractions of a day to minutes\n",
    "as.numeric(times(\"0:30:00\"))*24*60*60   # Convert fractions of a day into seconds (30m = 1800s)"
   ]
  },
  {
   "cell_type": "markdown",
   "metadata": {},
   "source": [
    "Since we want to convert our times into minutes, let's wrap all of this up into a function to do it:"
   ]
  },
  {
   "cell_type": "code",
   "execution_count": 21,
   "metadata": {},
   "outputs": [],
   "source": [
    "t2m <- function(ctf){\n",
    "    return(as.numeric(times(ctf))*24*60)\n",
    "}"
   ]
  },
  {
   "cell_type": "code",
   "execution_count": 23,
   "metadata": {},
   "outputs": [
    {
     "data": {
      "text/html": [
       "30"
      ],
      "text/latex": [
       "30"
      ],
      "text/markdown": [
       "30"
      ],
      "text/plain": [
       "[1] 30"
      ]
     },
     "metadata": {},
     "output_type": "display_data"
    },
    {
     "data": {
      "text/html": [
       "75"
      ],
      "text/latex": [
       "75"
      ],
      "text/markdown": [
       "75"
      ],
      "text/plain": [
       "[1] 75"
      ]
     },
     "metadata": {},
     "output_type": "display_data"
    },
    {
     "data": {
      "text/html": [
       "0.5"
      ],
      "text/latex": [
       "0.5"
      ],
      "text/markdown": [
       "0.5"
      ],
      "text/plain": [
       "[1] 0.5"
      ]
     },
     "metadata": {},
     "output_type": "display_data"
    },
    {
     "data": {
      "text/html": [
       "0.416666666666667"
      ],
      "text/latex": [
       "0.416666666666667"
      ],
      "text/markdown": [
       "0.416666666666667"
      ],
      "text/plain": [
       "[1] 0.4166667"
      ]
     },
     "metadata": {},
     "output_type": "display_data"
    },
    {
     "data": {
      "text/html": [
       "0.208333333333333"
      ],
      "text/latex": [
       "0.208333333333333"
      ],
      "text/markdown": [
       "0.208333333333333"
      ],
      "text/plain": [
       "[1] 0.2083333"
      ]
     },
     "metadata": {},
     "output_type": "display_data"
    }
   ],
   "source": [
    "t2m(\"0:30:00\")\n",
    "t2m(\"1:15:00\")    # 75 minutes\n",
    "t2m(\"0:00:30\")    # 0.5 minutes\n",
    "t2m(\"0:00:25\")\n",
    "t2m(\"0:00:12.5\")"
   ]
  },
  {
   "cell_type": "code",
   "execution_count": null,
   "metadata": {},
   "outputs": [],
   "source": []
  },
  {
   "cell_type": "code",
   "execution_count": null,
   "metadata": {},
   "outputs": [],
   "source": []
  },
  {
   "cell_type": "markdown",
   "metadata": {},
   "source": [
    "Version 1.0  \n",
    "2018.06.06  \n",
    "\n",
    "To contact the author, please email [mturner46@gsu.edu](mailto:mturner46@gsu.edu). Please contact me with recommendations for improvement or if you find any errors. This work may be adapted for any purpose within the bounds of the license.\n",
    "\n",
    "<a rel=\"license\" href=\"http://creativecommons.org/licenses/by-nc-sa/4.0/\"><img alt=\"Creative Commons License\" style=\"border-width:0\" src=\"https://i.creativecommons.org/l/by-nc-sa/4.0/88x31.png\" /></a><br />This work is licensed under a <a rel=\"license\" href=\"http://creativecommons.org/licenses/by-nc-sa/4.0/\">Creative Commons Attribution-NonCommercial-ShareAlike 4.0 International License</a>."
   ]
  }
 ],
 "metadata": {
  "kernelspec": {
   "display_name": "R",
   "language": "R",
   "name": "ir"
  },
  "language_info": {
   "codemirror_mode": "r",
   "file_extension": ".r",
   "mimetype": "text/x-r-source",
   "name": "R",
   "pygments_lexer": "r",
   "version": "3.3.1"
  }
 },
 "nbformat": 4,
 "nbformat_minor": 2
}
