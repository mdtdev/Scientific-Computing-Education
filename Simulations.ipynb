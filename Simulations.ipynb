{
 "cells": [
  {
   "cell_type": "code",
   "execution_count": null,
   "metadata": {},
   "outputs": [],
   "source": []
  },
  {
   "cell_type": "markdown",
   "metadata": {},
   "source": [
    "Here is the problem:\n",
    "\n",
    "1. Randomly pick a door for the car\n",
    "1. Allow the player to pick a door\n",
    "1. If player picks goat, reveal other goat, allow player choice\n",
    "1. If player picks car, randomly choose goat and reveal\n",
    "1. Execute player strategy\n",
    "1. Record outcome\n",
    "1. Repeat\n",
    "\n"
   ]
  },
  {
   "cell_type": "code",
   "execution_count": 5,
   "metadata": {},
   "outputs": [
    {
     "data": {
      "text/html": [
       "0.328"
      ],
      "text/latex": [
       "0.328"
      ],
      "text/markdown": [
       "0.328"
      ],
      "text/plain": [
       "[1] 0.328"
      ]
     },
     "metadata": {},
     "output_type": "display_data"
    },
    {
     "data": {
      "text/html": [
       "0"
      ],
      "text/latex": [
       "0"
      ],
      "text/markdown": [
       "0"
      ],
      "text/plain": [
       "[1] 0"
      ]
     },
     "metadata": {},
     "output_type": "display_data"
    }
   ],
   "source": [
    "# Monty Hall Problem\n",
    "\n",
    "n = 1000 # Number of trials\n",
    "doors = 1:3\n",
    "\n",
    "stay_count   = 0\n",
    "switch_count = 0\n",
    "\n",
    "for (trial in 1:n){\n",
    "    car = sample(doors, 1)\n",
    "    playerpick1 = sample(doors,1)\n",
    "    # Stay\n",
    "    stay_count = stay_count + as.integer(playerpick1 == car)\n",
    "    # Switch\n",
    "    if (car == playerpick1){\n",
    "        #not_revealed = \n",
    "    }\n",
    "}\n",
    "\n",
    "  stay_count / n\n",
    "switch_count / n"
   ]
  },
  {
   "cell_type": "code",
   "execution_count": null,
   "metadata": {},
   "outputs": [],
   "source": []
  },
  {
   "cell_type": "code",
   "execution_count": 6,
   "metadata": {},
   "outputs": [],
   "source": [
    "montyhall <- function(n, doors){\n",
    "    stay_count   = 0\n",
    "    switch_count = 0\n",
    "    for (trial in 1:n){\n",
    "        car = sample(doors, 1)\n",
    "        playerpick1 = sample(doors,1)\n",
    "        # Stay\n",
    "        stay_count = stay_count + as.integer(playerpick1 == car)\n",
    "        # Switch\n",
    "        if (car == playerpick1){\n",
    "            #not_revealed = \n",
    "        }\n",
    "    }\n",
    "    return(list(stay_count / n, switch_count / n))\n",
    "}"
   ]
  },
  {
   "cell_type": "code",
   "execution_count": 18,
   "metadata": {},
   "outputs": [
    {
     "data": {
      "text/html": [
       "<ol>\n",
       "\t<li>0.319</li>\n",
       "\t<li>0</li>\n",
       "</ol>\n"
      ],
      "text/latex": [
       "\\begin{enumerate}\n",
       "\\item 0.319\n",
       "\\item 0\n",
       "\\end{enumerate}\n"
      ],
      "text/markdown": [
       "1. 0.319\n",
       "2. 0\n",
       "\n",
       "\n"
      ],
      "text/plain": [
       "[[1]]\n",
       "[1] 0.319\n",
       "\n",
       "[[2]]\n",
       "[1] 0\n"
      ]
     },
     "metadata": {},
     "output_type": "display_data"
    }
   ],
   "source": [
    "montyhall(1000, 3)"
   ]
  },
  {
   "cell_type": "code",
   "execution_count": 22,
   "metadata": {},
   "outputs": [
    {
     "data": {
      "text/html": [
       "0.3337"
      ],
      "text/latex": [
       "0.3337"
      ],
      "text/markdown": [
       "0.3337"
      ],
      "text/plain": [
       "[1] 0.3337"
      ]
     },
     "metadata": {},
     "output_type": "display_data"
    }
   ],
   "source": [
    "s = 0\n",
    "for (run in 1:100){\n",
    "    x = montyhall(1000,3)\n",
    "    s = s + unlist(x[1])\n",
    "}\n",
    "s/100"
   ]
  },
  {
   "cell_type": "code",
   "execution_count": 12,
   "metadata": {},
   "outputs": [
    {
     "data": {
      "text/html": [
       "<ol>\n",
       "\t<li>0.38</li>\n",
       "</ol>\n"
      ],
      "text/latex": [
       "\\begin{enumerate}\n",
       "\\item 0.38\n",
       "\\end{enumerate}\n"
      ],
      "text/markdown": [
       "1. 0.38\n",
       "\n",
       "\n"
      ],
      "text/plain": [
       "[[1]]\n",
       "[1] 0.38\n"
      ]
     },
     "metadata": {},
     "output_type": "display_data"
    }
   ],
   "source": [
    "x = montyhall(1000,3)\n",
    "x[1]"
   ]
  },
  {
   "cell_type": "code",
   "execution_count": null,
   "metadata": {},
   "outputs": [],
   "source": [
    "sample(x, size, replace = FALSE, prob = NULL)"
   ]
  },
  {
   "cell_type": "code",
   "execution_count": 34,
   "metadata": {},
   "outputs": [
    {
     "data": {
      "text/html": [
       "3"
      ],
      "text/latex": [
       "3"
      ],
      "text/markdown": [
       "3"
      ],
      "text/plain": [
       "[1] 3"
      ]
     },
     "metadata": {},
     "output_type": "display_data"
    }
   ],
   "source": [
    "#sample(1:3, 1)\n",
    "\n",
    "not_revealed = 2\n",
    "car = 3\n",
    "sample(c(not_revealed, car), 1)\n",
    "\n"
   ]
  },
  {
   "cell_type": "code",
   "execution_count": 38,
   "metadata": {},
   "outputs": [
    {
     "data": {
      "text/html": [
       "<ol class=list-inline>\n",
       "\t<li>1</li>\n",
       "\t<li>2</li>\n",
       "</ol>\n"
      ],
      "text/latex": [
       "\\begin{enumerate*}\n",
       "\\item 1\n",
       "\\item 2\n",
       "\\end{enumerate*}\n"
      ],
      "text/markdown": [
       "1. 1\n",
       "2. 2\n",
       "\n",
       "\n"
      ],
      "text/plain": [
       "[1] 1 2"
      ]
     },
     "metadata": {},
     "output_type": "display_data"
    }
   ],
   "source": [
    "setdiff(c(1,2,3), car)"
   ]
  },
  {
   "cell_type": "code",
   "execution_count": 7,
   "metadata": {},
   "outputs": [
    {
     "data": {
      "text/html": [
       "3"
      ],
      "text/latex": [
       "3"
      ],
      "text/markdown": [
       "3"
      ],
      "text/plain": [
       "[1] 3"
      ]
     },
     "metadata": {},
     "output_type": "display_data"
    }
   ],
   "source": [
    "sample.int(3, 1)"
   ]
  },
  {
   "cell_type": "code",
   "execution_count": 14,
   "metadata": {},
   "outputs": [
    {
     "data": {
      "text/html": [
       "0"
      ],
      "text/latex": [
       "0"
      ],
      "text/markdown": [
       "0"
      ],
      "text/plain": [
       "[1] 0"
      ]
     },
     "metadata": {},
     "output_type": "display_data"
    }
   ],
   "source": [
    "as.integer(playerpick1 == car)"
   ]
  },
  {
   "cell_type": "code",
   "execution_count": 3,
   "metadata": {},
   "outputs": [],
   "source": [
    "?base::sample\n",
    "\n",
    "sample.int(n, size = n, replace = FALSE, prob = NULL)"
   ]
  },
  {
   "cell_type": "code",
   "execution_count": 9,
   "metadata": {},
   "outputs": [
    {
     "name": "stdout",
     "output_type": "stream",
     "text": [
      "[1] 2\n",
      "[1] 1\n",
      "[1] 1\n",
      "[1] 2\n",
      "[1] 2\n",
      "[1] 3\n"
     ]
    }
   ],
   "source": [
    "for (year in 2010:2015){\n",
    "  print(sample.int(3, 1))\n",
    "}"
   ]
  },
  {
   "cell_type": "code",
   "execution_count": null,
   "metadata": {},
   "outputs": [],
   "source": []
  }
 ],
 "metadata": {
  "kernelspec": {
   "display_name": "R",
   "language": "R",
   "name": "ir"
  },
  "language_info": {
   "codemirror_mode": "r",
   "file_extension": ".r",
   "mimetype": "text/x-r-source",
   "name": "R",
   "pygments_lexer": "r",
   "version": "3.3.1"
  }
 },
 "nbformat": 4,
 "nbformat_minor": 2
}
