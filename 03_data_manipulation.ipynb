{
 "cells": [
  {
   "cell_type": "markdown",
   "metadata": {},
   "source": [
    "# Introduction to R & Jupyter Notebooks\n",
    "# Data Manipulation\n",
    "\n",
    "Matthew D. Turner, PhD  \n",
    "Georgia State University\n",
    "\n",
    "Some rights reserved: [cc by-nc-sa](https://creativecommons.org/licenses/by-nc-sa/4.0/) See bottom of document for details.\n",
    "***\n",
    "In this section of the workshop we will look at the related problems of\n",
    "\n",
    "+ Data Structures\n",
    "+ Loading Data\n",
    "+ Referencing Data\n",
    "+ (More) Indexing\n",
    "+ Subsetting Data\n",
    "\n",
    "This is a little boring but it is usually 90% of the work you have to do in data-oriented research, so we need to get it right. Bear with me.\n",
    "\n",
    "## 3.1 Data Structures (Data Frames)\n",
    "R provides a variety of data structures for storing data. We will look at two of these here.\n",
    "\n",
    "Previously you loaded the `datasets` package that contains a lot of small data sets to let you experiment with statistical techniques. Let's use that again."
   ]
  },
  {
   "cell_type": "code",
   "execution_count": null,
   "metadata": {},
   "outputs": [],
   "source": [
    "# Load the datasets package and list the data sets (you've seen this before!)\n",
    "\n",
    "library(datasets)\n",
    "# library(help = \"datasets\")  # Uncomment this line to see the list of data again"
   ]
  },
  {
   "cell_type": "markdown",
   "metadata": {},
   "source": [
    "### Time Series\n",
    "One specialized data type is a **time series** data set, which is commonly used for data collected over time. (This is hopefully obvious from the name.)"
   ]
  },
  {
   "cell_type": "code",
   "execution_count": null,
   "metadata": {},
   "outputs": [],
   "source": [
    "data(discoveries)    # Load the data\n",
    "discoveries          # Typing its name shows us the data on the screen"
   ]
  },
  {
   "cell_type": "markdown",
   "metadata": {},
   "source": [
    "This data set is the count of \"important\" discoveries per year, for the years from 1860 to 1959. To learn more about the data set, you could type `?discoveries` but don't bother, the people who added this to R did not know what \"important\" meant, either.\n",
    "\n",
    "Time series are usually best viewed as a plot. For many data sets, R will make reasonable default plots. For a time series like this, you can literally just say `plot(discoveries)` and the result is not bad."
   ]
  },
  {
   "cell_type": "code",
   "execution_count": null,
   "metadata": {},
   "outputs": [],
   "source": [
    "plot(discoveries)"
   ]
  },
  {
   "cell_type": "markdown",
   "metadata": {},
   "source": [
    "Now that is way too big for some laptop screens. So let's tune the options. \n",
    "\n",
    "> **Note!** If the plot above is already reduced in size (so that it looks the same as the next one) then your current session of R is still using options set from a previous run of something. It happened to me, too. Nothing bad has happened. I just did not want you staring at two identical plots and wondering what you were missing."
   ]
  },
  {
   "cell_type": "code",
   "execution_count": null,
   "metadata": {},
   "outputs": [],
   "source": [
    "options(repr.plot.width=6, repr.plot.height=4) # Set plot height and width (in inches)\n",
    "plot(discoveries)"
   ]
  },
  {
   "cell_type": "code",
   "execution_count": null,
   "metadata": {},
   "outputs": [],
   "source": [
    "# We can also clean up the titles and make the figure \"pretty\"\n",
    "# See if you can figure this out before you press shift-enter to run it\n",
    "\n",
    "plot(discoveries, xlab = 'Time (in Years)', ylab = 'Number of Discoveries', col = \"cyan\")"
   ]
  },
  {
   "cell_type": "code",
   "execution_count": null,
   "metadata": {},
   "outputs": [],
   "source": [
    "# Exercise: Get the mean and standard deviation of the discoveries timeseries\n",
    "# You used these functions previously on lists, they work here, too\n",
    "\n"
   ]
  },
  {
   "cell_type": "markdown",
   "metadata": {},
   "source": [
    "One function you will use a lot is `summary`. When applied to a time series, it gives a quick statistical summary of the variable. For people who come from disciplines the use the mean and standard deviation, this output may seem weird. \n",
    "\n",
    "For a **numerical** variable, R gives the minimum, maximum, median, first quartile, and third quartile. In the original language this is all that was given, but over time the mean was squeezed into the list as well, due to the demands of people from mean-centered disciplines. "
   ]
  },
  {
   "cell_type": "code",
   "execution_count": null,
   "metadata": {},
   "outputs": [],
   "source": [
    "# Exercise: Use the summary function on the discoveries time series\n",
    "# Hint: It *is* as simple as it sounds\n",
    "\n"
   ]
  },
  {
   "cell_type": "markdown",
   "metadata": {},
   "source": [
    "### Data Frames\n",
    "The primary way to hold data sets in R is with a **data frame**. A data frame is basically a little spreadsheet that you can manipulate and refer to in other calculations.\n",
    "\n",
    "Time series are special, in most data sets we need to have multiple columns, one for each variable, and multiple rows, one for each observation (i.e. subject/object/thing/trial/etc.) Remember that, it is the usual format for statistics: **columns are variables** and **rows are observational units**. This is how data frames are organized. Let's see one &emdash; we will start with the famous _Motor Trend_ Cars dataset."
   ]
  },
  {
   "cell_type": "code",
   "execution_count": null,
   "metadata": {},
   "outputs": [],
   "source": [
    "data(mtcars)   # Load the data (for some data sets this is optional)\n",
    "head(mtcars)   # Head shows the first few rows of a data frame\n",
    "dim(mtcars)    # Short for dimension\n",
    "               # Gives the number of ROWS (cars in this case) and COLS (measurements on cars)"
   ]
  },
  {
   "cell_type": "markdown",
   "metadata": {},
   "source": [
    "Compare this to the `discoveries` time series. Here we have 32 different models of car, and for each model of car we have measurements on 11 variables, including: miles per gallon (mpg), number of cylinders in the engine (cyl), horse power (hp), and type of transmission (am; 0 = automatic, 1 = manual), among others.\n",
    "\n",
    "The data frame is an easy way to keep the measurements on each car together with the name of the car. \n",
    "\n",
    "### Indexing Data Frames\n",
    "We can refer to the rows or columns in a variety of ways, and we can pick out the bits of the data frame that we want and ignore the rest. We can also make new data frames out of old ones.\n",
    "\n",
    "> **Important Note** Look carefully are the next example and notice that it uses **square** brackets `[` and `]`, while functions (above) use the **round** ones, `(` and `)`. It is important to use round for functions and square for indexing. You **will** eventually mess this up, it happens to all of us."
   ]
  },
  {
   "cell_type": "code",
   "execution_count": null,
   "metadata": {},
   "outputs": [],
   "source": [
    "# Pick out 1st row:\n",
    "\n",
    "mtcars[1,]   # Note the comma and the nothing after it! and the SQUARE brackets"
   ]
  },
  {
   "cell_type": "code",
   "execution_count": null,
   "metadata": {},
   "outputs": [],
   "source": [
    "# The first 5 rows:\n",
    "\n",
    "mtcars[1:5,]          # Remember the colon operator from before? \n",
    "\n",
    "mtcars[seq(1,5,1),]   # You can use seq here, too!"
   ]
  },
  {
   "cell_type": "code",
   "execution_count": null,
   "metadata": {},
   "outputs": [],
   "source": [
    "# The first column of measurements:\n",
    "\n",
    "mtcars[,1]   # Note the comma and the empty space in front of it for row\n",
    "             #    Also, this is formatted differently!!"
   ]
  },
  {
   "cell_type": "markdown",
   "metadata": {},
   "source": [
    "Ok, this is one of the things that I _hate_ about R: the use of an empty space to mean \"all\" of something. So, inside of square brackets, something like `[,3]` means \"give the column 3 values for all of the rows of data,\" or just \"column 3;\" while `[6,]` means \"gives all the columns (measurements) from the 6th row of data\" or \"row 6.\" This is a terrible notation that leads to errors. But we will just have to get used to it."
   ]
  },
  {
   "cell_type": "code",
   "execution_count": null,
   "metadata": {},
   "outputs": [],
   "source": [
    "# Exercise: obtain the list of displacement (disp) values from mtcars\n",
    "\n"
   ]
  },
  {
   "cell_type": "code",
   "execution_count": null,
   "metadata": {},
   "outputs": [],
   "source": [
    "# Exercise\n",
    "#\n",
    "# Pick out the ODD rows from the data frame\n",
    "# Hint (1): Use the seq function from the previous notebook for the rows (? can help)\n",
    "# Hint (2): You need to know the number of rows to make this work (look above)\n",
    "# Hint (3): Remember to use the correct brackets (square or round)\n",
    "\n"
   ]
  },
  {
   "cell_type": "markdown",
   "metadata": {},
   "source": [
    "Remember when I said that `seq` stopping early would help you out? Someday it will dawn on you why that was important here. If it hasn't already. Meditate upon this.\n",
    "\n",
    "You can refer to columns by name. As we often want to analyze variables, we often need to pick out entire columns. so this allows us to use human-friendly names rather than having to figure out the column numbers."
   ]
  },
  {
   "cell_type": "code",
   "execution_count": null,
   "metadata": {},
   "outputs": [],
   "source": [
    "mtcars[,\"mpg\"]  # This list is the same as the one above"
   ]
  },
  {
   "cell_type": "code",
   "execution_count": null,
   "metadata": {},
   "outputs": [],
   "source": [
    "# Use c() -- catenate -- to make a list of columns you want:\n",
    "\n",
    "mtcars[, c(\"mpg\", \"hp\", \"am\")]  # This shows three columns\n",
    "\n",
    "newcar <- mtcars[, c(\"mpg\", \"hp\", \"am\")]  # What does this do?\n",
    "                                          # Does it print anything below?"
   ]
  },
  {
   "cell_type": "markdown",
   "metadata": {},
   "source": [
    "The `summary` function also works woth data frames. When applied to these, it gives a quick statistical summary of **all** of the variables. For each **numerical** variable, R gives the minimum, maximum, median, first quartile, and third quartile. If it finds any non-numerical variables, it gives a partial tabulation (more on this below)."
   ]
  },
  {
   "cell_type": "code",
   "execution_count": null,
   "metadata": {},
   "outputs": [],
   "source": [
    "summary(newcar)"
   ]
  },
  {
   "cell_type": "markdown",
   "metadata": {},
   "source": [
    "To get the means (`mean` function) and standard deviations (the `sd` function) you have to pick out the whole variable, that is, you can **not** apply these functions to the whole data frame."
   ]
  },
  {
   "cell_type": "code",
   "execution_count": null,
   "metadata": {},
   "outputs": [],
   "source": [
    "# Obtain the mean and standard deviation of the mpg variable in the newcar\n",
    "# data frame; remember you have to pick out the single variable like you \n",
    "# did above\n",
    "\n"
   ]
  },
  {
   "cell_type": "markdown",
   "metadata": {},
   "source": [
    "As we will do this operation (picking out a column) a **lot**, there is a shorthand notation for it:\n",
    "\n",
    "```R\n",
    "dataFrameName$columnName\n",
    "```\n",
    "\n",
    "So, for the cell you just did, you can use `mtcars$mpg` where you used `mtcars[,\"mpg\"]`."
   ]
  },
  {
   "cell_type": "code",
   "execution_count": null,
   "metadata": {},
   "outputs": [],
   "source": [
    "# Print the values inside of the am variable from the newcar frame\n",
    "# Use mean and sd to summarize the am variable \n",
    "# Use $ here!\n",
    "\n"
   ]
  },
  {
   "cell_type": "markdown",
   "metadata": {},
   "source": [
    "### Variable Transformation\n",
    "Although we can be sloppy sometimes, it is good to make sure that R knows what the numbers we use represent. When we started looking at `mtcars` we said that `am` was the **type** of transmission, either automatic (0) or manual (1). \n",
    "\n",
    "Well, what do the mean and standard deviation of _type of transmission_ mean? Nothing really. The mean, approximately 0.406, tells us that most cars are automatic (why?) but not much else.\n",
    "\n",
    "When R loaded this data it did not know that the 1's and 0's in this variable were **names**, not really numbers. (In psychology, numbers as names are called a _nominal scale_; in several fields we might also call a variable like `am` a _categorical variable_.) We can fix this.\n",
    "\n",
    "Categorical variables are sometimes called **factors** and R will allow us to tell it when we have a factor. We do this with the `factor` function. In a moment we are going to use this function, but when we do we are going to introduce a new idiom, commonly used in computer science. Here is the code we will use in a moment:\n",
    "\n",
    "```\n",
    "newcar$am <- factor(newcar$am)\n",
    "```\n",
    "\n",
    "Notice that `newcar$am` appears on both sides of the equals sign. Remember that in an assignment operation, we put the result into whatever is on the left hand side **after** doing the operation on the right hand side. So in this command we are telling R:\n",
    "\n",
    "1. Get whatever is stored in `newcar$am`\n",
    "1. Give this to the `factor` function\n",
    "1. Take the output of `factor` and place this result into the variable name on the right hand side of the arrow (or equals sign); this just happens to be the same variable name `newcar$am`, so the original data will be **replaced** with the new data\n",
    "\n",
    "In computing we always do what is on the _right hand side_ of the assignment operator first, then put it into the name on the left! (See notebook 2 for more on assignments.) "
   ]
  },
  {
   "cell_type": "code",
   "execution_count": null,
   "metadata": {},
   "outputs": [],
   "source": [
    "# Convert the am variable in newcar to a factor (use command shown)\n",
    "# Then use summary on newcar, again\n",
    "\n"
   ]
  },
  {
   "cell_type": "markdown",
   "metadata": {},
   "source": [
    "Compare the output from the cell just above to what we got earlier. \n",
    "\n",
    ">**Important Note** If you **re-run** the cell further above were I originally put the command to do a summary, it will give you the **same** output as you just got. Always remember that changes we make to our data are **persistent**.\n",
    "\n",
    "Notice that the `summary` command gives different output for categorical/nominal variables than it gives for numbers.\n",
    "\n",
    "## 3.2 Loading Data\n",
    "In this workshop we will focus on the most basic method of loading data, reading it in from a CSV file. This is generally the preferred method in R for data sets that are on the order of 100 MB or less. If you work with massive data, there are specialized add-ons for dealing with the bespoke data types for those sorts of problems.\n",
    "\n",
    "The basic command is `read.csv` which is a derivative of the more general command `read.table`. Remember this other command if you find yourself trying to read data in from plain text files. "
   ]
  },
  {
   "cell_type": "code",
   "execution_count": null,
   "metadata": {},
   "outputs": [],
   "source": [
    "# Use ? to glance at the help for read.csv\n",
    "# Notice the vast array of options available for weird data files\n",
    "\n"
   ]
  },
  {
   "cell_type": "code",
   "execution_count": null,
   "metadata": {},
   "outputs": [],
   "source": [
    "# 9 times out of 10, just using read.csv will work, with no need to use options\n",
    "# Load the data from the file height_weight_200.csv which you have on DICE\n",
    "# Hint: the name of a file needs to be inside of double quotes (\"\")\n",
    "\n"
   ]
  },
  {
   "cell_type": "markdown",
   "metadata": {},
   "source": [
    "If you just used: `read.csv(\"height_weight_200.csv\")` then you successfully printed your data to the screen. If you look, you will notice that it looks like a data frame. R generally loads data into data frames, although sometimes this will not be true.\n",
    "\n",
    "However, to use the data we need to put it into a variable. If you thought about this, good! If not, no problem. We're moving fast today.\n",
    "\n",
    "Let's repeat the command above, but this time store the data in a variable, `hw2`."
   ]
  },
  {
   "cell_type": "code",
   "execution_count": null,
   "metadata": {},
   "outputs": [],
   "source": [
    "# Put the height_weight_200.csv data into the new variable hw2\n",
    "# Just for practice, use the <- if you have been using = or vice-versa\n",
    "\n"
   ]
  },
  {
   "cell_type": "code",
   "execution_count": null,
   "metadata": {},
   "outputs": [],
   "source": [
    "# Print out the first few lines of hw2 \n",
    "# Hint: There are examples of this above, there are several ways to do it\n",
    "\n"
   ]
  },
  {
   "cell_type": "markdown",
   "metadata": {},
   "source": [
    "## 3.3 Referencing Data\n",
    "Once you have gotten all of your data into a data frame, it is time to analyze it. To do that we need to be able to refer to it in other places. Data inside of R data frames has a **name** (the variable) and an **address** (the data frame name). You usually need to use both to be exact. This is what the dollar sign (`$`) notation does. Think of it like:\n",
    "\n",
    "```\n",
    "address$name\n",
    "dataFrameName$variableName\n",
    "dataFrameName$columnName\n",
    "```\n",
    "\n",
    "Get used to this aspect of R. R assumes that you will often have more than one data set loaded at once, because real statistical problems rarely all fit into just one data set. For most of today we will not be making much use of this.\n",
    "\n",
    "Now that the data has been loaded from a file on the disk into a data frame, we can do all of the stuff we did above to it. Although this is a very small data set."
   ]
  },
  {
   "cell_type": "code",
   "execution_count": null,
   "metadata": {},
   "outputs": [],
   "source": [
    "summary(hw2)\n",
    "\n",
    "sd(hw2$height)\n",
    "sd(hw2$weight)"
   ]
  },
  {
   "cell_type": "code",
   "execution_count": null,
   "metadata": {},
   "outputs": [],
   "source": [
    "# Look up the help for the plot function\n",
    "\n"
   ]
  },
  {
   "cell_type": "code",
   "execution_count": null,
   "metadata": {},
   "outputs": [],
   "source": [
    "# Make a plot of height (x-axis) versus weight (y-axis)\n",
    "# Hint: remember to give the name and address of the variables\n",
    "# Hint: if you like you can copy the options function from above and change it\n",
    "\n"
   ]
  },
  {
   "cell_type": "markdown",
   "metadata": {},
   "source": [
    "## 3.4 More Indexing\n",
    "We have already been dealing with the problem of \"indexing\" a data frame. Within each data frame there is an implied set of coordinates, like latitude and longitude. But in frames, it is **rows** and **columns**. R has methods for working with these data coordinates directly.\n",
    "\n",
    "We have seen some of this above. We will not look into getting single numbers out of a data frame, it is not used heavily in statistical analyses. We generally do not need to pick out specific points in the data frame, just entire rows or columns. Or _sets_ of rows within columns.\n",
    "\n",
    "We can combine the dollar sign notation with the square brackets. Since we will be using the dollar sign to pick out columns, the numbers in the square brackets will not need the commas from above."
   ]
  },
  {
   "cell_type": "code",
   "execution_count": null,
   "metadata": {},
   "outputs": [],
   "source": [
    "head(hw2)          # Print first six rows of hw2\n",
    "\n",
    "hw2$height[1]      # First height (as a list)\n",
    "hw2$height[1:5]    # First 5 heights (as a list)"
   ]
  },
  {
   "cell_type": "code",
   "execution_count": null,
   "metadata": {},
   "outputs": [],
   "source": [
    "plot(hw2$height[1:10], hw2$weight[1:10])  # Plot the first 10 people ONLY"
   ]
  },
  {
   "cell_type": "code",
   "execution_count": null,
   "metadata": {},
   "outputs": [],
   "source": [
    "# Make a plot that only uses the first 100 data rows in the hw2 frame\n",
    "\n"
   ]
  },
  {
   "cell_type": "markdown",
   "metadata": {},
   "source": [
    "### Logical Indices\n",
    "R allows you to use an ordered list of truth values to index a data frame. This seems weird, but like a lot of weird things, it turns out to be useful.\n",
    "\n",
    "We can use this to plot the height versus weight for **only** the people who are above the third quartile of height (69.2 inches). What we will do is the following:\n",
    "\n",
    "1. For each height, if the height is greater than or equal to 69.2 inches mark `TRUE`, if not mark `FALSE`\n",
    "1. Put these `TRUE` and `FALSE` results in a variable, here we use `ind`\n",
    "1. Use this `ind` variable as an **index** inside the square brackets\n",
    "\n",
    "Viz."
   ]
  },
  {
   "cell_type": "code",
   "execution_count": null,
   "metadata": {},
   "outputs": [],
   "source": [
    "# The first line compares each height with 69.2, and stores the TRUE or FALSE\n",
    "# values in the variable ind\n",
    "\n",
    "ind <- hw2$height >= 69.2   # This shows nothing in the output below!\n",
    "\n",
    "print(ind)                  # The TRUE's and FALSE's below\n",
    "\n",
    "hw2$height[ind]             # The numbers below; just the heights >= 69.2"
   ]
  },
  {
   "cell_type": "markdown",
   "metadata": {},
   "source": [
    "To be honest this is a little more advanced than much of what we are covering in these notebooks, but it is really important. If you don't get it right away, move on to other topics and come back to it later.\n",
    "\n",
    "It **will** eventually make sense to you. Trust me."
   ]
  },
  {
   "cell_type": "code",
   "execution_count": null,
   "metadata": {},
   "outputs": [],
   "source": [
    "# Exercise (a little more advanced than some others!)\n",
    "# Make the same plot as before, but with the heights and weights where\n",
    "# height is greater than 69.2 inches\n",
    "#\n",
    "# Hint: use the last expression in the cell above\n",
    "# Hint: Apply the same ind to both variables\n",
    "\n"
   ]
  },
  {
   "cell_type": "markdown",
   "metadata": {},
   "source": [
    "As usual in R there is a shorthand way to do this: you do not need to create a new variable to hold the logical indices as an intermediate step (like we did with `ind` above), you can just stick the comparison directly into the square brackets!"
   ]
  },
  {
   "cell_type": "code",
   "execution_count": null,
   "metadata": {},
   "outputs": [],
   "source": [
    "plot(hw2$height[hw2$height >= 69.2], hw2$weight[hw2$height >= 69.2])"
   ]
  },
  {
   "cell_type": "markdown",
   "metadata": {},
   "source": [
    "Compare this to the plot you just made above. It should be the same.\n",
    "\n",
    "For beginners this is harder to read, and it really messes up the labels for the x and y axes. But once you get used to it, it is an efficient way to pick out data that meets certain criteria. "
   ]
  },
  {
   "cell_type": "markdown",
   "metadata": {},
   "source": [
    "## 3.5 Subsetting Data\n",
    "\n",
    "We can use logical indices to make subsets we might need. \n",
    "\n",
    "R provides many built-in data sets for practice and demonstration of statistical techniques. You can run `library(help = \"datasets\")` to get a list and then get help for each specific data set name to see the details. Most packages that get added to R will bring their own data in with them.\n",
    "\n",
    "Here we use the **state** data. R provides **lists** of the various facts about states including their abbreviation (`states.abb`), their area (`states.area`; in square miles), and their region of the country (`state.region`; Northeast, South, North Central, West). \n",
    "\n",
    "Note that these lists are not data frames, they are just lists. (Try typing their names in a cell to see what they contain. We will put these lists together into a single data frame which has all three pieces of information for each state. For this we use the `data.frame` function."
   ]
  },
  {
   "cell_type": "code",
   "execution_count": null,
   "metadata": {},
   "outputs": [],
   "source": [
    "# Look at the state.abb and state.area variables and describe them\n",
    "\n"
   ]
  },
  {
   "cell_type": "code",
   "execution_count": null,
   "metadata": {},
   "outputs": [],
   "source": [
    "# Make a data frame, s, from state data\n",
    "\n",
    "s <- data.frame(name = state.abb, region = state.region, area = state.area)\n",
    "head(s)\n",
    "summary(s)"
   ]
  },
  {
   "cell_type": "code",
   "execution_count": null,
   "metadata": {},
   "outputs": [],
   "source": [
    "# List all the states in the \"Northeast\" region\n",
    "\n",
    "s$name[s$region == \"Northeast\"]"
   ]
  },
  {
   "cell_type": "code",
   "execution_count": null,
   "metadata": {},
   "outputs": [],
   "source": [
    "# List all of the states in the \"South\" region\n",
    "\n"
   ]
  },
  {
   "cell_type": "code",
   "execution_count": null,
   "metadata": {},
   "outputs": [],
   "source": [
    "# List all of the areas of the states in the \"South\" region\n",
    "\n"
   ]
  },
  {
   "cell_type": "code",
   "execution_count": null,
   "metadata": {},
   "outputs": [],
   "source": [
    "# We can make this into a \"prettier\" list\n",
    "\n",
    "data.frame(name=s$name[s$region == \"South\"], area=s$area[s$region == \"South\"])"
   ]
  },
  {
   "cell_type": "markdown",
   "metadata": {},
   "source": [
    "## 3.6 Bonus: Boxplots!\n",
    "Before we leave the state data let's look at the `boxplot` function. This function makes a boxplot, which is a graphical version of the five number summary invented by [John Tukey](https://en.wikipedia.org/wiki/John_Tukey#Statistical_practice). The five number summary is a box that runs from the 1st quartile to the 3rd quartile with a line at the median. It has lines extending from the ends of the box that go to the lower and upper fences, these mark the boundary between points close to the rest of the data and points further out, called \"outlying\" points. (These lines are called \"whiskers\" and give the plots their other name \"box and whisker plots.\") The outlying points are usually worthy of closer inspection.\n",
    "\n",
    "Boxplots are most useful to compare **groups** of numerical measures.\n",
    "\n",
    "This is much clearer with an example."
   ]
  },
  {
   "cell_type": "code",
   "execution_count": null,
   "metadata": {},
   "outputs": [],
   "source": [
    "# Compare the regions by the sized (areas) of their states\n",
    "\n",
    "boxplot(s$area ~ s$region)"
   ]
  },
  {
   "cell_type": "markdown",
   "metadata": {},
   "source": [
    "That display is too squished and also uses \"scientific notation\" for the y-axis. Let's unsquish it and turn off the scientific notation:"
   ]
  },
  {
   "cell_type": "code",
   "execution_count": null,
   "metadata": {},
   "outputs": [],
   "source": [
    "options(scipen=999)  # Eliminates the scientific notation on y-axis\n",
    "boxplot(s$area ~ s$region, ylim = c(0, 175000)) # Change y-axis to unsquish"
   ]
  },
  {
   "cell_type": "markdown",
   "metadata": {},
   "source": [
    "Note that in making the plot look better, we had to change the y-axis and two of the outlying points are no longer on the plot.\n",
    "\n",
    "The `boxplot` function takes two variables seperated by the tilde, `~`, on the left of the `~` you put the numerical variable, and on the right of it you put the grouping variable.\n",
    "\n",
    "We can see from this example that states in the northeast are the smallest, on average, while states out west are the largest, again on average.\n",
    "\n",
    "You might want to explore these data further to see if you can:\n",
    "+ Determine which states are included in which regions\n",
    "+ Identify the outlying points\n",
    "+ Compute other statistics for regions. Think about things like: `mean(s$area[s$region == 'West'])` and other function and comparison combinations"
   ]
  },
  {
   "cell_type": "code",
   "execution_count": null,
   "metadata": {},
   "outputs": [],
   "source": []
  },
  {
   "cell_type": "markdown",
   "metadata": {},
   "source": [
    "Now that we have the basics of data frames, indexing, and subsetting working, it is time to actually do some statistics. \n",
    "\n",
    "Version 1.0  \n",
    "2018.06.06  \n",
    "\n",
    "To contact the author, please email [mturner46@gsu.edu](mailto:mturner46@gsu.edu). Please contact me with recommendations for improvement or if you find any errors. This work may be adapted for any non-commercial purpose within the bounds of the license.\n",
    "\n",
    "<a rel=\"license\" href=\"http://creativecommons.org/licenses/by-nc-sa/4.0/\"><img alt=\"Creative Commons License\" style=\"border-width:0\" src=\"https://i.creativecommons.org/l/by-nc-sa/4.0/88x31.png\" /></a><br />This work is licensed under a <a rel=\"license\" href=\"http://creativecommons.org/licenses/by-nc-sa/4.0/\">Creative Commons Attribution-NonCommercial-ShareAlike 4.0 International License</a>."
   ]
  }
 ],
 "metadata": {
  "kernelspec": {
   "display_name": "R",
   "language": "R",
   "name": "ir"
  },
  "language_info": {
   "codemirror_mode": "r",
   "file_extension": ".r",
   "mimetype": "text/x-r-source",
   "name": "R",
   "pygments_lexer": "r",
   "version": "3.3.1"
  }
 },
 "nbformat": 4,
 "nbformat_minor": 2
}
