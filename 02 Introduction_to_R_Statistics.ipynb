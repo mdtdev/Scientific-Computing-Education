{
 "cells": [
  {
   "cell_type": "markdown",
   "metadata": {},
   "source": [
    "# Introduction to R & Jupyter Notebooks\n",
    "\n",
    "Matthew D. Turner, PhD  \n",
    "Georgia State University\n",
    "\n",
    "Some rights reserved: [cc by-nc-sa](https://creativecommons.org/licenses/by-nc-sa/4.0/) See bottom of document for details.\n",
    "***\n",
    "## Probablistic Models in R\n",
    "\n",
    "Most people use R to do statistical modeling and data analysis. More people should use it for modeling real-world systems and simulation.\n",
    "\n",
    "In this document we will go through a sequence of building simple probability models for real world situations.\n"
   ]
  },
  {
   "cell_type": "markdown",
   "metadata": {},
   "source": [
    "## But first...\n",
    "### Libraries!\n",
    "\n"
   ]
  },
  {
   "cell_type": "code",
   "execution_count": null,
   "metadata": {},
   "outputs": [],
   "source": []
  },
  {
   "cell_type": "markdown",
   "metadata": {},
   "source": [
    "### Loading Data\n",
    "\n",
    "The most common format for data exchange in the world is plain text files in the comma seperated value format. The most common way to identify these **CSV** files is with the file extension \".csv\". Despite its name, this format also includes tab-seperated values as well, although these are sometimes called **TSV** files and labeled with \".tsv\".\n",
    "\n",
    "Your best bet is to always EXPORT (or save) the data from any given program in the CSV format, then IMPORT or load this file into R. There are packages that will read other programs data files, but usually the results are worse than using CSV as the sharing format. And most other programs can export to CSV, although they may hide this feature from the user.\n",
    "\n",
    "To read CSV files into R, we use `read.csv()` like this:"
   ]
  },
  {
   "cell_type": "code",
   "execution_count": 15,
   "metadata": {},
   "outputs": [],
   "source": [
    "haw <- read.csv(\"height_weight_200.csv\")  # Some data on men"
   ]
  },
  {
   "cell_type": "markdown",
   "metadata": {},
   "source": [
    "When you read in a CSV, you need to put the result in a variable (here, `haw`) and this will by default be a data frame. If you try to import from other software weird things can happen. Choose CSV files whenever you can!"
   ]
  },
  {
   "cell_type": "code",
   "execution_count": 16,
   "metadata": {},
   "outputs": [
    {
     "data": {
      "text/plain": [
       "     height          weight     \n",
       " Min.   :63.43   Min.   : 97.9  \n",
       " 1st Qu.:66.52   1st Qu.:119.9  \n",
       " Median :67.94   Median :127.9  \n",
       " Mean   :67.95   Mean   :127.2  \n",
       " 3rd Qu.:69.20   3rd Qu.:136.1  \n",
       " Max.   :73.90   Max.   :159.0  "
      ]
     },
     "metadata": {},
     "output_type": "display_data"
    },
    {
     "data": {
      "text/html": [
       "200"
      ],
      "text/latex": [
       "200"
      ],
      "text/markdown": [
       "200"
      ],
      "text/plain": [
       "[1] 200"
      ]
     },
     "metadata": {},
     "output_type": "display_data"
    },
    {
     "data": {
      "text/html": [
       "<table>\n",
       "<thead><tr><th scope=col>height</th><th scope=col>weight</th></tr></thead>\n",
       "<tbody>\n",
       "\t<tr><td>65.78 </td><td>112.99</td></tr>\n",
       "\t<tr><td>71.52 </td><td>136.49</td></tr>\n",
       "\t<tr><td>69.40 </td><td>153.03</td></tr>\n",
       "\t<tr><td>68.22 </td><td>142.34</td></tr>\n",
       "\t<tr><td>67.79 </td><td>144.30</td></tr>\n",
       "\t<tr><td>68.70 </td><td>123.30</td></tr>\n",
       "</tbody>\n",
       "</table>\n"
      ],
      "text/latex": [
       "\\begin{tabular}{r|ll}\n",
       " height & weight\\\\\n",
       "\\hline\n",
       "\t 65.78  & 112.99\\\\\n",
       "\t 71.52  & 136.49\\\\\n",
       "\t 69.40  & 153.03\\\\\n",
       "\t 68.22  & 142.34\\\\\n",
       "\t 67.79  & 144.30\\\\\n",
       "\t 68.70  & 123.30\\\\\n",
       "\\end{tabular}\n"
      ],
      "text/plain": [
       "  height weight\n",
       "1 65.78  112.99\n",
       "2 71.52  136.49\n",
       "3 69.40  153.03\n",
       "4 68.22  142.34\n",
       "5 67.79  144.30\n",
       "6 68.70  123.30"
      ]
     },
     "metadata": {},
     "output_type": "display_data"
    }
   ],
   "source": [
    "summary(haw)   # Summarize each variable (height in inches; weight in pounds)\n",
    "nrow(haw)      # How many rows in the table?\n",
    "head(haw)      # Print out the first few rows"
   ]
  },
  {
   "cell_type": "code",
   "execution_count": 26,
   "metadata": {},
   "outputs": [
    {
     "data": {
      "image/png": "[encoded data removed]",
      "text/plain": [
       "Plot with title “Histogram of haw$height”"
      ]
     },
     "metadata": {},
     "output_type": "display_data"
    }
   ],
   "source": [
    "hist(haw$height, col=\"gray\", xlab = \"Height in Inches\", ylab = \"Count\")"
   ]
  },
  {
   "cell_type": "markdown",
   "metadata": {},
   "source": [
    "**Important Note (Read me!)** When using a data frame, you have to include the name of the frame in front of the variable name and put a dollar sign (`$`) between them. In the example above, the data frame name is `haw` and the variable is `height`. This means that the full name and address of the data is `haw$height`."
   ]
  },
  {
   "cell_type": "code",
   "execution_count": null,
   "metadata": {},
   "outputs": [],
   "source": [
    "# Your turn: make a histogram of weights. You can copy and paste the cell above here and modify it\n",
    "\n"
   ]
  },
  {
   "cell_type": "code",
   "execution_count": 14,
   "metadata": {},
   "outputs": [],
   "source": [
    "# Use a help command to look up the instructions for the command \"plot\"\n",
    "# Use the plot command to plot height as a function of weight (y = height, x = weight)\n",
    "# For fun, if you have time, try to make the plot characters blue (Hint: look above!)\n",
    "\n"
   ]
  },
  {
   "cell_type": "code",
   "execution_count": null,
   "metadata": {},
   "outputs": [],
   "source": []
  },
  {
   "cell_type": "markdown",
   "metadata": {},
   "source": [
    "The simplest probability model assumes that your data:\n",
    "\n",
    "+ Come from a fixed probability distribution\n",
    "+ This distribution can be described by just a couple of numbers (called **parameters**)\n",
    "\n",
    "If we go on to assume that the shape is a bell-curve, then we have a **normal** or **Gaussian** probability model. (Different fields prefer one of the other of these names; you will also see a related name/concept called the \"error function.\") This bell-shaped curve comes up a lot. For instance it can be shown to happen when you have a simple repeated measurement with error or when a measurement has many small factors that combine to determine it.\n",
    "\n",
    "When you are in this situation, you usually \"fit\" the distribution to the data.\n",
    "\n",
    "For the normal curve, you have fit it as soon as you have the mean and standard deviation of the data. This is why we like the normal, it is easy to fit. And you have been doing so since your stats 101 class, possibly without realizing it."
   ]
  },
  {
   "cell_type": "code",
   "execution_count": null,
   "metadata": {},
   "outputs": [],
   "source": []
  },
  {
   "cell_type": "code",
   "execution_count": null,
   "metadata": {},
   "outputs": [],
   "source": []
  },
  {
   "cell_type": "code",
   "execution_count": null,
   "metadata": {},
   "outputs": [],
   "source": []
  },
  {
   "cell_type": "code",
   "execution_count": null,
   "metadata": {},
   "outputs": [],
   "source": []
  },
  {
   "cell_type": "code",
   "execution_count": null,
   "metadata": {},
   "outputs": [],
   "source": []
  },
  {
   "cell_type": "code",
   "execution_count": null,
   "metadata": {},
   "outputs": [],
   "source": []
  },
  {
   "cell_type": "code",
   "execution_count": 2,
   "metadata": {},
   "outputs": [
    {
     "data": {
      "text/plain": [
       "     height         weight     \n",
       " Min.   :58.0   Min.   :115.0  \n",
       " 1st Qu.:61.5   1st Qu.:124.5  \n",
       " Median :65.0   Median :135.0  \n",
       " Mean   :65.0   Mean   :136.7  \n",
       " 3rd Qu.:68.5   3rd Qu.:148.0  \n",
       " Max.   :72.0   Max.   :164.0  "
      ]
     },
     "metadata": {},
     "output_type": "display_data"
    },
    {
     "data": {
      "text/html": [
       "<table>\n",
       "<thead><tr><th scope=col>height</th><th scope=col>weight</th></tr></thead>\n",
       "<tbody>\n",
       "\t<tr><td>58 </td><td>115</td></tr>\n",
       "\t<tr><td>59 </td><td>117</td></tr>\n",
       "\t<tr><td>60 </td><td>120</td></tr>\n",
       "\t<tr><td>61 </td><td>123</td></tr>\n",
       "\t<tr><td>62 </td><td>126</td></tr>\n",
       "\t<tr><td>63 </td><td>129</td></tr>\n",
       "</tbody>\n",
       "</table>\n"
      ],
      "text/latex": [
       "\\begin{tabular}{r|ll}\n",
       " height & weight\\\\\n",
       "\\hline\n",
       "\t 58  & 115\\\\\n",
       "\t 59  & 117\\\\\n",
       "\t 60  & 120\\\\\n",
       "\t 61  & 123\\\\\n",
       "\t 62  & 126\\\\\n",
       "\t 63  & 129\\\\\n",
       "\\end{tabular}\n"
      ],
      "text/plain": [
       "  height weight\n",
       "1 58     115   \n",
       "2 59     117   \n",
       "3 60     120   \n",
       "4 61     123   \n",
       "5 62     126   \n",
       "6 63     129   "
      ]
     },
     "metadata": {},
     "output_type": "display_data"
    }
   ],
   "source": [
    "?women\n",
    "data(women)\n",
    "summary(women)\n",
    "head(women)"
   ]
  },
  {
   "cell_type": "code",
   "execution_count": 3,
   "metadata": {},
   "outputs": [
    {
     "data": {
      "image/png": "[encoded data removed]",
      "text/plain": [
       "Plot with title “women data: American women aged 30-39”"
      ]
     },
     "metadata": {},
     "output_type": "display_data"
    }
   ],
   "source": [
    "# Often pictures help us:\n",
    "\n",
    "plot(women, xlab = \"Height (in)\", ylab = \"Weight (lb)\", \n",
    "     main = \"women data: American women aged 30-39\")"
   ]
  },
  {
   "cell_type": "code",
   "execution_count": null,
   "metadata": {},
   "outputs": [],
   "source": []
  },
  {
   "cell_type": "code",
   "execution_count": null,
   "metadata": {},
   "outputs": [],
   "source": []
  },
  {
   "cell_type": "code",
   "execution_count": null,
   "metadata": {},
   "outputs": [],
   "source": [
    "group1 <- c()"
   ]
  },
  {
   "cell_type": "code",
   "execution_count": 13,
   "metadata": {},
   "outputs": [],
   "source": [
    "x <- runif(10000, 1, 8)"
   ]
  },
  {
   "cell_type": "code",
   "execution_count": 15,
   "metadata": {},
   "outputs": [
    {
     "data": {
      "text/plain": [
       "\n",
       "   1    2    3    4    5    6    7 \n",
       "1425 1415 1493 1399 1391 1454 1423 "
      ]
     },
     "metadata": {},
     "output_type": "display_data"
    }
   ],
   "source": [
    "table(floor(x))"
   ]
  },
  {
   "cell_type": "code",
   "execution_count": null,
   "metadata": {},
   "outputs": [],
   "source": []
  },
  {
   "cell_type": "code",
   "execution_count": 3,
   "metadata": {},
   "outputs": [
    {
     "data": {
      "text/html": [
       "0.923093083245744"
      ],
      "text/latex": [
       "0.923093083245744"
      ],
      "text/markdown": [
       "0.923093083245744"
      ],
      "text/plain": [
       "[1] 0.9230931"
      ]
     },
     "metadata": {},
     "output_type": "display_data"
    },
    {
     "data": {
      "image/png": "[encoded data removed]",
      "text/plain": [
       "plot without title"
      ]
     },
     "metadata": {},
     "output_type": "display_data"
    }
   ],
   "source": [
    "x  = c(1,2,3,4,5,6,7,8,9)  # Give a list of numbers a name\n",
    "y <- c(2,1,3,4,6,5,8,8,7)  # Same thing! <- and = can both be used for assignment\n",
    "\n",
    "plot(x, y, pch = 20)\n",
    "cor(x, y)"
   ]
  },
  {
   "cell_type": "code",
   "execution_count": null,
   "metadata": {},
   "outputs": [],
   "source": []
  },
  {
   "cell_type": "markdown",
   "metadata": {},
   "source": [
    "Version 1.0  \n",
    "2018.06.06  \n",
    "\n",
    "To contact the author, please email [mturner46@gsu.edu](mailto:mturner46@gsu.edu). Please contact me with recommendations for improvement or if you find any errors. This work may be adapted for any purpose within the bounds of the license.\n",
    "\n",
    "<a rel=\"license\" href=\"http://creativecommons.org/licenses/by-nc-sa/4.0/\"><img alt=\"Creative Commons License\" style=\"border-width:0\" src=\"https://i.creativecommons.org/l/by-nc-sa/4.0/88x31.png\" /></a><br />This work is licensed under a <a rel=\"license\" href=\"http://creativecommons.org/licenses/by-nc-sa/4.0/\">Creative Commons Attribution-NonCommercial-ShareAlike 4.0 International License</a>."
   ]
  },
  {
   "cell_type": "code",
   "execution_count": null,
   "metadata": {},
   "outputs": [],
   "source": []
  }
 ],
 "metadata": {
  "kernelspec": {
   "display_name": "R",
   "language": "R",
   "name": "ir"
  },
  "language_info": {
   "codemirror_mode": "r",
   "file_extension": ".r",
   "mimetype": "text/x-r-source",
   "name": "R",
   "pygments_lexer": "r",
   "version": "3.3.1"
  }
 },
 "nbformat": 4,
 "nbformat_minor": 2
}
