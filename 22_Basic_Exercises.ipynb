{
 "cells": [
  {
   "cell_type": "markdown",
   "metadata": {},
   "source": [
    "# Introduction to R Programming: Loops, Conditionals, & Functions\n",
    "\n",
    "Matthew D. Turner, PhD  \n",
    "Georgia State University\n",
    "\n",
    "Some rights reserved: [cc by-nc-sa](https://creativecommons.org/licenses/by-nc-sa/4.0/) See bottom of document for details.\n",
    "***\n",
    "# Exercises\n",
    "This notebook is a collection of basic exercises for making loops, using conditionals, and writing functions. You should start here if you are completely new to these topics. The exercises below are of varying complexity, so if you find some to be too hard, you may want to proceed to the next section. There are also some answers at the end if you get stuck.\n",
    "\n",
    "In the notebook below, empty cells with comments contain instructions for you to build simple programs in R code. Cells are executed by either using the key combination shift-enter (or shift-return on some computers) or by using the mouse to press the \"Run\" button at the top of the notebook.\n",
    "\n",
    "Start by running the cells below. **You need to run all of the cells with code, even ones where you do not make any changes.** If something does not work, it could be due to skipping a cell. Also, you may press shift-enter to move through the notebook one cell at a time; this includes the text cells!\n",
    "\n",
    "The following cell sets the figure size in inches (approximate inches that depend on other display settings on your browser). "
   ]
  },
  {
   "cell_type": "code",
   "execution_count": null,
   "metadata": {},
   "outputs": [],
   "source": [
    "# Setting up the R environment; just run this cell\n",
    "\n",
    "options(repr.plot.width = 4, repr.plot.height = 4)  # Set the figure size "
   ]
  },
  {
   "cell_type": "markdown",
   "metadata": {},
   "source": [
    "## 1. Sorting and Filtering Examples with `for`\n",
    "Here we will use loops to display some data and do basic data filtering. Please note that using loops to filter data is not always optimal, but it does lend itself to easy examples for practice."
   ]
  },
  {
   "cell_type": "code",
   "execution_count": null,
   "metadata": {},
   "outputs": [],
   "source": [
    "# Here is some data drawn from a mathematically defined (known) distribution\n",
    "#  >> It has a true mean of 25 and a true standard deviation of 9 <<\n",
    "\n",
    "d <- c(39.89503,26.84281,24.25861,28.87009,21.98997,21.62833,3.836511,33.59383,\n",
    "       29.82358,10.65092,33.86132,37.29709,1.178438,9.14365,24.33669,18.59312,\n",
    "       3.755524,35.13025,12.3738,22.3297,17.46969,26.15035,24.44927,33.22489,\n",
    "       30.54006,17.60494,11.47602,50.5574,22.49891,17.17721,34.62822,21.65989,\n",
    "       25.29415,22.08202,31.12628,28.16447,26.65634,26.81129,38.41278,21.12782,\n",
    "       10.29205,25.77778,1.574856,14.65169,30.01658,32.61243,22.40103,41.40533,\n",
    "       6.766324,34.11612,23.20139,25.23146,22.6141,16.48503,23.39496,27.68777,\n",
    "       20.16894,19.71992,22.51938,18.84068,47.7751,33.34769,40.17129,25.83041,\n",
    "       25.5106,29.01418,4.318843,21.87696,31.89288,17.99988,26.79175,9.075963,\n",
    "       17.81769,29.30444,40.21988,39.85456,16.40074,24.58396,26.97367,20.57295,\n",
    "       29.30642,20.47403,33.41683,9.886789,32.07099,27.86358,23.91271,8.362674,\n",
    "       20.9204,27.89309,-0.5909693,30.50101,25.05787,25.68484,31.23876,11.40253,\n",
    "       18.55688,5.459615,16.87926,27.25582)"
   ]
  },
  {
   "cell_type": "markdown",
   "metadata": {},
   "source": [
    "Determine the number of data points in `d`. We will use this in some `for` loops below."
   ]
  },
  {
   "cell_type": "code",
   "execution_count": null,
   "metadata": {},
   "outputs": [],
   "source": [
    "# How many elements in d?\n",
    "#\n",
    "# Hint: If you've never used it, look up the help on the \"length\" function \n",
    "#       first (?length). You should get used to using it.\n",
    "\n"
   ]
  },
  {
   "cell_type": "markdown",
   "metadata": {},
   "source": [
    "Note that the `length` function in R gives different sorts of values for different sorts of objects. For a data frame, it gives the number of columns. For a matrix, vector, or list it gives the total number of elements in the object. For a _vector_ like `d` above it will give the total number of items.\n",
    "\n",
    "### 1.1 Filter and Print `d`"
   ]
  },
  {
   "cell_type": "code",
   "execution_count": null,
   "metadata": {},
   "outputs": [],
   "source": [
    "# Write a for loop that prints out the elements of d\n",
    "#\n",
    "# Hint: If you use tabs to arrange things, your columns might not line up\n",
    "#       perfectly, but this is ok. If you want to use commas, see the demo \n",
    "#       notebook, section 1.1.1. But that is a little harder.\n",
    "# Hint: If i = 3, then d[i] is the 3rd element of d, for instance. \n",
    "\n"
   ]
  },
  {
   "cell_type": "markdown",
   "metadata": {},
   "source": [
    "Note that when arranging things on the screen tabs will look better or worse depending on the size of the browser window. You might want to adjust the size of your browser window and re-run the cell above to get a nicer display."
   ]
  },
  {
   "cell_type": "code",
   "execution_count": null,
   "metadata": {},
   "outputs": [],
   "source": [
    "# Modify the loop above to print out only elements that are greater\n",
    "# than the mean of d\n",
    "#\n",
    "# Hint: You do not need an else for this exercise\n",
    "# Hint: You should get 53 numbers printed out\n",
    "\n"
   ]
  },
  {
   "cell_type": "markdown",
   "metadata": {},
   "source": [
    "If you get stuck on the previous exercise, see the appendix at the bottom of the notebook.\n",
    "\n",
    "In R the `quantile` functions reports the values in data (like our `d`) that correspond to particular percentage points of the distribution. The cell below computes the 25th and 75th quantiles (equivalent to the 1st and 3rd qua**r**tiles) of `d`."
   ]
  },
  {
   "cell_type": "code",
   "execution_count": null,
   "metadata": {},
   "outputs": [],
   "source": [
    "quantile(d, c(0.25, 0.75))"
   ]
  },
  {
   "cell_type": "markdown",
   "metadata": {},
   "source": [
    "The code below puts these values into variables `Q1` and `Q3`. You will use these in the next exercises."
   ]
  },
  {
   "cell_type": "code",
   "execution_count": null,
   "metadata": {},
   "outputs": [],
   "source": [
    "out <- quantile(d, c(0.25, 0.75))\n",
    "Q1 <- out[1]\n",
    "Q3 <- out[2]\n",
    "cat(Q1, Q3, sep=\", \")   # This is just to show you the values"
   ]
  },
  {
   "cell_type": "markdown",
   "metadata": {},
   "source": [
    "We can use the comparisons to see if elements of `d` are between these `Q1` and `Q2` limits. In the examples below, there is some \"fluff\" from R printed along with the results (the bold labels from the `quantile` function output) which can safely be ignored. \n",
    "\n",
    "To work out how to make these comparisons we will select out the first element of `d` and build the test for that one element, then we will replace `d[1]` with `d[i]` and put that in a loop."
   ]
  },
  {
   "cell_type": "code",
   "execution_count": null,
   "metadata": {},
   "outputs": [],
   "source": [
    "cat(d[1])   # Just look at this value, it is between 17.95 and 29.87?"
   ]
  },
  {
   "cell_type": "code",
   "execution_count": null,
   "metadata": {},
   "outputs": [],
   "source": [
    "# Now do the tests automatically\n",
    "\n",
    "d[1] > Q1   # TRUE\n",
    "d[1] < Q3   # FALSE"
   ]
  },
  {
   "cell_type": "markdown",
   "metadata": {},
   "source": [
    "We can combine the comparisons with the [logical and operator](https://en.wikipedia.org/wiki/Logical_conjunction), which is written `&` in R. This operator combines two logical conditions and returns `TRUE` only when **both** conditions are true. \n",
    "\n",
    "For this problem, we want to find points  `d[i]` where both `d[i] > Q1` **and** `d[i] < Q3` are `TRUE` at the same time. For the specific point we are considering this should return `FALSE`."
   ]
  },
  {
   "cell_type": "code",
   "execution_count": null,
   "metadata": {},
   "outputs": [],
   "source": [
    "# Combining conditions with &\n",
    "\n",
    "d[1] > Q1 & d[1] < Q3  # Is d[1] **INSIDE** the (Q1, Q3) interval?\n",
    "                       # That is, are both statements simultaneously TRUE?"
   ]
  },
  {
   "cell_type": "markdown",
   "metadata": {},
   "source": [
    "This combined condition can be placed inside of an `if` statement just like a simple comparison."
   ]
  },
  {
   "cell_type": "code",
   "execution_count": null,
   "metadata": {},
   "outputs": [],
   "source": [
    "# Start with the first for loop above, and modify it to only print out\n",
    "# elements of d that are INSIDE the interval (Q1, Q3).\n",
    "#\n",
    "# Hint: If you think this is hard, you **might** be overthinking it.\n",
    "# Hint: If you copied and pasted, did you remember to change the d[1] \n",
    "#       from the example in the cell above?\n",
    "\n"
   ]
  },
  {
   "cell_type": "code",
   "execution_count": null,
   "metadata": {},
   "outputs": [],
   "source": [
    "# Copy the loop just above, but **add** an else clause to cat the string\n",
    "# \"........\" (a sequence of 8 dots) for each element of d that is NOT in \n",
    "# the interval. The output should be a list of numbers inside the interval\n",
    "# from Q1 to Q3 and dots in place of the numbers that were outside the\n",
    "# interval\n",
    "#\n",
    "# Hint: In case you wonder, \"........\" made things line up nicely for me\n",
    "#       when I did this using tabs (\"\\t\") to separate values. You may need\n",
    "#       to adjust the number of dots for your screen.\n",
    "\n"
   ]
  },
  {
   "cell_type": "markdown",
   "metadata": {},
   "source": [
    "In case you had problems with the previous two exercises, here is my solution to a **related** problem: The following code prints out the values that are **outside** the (Q1, Q3) interval, rather than inside, and prints dots for values inside the interval. Comapre it to your result above, and where you have dots I should have numbers, and _vice-versa_. Hopefully this will get you unstuck if you have any problems."
   ]
  },
  {
   "cell_type": "code",
   "execution_count": null,
   "metadata": {},
   "outputs": [],
   "source": [
    "# Print the points in d OUTSIDE of the (Q1, Q3) interval:\n",
    "\n",
    "for(i in 1:length(d)){\n",
    "    if(d[i] > Q1 & d[i] < Q3){\n",
    "        cat(\"........\", \"\\t\")\n",
    "    } else{\n",
    "        cat(d[i], \"\\t\")\n",
    "    }\n",
    "}"
   ]
  },
  {
   "cell_type": "markdown",
   "metadata": {},
   "source": [
    "**NB:** The code that I wrote does not have to look exactly like your code. For instance, I wrote: `i in 1:length(d)` where you could have written `i in 1:100` or `i in 1:n` for some variable `n` that you defined above. Neither way is better or worse, just different.\n",
    "\n",
    "**However, the version that I wrote will adapt itself if it is used with data sets of different lengths, while the instruction `i in 1:100` will not change itself automatically.** You should make sure you understand why this is and how to do equivalent things in your own code. Making loops and functions adapt themselves automatically to different sized data is a key concept and one you should always be thinking about as you work and develop your skills.\n",
    "\n",
    "## 2. Simple Function Exercises\n",
    "Here we will make some small functions. \n",
    "\n",
    "### 2.1 Z-Scores\n",
    "In the first example we will make a simple z-score function. \n",
    "\n",
    "The z-score is defined as: $$z = \\frac{x - \\bar{x}}{s_x}\\\\[2ex]$$ where $x$ is any of the data points, $\\bar{x}$ is the mean of the whole data set, and $s_x$ is the standard deviation of the set. In the following you will calculate this then wrap it up as a function."
   ]
  },
  {
   "cell_type": "code",
   "execution_count": null,
   "metadata": {},
   "outputs": [],
   "source": [
    "# For the x provided, (1) use the z formula to compute z from x, and \n",
    "#                     (2) print (or cat) z\n",
    "#\n",
    "# Note that we just want to copy the z formula here, we will turn it\n",
    "# into a function in the cells below.\n",
    "\n",
    "x <- c(5, 8, 7, 9)\n",
    "\n"
   ]
  },
  {
   "cell_type": "markdown",
   "metadata": {},
   "source": [
    "To make a function you need to wrap your calculations inside of the following:\n",
    "\n",
    "```r \n",
    "function_name <- function(INPUT){\n",
    "    calculations                                 \n",
    "    return(OUTPUT)\n",
    "}\n",
    "```\n",
    "where the `calculations` set the value of the `OUTPUT`. In the above cell you actually did all of the calculations for `z`. So to make it a function, you just have to add the formula you wrote above to the middle of the function definition."
   ]
  },
  {
   "cell_type": "code",
   "execution_count": null,
   "metadata": {},
   "outputs": [],
   "source": [
    "# (1) Copy the function definition from the text cell above (or retype it)\n",
    "# (2) Change the function_name to zf (for \"z function\")\n",
    "# (3) Change the INPUT to x\n",
    "# (4) Place your z formula where the calculations go\n",
    "# (5) Change OUTPUT to z \n",
    "# (6) Run this cell\n",
    "\n"
   ]
  },
  {
   "cell_type": "markdown",
   "metadata": {},
   "source": [
    "The next few cells will test your `z` function. If you are having problems, a solution is provided in the appendix below."
   ]
  },
  {
   "cell_type": "code",
   "execution_count": null,
   "metadata": {},
   "outputs": [],
   "source": [
    "# The results here should be the same as in your formula cell above\n",
    "\n",
    "zf(x)  "
   ]
  },
  {
   "cell_type": "code",
   "execution_count": null,
   "metadata": {},
   "outputs": [],
   "source": [
    "# The following is an example of what math people call a \"fixed-point\"\n",
    "# these particular numbers are also their own z-scores. So if your \n",
    "# function works, the output should be the same as the input\n",
    "\n",
    "y <- c(-1, 0, 1)\n",
    "\n",
    "zf(y)     "
   ]
  },
  {
   "cell_type": "markdown",
   "metadata": {},
   "source": [
    "The process of coding solutions to problems requires a willingness on your part to break problems into smaller pieces and limited cases, solve these, then generalize the answers (often with iteration/loops, abstraction/functions, or other processes). Another thing you should get in the habit of doing is trying to come up with _test cases_ where you know the answer and can see what your function does. The cell above is an example of this; a good test for any function is to give it some data with a known answer and see what you get. "
   ]
  },
  {
   "cell_type": "code",
   "execution_count": null,
   "metadata": {},
   "outputs": [],
   "source": [
    "# Here we make 100 random normal numbers. They are drawn from a \n",
    "# normal distribution with mean of 100 and standard deviation of 15\n",
    "\n",
    "random_data <- rnorm(100, mean = 100, sd = 15)\n",
    "random_data"
   ]
  },
  {
   "cell_type": "markdown",
   "metadata": {},
   "source": [
    "For any normally distributed data, $N(\\mu, \\sigma)$ if you apply the $z$ transformation to it, the data should become $N(0,1)$, that is, normally distributed with a mean or center of 0 and a standard deviation of 1. We can test the random data above:"
   ]
  },
  {
   "cell_type": "code",
   "execution_count": null,
   "metadata": {},
   "outputs": [],
   "source": [
    "# Apply your z function to the data\n",
    "random_z <- zf(random_data)\n",
    "\n",
    "# Check if the results of this are as expected\n",
    "mean(random_z)   # Should be close to 0; very small ~ 1 x 10^-12 (1e-12) or less\n",
    "sd(random_z)     # Should be close to 1"
   ]
  },
  {
   "cell_type": "markdown",
   "metadata": {},
   "source": [
    "When writing functions:\n",
    "\n",
    "+ It is often easiest to simply do the calculation (like for the `z`) then when you get it to work transfer it into the function form.\n",
    "+ If you do a calculation on a vector (like `x` above) then the function will work on other vectors naturally. \n",
    "+ Functions written in R by the developers tend to have a lot of extra parts: to check that inputs are correct, to look for problems, and generally to protect users from errors. Your functions will usually not have these features. If you start developing stuff for other people to use, you may want to learn how to do this sort of thing.\n",
    "\n",
    "[This blog post](https://nicercode.github.io/guides/functions/) decribes some reasons for using functions. You may find it helpful in understanding why functional abstraction is a good thing for program clarity and also maintenance."
   ]
  },
  {
   "cell_type": "markdown",
   "metadata": {},
   "source": [
    "### 2.2 Selector Functions\n",
    "\n",
    "One really useful short funtion type in R are **selectors** &mdash; functions that do something, pick out just the part of the output you want, and return only that. They are useful for keeping your programs clean.\n",
    "\n",
    "#### Selecting the t-Interval\n",
    "As part of the output of the `t.test` function, the (default) 95% confidence interval is given. Write a function to do the t-test and return **only** the confidence interval."
   ]
  },
  {
   "cell_type": "code",
   "execution_count": null,
   "metadata": {},
   "outputs": [],
   "source": [
    "# Fake data for a 2 group t-test\n",
    "\n",
    "g1 <- c(1,2,3,4,5)\n",
    "g2 <- c(5,5,4,4,6)\n",
    "\n",
    "t.test(g1, g2)   # Generate the t.test output"
   ]
  },
  {
   "cell_type": "markdown",
   "metadata": {},
   "source": [
    "When you use R functions their results can appear in two ways &mdash; (1) as a print out on the screen (like the `t.test` result above) or (2) as a list of items that can be stored in a variable. When you store the items, you often get much more information than is printed out.\n",
    "\n",
    "You can look at the items in the list with the `str` command:"
   ]
  },
  {
   "cell_type": "code",
   "execution_count": null,
   "metadata": {},
   "outputs": [],
   "source": [
    "t <- t.test(g1, g2)   # Instead of printing, store the results\n",
    "\n",
    "str(t)   # This shows what information was put in t"
   ]
  },
  {
   "cell_type": "markdown",
   "metadata": {},
   "source": [
    "The part we want is the part called `conf.int` in the output above. Notice that the items listed above are all written with `$`'s before them. This is a hint about how to access each item:"
   ]
  },
  {
   "cell_type": "code",
   "execution_count": null,
   "metadata": {},
   "outputs": [],
   "source": [
    "t$conf.int    # This picks out the confidence interval and leaves\n",
    "              # the rest alone"
   ]
  },
  {
   "cell_type": "code",
   "execution_count": null,
   "metadata": {},
   "outputs": [],
   "source": [
    "# Write a function that takes 2 data sets, does the t.test on them\n",
    "# and then selects out the confidence interval part and returns just\n",
    "# that. Call the function t_conf_int\n",
    "#\n",
    "# Hint: Although it is not necessary, if you recall the use of the \n",
    "#       names function from the demo, that trick will work here, too\n",
    "\n"
   ]
  },
  {
   "cell_type": "markdown",
   "metadata": {},
   "source": [
    "If you get stuck there is an example solution in the appendix."
   ]
  },
  {
   "cell_type": "code",
   "execution_count": null,
   "metadata": {},
   "outputs": [],
   "source": [
    "# Test of t_conf_int\n",
    "\n",
    "t_conf_int(g1, g2)   # Same as above"
   ]
  },
  {
   "cell_type": "markdown",
   "metadata": {},
   "source": [
    "If you followed the instructions above you have a `t_conf_int` function that works fine for the two sample t-test. But it does not work for other cases that `t.test` allows. There is a nice trick to fix this.\n",
    "\n",
    "#### R's `...` Operator\n",
    "One of R's features is the `...` operator. This let's you pass a whole set of **named** parameters to a function which will, in turn, be passed to other functions. The key here is to remember that the items must be named. The R documentation describes `t.test` as having the following format for its input:\n",
    "\n",
    "```R\n",
    "t.test(x, y = NULL,\n",
    "       alternative = c(\"two.sided\", \"less\", \"greater\"),\n",
    "       mu = 0, paired = FALSE, var.equal = FALSE,\n",
    "       conf.level = 0.95)\n",
    "```\n",
    "If you want to do a simple two sample t-test, like the one above, there are two ways to specify it:\n",
    "\n",
    "1. `t.test(g1, g2)`\n",
    "1. `t.test(x = g1, y = g2)`\n",
    "\n",
    "All of the other values are optional and will use defaults if not given by you. Most people use the first format for simple things, but we can choose to use the second if we need to.\n",
    "\n",
    "In R, when you place `...` inside of a function definition, that spot collects all of the variables with names that the current function does **not** use. These then can be sent to other functions as needed. Those other functions will look through the list of spare variables and select out ones with names they recognize.\n",
    "\n",
    "This gives us a trick to build a very flexible `t_conf_int` selector:"
   ]
  },
  {
   "cell_type": "code",
   "execution_count": null,
   "metadata": {},
   "outputs": [],
   "source": [
    "# This functions passes **all** of its arguments to t.test\n",
    "\n",
    "t_conf_int2 <- function(...){\n",
    "    return(t.test(...)$conf.int)\n",
    "}"
   ]
  },
  {
   "cell_type": "code",
   "execution_count": null,
   "metadata": {},
   "outputs": [],
   "source": [
    "# This is the same case as above\n",
    "\n",
    "t_conf_int2(g1, g2)"
   ]
  },
  {
   "cell_type": "code",
   "execution_count": null,
   "metadata": {},
   "outputs": [],
   "source": [
    "# Here we pass the additional parameter conf.level as 0.99 to get \n",
    "# a 99% interval; our original function can't do that\n",
    "\n",
    "t_conf_int2(x = g1, y = g2, conf.level = 0.99)"
   ]
  },
  {
   "cell_type": "markdown",
   "metadata": {},
   "source": [
    "You can try passing the additional arguments with your `t_conf_int` function but it will fail.\n",
    "\n",
    "### 2.3 A Robust Example\n",
    "The [median absolute deviation (MAD)](https://en.m.wikipedia.org/wiki/Median_absolute_deviation) is a robust measure of variability for use in cases where the standard deviation might have problems. (Cases such as analyzing data with outliers, or data from _contaminated_ distributions.) Here we will compute the MAD and _also convert it into a robust estimate of the standard deviation_.\n",
    "\n",
    "The MAD is defined as the median of the _absolute deviations_ from the data's median. As R has a `median` function this is easy to write."
   ]
  },
  {
   "cell_type": "code",
   "execution_count": null,
   "metadata": {},
   "outputs": [],
   "source": [
    "# Data for testing in a:\n",
    "\n",
    "a <- c(6, 1, 2, 4, 1, 9, 2)\n",
    "\n",
    "d <- a - median(a)  # Subtract median from each point, store result in d\n",
    "cat(d)"
   ]
  },
  {
   "cell_type": "markdown",
   "metadata": {},
   "source": [
    "Note that the values in `d` are positive and negative. We need to use the absolute value to make all of these positive. We want to look at the size of the deviations, we do not care about their sign (direction). R provides an absolute value function, `abs`, which makes negative values positive."
   ]
  },
  {
   "cell_type": "code",
   "execution_count": null,
   "metadata": {},
   "outputs": [],
   "source": [
    "abs(d)"
   ]
  },
  {
   "cell_type": "markdown",
   "metadata": {},
   "source": [
    "Finally to get the MAD, we just take the median of this list of absolute `d`'s. In the following cell the entire computation is shown:"
   ]
  },
  {
   "cell_type": "code",
   "execution_count": null,
   "metadata": {},
   "outputs": [],
   "source": [
    "d <- abs(a - median(a))\n",
    "median(d)"
   ]
  },
  {
   "cell_type": "markdown",
   "metadata": {},
   "source": [
    "We can convert the MAD into an estimate of the standard deviation by multiplying it by 1.4826. You will just have to trust me on this, unless you have taken some probability theory. If you have, the number we want to convert MAD into an estimate of $s$ (`sd`) is:\n",
    "\n",
    "$$\\frac{1}{\\Phi^{-1}(0.75)} \\approx 1.482602$$\n",
    "\n",
    "(This can be computed in R with the command: `1/qnorm(.75)`, if you want a better estimate.)"
   ]
  },
  {
   "cell_type": "code",
   "execution_count": null,
   "metadata": {},
   "outputs": [],
   "source": [
    "# So to make a standard deviation estimate, we just multiply:\n",
    "\n",
    "s_estimate <- median(d) * 1.4826\n",
    "cat(s_estimate)"
   ]
  },
  {
   "cell_type": "code",
   "execution_count": null,
   "metadata": {},
   "outputs": [],
   "source": [
    "# Take the steps outlined above and make a \"s_est\" function\n",
    "\n"
   ]
  },
  {
   "cell_type": "code",
   "execution_count": null,
   "metadata": {},
   "outputs": [],
   "source": [
    "# Test your function against the original case\n",
    "\n",
    "s_est(d)"
   ]
  },
  {
   "cell_type": "code",
   "execution_count": null,
   "metadata": {},
   "outputs": [],
   "source": [
    "newdata <- c(10, 20, 40, 40, 50, 70, 80)\n",
    "\n",
    "s_est(newdata)   # Should be about 29.65"
   ]
  },
  {
   "cell_type": "markdown",
   "metadata": {},
   "source": [
    "As has been the case for a few of our simple examples today, this function is actually implemented in R as a standard feature where it is called `mad`. We can use this to check out results above against what the professionals did."
   ]
  },
  {
   "cell_type": "code",
   "execution_count": null,
   "metadata": {},
   "outputs": [],
   "source": [
    "mad(d)\n",
    "mad(newdata)"
   ]
  },
  {
   "cell_type": "markdown",
   "metadata": {},
   "source": [
    "## Appendix\n",
    "\n",
    "Here are some solutions in case you get stuck. Try not to use them without trying for a bit first."
   ]
  },
  {
   "cell_type": "code",
   "execution_count": null,
   "metadata": {},
   "outputs": [],
   "source": [
    "# The second exercise from 1.1\n",
    "\n",
    "for(i in 1:length(d)){\n",
    "    if(d[i] > mean(d)){\n",
    "        cat(d[i], \"\\t\")\n",
    "    }\n",
    "}"
   ]
  },
  {
   "cell_type": "code",
   "execution_count": null,
   "metadata": {},
   "outputs": [],
   "source": [
    "# The zf function from 2.1\n",
    "\n",
    "zf <- function(x){\n",
    "    z = (x - mean(x))/sd(x)\n",
    "    return(z)\n",
    "}"
   ]
  },
  {
   "cell_type": "code",
   "execution_count": null,
   "metadata": {},
   "outputs": [],
   "source": [
    "# t_conf_int from 2.2.1\n",
    "\n",
    "t_conf_int <- function(a, b){\n",
    "    return(t.test(a, b)$conf.int)\n",
    "}"
   ]
  },
  {
   "cell_type": "code",
   "execution_count": null,
   "metadata": {},
   "outputs": [],
   "source": [
    "# s_est from 2.3\n",
    "\n",
    "s_est <- function(a){\n",
    "    d <- abs(a - median(a))\n",
    "    return(median(d)*1.4826)\n",
    "}"
   ]
  },
  {
   "cell_type": "markdown",
   "metadata": {},
   "source": [
    "***\n",
    "Version 1.0  \n",
    "2018.07.11\n",
    "\n",
    "To contact the author, email [mturner46@gsu.edu](mailto:mturner46@gsu.edu). Please contact me with recommendations for improvement or if you find any errors. This work may be adapted for any non-commercial purpose within the bounds of the license.\n",
    "\n",
    "<a rel=\"license\" href=\"http://creativecommons.org/licenses/by-nc-sa/4.0/\"><img alt=\"Creative Commons License\" style=\"border-width:0\" src=\"https://i.creativecommons.org/l/by-nc-sa/4.0/88x31.png\" /></a><br />This work is licensed under a <a rel=\"license\" href=\"http://creativecommons.org/licenses/by-nc-sa/4.0/\">Creative Commons Attribution-NonCommercial-ShareAlike 4.0 International License</a>."
   ]
  }
 ],
 "metadata": {
  "kernelspec": {
   "display_name": "R",
   "language": "R",
   "name": "ir"
  },
  "language_info": {
   "codemirror_mode": "r",
   "file_extension": ".r",
   "mimetype": "text/x-r-source",
   "name": "R",
   "pygments_lexer": "r",
   "version": "3.3.1"
  }
 },
 "nbformat": 4,
 "nbformat_minor": 2
}
