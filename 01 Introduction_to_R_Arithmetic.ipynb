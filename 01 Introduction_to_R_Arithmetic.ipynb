{
 "cells": [
  {
   "cell_type": "markdown",
   "metadata": {},
   "source": [
    "# Introduction to R & Jupyter Notebooks\n",
    "\n",
    "Matthew D. Turner, PhD  \n",
    "Georgia State University\n",
    "\n",
    "Some rights reserved: [cc by-nc-sa](https://creativecommons.org/licenses/by-nc-sa/4.0/) See bottom of document for details.\n",
    "\n",
    "This workshop is intended as a brief introduction to:\n",
    "\n",
    "+ The R Language\n",
    "+ The Jupyter Scientific Notebook System\n",
    "\n",
    "The emphasis is on the R language, but as the class is delivered in Jupyter notebooks, we will cover the basics of this system, as well. Both R and Jupyter are systems that are too big to be covered in one class, so this is really just enough to get you started with either of them. For more information on Jupyter see the [Jupyter Project website](http://jupyter.org/). For more on R, see the [R Project website](https://www.r-project.org/).\n",
    "\n",
    "***\n",
    "\n",
    "## Section 1: Jupyter\n",
    "\n",
    "We will start with Jupyter so that you can work with it today.\n",
    "\n",
    "You are currently looking at a **Jupyter Notebook for R**. This is an easy to use system for working with scientific computing. Many of you will prefer to use [RStudio](https://www.rstudio.com/products/rstudio/) on your own computers. However, when working in a networked environment, Jupyter is better for sharing. (There is a web-based version of RStudio, however it is not an affordable option for GSU.) If you would like to use Jupyter on your own computer it is _relatively_ easy to set up. This will not be discussed today, please contact the workshop leader for more information.\n",
    "\n",
    "It is important to note that R is a computer language, _so while interacting with R notebooks in Jupyter will feel different from the workflow in RStudio, the **commands are identical**_. For more information on using Jupyter notebooks for research and teaching, see [HERE](https://jupyter.brynmawr.edu/services/public/dblank/Jupyter%20Notebook%20Users%20Manual.ipynb) (note that this page is a little out of date but still very useful).\n",
    "\n",
    "### Cells (The Essential Feature of Jupyter)\n",
    "\n",
    "Jupyter is organized into **cells** which are little blocks of code or formatted text. The output of cells is either statistical results or graphics.\n",
    "\n",
    "This text that you are reading is a **text** cell. Below this is a **code** cell that is empty. Let's try using it:\n",
    "\n",
    "+ Double-click on the cell below this\n",
    "+ Type `2 + 2` (or some other numbers of interest)\n",
    "+ Then press shift-enter (shift and the enter or return key on your keyboard; **remember this, you use it constantly!**)"
   ]
  },
  {
   "cell_type": "code",
   "execution_count": null,
   "metadata": {},
   "outputs": [],
   "source": []
  },
  {
   "cell_type": "markdown",
   "metadata": {},
   "source": [
    "Note a couple of things:\n",
    "\n",
    "+ The result is printed just below the cell\n",
    "+ The cell gets a **number** showing the order in which it was run (in this case 1)\n",
    "\n",
    "If you were to click on the cell again, you could change your code and then press shift-enter to run it again. The results will update to show the new result and the number of the cell will increment to the next number. Try it!\n",
    "\n",
    "### Text and Code Together in Jupyter\n",
    "\n",
    "Another great feature of Jupyter notebooks is that they allow the mixing of text, data, and computer code. Everything in this notebook, including **this cell's text**, is editable. If you would like to see the raw form of this typeset text, just _double_ click inside of this cell. The typesetting is done in [markdown](https://jupyter-notebook.readthedocs.io/en/stable/examples/Notebook/Working%20With%20Markdown%20Cells.html) a **simple code for marking up text** with things like: headings, web links, lists, computer code, and so on. It also supports typesetting math in LaTeX (if you are familiar with that). \n",
    "\n",
    "For example: writing $C = 2 \\pi r$ or $e^x=\\sum_{i=0}^\\infty \\frac{1}{i!}x^i$ is fairly easy.\n",
    "\n",
    "Cells are executed (code is run, text is formatted) when you press shift-enter while within the cell. Just click on the cell to make it the active cell (or double-click to make it active and editable if it is a text cell) and that will be the cell that gets executed when you press shift-enter."
   ]
  },
  {
   "cell_type": "markdown",
   "metadata": {},
   "source": [
    "### Graphics\n",
    "\n",
    "Scientific graphics are included in Jupyter R notebooks by running the required code in R to make the figures. They will simply appear as output for the code. Jupyter may also include images or other figures by inclusion as you would in a normal webpage:\n",
    "\n",
    "<img width=33% src=\"./lolcat_orly.jpg\" />\n",
    "\n",
    "With all of these features, Jupyter makes an excellent laboratory notebook!"
   ]
  },
  {
   "cell_type": "markdown",
   "metadata": {},
   "source": [
    "## Section 2: Elementary R\n",
    "\n",
    "Let's cover the most basic parts of R starting with comments. Comments are for human consumption and are ways to remind yourself and others why you did something. You should use them liberally &mdash; you will simply not remember what you were doing today six months from now. So make a note to tell yourself!"
   ]
  },
  {
   "cell_type": "code",
   "execution_count": null,
   "metadata": {},
   "outputs": [],
   "source": [
    "# Comments are marked with a # (hashtag/pound sign/octothorpe/whatever) and R\n",
    "# ignores anything that comes after them.\n",
    "\n",
    "# Here is the circumference of a circle with radius 3...\n",
    "\n",
    "2*pi*3 # Note how this text does nothing other than delight you!"
   ]
  },
  {
   "cell_type": "markdown",
   "metadata": {},
   "source": [
    "### Basic Operations\n",
    "\n",
    "R is a language for doing math and statistics. Any simple operations you know from these fields are there to use. More advanced ones may need to be loaded from external libraries. We will discuss this later on.\n",
    "\n",
    "R uses the _usual_ way of writing math into a computer or calculator. At least for basic arithmetic.\n",
    "\n",
    "For now, let's look at some example operations. In the cell below we will do some arithmetic; the `print` function is there to show us the results:"
   ]
  },
  {
   "cell_type": "code",
   "execution_count": null,
   "metadata": {},
   "outputs": [],
   "source": [
    "2+2\n",
    "2*3\n",
    "10^4"
   ]
  },
  {
   "cell_type": "code",
   "execution_count": null,
   "metadata": {},
   "outputs": [],
   "source": [
    "# Sometimes we want to force R to print the results. For this we can use the print statement\n",
    "# In Jupyter notebooks this is USUALLY optional, see cell above, but not always. If output\n",
    "# is missing, try a print() to fix it!\n",
    "\n",
    "print(2+2)\n",
    "print(2*3)\n",
    "print(10^4)"
   ]
  },
  {
   "cell_type": "markdown",
   "metadata": {},
   "source": [
    "Note that the previous two code cells do the exact same thing and both show all of their output, just with slight differences in formatting. The `print` function makes Jupyter show you the _raw_ R output, formatted as it usually is when using R interactively from the command line."
   ]
  },
  {
   "cell_type": "markdown",
   "metadata": {},
   "source": [
    "### Lists and List Operations\n",
    "In statistics we usually operate on large amounts of data. In R we will store these in **lists** and **data frames**. The former are pretty much self explanatory, while the latter are essentially simple spreadsheets organized in the usual way for statistics and data analysis. Columns of data frames can be treated like lists."
   ]
  },
  {
   "cell_type": "code",
   "execution_count": null,
   "metadata": {},
   "outputs": [],
   "source": [
    "x = c(1,2,3)\n",
    "y = c(2,2,2)\n",
    "\n",
    "print(x)\n",
    "print(y)"
   ]
  },
  {
   "cell_type": "markdown",
   "metadata": {},
   "source": [
    "Notice a couple of things about the previous cell:\n",
    "\n",
    "+ The `c` function takes numbers and glues them together into a list\n",
    "+ When we set x and y equal to the lists, they are **not** printed, we need to add a command to do that\n",
    "\n",
    "> **Cool Hacker Trick**: When you want to stop a command from executing, just place a `#` in front of it. (This is called \"commenting out\" the command. That way you can keep the code for your records and still not run it. Handy for debugging things. Try it with the `print` commands above to see that nothing is printed when they are absent.\n",
    "\n",
    "Operations on lists of the same length are done **elementwise**, that is, the operation is done to each pair of numbers:"
   ]
  },
  {
   "cell_type": "code",
   "execution_count": null,
   "metadata": {},
   "outputs": [],
   "source": [
    "x+y\n",
    "x-y\n",
    "x*y\n",
    "x/y"
   ]
  },
  {
   "cell_type": "markdown",
   "metadata": {},
   "source": [
    "Make sure you understand what the previous cell did!\n",
    "\n",
    "\n",
    "Operations between a list and a **single number** apply the operation to each element of the list and the single number. It is as though the single element is a list of the same number repeated. This is one of many R shorthand notations to save you work. Compare the results below:"
   ]
  },
  {
   "cell_type": "code",
   "execution_count": null,
   "metadata": {},
   "outputs": [],
   "source": [
    "x + 1          # Shorthand\n",
    "y - 2\n",
    "\n",
    "x + c(1,1,1)   # Written out as full lists\n",
    "y - c(2,2,2)"
   ]
  },
  {
   "cell_type": "markdown",
   "metadata": {},
   "source": [
    "### Assignment, Functions, and Getting Help\n",
    "\n",
    "Assignment is the act of placing a value into a variable. We did that above with lists x and y. In essence we told R to ue the name `x` to refer to the list `c(1,2,3)`. The two become (more or less) interchangable.\n",
    "\n",
    "In R, there are two operators for assignments in R are `=` (equals) and `<-` (arrow) and can be used interchangably in most places. People in computing tend to like the `<-` operator, while others prefer the equals sign. You should recognize both as you will see both online!"
   ]
  },
  {
   "cell_type": "code",
   "execution_count": null,
   "metadata": {},
   "outputs": [],
   "source": [
    "u  = c(1,2,3,4,5,6,7,8,8)  # Give a list of numbers a name\n",
    "v <- c(2,1,3,4,6,5,8,8,7)  # Same thing! <- and = can both be used for assignment"
   ]
  },
  {
   "cell_type": "markdown",
   "metadata": {},
   "source": [
    "The best way to get help with R is to use search tools on the web. However, the documentation can be accessed by using the `help()` function or the `?` and `??` operators. These search for help in the documentation and return the results either at the bottom of the window or into a new tab.\n",
    "\n",
    "+ `??` Searches for a word in the text of the documentation (like web searching)\n",
    "+ `?` and `help()` gets the specific page of documentation for a command"
   ]
  },
  {
   "cell_type": "code",
   "execution_count": null,
   "metadata": {},
   "outputs": [],
   "source": [
    "# Search for all references to the word \"covariance\"\n",
    "\n"
   ]
  },
  {
   "cell_type": "code",
   "execution_count": null,
   "metadata": {},
   "outputs": [],
   "source": [
    "# Load the specific help page for the \"var\" function (this should be in the list you just got above!)\n",
    "\n"
   ]
  },
  {
   "cell_type": "code",
   "execution_count": null,
   "metadata": {},
   "outputs": [],
   "source": [
    "# Read the page on the \"var\" function and determine how to use the \"cor\" function\n",
    "# Then use it to compute the correlation between u and v defined above \n",
    "\n"
   ]
  },
  {
   "cell_type": "markdown",
   "metadata": {},
   "source": [
    "(Hint: your answer for the cell above should be about 0.943.)\n",
    "\n",
    "Note that R is mathematical in that it gives the numerical result for correlation. If you want the statistical output that looks like other systems for doing analysis, that is available, too. In the next cell we look up the R function `cor.test`. Note that this function has a dot (period) in its name. Dots (`.`) and underscores (`_`) are both common in R function names."
   ]
  },
  {
   "cell_type": "code",
   "execution_count": null,
   "metadata": {},
   "outputs": [],
   "source": [
    "# Look up the function called \"cor.test\" with ?\n",
    "# Do the default cor.test for u and v above (does the correlation match your previous answer?)\n",
    "\n"
   ]
  },
  {
   "cell_type": "markdown",
   "metadata": {},
   "source": [
    "Answer the following questions (if you understand them!):\n",
    "\n",
    "1. What is the null hypothesis for this test?\n",
    "2. Is the alternative one- or two-sided?\n",
    "3. Does the test reject the null when $\\alpha = 0.001$?\n",
    "\n",
    "It is not required, but if you would like to you can edit this cell to add your answers."
   ]
  },
  {
   "cell_type": "markdown",
   "metadata": {},
   "source": [
    "### Mathematical Functions Made Out of Arithmetic\n",
    "\n",
    "We can create our own mathematical functions using the usual translation of math into _typed_ math. In typed math the usual arithmetic operators are: `+` addition, `-` subtraction, `*` multiplication, and `/` (forward slash!) division. You should be familiar with these from other software.\n",
    "\n",
    "For instance, the mean is defined as: $$\\bar{X} = \\frac{1}{N}\\sum_{i = 1}^{N} X_i$$ which is just the sum of the data points which is then divided by the number of points. It could also be written (in somewhat reduced notation) as: $\\frac{\\sum X_i}{N}$ which is how some of you might have seen it elsewhere.\n",
    "\n",
    "$$\\bar{X} = \\frac{\\sum_{i = 1}^{N} X_i}{N} = \\frac{\\mathrm{sum\\ of\\ data}}{\\mathrm{number\\ of\\ data\\ points}}$$\n",
    "\n",
    "For a list of numbers `X`, the sum is given by the `sum` function, and division is shown above. To determine `N` you need to find the _length_ of the list, and there is a function called `length` that does just that. In the cell below, figure out the mean of `X`:"
   ]
  },
  {
   "cell_type": "code",
   "execution_count": 56,
   "metadata": {},
   "outputs": [],
   "source": [
    "# 1. Write the formula for the mean in this cell\n",
    "#    Use the given x as the list of data\n",
    "# 2. Store the results in the variable named xbar\n",
    "# 3. Print the result\n",
    "\n",
    "x = c(1,2,3,4,5,6,7,8,9)\n",
    "\n",
    "\n"
   ]
  },
  {
   "cell_type": "markdown",
   "metadata": {},
   "source": [
    "Obviously a statistical language will have functions for getting things like the mean and standard deviation. So we can check our work from above:"
   ]
  },
  {
   "cell_type": "code",
   "execution_count": null,
   "metadata": {},
   "outputs": [],
   "source": [
    "mean(x)   # Mean of X; should be same as your work above\n",
    "sd(x)     # sd() is the standard deviation"
   ]
  },
  {
   "cell_type": "markdown",
   "metadata": {},
   "source": [
    "A z-score transformation is obtained by subtracting the mean from each data point, then dividing this by the standard deviation: $$z = \\frac{x - \\bar{x}}{s}$$\n",
    "\n",
    "Use this formula and the functions `mean` and `sd` to define the z-scores for all the values in the list x:"
   ]
  },
  {
   "cell_type": "code",
   "execution_count": 74,
   "metadata": {},
   "outputs": [],
   "source": [
    "# Compute the z-scores for the values of x, place the results in the variable z\n",
    "# Remember your high school algebra! You need to use some parentheses in the numerator\n",
    "# Print the results\n",
    "\n"
   ]
  },
  {
   "cell_type": "code",
   "execution_count": 52,
   "metadata": {},
   "outputs": [],
   "source": [
    "# Now look up the help information on the \"scale\" function\n",
    "# Use this to check your work from the cell above!\n"
   ]
  },
  {
   "cell_type": "code",
   "execution_count": null,
   "metadata": {},
   "outputs": [],
   "source": []
  },
  {
   "cell_type": "markdown",
   "metadata": {},
   "source": [
    "### Data Frames and Indexing\n",
    "\n",
    "Lists are great but in most problems we have many variables and many observations. A spreadsheet would be better for this. Let's make one.\n",
    "\n",
    "R provides many built-in data sets for practice and demonstration of statistical techniques. You can run `library(help = \"datasets\")` to get a list and then get help for each specific data set name to see the details. Most packages that get added to R will bring their own data in with them.\n",
    "\n",
    "Here we use the **state** data. R provides lists of the various facts about states including their abbreviation (`states.abb`), their area (`states.area`; in square miles), and their region of the country (`state.region`; Northeast, South, North Central, West). We will put these together into a single data frame which has all three pieces of information for each state:"
   ]
  },
  {
   "cell_type": "code",
   "execution_count": 43,
   "metadata": {},
   "outputs": [],
   "source": [
    "s <- data.frame(state = state.abb, region = state.region, area = state.area)"
   ]
  },
  {
   "cell_type": "code",
   "execution_count": 44,
   "metadata": {},
   "outputs": [
    {
     "data": {
      "text/html": [
       "<table>\n",
       "<thead><tr><th scope=col>state</th><th scope=col>region</th><th scope=col>area</th></tr></thead>\n",
       "<tbody>\n",
       "\t<tr><td>AL    </td><td>South </td><td> 51609</td></tr>\n",
       "\t<tr><td>AK    </td><td>West  </td><td>589757</td></tr>\n",
       "\t<tr><td>AZ    </td><td>West  </td><td>113909</td></tr>\n",
       "\t<tr><td>AR    </td><td>South </td><td> 53104</td></tr>\n",
       "\t<tr><td>CA    </td><td>West  </td><td>158693</td></tr>\n",
       "\t<tr><td>CO    </td><td>West  </td><td>104247</td></tr>\n",
       "</tbody>\n",
       "</table>\n"
      ],
      "text/latex": [
       "\\begin{tabular}{r|lll}\n",
       " state & region & area\\\\\n",
       "\\hline\n",
       "\t AL     & South  &  51609\\\\\n",
       "\t AK     & West   & 589757\\\\\n",
       "\t AZ     & West   & 113909\\\\\n",
       "\t AR     & South  &  53104\\\\\n",
       "\t CA     & West   & 158693\\\\\n",
       "\t CO     & West   & 104247\\\\\n",
       "\\end{tabular}\n"
      ],
      "text/plain": [
       "  state region area  \n",
       "1 AL    South   51609\n",
       "2 AK    West   589757\n",
       "3 AZ    West   113909\n",
       "4 AR    South   53104\n",
       "5 CA    West   158693\n",
       "6 CO    West   104247"
      ]
     },
     "metadata": {},
     "output_type": "display_data"
    }
   ],
   "source": [
    "head(s)    # To see all of the states, just remove the 'head' function"
   ]
  },
  {
   "cell_type": "code",
   "execution_count": 45,
   "metadata": {},
   "outputs": [
    {
     "data": {
      "image/png": "[encoded data removed]",
      "text/plain": [
       "plot without title"
      ]
     },
     "metadata": {},
     "output_type": "display_data"
    }
   ],
   "source": [
    "options(scipen=999)     # Default value is 0 if you want to undo this\n",
    "\n",
    "boxplot(area ~ region, data=s)"
   ]
  },
  {
   "cell_type": "code",
   "execution_count": 47,
   "metadata": {},
   "outputs": [
    {
     "data": {
      "image/png": "[encoded data removed]",
      "text/plain": [
       "plot without title"
      ]
     },
     "metadata": {},
     "output_type": "display_data"
    }
   ],
   "source": [
    "boxplot(area ~ region, data = s, ylim = c(0, 175000))"
   ]
  },
  {
   "cell_type": "code",
   "execution_count": null,
   "metadata": {},
   "outputs": [],
   "source": []
  },
  {
   "cell_type": "code",
   "execution_count": null,
   "metadata": {},
   "outputs": [],
   "source": []
  },
  {
   "cell_type": "code",
   "execution_count": null,
   "metadata": {},
   "outputs": [],
   "source": []
  },
  {
   "cell_type": "code",
   "execution_count": 32,
   "metadata": {},
   "outputs": [],
   "source": [
    "names(s) <- c('state', 'region', 'area')"
   ]
  },
  {
   "cell_type": "code",
   "execution_count": 33,
   "metadata": {},
   "outputs": [
    {
     "data": {
      "text/html": [
       "<ol class=list-inline>\n",
       "\t<li>South</li>\n",
       "\t<li>West</li>\n",
       "\t<li>West</li>\n",
       "\t<li>South</li>\n",
       "\t<li>West</li>\n",
       "\t<li>West</li>\n",
       "\t<li>Northeast</li>\n",
       "\t<li>South</li>\n",
       "\t<li>South</li>\n",
       "\t<li>South</li>\n",
       "\t<li>West</li>\n",
       "\t<li>West</li>\n",
       "\t<li>North Central</li>\n",
       "\t<li>North Central</li>\n",
       "\t<li>North Central</li>\n",
       "\t<li>North Central</li>\n",
       "\t<li>South</li>\n",
       "\t<li>South</li>\n",
       "\t<li>Northeast</li>\n",
       "\t<li>South</li>\n",
       "\t<li>Northeast</li>\n",
       "\t<li>North Central</li>\n",
       "\t<li>North Central</li>\n",
       "\t<li>South</li>\n",
       "\t<li>North Central</li>\n",
       "\t<li>West</li>\n",
       "\t<li>North Central</li>\n",
       "\t<li>West</li>\n",
       "\t<li>Northeast</li>\n",
       "\t<li>Northeast</li>\n",
       "\t<li>West</li>\n",
       "\t<li>Northeast</li>\n",
       "\t<li>South</li>\n",
       "\t<li>North Central</li>\n",
       "\t<li>North Central</li>\n",
       "\t<li>South</li>\n",
       "\t<li>West</li>\n",
       "\t<li>Northeast</li>\n",
       "\t<li>Northeast</li>\n",
       "\t<li>South</li>\n",
       "\t<li>North Central</li>\n",
       "\t<li>South</li>\n",
       "\t<li>South</li>\n",
       "\t<li>West</li>\n",
       "\t<li>Northeast</li>\n",
       "\t<li>South</li>\n",
       "\t<li>West</li>\n",
       "\t<li>South</li>\n",
       "\t<li>North Central</li>\n",
       "\t<li>West</li>\n",
       "</ol>\n"
      ],
      "text/latex": [
       "\\begin{enumerate*}\n",
       "\\item South\n",
       "\\item West\n",
       "\\item West\n",
       "\\item South\n",
       "\\item West\n",
       "\\item West\n",
       "\\item Northeast\n",
       "\\item South\n",
       "\\item South\n",
       "\\item South\n",
       "\\item West\n",
       "\\item West\n",
       "\\item North Central\n",
       "\\item North Central\n",
       "\\item North Central\n",
       "\\item North Central\n",
       "\\item South\n",
       "\\item South\n",
       "\\item Northeast\n",
       "\\item South\n",
       "\\item Northeast\n",
       "\\item North Central\n",
       "\\item North Central\n",
       "\\item South\n",
       "\\item North Central\n",
       "\\item West\n",
       "\\item North Central\n",
       "\\item West\n",
       "\\item Northeast\n",
       "\\item Northeast\n",
       "\\item West\n",
       "\\item Northeast\n",
       "\\item South\n",
       "\\item North Central\n",
       "\\item North Central\n",
       "\\item South\n",
       "\\item West\n",
       "\\item Northeast\n",
       "\\item Northeast\n",
       "\\item South\n",
       "\\item North Central\n",
       "\\item South\n",
       "\\item South\n",
       "\\item West\n",
       "\\item Northeast\n",
       "\\item South\n",
       "\\item West\n",
       "\\item South\n",
       "\\item North Central\n",
       "\\item West\n",
       "\\end{enumerate*}\n"
      ],
      "text/markdown": [
       "1. South\n",
       "2. West\n",
       "3. West\n",
       "4. South\n",
       "5. West\n",
       "6. West\n",
       "7. Northeast\n",
       "8. South\n",
       "9. South\n",
       "10. South\n",
       "11. West\n",
       "12. West\n",
       "13. North Central\n",
       "14. North Central\n",
       "15. North Central\n",
       "16. North Central\n",
       "17. South\n",
       "18. South\n",
       "19. Northeast\n",
       "20. South\n",
       "21. Northeast\n",
       "22. North Central\n",
       "23. North Central\n",
       "24. South\n",
       "25. North Central\n",
       "26. West\n",
       "27. North Central\n",
       "28. West\n",
       "29. Northeast\n",
       "30. Northeast\n",
       "31. West\n",
       "32. Northeast\n",
       "33. South\n",
       "34. North Central\n",
       "35. North Central\n",
       "36. South\n",
       "37. West\n",
       "38. Northeast\n",
       "39. Northeast\n",
       "40. South\n",
       "41. North Central\n",
       "42. South\n",
       "43. South\n",
       "44. West\n",
       "45. Northeast\n",
       "46. South\n",
       "47. West\n",
       "48. South\n",
       "49. North Central\n",
       "50. West\n",
       "\n",
       "\n"
      ],
      "text/plain": [
       " [1] South         West          West          South         West         \n",
       " [6] West          Northeast     South         South         South        \n",
       "[11] West          West          North Central North Central North Central\n",
       "[16] North Central South         South         Northeast     South        \n",
       "[21] Northeast     North Central North Central South         North Central\n",
       "[26] West          North Central West          Northeast     Northeast    \n",
       "[31] West          Northeast     South         North Central North Central\n",
       "[36] South         West          Northeast     Northeast     South        \n",
       "[41] North Central South         South         West          Northeast    \n",
       "[46] South         West          South         North Central West         \n",
       "Levels: Northeast South North Central West"
      ]
     },
     "metadata": {},
     "output_type": "display_data"
    }
   ],
   "source": [
    "state.region"
   ]
  },
  {
   "cell_type": "code",
   "execution_count": 34,
   "metadata": {},
   "outputs": [
    {
     "ename": "ERROR",
     "evalue": "Error in boxplot.default(): argument \"x\" is missing, with no default\n",
     "output_type": "error",
     "traceback": [
      "Error in boxplot.default(): argument \"x\" is missing, with no default\nTraceback:\n",
      "1. boxplot()",
      "2. boxplot.default()"
     ]
    }
   ],
   "source": [
    "boxplot()"
   ]
  },
  {
   "cell_type": "code",
   "execution_count": null,
   "metadata": {},
   "outputs": [],
   "source": []
  },
  {
   "cell_type": "code",
   "execution_count": 37,
   "metadata": {},
   "outputs": [
    {
     "data": {
      "text/html": [
       "<table>\n",
       "<thead><tr><th scope=col>state</th><th scope=col>region</th><th scope=col>area</th></tr></thead>\n",
       "<tbody>\n",
       "\t<tr><td>AL           </td><td>South        </td><td> 51609       </td></tr>\n",
       "\t<tr><td>AK           </td><td>West         </td><td>589757       </td></tr>\n",
       "\t<tr><td>AZ           </td><td>West         </td><td>113909       </td></tr>\n",
       "\t<tr><td>AR           </td><td>South        </td><td> 53104       </td></tr>\n",
       "\t<tr><td>CA           </td><td>West         </td><td>158693       </td></tr>\n",
       "\t<tr><td>CO           </td><td>West         </td><td>104247       </td></tr>\n",
       "\t<tr><td>CT           </td><td>Northeast    </td><td>  5009       </td></tr>\n",
       "\t<tr><td>DE           </td><td>South        </td><td>  2057       </td></tr>\n",
       "\t<tr><td>FL           </td><td>South        </td><td> 58560       </td></tr>\n",
       "\t<tr><td>GA           </td><td>South        </td><td> 58876       </td></tr>\n",
       "\t<tr><td>HI           </td><td>West         </td><td>  6450       </td></tr>\n",
       "\t<tr><td>ID           </td><td>West         </td><td> 83557       </td></tr>\n",
       "\t<tr><td>IL           </td><td>North Central</td><td> 56400       </td></tr>\n",
       "\t<tr><td>IN           </td><td>North Central</td><td> 36291       </td></tr>\n",
       "\t<tr><td>IA           </td><td>North Central</td><td> 56290       </td></tr>\n",
       "\t<tr><td>KS           </td><td>North Central</td><td> 82264       </td></tr>\n",
       "\t<tr><td>KY           </td><td>South        </td><td> 40395       </td></tr>\n",
       "\t<tr><td>LA           </td><td>South        </td><td> 48523       </td></tr>\n",
       "\t<tr><td>ME           </td><td>Northeast    </td><td> 33215       </td></tr>\n",
       "\t<tr><td>MD           </td><td>South        </td><td> 10577       </td></tr>\n",
       "\t<tr><td>MA           </td><td>Northeast    </td><td>  8257       </td></tr>\n",
       "\t<tr><td>MI           </td><td>North Central</td><td> 58216       </td></tr>\n",
       "\t<tr><td>MN           </td><td>North Central</td><td> 84068       </td></tr>\n",
       "\t<tr><td>MS           </td><td>South        </td><td> 47716       </td></tr>\n",
       "\t<tr><td>MO           </td><td>North Central</td><td> 69686       </td></tr>\n",
       "\t<tr><td>MT           </td><td>West         </td><td>147138       </td></tr>\n",
       "\t<tr><td>NE           </td><td>North Central</td><td> 77227       </td></tr>\n",
       "\t<tr><td>NV           </td><td>West         </td><td>110540       </td></tr>\n",
       "\t<tr><td>NH           </td><td>Northeast    </td><td>  9304       </td></tr>\n",
       "\t<tr><td>NJ           </td><td>Northeast    </td><td>  7836       </td></tr>\n",
       "\t<tr><td>NM           </td><td>West         </td><td>121666       </td></tr>\n",
       "\t<tr><td>NY           </td><td>Northeast    </td><td> 49576       </td></tr>\n",
       "\t<tr><td>NC           </td><td>South        </td><td> 52586       </td></tr>\n",
       "\t<tr><td>ND           </td><td>North Central</td><td> 70665       </td></tr>\n",
       "\t<tr><td>OH           </td><td>North Central</td><td> 41222       </td></tr>\n",
       "\t<tr><td>OK           </td><td>South        </td><td> 69919       </td></tr>\n",
       "\t<tr><td>OR           </td><td>West         </td><td> 96981       </td></tr>\n",
       "\t<tr><td>PA           </td><td>Northeast    </td><td> 45333       </td></tr>\n",
       "\t<tr><td>RI           </td><td>Northeast    </td><td>  1214       </td></tr>\n",
       "\t<tr><td>SC           </td><td>South        </td><td> 31055       </td></tr>\n",
       "\t<tr><td>SD           </td><td>North Central</td><td> 77047       </td></tr>\n",
       "\t<tr><td>TN           </td><td>South        </td><td> 42244       </td></tr>\n",
       "\t<tr><td>TX           </td><td>South        </td><td>267339       </td></tr>\n",
       "\t<tr><td>UT           </td><td>West         </td><td> 84916       </td></tr>\n",
       "\t<tr><td>VT           </td><td>Northeast    </td><td>  9609       </td></tr>\n",
       "\t<tr><td>VA           </td><td>South        </td><td> 40815       </td></tr>\n",
       "\t<tr><td>WA           </td><td>West         </td><td> 68192       </td></tr>\n",
       "\t<tr><td>WV           </td><td>South        </td><td> 24181       </td></tr>\n",
       "\t<tr><td>WI           </td><td>North Central</td><td> 56154       </td></tr>\n",
       "\t<tr><td>WY           </td><td>West         </td><td> 97914       </td></tr>\n",
       "</tbody>\n",
       "</table>\n"
      ],
      "text/latex": [
       "\\begin{tabular}{r|lll}\n",
       " state & region & area\\\\\n",
       "\\hline\n",
       "\t AL            & South         &  51609       \\\\\n",
       "\t AK            & West          & 589757       \\\\\n",
       "\t AZ            & West          & 113909       \\\\\n",
       "\t AR            & South         &  53104       \\\\\n",
       "\t CA            & West          & 158693       \\\\\n",
       "\t CO            & West          & 104247       \\\\\n",
       "\t CT            & Northeast     &   5009       \\\\\n",
       "\t DE            & South         &   2057       \\\\\n",
       "\t FL            & South         &  58560       \\\\\n",
       "\t GA            & South         &  58876       \\\\\n",
       "\t HI            & West          &   6450       \\\\\n",
       "\t ID            & West          &  83557       \\\\\n",
       "\t IL            & North Central &  56400       \\\\\n",
       "\t IN            & North Central &  36291       \\\\\n",
       "\t IA            & North Central &  56290       \\\\\n",
       "\t KS            & North Central &  82264       \\\\\n",
       "\t KY            & South         &  40395       \\\\\n",
       "\t LA            & South         &  48523       \\\\\n",
       "\t ME            & Northeast     &  33215       \\\\\n",
       "\t MD            & South         &  10577       \\\\\n",
       "\t MA            & Northeast     &   8257       \\\\\n",
       "\t MI            & North Central &  58216       \\\\\n",
       "\t MN            & North Central &  84068       \\\\\n",
       "\t MS            & South         &  47716       \\\\\n",
       "\t MO            & North Central &  69686       \\\\\n",
       "\t MT            & West          & 147138       \\\\\n",
       "\t NE            & North Central &  77227       \\\\\n",
       "\t NV            & West          & 110540       \\\\\n",
       "\t NH            & Northeast     &   9304       \\\\\n",
       "\t NJ            & Northeast     &   7836       \\\\\n",
       "\t NM            & West          & 121666       \\\\\n",
       "\t NY            & Northeast     &  49576       \\\\\n",
       "\t NC            & South         &  52586       \\\\\n",
       "\t ND            & North Central &  70665       \\\\\n",
       "\t OH            & North Central &  41222       \\\\\n",
       "\t OK            & South         &  69919       \\\\\n",
       "\t OR            & West          &  96981       \\\\\n",
       "\t PA            & Northeast     &  45333       \\\\\n",
       "\t RI            & Northeast     &   1214       \\\\\n",
       "\t SC            & South         &  31055       \\\\\n",
       "\t SD            & North Central &  77047       \\\\\n",
       "\t TN            & South         &  42244       \\\\\n",
       "\t TX            & South         & 267339       \\\\\n",
       "\t UT            & West          &  84916       \\\\\n",
       "\t VT            & Northeast     &   9609       \\\\\n",
       "\t VA            & South         &  40815       \\\\\n",
       "\t WA            & West          &  68192       \\\\\n",
       "\t WV            & South         &  24181       \\\\\n",
       "\t WI            & North Central &  56154       \\\\\n",
       "\t WY            & West          &  97914       \\\\\n",
       "\\end{tabular}\n"
      ],
      "text/plain": [
       "   state region        area  \n",
       "1  AL    South          51609\n",
       "2  AK    West          589757\n",
       "3  AZ    West          113909\n",
       "4  AR    South          53104\n",
       "5  CA    West          158693\n",
       "6  CO    West          104247\n",
       "7  CT    Northeast       5009\n",
       "8  DE    South           2057\n",
       "9  FL    South          58560\n",
       "10 GA    South          58876\n",
       "11 HI    West            6450\n",
       "12 ID    West           83557\n",
       "13 IL    North Central  56400\n",
       "14 IN    North Central  36291\n",
       "15 IA    North Central  56290\n",
       "16 KS    North Central  82264\n",
       "17 KY    South          40395\n",
       "18 LA    South          48523\n",
       "19 ME    Northeast      33215\n",
       "20 MD    South          10577\n",
       "21 MA    Northeast       8257\n",
       "22 MI    North Central  58216\n",
       "23 MN    North Central  84068\n",
       "24 MS    South          47716\n",
       "25 MO    North Central  69686\n",
       "26 MT    West          147138\n",
       "27 NE    North Central  77227\n",
       "28 NV    West          110540\n",
       "29 NH    Northeast       9304\n",
       "30 NJ    Northeast       7836\n",
       "31 NM    West          121666\n",
       "32 NY    Northeast      49576\n",
       "33 NC    South          52586\n",
       "34 ND    North Central  70665\n",
       "35 OH    North Central  41222\n",
       "36 OK    South          69919\n",
       "37 OR    West           96981\n",
       "38 PA    Northeast      45333\n",
       "39 RI    Northeast       1214\n",
       "40 SC    South          31055\n",
       "41 SD    North Central  77047\n",
       "42 TN    South          42244\n",
       "43 TX    South         267339\n",
       "44 UT    West           84916\n",
       "45 VT    Northeast       9609\n",
       "46 VA    South          40815\n",
       "47 WA    West           68192\n",
       "48 WV    South          24181\n",
       "49 WI    North Central  56154\n",
       "50 WY    West           97914"
      ]
     },
     "metadata": {},
     "output_type": "display_data"
    }
   ],
   "source": [
    "s"
   ]
  },
  {
   "cell_type": "code",
   "execution_count": 15,
   "metadata": {},
   "outputs": [
    {
     "data": {},
     "metadata": {},
     "output_type": "display_data"
    }
   ],
   "source": [
    "library(help = \"datasets\")"
   ]
  },
  {
   "cell_type": "code",
   "execution_count": 16,
   "metadata": {},
   "outputs": [],
   "source": [
    "help(morley)"
   ]
  },
  {
   "cell_type": "code",
   "execution_count": null,
   "metadata": {},
   "outputs": [],
   "source": []
  },
  {
   "cell_type": "code",
   "execution_count": 13,
   "metadata": {},
   "outputs": [
    {
     "data": {
      "text/html": [
       "<ol class=list-inline>\n",
       "\t<li>'AL'</li>\n",
       "\t<li>'AK'</li>\n",
       "\t<li>'AZ'</li>\n",
       "\t<li>'AR'</li>\n",
       "\t<li>'CA'</li>\n",
       "\t<li>'CO'</li>\n",
       "\t<li>'CT'</li>\n",
       "\t<li>'DE'</li>\n",
       "\t<li>'FL'</li>\n",
       "\t<li>'GA'</li>\n",
       "\t<li>'HI'</li>\n",
       "\t<li>'ID'</li>\n",
       "\t<li>'IL'</li>\n",
       "\t<li>'IN'</li>\n",
       "\t<li>'IA'</li>\n",
       "\t<li>'KS'</li>\n",
       "\t<li>'KY'</li>\n",
       "\t<li>'LA'</li>\n",
       "\t<li>'ME'</li>\n",
       "\t<li>'MD'</li>\n",
       "\t<li>'MA'</li>\n",
       "\t<li>'MI'</li>\n",
       "\t<li>'MN'</li>\n",
       "\t<li>'MS'</li>\n",
       "\t<li>'MO'</li>\n",
       "\t<li>'MT'</li>\n",
       "\t<li>'NE'</li>\n",
       "\t<li>'NV'</li>\n",
       "\t<li>'NH'</li>\n",
       "\t<li>'NJ'</li>\n",
       "\t<li>'NM'</li>\n",
       "\t<li>'NY'</li>\n",
       "\t<li>'NC'</li>\n",
       "\t<li>'ND'</li>\n",
       "\t<li>'OH'</li>\n",
       "\t<li>'OK'</li>\n",
       "\t<li>'OR'</li>\n",
       "\t<li>'PA'</li>\n",
       "\t<li>'RI'</li>\n",
       "\t<li>'SC'</li>\n",
       "\t<li>'SD'</li>\n",
       "\t<li>'TN'</li>\n",
       "\t<li>'TX'</li>\n",
       "\t<li>'UT'</li>\n",
       "\t<li>'VT'</li>\n",
       "\t<li>'VA'</li>\n",
       "\t<li>'WA'</li>\n",
       "\t<li>'WV'</li>\n",
       "\t<li>'WI'</li>\n",
       "\t<li>'WY'</li>\n",
       "</ol>\n"
      ],
      "text/latex": [
       "\\begin{enumerate*}\n",
       "\\item 'AL'\n",
       "\\item 'AK'\n",
       "\\item 'AZ'\n",
       "\\item 'AR'\n",
       "\\item 'CA'\n",
       "\\item 'CO'\n",
       "\\item 'CT'\n",
       "\\item 'DE'\n",
       "\\item 'FL'\n",
       "\\item 'GA'\n",
       "\\item 'HI'\n",
       "\\item 'ID'\n",
       "\\item 'IL'\n",
       "\\item 'IN'\n",
       "\\item 'IA'\n",
       "\\item 'KS'\n",
       "\\item 'KY'\n",
       "\\item 'LA'\n",
       "\\item 'ME'\n",
       "\\item 'MD'\n",
       "\\item 'MA'\n",
       "\\item 'MI'\n",
       "\\item 'MN'\n",
       "\\item 'MS'\n",
       "\\item 'MO'\n",
       "\\item 'MT'\n",
       "\\item 'NE'\n",
       "\\item 'NV'\n",
       "\\item 'NH'\n",
       "\\item 'NJ'\n",
       "\\item 'NM'\n",
       "\\item 'NY'\n",
       "\\item 'NC'\n",
       "\\item 'ND'\n",
       "\\item 'OH'\n",
       "\\item 'OK'\n",
       "\\item 'OR'\n",
       "\\item 'PA'\n",
       "\\item 'RI'\n",
       "\\item 'SC'\n",
       "\\item 'SD'\n",
       "\\item 'TN'\n",
       "\\item 'TX'\n",
       "\\item 'UT'\n",
       "\\item 'VT'\n",
       "\\item 'VA'\n",
       "\\item 'WA'\n",
       "\\item 'WV'\n",
       "\\item 'WI'\n",
       "\\item 'WY'\n",
       "\\end{enumerate*}\n"
      ],
      "text/markdown": [
       "1. 'AL'\n",
       "2. 'AK'\n",
       "3. 'AZ'\n",
       "4. 'AR'\n",
       "5. 'CA'\n",
       "6. 'CO'\n",
       "7. 'CT'\n",
       "8. 'DE'\n",
       "9. 'FL'\n",
       "10. 'GA'\n",
       "11. 'HI'\n",
       "12. 'ID'\n",
       "13. 'IL'\n",
       "14. 'IN'\n",
       "15. 'IA'\n",
       "16. 'KS'\n",
       "17. 'KY'\n",
       "18. 'LA'\n",
       "19. 'ME'\n",
       "20. 'MD'\n",
       "21. 'MA'\n",
       "22. 'MI'\n",
       "23. 'MN'\n",
       "24. 'MS'\n",
       "25. 'MO'\n",
       "26. 'MT'\n",
       "27. 'NE'\n",
       "28. 'NV'\n",
       "29. 'NH'\n",
       "30. 'NJ'\n",
       "31. 'NM'\n",
       "32. 'NY'\n",
       "33. 'NC'\n",
       "34. 'ND'\n",
       "35. 'OH'\n",
       "36. 'OK'\n",
       "37. 'OR'\n",
       "38. 'PA'\n",
       "39. 'RI'\n",
       "40. 'SC'\n",
       "41. 'SD'\n",
       "42. 'TN'\n",
       "43. 'TX'\n",
       "44. 'UT'\n",
       "45. 'VT'\n",
       "46. 'VA'\n",
       "47. 'WA'\n",
       "48. 'WV'\n",
       "49. 'WI'\n",
       "50. 'WY'\n",
       "\n",
       "\n"
      ],
      "text/plain": [
       " [1] \"AL\" \"AK\" \"AZ\" \"AR\" \"CA\" \"CO\" \"CT\" \"DE\" \"FL\" \"GA\" \"HI\" \"ID\" \"IL\" \"IN\" \"IA\"\n",
       "[16] \"KS\" \"KY\" \"LA\" \"ME\" \"MD\" \"MA\" \"MI\" \"MN\" \"MS\" \"MO\" \"MT\" \"NE\" \"NV\" \"NH\" \"NJ\"\n",
       "[31] \"NM\" \"NY\" \"NC\" \"ND\" \"OH\" \"OK\" \"OR\" \"PA\" \"RI\" \"SC\" \"SD\" \"TN\" \"TX\" \"UT\" \"VT\"\n",
       "[46] \"VA\" \"WA\" \"WV\" \"WI\" \"WY\""
      ]
     },
     "metadata": {},
     "output_type": "display_data"
    }
   ],
   "source": [
    "state.abb"
   ]
  },
  {
   "cell_type": "code",
   "execution_count": null,
   "metadata": {},
   "outputs": [],
   "source": []
  },
  {
   "cell_type": "code",
   "execution_count": null,
   "metadata": {},
   "outputs": [],
   "source": []
  },
  {
   "cell_type": "code",
   "execution_count": 1,
   "metadata": {},
   "outputs": [],
   "source": [
    "data(mtcars)\n",
    "data(cars)"
   ]
  },
  {
   "cell_type": "code",
   "execution_count": 9,
   "metadata": {},
   "outputs": [
    {
     "name": "stdout",
     "output_type": "stream",
     "text": [
      "     Jan Feb Mar Apr May Jun Jul Aug Sep Oct Nov Dec\n",
      "1949 112 118 132 129 121 135 148 148 136 119 104 118\n",
      "1950 115 126 141 135 125 149 170 170 158 133 114 140\n",
      "1951 145 150 178 163 172 178 199 199 184 162 146 166\n",
      "1952 171 180 193 181 183 218 230 242 209 191 172 194\n",
      "1953 196 196 236 235 229 243 264 272 237 211 180 201\n",
      "1954 204 188 235 227 234 264 302 293 259 229 203 229\n",
      "1955 242 233 267 269 270 315 364 347 312 274 237 278\n",
      "1956 284 277 317 313 318 374 413 405 355 306 271 306\n",
      "1957 315 301 356 348 355 422 465 467 404 347 305 336\n",
      "1958 340 318 362 348 363 435 491 505 404 359 310 337\n",
      "1959 360 342 406 396 420 472 548 559 463 407 362 405\n",
      "1960 417 391 419 461 472 535 622 606 508 461 390 432\n",
      " Time-Series [1:144] from 1949 to 1961: 112 118 132 129 121 135 148 148 136 119 ...\n"
     ]
    },
    {
     "data": {
      "image/png": "[encoded data removed]",
      "text/plain": [
       "plot without title"
      ]
     },
     "metadata": {},
     "output_type": "display_data"
    }
   ],
   "source": [
    "print(AirPassengers)\n",
    "plot(AirPassengers)\n",
    "str(AirPassengers)"
   ]
  },
  {
   "cell_type": "code",
   "execution_count": null,
   "metadata": {},
   "outputs": [],
   "source": []
  },
  {
   "cell_type": "code",
   "execution_count": null,
   "metadata": {},
   "outputs": [],
   "source": []
  },
  {
   "cell_type": "markdown",
   "metadata": {},
   "source": [
    "Version 1.0  \n",
    "2018.06.06  \n",
    "\n",
    "To contact the author, please email [mturner46@gsu.edu](mailto:mturner46@gsu.edu). Please contact me with recommendations for improvement or if you find any errors. This work may be adapted for any purpose within the bounds of the license.\n",
    "\n",
    "<a rel=\"license\" href=\"http://creativecommons.org/licenses/by-nc-sa/4.0/\"><img alt=\"Creative Commons License\" style=\"border-width:0\" src=\"https://i.creativecommons.org/l/by-nc-sa/4.0/88x31.png\" /></a><br />This work is licensed under a <a rel=\"license\" href=\"http://creativecommons.org/licenses/by-nc-sa/4.0/\">Creative Commons Attribution-NonCommercial-ShareAlike 4.0 International License</a>."
   ]
  },
  {
   "cell_type": "code",
   "execution_count": null,
   "metadata": {},
   "outputs": [],
   "source": []
  }
 ],
 "metadata": {
  "kernelspec": {
   "display_name": "R",
   "language": "R",
   "name": "ir"
  },
  "language_info": {
   "codemirror_mode": "r",
   "file_extension": ".r",
   "mimetype": "text/x-r-source",
   "name": "R",
   "pygments_lexer": "r",
   "version": "3.3.1"
  }
 },
 "nbformat": 4,
 "nbformat_minor": 2
}
