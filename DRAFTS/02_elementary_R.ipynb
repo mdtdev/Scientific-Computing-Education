{
 "cells": [
  {
   "cell_type": "markdown",
   "metadata": {},
   "source": [
    "# Introduction to R & Jupyter Notebooks\n",
    "# Elementary R\n",
    "\n",
    "Matthew D. Turner, PhD  \n",
    "Georgia State University\n",
    "\n",
    "Some rights reserved: [cc by-nc-sa](https://creativecommons.org/licenses/by-nc-sa/4.0/) See bottom of document for details.\n",
    "***\n",
    "## 2.1 Comments\n",
    "Let's cover the most basic parts of R starting with **comments**. Comments are for human consumption and are ways to remind yourself and others why you did something. You should use them liberally &mdash; you will simply not remember what you were doing today six months from now. So make a note to tell yourself!\n",
    "\n",
    "Although in Jupyter notebooks you can add text cells to make notes, R comments can be used in **any** R code, anywhere, to leave notes. They are helpful in other R environments like RStudio, and even in the Jupyter notebook environment they are useful.\n",
    "\n",
    ">**Important Note** Most of the instructions for you to follow today will be left in cells using comments. So for today, the hashtag is your reminder to do something."
   ]
  },
  {
   "cell_type": "code",
   "execution_count": null,
   "metadata": {},
   "outputs": [],
   "source": [
    "# Comments are marked with a # (hashtag/pound sign/octothorpe/whatever) and R\n",
    "# ignores anything that comes after them.\n",
    "\n",
    "# Here is the circumference of a circle with radius 3...\n",
    "\n",
    "2*pi*3 # Note how all this green text does nothing other than delight you!"
   ]
  },
  {
   "cell_type": "markdown",
   "metadata": {},
   "source": [
    "## 2.2 Basic Arithmetic Operations\n",
    "\n",
    "R is a language for doing math and statistics. Any simple operations you know from these fields are there to use. More advanced ones may need to be loaded from external libraries. We will discuss this later on.\n",
    "\n",
    "R uses the _usual_ way of writing math into a computer or calculator. At least for basic arithmetic.\n",
    "\n",
    "For now, let's look at some example operations. In the cell below we will do some arithmetic; in the following cell, we use the `print` function to show us the results:"
   ]
  },
  {
   "cell_type": "code",
   "execution_count": null,
   "metadata": {},
   "outputs": [],
   "source": [
    "2+2\n",
    "2*3\n",
    "10^3   # 10 to the 3rd power AKA 10 cubed (should be 1000)"
   ]
  },
  {
   "cell_type": "code",
   "execution_count": null,
   "metadata": {},
   "outputs": [],
   "source": [
    "# Sometimes we want to force R to print the results. For this we can use the print statement\n",
    "# In Jupyter notebooks this is USUALLY optional, see cell above, but not always. If output\n",
    "# is missing, try a print() to fix it!\n",
    "\n",
    "print(2+2)\n",
    "print(2*3)\n",
    "print(10^3)"
   ]
  },
  {
   "cell_type": "markdown",
   "metadata": {},
   "source": [
    "Note that the previous two code cells do the exact same thing and both show all of their output, just with slight differences in formatting. The `print` function makes Jupyter show you the _raw_ R output, formatted as it usually is when using R interactively from the command line. This is what R output looks like at an R terminal or in RStudio.\n",
    "\n",
    "Usually Jupyter will print all R output, but not always. If something does not show up, try putting it inside a print function like in the cell above.\n",
    "\n",
    "## 2.3 Lists and List Operations\n",
    "In statistics we usually operate on large amounts of data. In R we will store these in **lists** and **data frames**. The former are pretty much self explanatory, while the latter are essentially simple spreadsheets organized in the usual way for statistics and data analysis. Columns of data frames can be treated like lists.\n",
    "\n",
    "We will look at data frames in a later notebook. \n",
    "\n",
    "Here are some lists:"
   ]
  },
  {
   "cell_type": "code",
   "execution_count": null,
   "metadata": {},
   "outputs": [],
   "source": [
    "x = c(1,2,3)\n",
    "y = c(2,2,2)\n",
    "\n",
    "print(x)\n",
    "print(y)"
   ]
  },
  {
   "cell_type": "markdown",
   "metadata": {},
   "source": [
    "Notice a couple of things about the previous cell:\n",
    "\n",
    "+ The `c` function takes numbers and glues them together into a list. It is short for the word _catenate_ which means to link (or string) together. (It is a legit word, not just an abbreviation of _**con**catenate_.)\n",
    "+ When we set x and y equal to the lists, they are **not** printed, we need to add a command to do that. That is what the last two lines of the cell do. These are called assignments (more later) and are never printed. So you will often see things assigned to variables then printed.\n",
    "\n",
    "> **Useful Hacker Trick**: When you want to stop a command from executing, just place a `#` in front of it. This is called \"commenting out\" the command. That way you can keep the code for your records and still not run it. Handy for debugging things. Try it with the `print` commands above to see that nothing is printed when they are absent.\n",
    "\n",
    "Operations on lists of the same length are done **elementwise**, that is, the operation is done to each pair of numbers:"
   ]
  },
  {
   "cell_type": "code",
   "execution_count": null,
   "metadata": {},
   "outputs": [],
   "source": [
    "# x and y from cell above, make sure to run that cell (with shift-enter)!\n",
    "\n",
    "x+y\n",
    "x-y\n",
    "x*y\n",
    "x/y"
   ]
  },
  {
   "cell_type": "markdown",
   "metadata": {},
   "source": [
    "Make sure you understand what the previous cell did! (I tried to keep the math simple enough to do in your head!)\n",
    "\n",
    "Operations between a list and a **single number** apply the operation to each element of the list and the single number. It is as though the single element is a list of the same number repeated. This is one of many R shorthand notations to save you work. Compare the results below:"
   ]
  },
  {
   "cell_type": "code",
   "execution_count": null,
   "metadata": {},
   "outputs": [],
   "source": [
    "x + 1          # Shorthand\n",
    "y - 2\n",
    "\n",
    "x + c(1,1,1)   # Written out as full lists\n",
    "y - c(2,2,2)   # These last two lines do the same as the previous two"
   ]
  },
  {
   "cell_type": "markdown",
   "metadata": {},
   "source": [
    "To make a list of numbers, in order, we can use the colon (`:`) operator (this is like MATLAB if you are familiar with that). More generally we can use the `seq` function which accepts a **starting value**, an **ending value**, and a **step size**: `seq(1, 10, 1)`, for instance, gives the list of numbers: `1 2 3 4 5 6 7 8 9 10`. There is also `rep` which repeats a number (or list of numbers) a several times."
   ]
  },
  {
   "cell_type": "code",
   "execution_count": null,
   "metadata": {},
   "outputs": [],
   "source": [
    "# Examples\n",
    "# Two ways to get the whole numbers 1 through 10\n",
    "\n",
    "seq(1,10,1)\n",
    "1:10\n",
    "\n",
    "# From 10 to 1, counting down:\n",
    "\n",
    "seq(10,1, -1)\n",
    "\n",
    "# Decimals and negatives work, too:\n",
    "\n",
    "seq(0.5, 5.5, 1)   # Start at 0.5 and go to 5.5 in steps of 1\n",
    "seq(-2, 2, 0.5)    # From -2 to 2, in steps of 1/2\n",
    "\n",
    "# Five copies of the number 3:\n",
    "\n",
    "rep(3,5)\n",
    "\n",
    "# Repeat the list of numbers 1 through 5, four times:\n",
    "\n",
    "rep(1:5, 4)"
   ]
  },
  {
   "cell_type": "code",
   "execution_count": null,
   "metadata": {},
   "outputs": [],
   "source": [
    "# Use seq to make a list of just the odd numbers from 1 to 100\n",
    "# Hint: so far we have only used a step size of 1, this must change\n",
    "\n"
   ]
  },
  {
   "cell_type": "markdown",
   "metadata": {},
   "source": [
    "Taken together these functions (with a few other more advnaced ones we won't cover here) allow you to make all of the structured number lists (and vectors, and matrices) used throughout applied mathematics and statistics.\n",
    "\n",
    "R has mathematical constants like $\\pi$ defined, too, which it calls `pi`. We will use this below:"
   ]
  },
  {
   "cell_type": "code",
   "execution_count": null,
   "metadata": {},
   "outputs": [],
   "source": [
    "# Use seq to make a list of numbers going from negative pi to pi, in steps of 0.01\n",
    "\n"
   ]
  },
  {
   "cell_type": "markdown",
   "metadata": {},
   "source": [
    "What is the last number in your list? (You might be suprised!) When R makes a list it starts at the number you give it, but it ends at a number **equal to or below** the ending point. Why?\n",
    "\n",
    "Your last number should be: `3.05840734641021`, and the step size was `0.1`. If you add these two numbers, you get `3.15840734641021`, which is too big. You told R to stop at $\\pi$, which is _about_ 3.14159, and if it added the step of 0.1 again it would overshoot. So R decided to stop short rather than go over.\n",
    "\n",
    "This behavior often confuses students when they are learning programming. Eventually you may come to appreciate this behavior.\n",
    "\n",
    "## 2.4 Assignment, Getting Help, and Functions\n",
    "\n",
    "### Assignments\n",
    "Assignment is the act of placing a value into a variable. We did that above with lists x and y. In essence we told R to use the name `x` to refer to the list `c(1,2,3)`. The two become (more or less) interchangable.\n",
    "\n",
    "In your math and stats classes, the equals sign is used for this act. In R, there are **two** operators for assignments: `=` (equals) and `<-` (arrow) and these can be used interchangably in most places. People in computing tend to like the `<-` operator, while others prefer the equals sign. You should recognize both as you will see both online and when you look for help in R! \n",
    "\n",
    "I will use both in the remainder of this workshop."
   ]
  },
  {
   "cell_type": "code",
   "execution_count": null,
   "metadata": {},
   "outputs": [],
   "source": [
    "# Run this cell (it produces no visible output!)\n",
    "\n",
    "u = c(1,2,3,4,5,6,7,8,8)   # Give a list of numbers a name\n",
    "v <- c(2,1,3,4,6,5,8,8,7)  # Same thing! <- and = can both be used for assignment"
   ]
  },
  {
   "cell_type": "markdown",
   "metadata": {},
   "source": [
    "It is important to keep one thing in mind with assignments: the name or variable we are creating is on the **left**, and the thing we are storing in the variable should go on the **right**. \n",
    "\n",
    "### Getting Help\n",
    "\n",
    "**The best way to get help with R is to use search tools on the web.** \n",
    "\n",
    "However, the R documentation can be accessed by using the `help()` function or the `?` and `??` operators. These search for help in the documentation and return the results either at the bottom of the window or into a new tab. While these are the official documentation, they were originally written by the inventors of R and often the examples they give are not really useful to regular users.\n",
    "\n",
    "+ `??` Searches for a word in the text of the documentation (like web searching) and finds all references to the word\n",
    "+ `?` and `help()` gets the specific page of documentation for a command (when you know exactly which one you want)\n",
    "\n",
    "When you use these commands in Jupyter, a little pop up will appear at the bottom of the web page. Look for it as you work through the next few cells."
   ]
  },
  {
   "cell_type": "code",
   "execution_count": null,
   "metadata": {},
   "outputs": [],
   "source": [
    "# Search for all references to the word \"covariance\"\n",
    "\n"
   ]
  },
  {
   "cell_type": "code",
   "execution_count": null,
   "metadata": {},
   "outputs": [],
   "source": [
    "# Load the SPECIFIC help page for the \"var\" function \n",
    "# (this should be in the list you just got in the cell above!)\n",
    "\n"
   ]
  },
  {
   "cell_type": "code",
   "execution_count": null,
   "metadata": {},
   "outputs": [],
   "source": [
    "# Read the page on the \"var\" function and determine how to use the \"cor\" function\n",
    "# Then use it to compute the correlation between u and v defined above \n",
    "# Hint: This is pretty obvious, you likely could guess the correct answer\n",
    "\n"
   ]
  },
  {
   "cell_type": "markdown",
   "metadata": {},
   "source": [
    "Your answer for the cell above should be about 0.943. _If you got an error, it is most likely that you forgot to **run** the cell above that defines the variables `u` and `v`. If this happens, go back and run that cell, and then try again!_\n",
    "\n",
    "Note that R is mathematical in that it gives the numerical result for correlation. If you want the statistical output that looks like other systems for doing analysis, like SAS or SPSS, that is also available. In the next cell we look up the R function `cor.test`. Note that this function has a dot (period) in its name. Dots (`.`) and underscores (`_`) are both common in R function names."
   ]
  },
  {
   "cell_type": "code",
   "execution_count": null,
   "metadata": {},
   "outputs": [],
   "source": [
    "# Look up the function called \"cor.test\" with ?\n",
    "# Do the default cor.test for u and v above (does the correlation match your previous answer?)\n",
    "\n"
   ]
  },
  {
   "cell_type": "markdown",
   "metadata": {},
   "source": [
    "Answer the following questions (if you have had enough statistics training to understand them!):\n",
    "\n",
    "1. What is the null hypothesis for this test?\n",
    "2. Is the alternative one- or two-sided?\n",
    "3. Does the test reject the null when $\\alpha = 0.01$?\n",
    "\n",
    "It is not required, but if you would like you can edit this cell to add your answers.\n",
    "***"
   ]
  },
  {
   "cell_type": "markdown",
   "metadata": {},
   "source": [
    "## 2.5 Mathematical Functions Made Out of Arithmetic\n",
    "\n",
    "We can create our own mathematical functions using the usual translation of math into _typed_ math. In typed math the usual arithmetic operators are: `+` addition, `-` subtraction, `*` multiplication, and `/` (forward slash!) division. You should be familiar with these from other software.\n",
    "\n",
    "For instance, the mean is defined as: $$\\bar{X} = \\frac{1}{N}\\sum_{i = 1}^{N} X_i$$ which is just the sum of the data points which is then divided by the number of points. It could also be written (in somewhat reduced notation) as: $\\frac{\\sum X_i}{N}$ which is how some of you might have seen it elsewhere. So, \n",
    "\n",
    "$$\\bar{X} = \\frac{\\sum_{i = 1}^{N} X_i}{N} = \\frac{\\mathrm{sum\\ of\\ data}}{\\mathrm{number\\ of\\ data\\ points}} = \\frac{\\mathrm{sum\\ of\\ list}}{\\mathrm{length\\ of\\ list}}$$\n",
    "\n",
    "For a list of numbers `x`, the sum is given by the `sum` function, and division is shown above. To determine `N` you need to find the _length_ of the list, and there is a function called `length` that does just that. In the cell below, figure out the mean of `x`:"
   ]
  },
  {
   "cell_type": "code",
   "execution_count": null,
   "metadata": {},
   "outputs": [],
   "source": [
    "# 1. Write the formula for the mean in this cell\n",
    "#    Use the given x as the list of data\n",
    "# 2. Store the results in the variable named xbar\n",
    "# 3. Print the result\n",
    "\n",
    "x = c(1,2,3,4,5,6,7,8,9)\n",
    "\n"
   ]
  },
  {
   "cell_type": "markdown",
   "metadata": {},
   "source": [
    "Obviously a statistical language will already have functions for getting things like the mean and standard deviation. So we can check our work from above:"
   ]
  },
  {
   "cell_type": "code",
   "execution_count": null,
   "metadata": {},
   "outputs": [],
   "source": [
    "mean(x)   # mean of x; should be same as your work above\n",
    "sd(x)     # sd() is the standard deviation"
   ]
  },
  {
   "cell_type": "markdown",
   "metadata": {},
   "source": [
    "A z-score is obtained by **subtracting the mean** of the data set from each data point, then dividing this by the **standard deviation** of the data set. In the usual math notation: $$z = \\frac{x - \\bar{x}}{s}$$\n",
    "\n",
    "In the next cell, use this formula and the functions `mean` and `sd` to define the z-scores for all the values in the list x.\n",
    "\n",
    "Note that we will use `x`, the name of the list, to refer to the whole list. R will then apply the transformation to each value in `x`."
   ]
  },
  {
   "cell_type": "code",
   "execution_count": null,
   "metadata": {},
   "outputs": [],
   "source": [
    "# Compute the z-scores for the values of x, place the results in the variable z\n",
    "# Please use the functions mean and sd in your formula!\n",
    "# Remember your high school algebra! You need to use some parentheses in the numerator\n",
    "# Finally, print the results\n",
    "\n"
   ]
  },
  {
   "cell_type": "code",
   "execution_count": null,
   "metadata": {},
   "outputs": [],
   "source": [
    "# Now look up the help information on the \"scale\" function\n",
    "\n"
   ]
  },
  {
   "cell_type": "code",
   "execution_count": null,
   "metadata": {},
   "outputs": [],
   "source": [
    "# Use this to check your work from the cell above!\n",
    "# Hint: the \"scale\" function's DEFAULT behavior is to compute the z-score\n",
    "\n"
   ]
  },
  {
   "cell_type": "markdown",
   "metadata": {},
   "source": [
    "***\n",
    "## 2.6 Comparisons\n",
    "All computer languages need to compare numbers. These operations are used very often. In R, the results of these comparisons are called _Boolean_ values, named after the logician [George Boole](https://en.wikipedia.org/wiki/George_Boole). Boolean values are either `TRUE` or `FALSE`.\n",
    "\n",
    "Here are the basics. For each of these, are the statments true or false?"
   ]
  },
  {
   "cell_type": "code",
   "execution_count": null,
   "metadata": {},
   "outputs": [],
   "source": [
    "1 > 0        # Is 1 greater than 0?\n",
    "1 < 0        #     or is it less than zero?\n",
    "1 == 0       # Since = is assignment, we use == for comparison, does 1 equal 0?\n",
    "1 != 0       # What does this one do?"
   ]
  },
  {
   "cell_type": "markdown",
   "metadata": {},
   "source": [
    "In many computer languages, including R, `!` means **not**. So `!=` literally means _not equal_."
   ]
  },
  {
   "cell_type": "code",
   "execution_count": null,
   "metadata": {},
   "outputs": [],
   "source": [
    "1 == 1       # Is 1 equal to 1?\n",
    "1 >= 1       # Is 1 greater than or equal to 1?\n",
    "1 <= 1       #     how about less than or equal to?"
   ]
  },
  {
   "cell_type": "code",
   "execution_count": null,
   "metadata": {},
   "outputs": [],
   "source": [
    "# You try it: compare xbar you computed above with the mean(x) function\n",
    "# Are they equal?\n",
    "\n"
   ]
  },
  {
   "cell_type": "markdown",
   "metadata": {},
   "source": [
    "Both the `mean` function and `xbar` should be 5, so that is `TRUE`, right?\n",
    "\n",
    "Hopefully the above examples are bringing back memories of high school math. Hopefully. We can use these for lists, too. Make sure that the following example is clear!"
   ]
  },
  {
   "cell_type": "code",
   "execution_count": null,
   "metadata": {},
   "outputs": [],
   "source": [
    "x <- c(1, 3, 5, 7, 9)\n",
    "x > 5\n",
    "x == 5"
   ]
  },
  {
   "cell_type": "code",
   "execution_count": null,
   "metadata": {},
   "outputs": [],
   "source": [
    "# You try it: define a list y so that the following comparisons are ALL true:\n",
    "\n",
    "x = c(1,2,3,4)\n",
    "\n",
    "y = \n",
    "\n",
    "x - y <= 0"
   ]
  },
  {
   "cell_type": "markdown",
   "metadata": {},
   "source": [
    "***\n",
    "## 2.7 R Libraries\n",
    "\n",
    "The vast majority of R functionality comes from R **libraries**, also called **packages**. These are usually made available online via the _Comprehensive R Archive Network_ (CRAN), a collection of computer servers located all around the world where each  one holds a copy of all public R packages. Packages are loaded with either the `require` or `library` command. The first command is usually used in programs written in R, while the second, `library`, is preferred for interactive work in R. "
   ]
  },
  {
   "cell_type": "code",
   "execution_count": null,
   "metadata": {},
   "outputs": [],
   "source": [
    "# Example: this command loads the package 'datasets' which is a collection of data to play with\n",
    "\n",
    "library(datasets)"
   ]
  },
  {
   "cell_type": "markdown",
   "metadata": {},
   "source": [
    "Notice that there is **no output** when a library loads. You will get an error message if it fails, but when things succeed, R often says **nothing**."
   ]
  },
  {
   "cell_type": "code",
   "execution_count": null,
   "metadata": {},
   "outputs": [],
   "source": [
    "# Use the ? operator to get the help page for the datasets package\n",
    "\n"
   ]
  },
  {
   "cell_type": "code",
   "execution_count": null,
   "metadata": {},
   "outputs": [],
   "source": [
    "# What does the help you just got tell you to do?  Do it!\n",
    "# Hint: You can cut and paste the command from the help page\n",
    "\n"
   ]
  },
  {
   "cell_type": "markdown",
   "metadata": {},
   "source": [
    "You get the list of commands in a package by using the `help` option in the `library` command, as you sould have just discovered.\n",
    "\n",
    "New packages are installed with the command `install.packages` such as in the example:\n",
    "\n",
    "```r\n",
    "install.packages(\"lme4\")\n",
    "```\n",
    "\n",
    "However, this will not work on the DICE system we are using today. It **will** work on any R installation on a computer that you own or have the rights to install software onto.\n",
    "***\n",
    "We are ready to move on to working with **data**. You should be happy, this is likely why you came here today! If you want to save your work, do it now with the save button above. Then close this and move on to the next notebook."
   ]
  },
  {
   "cell_type": "markdown",
   "metadata": {},
   "source": [
    "Version 1.0  \n",
    "2018.06.06  \n",
    "\n",
    "To contact the author, please email [mturner46@gsu.edu](mailto:mturner46@gsu.edu). Please contact me with recommendations for improvement or if you find any errors. This work may be adapted for any non-commercial purpose within the bounds of the license.\n",
    "\n",
    "<a rel=\"license\" href=\"http://creativecommons.org/licenses/by-nc-sa/4.0/\"><img alt=\"Creative Commons License\" style=\"border-width:0\" src=\"https://i.creativecommons.org/l/by-nc-sa/4.0/88x31.png\" /></a><br />This work is licensed under a <a rel=\"license\" href=\"http://creativecommons.org/licenses/by-nc-sa/4.0/\">Creative Commons Attribution-NonCommercial-ShareAlike 4.0 International License</a>."
   ]
  }
 ],
 "metadata": {
  "kernelspec": {
   "display_name": "R",
   "language": "R",
   "name": "ir"
  },
  "language_info": {
   "codemirror_mode": "r",
   "file_extension": ".r",
   "mimetype": "text/x-r-source",
   "name": "R",
   "pygments_lexer": "r",
   "version": "3.3.1"
  }
 },
 "nbformat": 4,
 "nbformat_minor": 2
}
