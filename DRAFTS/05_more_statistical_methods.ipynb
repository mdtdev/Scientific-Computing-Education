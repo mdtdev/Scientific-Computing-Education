{
 "cells": [
  {
   "cell_type": "markdown",
   "metadata": {},
   "source": [
    "# Introduction to R & Jupyter Notebooks\n",
    "# More Statistical Methods\n",
    "\n",
    "Matthew D. Turner, PhD  \n",
    "Georgia State University\n",
    "\n",
    "Some rights reserved: [cc by-nc-sa](https://creativecommons.org/licenses/by-nc-sa/4.0/) See bottom of document for details.\n",
    "***\n",
    "The previous notebooks should have given you a good overview of the basics of using R. This last notebook contains a few extra examples that expand on the previous material and did not fit into the discussions there. It is not in any particular order, but these are good exercises if you want more practice.\n",
    "\n",
    "## 5.1 Formulas and the t-Test\n",
    "The interface for the `t.test` function accepts either:\n",
    "\n",
    "+ Two lists of numbers (like the examples from the previous notebook).\n",
    "+ A Formula (like: `y ~ x`) where `y` is a numerical variable and `x` is an indicator of group membership. This format is common in science.\n",
    "\n",
    "We will use **Student's Sleep Data** to show this alternate interface to `t.test`."
   ]
  },
  {
   "cell_type": "code",
   "execution_count": null,
   "metadata": {},
   "outputs": [],
   "source": [
    "data(sleep)\n",
    "sleep"
   ]
  },
  {
   "cell_type": "markdown",
   "metadata": {},
   "source": [
    "This data shows the effects of two different drugs (`group` 1 and 2) on sleep. The variable recorded is the **extra** sleep obtained for each person, above their baseline amount of sleep. So any negative scores would indicate **less** sleep while on the drug. (This happened for at least one person on each drug, but it mostly happened when using drug 1).\n",
    "\n",
    "In the `boxplot` function, you learned that we can use the tilde notation like this: \n",
    "\n",
    "```R\n",
    "numerical_variable ~ grouping_variable\n",
    "``` \n",
    "\n",
    "and we do the same thing here. For the `t.test` it is required that there only be **2 groups**."
   ]
  },
  {
   "cell_type": "code",
   "execution_count": null,
   "metadata": {},
   "outputs": [],
   "source": [
    "# Exercise: Do the t.test function for extra sleep (extra) by group\n",
    "# Hint: Remember to use the data = sleep parameter like in the lm function\n",
    "# Hint: If this does not work, look up the help for t.test, and look at the examples, closely!\n",
    "\n"
   ]
  },
  {
   "cell_type": "markdown",
   "metadata": {},
   "source": [
    "Is this test significant? Why or why not? What $\\alpha$ did you consider?\n",
    "***\n",
    "## 5.2 One-Way ANOVA\n",
    "Sometimes in your research you're going to have more than the two groups that the t-test requires. When this happens a standard solution is to use an analysis of variance, or an ANOVA. The ANOVA is really just a special case of a linear model. However, R provides a number of functions that let you compute an ANOVA directly, without having to deal with the generality of a linear model. \n",
    "\n",
    "Here we will consider a very simple one-way ANOVA example. We will look at the performance of some insect sprays (pesticides). This is another built in data set in R."
   ]
  },
  {
   "cell_type": "code",
   "execution_count": null,
   "metadata": {},
   "outputs": [],
   "source": [
    "data(InsectSprays)"
   ]
  },
  {
   "cell_type": "code",
   "execution_count": null,
   "metadata": {},
   "outputs": [],
   "source": [
    "# Get a summary of the InsectSprays Data set\n",
    "\n"
   ]
  },
  {
   "cell_type": "markdown",
   "metadata": {},
   "source": [
    "What does the summary tell you? For the `count` variable it shows that this is a **numerical** variable, with a minimum of 0, a maximum of 26 and a median of 7. For the `spray` variable we see a list of letters, A through F, each with a count of 12. What this tells us is that we have 6 sprays, labeled with letters, and 12 samples of each spray. These are our **groups**. \n",
    "\n",
    "It might help to tell you that the counts represent the number of insects killed by each spray in a laboratory test of the pesticides.\n",
    "\n",
    "How do we get a handle on this?"
   ]
  },
  {
   "cell_type": "code",
   "execution_count": null,
   "metadata": {},
   "outputs": [],
   "source": [
    "# Use boxplot to get an overview of the performance of each spray and how they compare\n",
    "\n"
   ]
  },
  {
   "cell_type": "markdown",
   "metadata": {},
   "source": [
    "Are the six groups different? How so?\n",
    "\n",
    "If we want to analyze this formally, we use an ANOVA. To get an ANOVA, we use the command `aov`. Thgis command uses the same formula language as the `lm` command and the `boxplot` command."
   ]
  },
  {
   "cell_type": "code",
   "execution_count": null,
   "metadata": {},
   "outputs": [],
   "source": [
    "results <- aov(count ~ spray, data=InsectSprays)"
   ]
  },
  {
   "cell_type": "markdown",
   "metadata": {},
   "source": [
    "Hopefully it is obvious how to change that command for a different data set.\n",
    "\n",
    "ANOVAs are usually summarized by so-called \"ANOVA tables.\" This can be obtained either by applying the `summary` function to the `results` variable or applying the `anova` (note the lower case!) to the `results`. Both of these produce the same thing for this case.\n",
    "\n",
    "**Note:** The reason that there are two commands to get the ANOVA table is a little too advanced for this workshop. So we will not discuss it. But it has to do with the fact that ANOVAs and Regressions and linear models are all different versions of the same thing."
   ]
  },
  {
   "cell_type": "code",
   "execution_count": null,
   "metadata": {},
   "outputs": [],
   "source": [
    "summary(results)"
   ]
  },
  {
   "cell_type": "code",
   "execution_count": null,
   "metadata": {},
   "outputs": [],
   "source": [
    "# Exercise: Use the anova function and confirm that the output is the same\n",
    "# Hint: Things are \"the same\" if they are equal or within rounding error!\n",
    "# Note: The anova functions output is prettier in Jupyter\n",
    "\n"
   ]
  },
  {
   "cell_type": "markdown",
   "metadata": {},
   "source": [
    "If you know how to read the output of an ANOVA, great, you know that this result is significant for any reasonable value of $\\alpha$. \n",
    "\n",
    "If not, here is a quick explanation: Each row of the table tells you if that factor has any significant differences among its levels. As this is a one-way (one factor) ANOVA, we are concerned with any differences among the sprays. Here we are told that a test of significance on whether **any** of the sprays are different from the others is significant. You can tell this from the $p$-value, which is effectively zero, or, if you were taught to read them, from the significance codes (`***`). Either way, the ANOVA tells us that at least one of the sprays is different from the others.\n",
    "\n",
    "What the ANOVA tells us is that something is different, but it does not tell us exactly what that difference is; think of the ANOVA results as a fishing license &mdash; once we know the ANOVA is significant, we can go looking to find out which differences matter. If the ANOVA failed to be significant, we would be banned from looking, however. (This is why the ANOVA is sometimes called an \"omnibus\" test of significance.)\n",
    "***\n",
    "Since we have our fishing license, we can go exploring. For this, we usually use a _post-hoc_ test. R implements many of these but we will use the `TukeyHSD` or Tukey's [Honestly Significant Difference](https://en.wikipedia.org/wiki/Tukey%27s_range_test). This test will tell us exactly which sprays differ and how.\n",
    "\n",
    "Note that this function is applied to the `results` from the ANOVA!"
   ]
  },
  {
   "cell_type": "code",
   "execution_count": null,
   "metadata": {},
   "outputs": [],
   "source": [
    "TukeyHSD(results)"
   ]
  },
  {
   "cell_type": "markdown",
   "metadata": {},
   "source": [
    "What this test shows is **every possible comparison** among the sprays. For each comparison, there is a statistical test conducted and the $p$-value from that test is reported. From here we see that:\n",
    "+ Sprays C, D, and E are not different from each other (all $p$'s > 0.05)\n",
    "+ Likewise, A, B, and F are not different from each other, either\n",
    "+ But the members of the group A, B, F are all different from the members of the group C, D, E (all $p$'s below 0.0000002)\n",
    "\n",
    "In essence, the ANOVA and _post-hoc_ test tell us formally what the boxplot told us informally; we have two groups of insect sprays. \n",
    "\n",
    "If (or when) you take an introductory statistics class, this will be explained in detail."
   ]
  },
  {
   "cell_type": "markdown",
   "metadata": {},
   "source": [
    "***"
   ]
  },
  {
   "cell_type": "markdown",
   "metadata": {},
   "source": [
    "Version 1.0  \n",
    "2018.06.06  \n",
    "\n",
    "To contact the author, please email [mturner46@gsu.edu](mailto:mturner46@gsu.edu). Please contact me with recommendations for improvement or if you find any errors. This work may be adapted for any non-commercial purpose within the bounds of the license.\n",
    "\n",
    "<a rel=\"license\" href=\"http://creativecommons.org/licenses/by-nc-sa/4.0/\"><img alt=\"Creative Commons License\" style=\"border-width:0\" src=\"https://i.creativecommons.org/l/by-nc-sa/4.0/88x31.png\" /></a><br />This work is licensed under a <a rel=\"license\" href=\"http://creativecommons.org/licenses/by-nc-sa/4.0/\">Creative Commons Attribution-NonCommercial-ShareAlike 4.0 International License</a>."
   ]
  }
 ],
 "metadata": {
  "kernelspec": {
   "display_name": "R",
   "language": "R",
   "name": "ir"
  },
  "language_info": {
   "codemirror_mode": "r",
   "file_extension": ".r",
   "mimetype": "text/x-r-source",
   "name": "R",
   "pygments_lexer": "r",
   "version": "3.3.1"
  }
 },
 "nbformat": 4,
 "nbformat_minor": 2
}
